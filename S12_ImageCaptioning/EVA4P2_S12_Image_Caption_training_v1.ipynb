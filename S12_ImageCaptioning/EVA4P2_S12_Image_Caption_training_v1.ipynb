{
  "nbformat": 4,
  "nbformat_minor": 0,
  "metadata": {
    "colab": {
      "name": "EVA4P2_S12_Image_Caption_training_v1.ipynb",
      "provenance": [],
      "collapsed_sections": [],
      "authorship_tag": "ABX9TyOXL3bDqQTdMMiiu9v4mT/Q",
      "include_colab_link": true
    },
    "kernelspec": {
      "name": "python3",
      "display_name": "Python 3"
    },
    "accelerator": "GPU"
  },
  "cells": [
    {
      "cell_type": "markdown",
      "metadata": {
        "id": "view-in-github",
        "colab_type": "text"
      },
      "source": [
        "<a href=\"https://colab.research.google.com/github/EVA4-RS-Group/Phase2/blob/master/S12_ImageCaptioning/EVA4P2_S12_Image_Caption_training_v1.ipynb\" target=\"_parent\"><img src=\"https://colab.research.google.com/assets/colab-badge.svg\" alt=\"Open In Colab\"/></a>"
      ]
    },
    {
      "cell_type": "code",
      "metadata": {
        "id": "hACBgFUy6T58",
        "outputId": "1ce69520-672b-47d7-a681-e9b648551a05",
        "colab": {
          "base_uri": "https://localhost:8080/"
        }
      },
      "source": [
        "%load_ext autoreload\n",
        "%autoreload 2"
      ],
      "execution_count": 26,
      "outputs": [
        {
          "output_type": "stream",
          "text": [
            "The autoreload extension is already loaded. To reload it, use:\n",
            "  %reload_ext autoreload\n"
          ],
          "name": "stdout"
        }
      ]
    },
    {
      "cell_type": "markdown",
      "metadata": {
        "id": "0O03psNBUFK3"
      },
      "source": [
        "## 1. Loading modules, models from github and dataset"
      ]
    },
    {
      "cell_type": "code",
      "metadata": {
        "id": "WAeMYFhnO9Eb"
      },
      "source": [
        "!rm -rf /content/*\n",
        "!git clone https://github.com/EVA4-RS-Group/Phase2.git -q\n",
        "!cp -r /content/Phase2/S12_ImageCaptioning/* /content/\n",
        "!rm -rf /content/Phase2"
      ],
      "execution_count": 27,
      "outputs": []
    },
    {
      "cell_type": "code",
      "metadata": {
        "id": "BmNO82g2Tib-"
      },
      "source": [
        "!wget https://github.com/jbrownlee/Datasets/releases/download/Flickr8k/Flickr8k_Dataset.zip -q\n",
        "!unzip -q Flickr8k_Dataset.zip\n",
        "!rm -rf __MACOSX/\n",
        "\n",
        "!wget http://cs.stanford.edu/people/karpathy/deepimagesent/caption_datasets.zip -q\n",
        "!unzip -q caption_datasets.zip"
      ],
      "execution_count": 28,
      "outputs": []
    },
    {
      "cell_type": "code",
      "metadata": {
        "id": "uoHWF2tJT6fX"
      },
      "source": [
        "from utils import *"
      ],
      "execution_count": 29,
      "outputs": []
    },
    {
      "cell_type": "code",
      "metadata": {
        "id": "OihG08_NfJkC",
        "outputId": "7a3af818-eb57-40f8-ef8b-ce8a57ad87e5",
        "colab": {
          "base_uri": "https://localhost:8080/"
        }
      },
      "source": [
        "create_input_files(dataset='flickr8k', \n",
        "                   karpathy_json_path='/content/dataset_flickr8k.json', \n",
        "                   image_folder='/content/Flicker8k_Dataset/', \n",
        "                   captions_per_image=5,\n",
        "                   min_word_freq=5,\n",
        "                   output_folder='/content/Flicker8k_Dataset/',\n",
        "                   max_len=50)"
      ],
      "execution_count": 30,
      "outputs": [
        {
          "output_type": "stream",
          "text": [
            "  0%|          | 11/6000 [00:00<00:59, 101.10it/s]"
          ],
          "name": "stderr"
        },
        {
          "output_type": "stream",
          "text": [
            "\n",
            "Reading TRAIN images and captions, storing to file...\n",
            "\n"
          ],
          "name": "stdout"
        },
        {
          "output_type": "stream",
          "text": [
            "100%|██████████| 6000/6000 [00:56<00:00, 106.96it/s]\n",
            "  1%|          | 10/1000 [00:00<00:09, 99.90it/s]"
          ],
          "name": "stderr"
        },
        {
          "output_type": "stream",
          "text": [
            "\n",
            "Reading VAL images and captions, storing to file...\n",
            "\n"
          ],
          "name": "stdout"
        },
        {
          "output_type": "stream",
          "text": [
            "100%|██████████| 1000/1000 [00:09<00:00, 107.35it/s]\n",
            "  1%|          | 12/1000 [00:00<00:08, 116.03it/s]"
          ],
          "name": "stderr"
        },
        {
          "output_type": "stream",
          "text": [
            "\n",
            "Reading TEST images and captions, storing to file...\n",
            "\n"
          ],
          "name": "stdout"
        },
        {
          "output_type": "stream",
          "text": [
            "100%|██████████| 1000/1000 [00:09<00:00, 107.69it/s]\n"
          ],
          "name": "stderr"
        }
      ]
    },
    {
      "cell_type": "code",
      "metadata": {
        "id": "zKqW47WYfqXw",
        "outputId": "71a81a9e-48ac-4398-b247-ef20768d18f5",
        "colab": {
          "base_uri": "https://localhost:8080/"
        }
      },
      "source": [
        "!python train.py"
      ],
      "execution_count": null,
      "outputs": [
        {
          "output_type": "stream",
          "text": [
            "Epoch: [0][0/938]\tBatch Time 1.548 (1.548)\tData Load Time 0.155 (0.155)\tLoss 8.7991 (8.7991)\tTop-5 Accuracy 0.254 (0.254)\n",
            "Epoch: [0][100/938]\tBatch Time 0.456 (0.462)\tData Load Time 0.000 (0.002)\tLoss 5.6471 (6.1418)\tTop-5 Accuracy 40.278 (34.767)\n",
            "Epoch: [0][200/938]\tBatch Time 0.448 (0.456)\tData Load Time 0.000 (0.001)\tLoss 5.2343 (5.7781)\tTop-5 Accuracy 49.471 (39.319)\n"
          ],
          "name": "stdout"
        }
      ]
    },
    {
      "cell_type": "code",
      "metadata": {
        "id": "9GHFb-ynIyPO"
      },
      "source": [
        ""
      ],
      "execution_count": null,
      "outputs": []
    }
  ]
}