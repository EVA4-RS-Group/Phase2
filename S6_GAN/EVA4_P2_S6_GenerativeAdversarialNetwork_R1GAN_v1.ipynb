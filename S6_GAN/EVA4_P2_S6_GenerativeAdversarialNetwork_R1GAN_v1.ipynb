{
  "nbformat": 4,
  "nbformat_minor": 0,
  "metadata": {
    "kernelspec": {
      "display_name": "Python 3",
      "language": "python",
      "name": "python3"
    },
    "language_info": {
      "codemirror_mode": {
        "name": "ipython",
        "version": 3
      },
      "file_extension": ".py",
      "mimetype": "text/x-python",
      "name": "python",
      "nbconvert_exporter": "python",
      "pygments_lexer": "ipython3",
      "version": "3.7.3"
    },
    "colab": {
      "name": "EVA4_P2_S5_GenerativeAdversarialNetwork_R1GAN_v1.ipynb",
      "provenance": [],
      "collapsed_sections": [],
      "include_colab_link": true
    },
    "accelerator": "GPU"
  },
  "cells": [
    {
      "cell_type": "markdown",
      "metadata": {
        "id": "view-in-github",
        "colab_type": "text"
      },
      "source": [
        "<a href=\"https://colab.research.google.com/github/EVA4-RS-Group/Phase2/blob/master/S6_GAN/EVA4_P2_S6_GenerativeAdversarialNetwork_R1GAN_v1.ipynb\" target=\"_parent\"><img src=\"https://colab.research.google.com/assets/colab-badge.svg\" alt=\"Open In Colab\"/></a>"
      ]
    },
    {
      "cell_type": "markdown",
      "metadata": {
        "id": "TgbksVHC43Ud",
        "colab_type": "text"
      },
      "source": [
        "# Implementation of GAN with R1 Regularizer\n",
        "Reference: https://arxiv.org/pdf/1801.04406"
      ]
    },
    {
      "cell_type": "code",
      "metadata": {
        "id": "LXUt0Mq643Uf",
        "colab_type": "code",
        "colab": {}
      },
      "source": [
        "# Run the comment below only when using Google Colab\n",
        "# !pip install torch torchvision"
      ],
      "execution_count": null,
      "outputs": []
    },
    {
      "cell_type": "code",
      "metadata": {
        "id": "NcvRAIfb43Um",
        "colab_type": "code",
        "colab": {}
      },
      "source": [
        "import torch\n",
        "import torchvision\n",
        "import torch.nn as nn\n",
        "import torch.nn.functional as F\n",
        "from torch.autograd import grad"
      ],
      "execution_count": null,
      "outputs": []
    },
    {
      "cell_type": "code",
      "metadata": {
        "id": "fs5i82Ao43Ur",
        "colab_type": "code",
        "colab": {}
      },
      "source": [
        "from torch.utils.data import DataLoader\n",
        "from torch.utils.data.dataset import Dataset\n",
        "from torchvision import datasets\n",
        "from torchvision import transforms\n",
        "from torchvision.utils import save_image"
      ],
      "execution_count": null,
      "outputs": []
    },
    {
      "cell_type": "code",
      "metadata": {
        "id": "w0E-SpNV43Uz",
        "colab_type": "code",
        "colab": {}
      },
      "source": [
        "import numpy as np\n",
        "import datetime\n",
        "import os, sys\n",
        "import glob\n",
        "from tqdm import tqdm"
      ],
      "execution_count": null,
      "outputs": []
    },
    {
      "cell_type": "code",
      "metadata": {
        "id": "mlEksakq43U8",
        "colab_type": "code",
        "colab": {}
      },
      "source": [
        "from PIL import Image"
      ],
      "execution_count": null,
      "outputs": []
    },
    {
      "cell_type": "code",
      "metadata": {
        "id": "ouN3W3h843VI",
        "colab_type": "code",
        "colab": {}
      },
      "source": [
        "import matplotlib.pyplot as plt\n",
        "from matplotlib.pyplot import imshow, imsave\n",
        "%matplotlib inline"
      ],
      "execution_count": null,
      "outputs": []
    },
    {
      "cell_type": "code",
      "metadata": {
        "id": "om3KTJno43VM",
        "colab_type": "code",
        "colab": {}
      },
      "source": [
        "MODEL_NAME = 'R1'\n",
        "DEVICE = torch.device(\"cuda\" if torch.cuda.is_available() else \"cpu\")"
      ],
      "execution_count": null,
      "outputs": []
    },
    {
      "cell_type": "code",
      "metadata": {
        "id": "hgkBBopq43VT",
        "colab_type": "code",
        "colab": {}
      },
      "source": [
        "IMAGE_DIM = (64, 64, 3)"
      ],
      "execution_count": null,
      "outputs": []
    },
    {
      "cell_type": "code",
      "metadata": {
        "id": "4rFMO1pY43VX",
        "colab_type": "code",
        "colab": {}
      },
      "source": [
        "def tensor2img(tensor):\n",
        "    img = np.clip((np.transpose(tensor.detach().cpu().numpy(), [1,2,0])+1)/2.0,0,1)\n",
        "\n",
        "    return img"
      ],
      "execution_count": null,
      "outputs": []
    },
    {
      "cell_type": "code",
      "metadata": {
        "id": "1N7hD_D-43Va",
        "colab_type": "code",
        "colab": {}
      },
      "source": [
        "def get_sample_image(G, n_noise=100, n_samples=64):\n",
        "    \"\"\"\n",
        "        save sample 100 images\n",
        "    \"\"\"\n",
        "    n_rows = int(np.sqrt(n_samples))\n",
        "    z = (torch.rand(size=[n_samples, n_noise])*2-1).to(DEVICE) # U[-1, 1]\n",
        "    x_fake = G(z)\n",
        "    x_fake = torch.cat([torch.cat([x_fake[n_rows*j+i] for i in range(n_rows)], dim=1) for j in range(n_rows)], dim=2)\n",
        "    result = tensor2img(x_fake)\n",
        "    return result"
      ],
      "execution_count": null,
      "outputs": []
    },
    {
      "cell_type": "code",
      "metadata": {
        "id": "Z5RKiEjG43Vd",
        "colab_type": "code",
        "colab": {}
      },
      "source": [
        "class ResidualBlock(nn.Module):\n",
        "    def __init__(self, inplanes, planes, kernel_size=3, stride=1, downsample=None, groups=1):\n",
        "        super(ResidualBlock, self).__init__()\n",
        "        p = kernel_size//2\n",
        "        self.conv1 = nn.Sequential(\n",
        "            nn.Conv2d(inplanes, planes, kernel_size, stride=stride, padding=p),\n",
        "            nn.LeakyReLU(0.2)\n",
        "        )\n",
        "        self.conv2 = nn.Sequential(\n",
        "            nn.Conv2d(planes, planes, kernel_size, padding=p),\n",
        "            nn.LeakyReLU(0.2)\n",
        "        )\n",
        "        self.proj = nn.Conv2d(inplanes, planes, 1) if inplanes != planes else None\n",
        "    \n",
        "    def forward(self, x):\n",
        "        identity = x\n",
        "        \n",
        "        y = self.conv1(x)\n",
        "        y = self.conv2(y)\n",
        "        \n",
        "        identity = identity if self.proj is None else self.proj(identity)\n",
        "        y = y + identity\n",
        "        return y"
      ],
      "execution_count": null,
      "outputs": []
    },
    {
      "cell_type": "code",
      "metadata": {
        "id": "rWAHgcQ_43Vn",
        "colab_type": "code",
        "colab": {}
      },
      "source": [
        "class Discriminator(nn.Module):\n",
        "    \"\"\"\n",
        "        Convolutional Discriminator\n",
        "    \"\"\"\n",
        "    def __init__(self, in_channel=1):\n",
        "        super(Discriminator, self).__init__()\n",
        "        self.D = nn.Sequential(\n",
        "            nn.Conv2d(in_channel, 64, 3, padding=1), # (N, 64, 64, 64)\n",
        "            ResidualBlock(64, 128),\n",
        "            nn.AvgPool2d(3, 2, padding=1), # (N, 128, 32, 32)\n",
        "            ResidualBlock(128, 256),\n",
        "            nn.AvgPool2d(3, 2, padding=1), # (N, 256, 16, 16)\n",
        "            ResidualBlock(256, 512),\n",
        "            nn.AvgPool2d(3, 2, padding=1), # (N, 512, 8, 8)\n",
        "            ResidualBlock(512, 1024),\n",
        "            nn.AvgPool2d(3, 2, padding=1) # (N, 1024, 4, 4)\n",
        "        )\n",
        "        self.fc = nn.Linear(1024*4*4, 1) # (N, 1)\n",
        "        \n",
        "    def forward(self, x):\n",
        "        B = x.size(0)\n",
        "        h = self.D(x)\n",
        "        h = h.view(B, -1)\n",
        "        y = self.fc(h)\n",
        "        return y"
      ],
      "execution_count": null,
      "outputs": []
    },
    {
      "cell_type": "code",
      "metadata": {
        "id": "X-8f-rz343Vr",
        "colab_type": "code",
        "colab": {}
      },
      "source": [
        "class Generator(nn.Module):\n",
        "    \"\"\"\n",
        "        Convolutional Generator\n",
        "    \"\"\"\n",
        "    def __init__(self, out_channel=1, n_filters=128, n_noise=512):\n",
        "        super(Generator, self).__init__()\n",
        "        self.fc = nn.Linear(n_noise, 1024*4*4)\n",
        "        self.G = nn.Sequential(\n",
        "            ResidualBlock(1024, 512),\n",
        "            nn.Upsample(scale_factor=2, mode='bilinear'), # (N, 512, 8, 8)\n",
        "            ResidualBlock(512, 256),\n",
        "            nn.Upsample(scale_factor=2, mode='bilinear'), # (N, 256, 16, 16)\n",
        "            ResidualBlock(256, 128),\n",
        "            nn.Upsample(scale_factor=2, mode='bilinear'), # (N, 128, 32, 32)\n",
        "            ResidualBlock(128, 64),\n",
        "            nn.Upsample(scale_factor=2, mode='bilinear'), # (N, 64, 64, 64)\n",
        "            ResidualBlock(64, 64),\n",
        "            nn.Conv2d(64, out_channel, 3, padding=1) # (N, 3, 64, 64)\n",
        "        )\n",
        "        \n",
        "    def forward(self, z):\n",
        "        B = z.size(0)\n",
        "        h = self.fc(z)\n",
        "        h = h.view(B, 1024, 4, 4)\n",
        "        x = self.G(h)\n",
        "        return x"
      ],
      "execution_count": null,
      "outputs": []
    },
    {
      "cell_type": "code",
      "metadata": {
        "id": "6KAthfuM43Vu",
        "colab_type": "code",
        "colab": {}
      },
      "source": [
        "transform = transforms.Compose([transforms.Resize((IMAGE_DIM[0],IMAGE_DIM[1])),\n",
        "                                transforms.ToTensor(),\n",
        "                                transforms.Normalize(mean=(0.5, 0.5, 0.5),\n",
        "                                std=(0.5, 0.5, 0.5))\n",
        "                               ]\n",
        ")"
      ],
      "execution_count": null,
      "outputs": []
    },
    {
      "cell_type": "markdown",
      "metadata": {
        "id": "AmvBQ9aT43Vx",
        "colab_type": "text"
      },
      "source": [
        "CelebA-aligned download: [link](http://mmlab.ie.cuhk.edu.hk/projects/CelebA.html)"
      ]
    },
    {
      "cell_type": "code",
      "metadata": {
        "id": "olnV97cw8rZd",
        "colab_type": "code",
        "colab": {
          "base_uri": "https://localhost:8080/",
          "height": 34
        },
        "outputId": "fc1d5541-21cd-43b3-8f1a-aff87e6b897a"
      },
      "source": [
        "from google.colab import drive\n",
        "drive.mount('/content/drive')"
      ],
      "execution_count": null,
      "outputs": [
        {
          "output_type": "stream",
          "text": [
            "Mounted at /content/drive\n"
          ],
          "name": "stdout"
        }
      ]
    },
    {
      "cell_type": "code",
      "metadata": {
        "id": "XYG5Umwf7t_v",
        "colab_type": "code",
        "colab": {}
      },
      "source": [
        "!rm -rf img_align_celeba\n",
        "!cp \"/content/drive/My Drive/EVA4/Phase2/S6/Img/img_align_celeba.zip\" /content\n",
        "!unzip -q img_align_celeba.zip\n",
        "!mv /content/img_align_celeba /content/train\n",
        "!mkdir /content/img_align_celeba\n",
        "!cp -r /content/train/ /content/img_align_celeba/\n",
        "!rm -rf train"
      ],
      "execution_count": null,
      "outputs": []
    },
    {
      "cell_type": "code",
      "metadata": {
        "id": "LhzDEbA043Vx",
        "colab_type": "code",
        "colab": {}
      },
      "source": [
        "dataset = datasets.ImageFolder(root='/content/img_align_celeba', transform=transform)"
      ],
      "execution_count": null,
      "outputs": []
    },
    {
      "cell_type": "code",
      "metadata": {
        "id": "0yjb_x8P43V1",
        "colab_type": "code",
        "colab": {}
      },
      "source": [
        "batch_size = 64\n",
        "n_noise = 256"
      ],
      "execution_count": null,
      "outputs": []
    },
    {
      "cell_type": "code",
      "metadata": {
        "id": "9br-c_kb43V5",
        "colab_type": "code",
        "colab": {}
      },
      "source": [
        "data_loader = DataLoader(dataset=dataset, batch_size=batch_size, shuffle=True, drop_last=True, num_workers=4, pin_memory=True)"
      ],
      "execution_count": null,
      "outputs": []
    },
    {
      "cell_type": "code",
      "metadata": {
        "scrolled": false,
        "id": "CiSIqvdM43V8",
        "colab_type": "code",
        "colab": {}
      },
      "source": [
        "D = Discriminator(in_channel=IMAGE_DIM[-1]).to(DEVICE)\n",
        "G = Generator(out_channel=IMAGE_DIM[-1], n_noise=n_noise).to(DEVICE)"
      ],
      "execution_count": null,
      "outputs": []
    },
    {
      "cell_type": "code",
      "metadata": {
        "id": "bUmHr0KF43V_",
        "colab_type": "code",
        "colab": {}
      },
      "source": [
        "D_opt = torch.optim.RMSprop(D.parameters(), lr=1e-4, alpha=0.99)\n",
        "G_opt = torch.optim.RMSprop(G.parameters(), lr=1e-4, alpha=0.99)"
      ],
      "execution_count": null,
      "outputs": []
    },
    {
      "cell_type": "code",
      "metadata": {
        "id": "tzMwBhG443WC",
        "colab_type": "code",
        "colab": {}
      },
      "source": [
        "# D_scheduler = torch.optim.lr_scheduler.MultiStepLR(D_opt, milestones=[3, 10, 17], gamma=0.6)\n",
        "# G_scheduler = torch.optim.lr_scheduler.MultiStepLR(G_opt, milestones=[3, 10, 17], gamma=0.6)"
      ],
      "execution_count": null,
      "outputs": []
    },
    {
      "cell_type": "code",
      "metadata": {
        "id": "D4ms-mEl43WI",
        "colab_type": "code",
        "colab": {}
      },
      "source": [
        "# criterion = nn.L1Loss()\n",
        "def r1loss(inputs, label=None):\n",
        "    # non-saturating loss with R1 regularization\n",
        "    l = -1 if label else 1\n",
        "    return F.softplus(l*inputs).mean()"
      ],
      "execution_count": null,
      "outputs": []
    },
    {
      "cell_type": "code",
      "metadata": {
        "id": "Ty3mliD_43WL",
        "colab_type": "code",
        "colab": {}
      },
      "source": [
        "max_epoch = 20\n",
        "step = 0"
      ],
      "execution_count": null,
      "outputs": []
    },
    {
      "cell_type": "code",
      "metadata": {
        "id": "Y0rexrW843WO",
        "colab_type": "code",
        "colab": {}
      },
      "source": [
        "log_term = 1000\n",
        "save_term = 1000"
      ],
      "execution_count": null,
      "outputs": []
    },
    {
      "cell_type": "code",
      "metadata": {
        "id": "rMnmFp3l43WR",
        "colab_type": "code",
        "colab": {}
      },
      "source": [
        "r1_gamma = 10"
      ],
      "execution_count": null,
      "outputs": []
    },
    {
      "cell_type": "code",
      "metadata": {
        "id": "QPbneUj-43WV",
        "colab_type": "code",
        "colab": {
          "base_uri": "https://localhost:8080/",
          "height": 34
        },
        "outputId": "347c327e-40d7-4a14-ea42-d4b33c3b42ad"
      },
      "source": [
        "steps_per_epoch = len(data_loader.dataset) // batch_size\n",
        "steps_per_epoch"
      ],
      "execution_count": null,
      "outputs": [
        {
          "output_type": "execute_result",
          "data": {
            "text/plain": [
              "3165"
            ]
          },
          "metadata": {
            "tags": []
          },
          "execution_count": 27
        }
      ]
    },
    {
      "cell_type": "code",
      "metadata": {
        "id": "hNr9d_OZ43Wc",
        "colab_type": "code",
        "colab": {}
      },
      "source": [
        "if not os.path.exists('samples'):\n",
        "    os.makedirs('samples')\n",
        "    \n",
        "if not os.path.exists('ckpt'):\n",
        "    os.makedirs('ckpt')"
      ],
      "execution_count": null,
      "outputs": []
    },
    {
      "cell_type": "code",
      "metadata": {
        "id": "RXhY40HR43Wg",
        "colab_type": "code",
        "colab": {}
      },
      "source": [
        "def save_checkpoint(state, file_name='checkpoint.pth.tar'):\n",
        "    torch.save(state, file_name)"
      ],
      "execution_count": null,
      "outputs": []
    },
    {
      "cell_type": "code",
      "metadata": {
        "scrolled": true,
        "id": "w6gBFQJQ43Wm",
        "colab_type": "code",
        "colab": {
          "base_uri": "https://localhost:8080/",
          "height": 683
        },
        "outputId": "813e71ba-de1a-4bfd-e01c-c3fffcfc8362"
      },
      "source": [
        "for epoch in range(max_epoch):\n",
        "    for idx, (images, labels) in enumerate(tqdm(data_loader, total=len(data_loader))):\n",
        "        G.zero_grad()\n",
        "        # Training Discriminator\n",
        "        x = images.to(DEVICE)\n",
        "        x.requires_grad = True\n",
        "        x_outputs = D(x)\n",
        "        d_real_loss = r1loss(x_outputs, True)\n",
        "        # Reference >> https://github.com/rosinality/style-based-gan-pytorch/blob/a3d000e707b70d1a5fc277912dc9d7432d6e6069/train.py\n",
        "        # little different with original DiracGAN\n",
        "        grad_real = grad(outputs=x_outputs.sum(), inputs=x, create_graph=True)[0]\n",
        "        grad_penalty = (grad_real.view(grad_real.size(0), -1).norm(2, dim=1) ** 2).mean()\n",
        "        grad_penalty = 0.5*r1_gamma*grad_penalty\n",
        "        D_x_loss = d_real_loss + grad_penalty\n",
        "\n",
        "        z = (torch.rand(size=[batch_size, n_noise])*2-1).to(DEVICE)\n",
        "        x_fake = G(z)\n",
        "        z_outputs = D(x_fake.detach())\n",
        "        D_z_loss = r1loss(z_outputs, False)\n",
        "        D_loss = D_x_loss + D_z_loss\n",
        "        \n",
        "        D.zero_grad()\n",
        "        D_loss.backward()\n",
        "        D_opt.step()\n",
        "\n",
        "        # Training Generator\n",
        "        z = (torch.rand(size=[batch_size, n_noise])*2-1).to(DEVICE)\n",
        "        x_fake = G(z)\n",
        "        z_outputs = D(x_fake)\n",
        "        G_loss = r1loss(z_outputs, True)\n",
        "        \n",
        "        G.zero_grad()\n",
        "        G_loss.backward()\n",
        "        G_opt.step()\n",
        "        \n",
        "        if step % save_term == 0:\n",
        "            save_checkpoint({'global_step': step,\n",
        "                 'D':D.state_dict(),\n",
        "                 'G':G.state_dict(),\n",
        "                 'd_optim': D_opt.state_dict(),\n",
        "                 'g_optim' : G_opt.state_dict()},\n",
        "                'ckpt/r1gan{:06d}.pth.tar'.format(step))\n",
        "        \n",
        "        if step % log_term == 0:\n",
        "            dt = datetime.datetime.now().strftime('%H:%M:%S')\n",
        "            print('Epoch: {}/{}, Step: {}, D Loss: {:.4f}, G Loss: {:.4f}, gp: {:.4f}, Time:{}'.format(epoch, max_epoch, step, D_loss.item(), G_loss.item(), grad_penalty.item(), dt))\n",
        "            G.eval()\n",
        "            img = get_sample_image(G, n_noise, n_samples=25)\n",
        "            imsave('samples/{}_step{:06d}.jpg'.format(MODEL_NAME, step), img)\n",
        "            G.train()\n",
        "        \n",
        "        step += 1\n",
        "#     D_scheduler.step()\n",
        "#     G_scheduler.step()"
      ],
      "execution_count": null,
      "outputs": [
        {
          "output_type": "stream",
          "text": [
            "\r  0%|          | 0/3165 [00:00<?, ?it/s]/usr/local/lib/python3.6/dist-packages/torch/nn/functional.py:3121: UserWarning: Default upsampling behavior when mode=bilinear is changed to align_corners=False since 0.4.0. Please specify align_corners=True if the old behavior is desired. See the documentation of nn.Upsample for details.\n",
            "  \"See the documentation of nn.Upsample for details.\".format(mode))\n",
            "  0%|          | 1/3165 [00:03<2:45:08,  3.13s/it]"
          ],
          "name": "stderr"
        },
        {
          "output_type": "stream",
          "text": [
            "Epoch: 0/20, Step: 0, D Loss: 1.3818, G Loss: 0.2489, gp: 0.0000, Time:04:41:05\n"
          ],
          "name": "stdout"
        },
        {
          "output_type": "stream",
          "text": [
            " 32%|███▏      | 1001/3165 [22:33<1:01:31,  1.71s/it]"
          ],
          "name": "stderr"
        },
        {
          "output_type": "stream",
          "text": [
            "Epoch: 0/20, Step: 1000, D Loss: 1.3570, G Loss: 0.6873, gp: 0.1113, Time:05:03:36\n"
          ],
          "name": "stdout"
        },
        {
          "output_type": "stream",
          "text": [
            " 63%|██████▎   | 2001/3165 [45:10<33:45,  1.74s/it]"
          ],
          "name": "stderr"
        },
        {
          "output_type": "stream",
          "text": [
            "Epoch: 0/20, Step: 2000, D Loss: 1.1044, G Loss: 0.7396, gp: 0.1250, Time:05:26:12\n"
          ],
          "name": "stdout"
        },
        {
          "output_type": "stream",
          "text": [
            " 95%|█████████▍| 3001/3165 [1:07:47<04:40,  1.71s/it]"
          ],
          "name": "stderr"
        },
        {
          "output_type": "stream",
          "text": [
            "Epoch: 0/20, Step: 3000, D Loss: 1.3055, G Loss: 0.6895, gp: 0.0714, Time:05:48:50\n"
          ],
          "name": "stdout"
        },
        {
          "output_type": "stream",
          "text": [
            "100%|██████████| 3165/3165 [1:11:29<00:00,  1.36s/it]\n",
            " 26%|██▋       | 836/3165 [18:53<1:08:00,  1.75s/it]"
          ],
          "name": "stderr"
        },
        {
          "output_type": "stream",
          "text": [
            "Epoch: 1/20, Step: 4000, D Loss: 1.4147, G Loss: 0.9737, gp: 0.0211, Time:06:11:25\n"
          ],
          "name": "stdout"
        },
        {
          "output_type": "stream",
          "text": [
            " 58%|█████▊    | 1836/3165 [41:28<38:10,  1.72s/it]"
          ],
          "name": "stderr"
        },
        {
          "output_type": "stream",
          "text": [
            "Epoch: 1/20, Step: 5000, D Loss: 1.3167, G Loss: 0.7888, gp: 0.0574, Time:06:34:01\n"
          ],
          "name": "stdout"
        },
        {
          "output_type": "stream",
          "text": [
            " 90%|████████▉ | 2836/3165 [1:04:05<09:33,  1.74s/it]"
          ],
          "name": "stderr"
        },
        {
          "output_type": "stream",
          "text": [
            "Epoch: 1/20, Step: 6000, D Loss: 1.3393, G Loss: 0.7623, gp: 0.0543, Time:06:56:37\n"
          ],
          "name": "stdout"
        },
        {
          "output_type": "stream",
          "text": [
            "100%|██████████| 3165/3165 [1:11:30<00:00,  1.36s/it]\n",
            " 21%|██        | 671/3165 [15:10<1:12:47,  1.75s/it]"
          ],
          "name": "stderr"
        },
        {
          "output_type": "stream",
          "text": [
            "Epoch: 2/20, Step: 7000, D Loss: 1.3101, G Loss: 0.8326, gp: 0.0585, Time:07:19:14\n"
          ],
          "name": "stdout"
        },
        {
          "output_type": "stream",
          "text": [
            " 53%|█████▎    | 1671/3165 [37:46<43:03,  1.73s/it]"
          ],
          "name": "stderr"
        },
        {
          "output_type": "stream",
          "text": [
            "Epoch: 2/20, Step: 8000, D Loss: 1.3726, G Loss: 0.8579, gp: 0.0446, Time:07:41:49\n"
          ],
          "name": "stdout"
        },
        {
          "output_type": "stream",
          "text": [
            " 84%|████████▍ | 2671/3165 [1:00:23<14:08,  1.72s/it]"
          ],
          "name": "stderr"
        },
        {
          "output_type": "stream",
          "text": [
            "Epoch: 2/20, Step: 9000, D Loss: 1.3652, G Loss: 0.9076, gp: 0.0406, Time:08:04:26\n"
          ],
          "name": "stdout"
        },
        {
          "output_type": "stream",
          "text": [
            "100%|██████████| 3165/3165 [1:11:33<00:00,  1.36s/it]\n",
            " 16%|█▌        | 506/3165 [11:27<1:17:16,  1.74s/it]"
          ],
          "name": "stderr"
        },
        {
          "output_type": "stream",
          "text": [
            "Epoch: 3/20, Step: 10000, D Loss: 1.3275, G Loss: 0.8380, gp: 0.0401, Time:08:27:04\n"
          ],
          "name": "stdout"
        },
        {
          "output_type": "stream",
          "text": [
            " 48%|████▊     | 1506/3165 [34:02<47:20,  1.71s/it]"
          ],
          "name": "stderr"
        },
        {
          "output_type": "stream",
          "text": [
            "Epoch: 3/20, Step: 11000, D Loss: 1.3407, G Loss: 0.7436, gp: 0.0384, Time:08:49:39\n"
          ],
          "name": "stdout"
        },
        {
          "output_type": "stream",
          "text": [
            " 79%|███████▉  | 2506/3165 [56:37<18:50,  1.72s/it]"
          ],
          "name": "stderr"
        },
        {
          "output_type": "stream",
          "text": [
            "Epoch: 3/20, Step: 12000, D Loss: 1.3232, G Loss: 0.7574, gp: 0.0369, Time:09:12:14\n"
          ],
          "name": "stdout"
        },
        {
          "output_type": "stream",
          "text": [
            "100%|██████████| 3165/3165 [1:11:31<00:00,  1.36s/it]\n",
            " 11%|█         | 341/3165 [07:43<1:22:15,  1.75s/it]"
          ],
          "name": "stderr"
        },
        {
          "output_type": "stream",
          "text": [
            "Epoch: 4/20, Step: 13000, D Loss: 1.3224, G Loss: 0.7754, gp: 0.0335, Time:09:34:51\n"
          ],
          "name": "stdout"
        },
        {
          "output_type": "stream",
          "text": [
            " 42%|████▏     | 1341/3165 [30:20<52:00,  1.71s/it]"
          ],
          "name": "stderr"
        },
        {
          "output_type": "stream",
          "text": [
            "Epoch: 4/20, Step: 14000, D Loss: 1.3552, G Loss: 0.6814, gp: 0.0332, Time:09:57:28\n"
          ],
          "name": "stdout"
        },
        {
          "output_type": "stream",
          "text": [
            " 74%|███████▍  | 2341/3165 [52:56<23:43,  1.73s/it]"
          ],
          "name": "stderr"
        },
        {
          "output_type": "stream",
          "text": [
            "Epoch: 4/20, Step: 15000, D Loss: 1.3790, G Loss: 0.7045, gp: 0.0350, Time:10:20:05\n"
          ],
          "name": "stdout"
        },
        {
          "output_type": "stream",
          "text": [
            "100%|██████████| 3165/3165 [1:11:34<00:00,  1.36s/it]\n",
            "  6%|▌         | 176/3165 [04:00<1:27:11,  1.75s/it]"
          ],
          "name": "stderr"
        },
        {
          "output_type": "stream",
          "text": [
            "Epoch: 5/20, Step: 16000, D Loss: 1.3481, G Loss: 0.8187, gp: 0.0330, Time:10:42:43\n"
          ],
          "name": "stdout"
        },
        {
          "output_type": "stream",
          "text": [
            " 37%|███▋      | 1176/3165 [26:37<57:54,  1.75s/it]"
          ],
          "name": "stderr"
        },
        {
          "output_type": "stream",
          "text": [
            "Epoch: 5/20, Step: 17000, D Loss: 1.3548, G Loss: 0.7301, gp: 0.0300, Time:11:05:20\n"
          ],
          "name": "stdout"
        },
        {
          "output_type": "stream",
          "text": [
            " 69%|██████▉   | 2176/3165 [49:14<28:39,  1.74s/it]"
          ],
          "name": "stderr"
        },
        {
          "output_type": "stream",
          "text": [
            "Epoch: 5/20, Step: 18000, D Loss: 1.3535, G Loss: 0.7309, gp: 0.0275, Time:11:27:57\n"
          ],
          "name": "stdout"
        },
        {
          "output_type": "stream",
          "text": [
            "100%|██████████| 3165/3165 [1:11:34<00:00,  1.36s/it]\n",
            "  0%|          | 11/3165 [00:16<1:32:05,  1.75s/it]"
          ],
          "name": "stderr"
        },
        {
          "output_type": "stream",
          "text": [
            "Epoch: 6/20, Step: 19000, D Loss: 1.3519, G Loss: 0.7394, gp: 0.0293, Time:11:50:33\n"
          ],
          "name": "stdout"
        },
        {
          "output_type": "stream",
          "text": [
            " 32%|███▏      | 1011/3165 [22:51<1:02:57,  1.75s/it]"
          ],
          "name": "stderr"
        },
        {
          "output_type": "stream",
          "text": [
            "Epoch: 6/20, Step: 20000, D Loss: 1.3539, G Loss: 0.8208, gp: 0.0277, Time:12:13:09\n"
          ],
          "name": "stdout"
        },
        {
          "output_type": "stream",
          "text": [
            " 64%|██████▎   | 2011/3165 [45:26<33:38,  1.75s/it]"
          ],
          "name": "stderr"
        },
        {
          "output_type": "stream",
          "text": [
            "Epoch: 6/20, Step: 21000, D Loss: 1.3624, G Loss: 0.7708, gp: 0.0266, Time:12:35:44\n"
          ],
          "name": "stdout"
        },
        {
          "output_type": "stream",
          "text": [
            " 95%|█████████▌| 3011/3165 [1:08:03<04:28,  1.74s/it]"
          ],
          "name": "stderr"
        },
        {
          "output_type": "stream",
          "text": [
            "Epoch: 6/20, Step: 22000, D Loss: 1.3501, G Loss: 0.7151, gp: 0.0279, Time:12:58:20\n"
          ],
          "name": "stdout"
        },
        {
          "output_type": "stream",
          "text": [
            "100%|██████████| 3165/3165 [1:11:31<00:00,  1.36s/it]\n",
            " 27%|██▋       | 846/3165 [19:08<1:08:18,  1.77s/it]"
          ],
          "name": "stderr"
        },
        {
          "output_type": "stream",
          "text": [
            "Epoch: 7/20, Step: 23000, D Loss: 1.3499, G Loss: 0.7333, gp: 0.0253, Time:13:20:57\n"
          ],
          "name": "stdout"
        },
        {
          "output_type": "stream",
          "text": [
            " 58%|█████▊    | 1846/3165 [41:44<38:02,  1.73s/it]"
          ],
          "name": "stderr"
        },
        {
          "output_type": "stream",
          "text": [
            "Epoch: 7/20, Step: 24000, D Loss: 1.3501, G Loss: 0.7451, gp: 0.0274, Time:13:43:33\n"
          ],
          "name": "stdout"
        },
        {
          "output_type": "stream",
          "text": [
            " 90%|████████▉ | 2846/3165 [1:04:20<09:14,  1.74s/it]"
          ],
          "name": "stderr"
        },
        {
          "output_type": "stream",
          "text": [
            "Epoch: 7/20, Step: 25000, D Loss: 1.3585, G Loss: 0.7017, gp: 0.0249, Time:14:06:09\n"
          ],
          "name": "stdout"
        },
        {
          "output_type": "stream",
          "text": [
            "100%|██████████| 3165/3165 [1:11:33<00:00,  1.36s/it]\n",
            " 22%|██▏       | 681/3165 [15:25<1:12:10,  1.74s/it]"
          ],
          "name": "stderr"
        },
        {
          "output_type": "stream",
          "text": [
            "Epoch: 8/20, Step: 26000, D Loss: 1.3633, G Loss: 0.6821, gp: 0.0227, Time:14:28:47\n"
          ],
          "name": "stdout"
        },
        {
          "output_type": "stream",
          "text": [
            " 32%|███▏      | 999/3165 [22:36<48:56,  1.36s/it]"
          ],
          "name": "stderr"
        }
      ]
    },
    {
      "cell_type": "code",
      "metadata": {
        "id": "75jBAvkS43Wq",
        "colab_type": "code",
        "colab": {}
      },
      "source": [
        "save_checkpoint({'global_step': step,\n",
        "     'D':D.state_dict(),\n",
        "     'G':G.state_dict(),\n",
        "     'd_optim': D_opt.state_dict(),\n",
        "     'g_optim' : G_opt.state_dict()},\n",
        "    'ckpt/r1gan{:06d}.pth.tar'.format(step))"
      ],
      "execution_count": null,
      "outputs": []
    },
    {
      "cell_type": "markdown",
      "metadata": {
        "id": "lo7c6f9A43Wt",
        "colab_type": "text"
      },
      "source": [
        "### Random Sample"
      ]
    },
    {
      "cell_type": "code",
      "metadata": {
        "id": "bwIbIaeK43Wt",
        "colab_type": "code",
        "colab": {}
      },
      "source": [
        "G_path = sorted(glob.glob(os.path.join('ckpt', '*.pth.tar')))[-1]\n",
        "state = torch.load(G_path)\n",
        "G.load_state_dict(state['G'])"
      ],
      "execution_count": null,
      "outputs": []
    },
    {
      "cell_type": "code",
      "metadata": {
        "id": "9o2A4iMu43Wx",
        "colab_type": "code",
        "colab": {}
      },
      "source": [
        "G.eval()\n",
        "None"
      ],
      "execution_count": null,
      "outputs": []
    },
    {
      "cell_type": "code",
      "metadata": {
        "id": "A2-wvMMV43W0",
        "colab_type": "code",
        "colab": {}
      },
      "source": [
        "img = get_sample_image(G, n_noise, n_samples=25)\n",
        "imshow(img)"
      ],
      "execution_count": null,
      "outputs": []
    },
    {
      "cell_type": "code",
      "metadata": {
        "id": "YCXB6LtT43W3",
        "colab_type": "code",
        "colab": {}
      },
      "source": [
        "# Fake Image\n",
        "idx = [3, 1]\n",
        "row, col = IMAGE_DIM[0]*idx[0], IMAGE_DIM[1]*idx[1]\n",
        "imshow(img[row:row+IMAGE_DIM[0], col:col+IMAGE_DIM[1], :])"
      ],
      "execution_count": null,
      "outputs": []
    },
    {
      "cell_type": "code",
      "metadata": {
        "id": "Dw2UruJX43W6",
        "colab_type": "code",
        "colab": {}
      },
      "source": [
        "# Real Image\n",
        "i = 14\n",
        "rimg = tensor2img(images[i])\n",
        "imshow(rimg)"
      ],
      "execution_count": null,
      "outputs": []
    },
    {
      "cell_type": "markdown",
      "metadata": {
        "id": "v9o2dOAM43W-",
        "colab_type": "text"
      },
      "source": [
        "### Interpolation"
      ]
    },
    {
      "cell_type": "code",
      "metadata": {
        "id": "PkxN3hxB43W-",
        "colab_type": "code",
        "colab": {}
      },
      "source": [
        "def sample_noise(size=None):\n",
        "    z = np.random.random(size=size)*2-1\n",
        "    return z"
      ],
      "execution_count": null,
      "outputs": []
    },
    {
      "cell_type": "code",
      "metadata": {
        "id": "hISgSUKD43XC",
        "colab_type": "code",
        "colab": {}
      },
      "source": [
        "z_a, z_b = sample_noise(n_noise), sample_noise(n_noise)\n",
        "zs = torch.tensor([np.linspace(z_a[i], z_b[i], num=10) for i in range(n_noise)], dtype=torch.float32).to(DEVICE)\n",
        "zs = torch.transpose(zs, 0, 1)\n",
        "zs.shape"
      ],
      "execution_count": null,
      "outputs": []
    },
    {
      "cell_type": "code",
      "metadata": {
        "id": "zKRCaQFW43XH",
        "colab_type": "code",
        "colab": {}
      },
      "source": [
        "imgs = G(zs).detach()\n",
        "imgs = torch.cat([imgs[i] for i in range(10)], dim=-1)\n",
        "imgs.shape"
      ],
      "execution_count": null,
      "outputs": []
    },
    {
      "cell_type": "code",
      "metadata": {
        "id": "I0iS-CSo43XN",
        "colab_type": "code",
        "colab": {}
      },
      "source": [
        "fig = plt.figure(figsize=(20, 3))\n",
        "imshow(tensor2img(imgs))"
      ],
      "execution_count": null,
      "outputs": []
    },
    {
      "cell_type": "code",
      "metadata": {
        "id": "UuAWw_cO43XQ",
        "colab_type": "code",
        "colab": {}
      },
      "source": [
        ""
      ],
      "execution_count": null,
      "outputs": []
    },
    {
      "cell_type": "code",
      "metadata": {
        "id": "OFIU4rXu43XT",
        "colab_type": "code",
        "colab": {}
      },
      "source": [
        ""
      ],
      "execution_count": null,
      "outputs": []
    }
  ]
}