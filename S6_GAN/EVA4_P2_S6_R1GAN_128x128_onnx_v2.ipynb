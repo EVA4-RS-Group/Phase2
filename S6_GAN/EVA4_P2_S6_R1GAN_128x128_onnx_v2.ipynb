{
  "nbformat": 4,
  "nbformat_minor": 0,
  "metadata": {
    "colab": {
      "name": "EVA4_P2_S6_R1GAN_128x128_onnx_v2.ipynb",
      "provenance": [],
      "collapsed_sections": [],
      "include_colab_link": true
    },
    "kernelspec": {
      "name": "python3",
      "display_name": "Python 3"
    },
    "accelerator": "GPU"
  },
  "cells": [
    {
      "cell_type": "markdown",
      "metadata": {
        "id": "view-in-github",
        "colab_type": "text"
      },
      "source": [
        "<a href=\"https://colab.research.google.com/github/EVA4-RS-Group/Phase2/blob/master/S6_GAN/EVA4_P2_S6_R1GAN_128x128_onnx_v2.ipynb\" target=\"_parent\"><img src=\"https://colab.research.google.com/assets/colab-badge.svg\" alt=\"Open In Colab\"/></a>"
      ]
    },
    {
      "cell_type": "code",
      "metadata": {
        "id": "ijzAH_ZYGBT4",
        "colab_type": "code",
        "colab": {}
      },
      "source": [
        "!rm -rf processed_images_step4a\n",
        "!wget -q https://github.com/EVA4-RS-Group/Phase2/releases/download/S6/processed_images_step4a.zip\n",
        "!unzip -q processed_images_step4a.zip\n",
        "!mv /content/processed_images_step4a /content/train\n",
        "!mkdir /content/processed_images_step4a\n",
        "!cp -r /content/train/ /content/processed_images_step4a/\n",
        "!rm -rf train"
      ],
      "execution_count": 2,
      "outputs": []
    },
    {
      "cell_type": "code",
      "metadata": {
        "id": "Ledb68pWnqHZ",
        "colab_type": "code",
        "colab": {}
      },
      "source": [
        "import torch\n",
        "import torchvision\n",
        "import torch.nn as nn\n",
        "import torch.nn.functional as F\n",
        "from torch.autograd import grad"
      ],
      "execution_count": 3,
      "outputs": []
    },
    {
      "cell_type": "code",
      "metadata": {
        "id": "Wxx5c8m0ntd8",
        "colab_type": "code",
        "colab": {}
      },
      "source": [
        "from torch.utils.data import DataLoader\n",
        "from torch.utils.data.dataset import Dataset\n",
        "from torchvision import datasets\n",
        "from torchvision import transforms\n",
        "from torchvision.utils import save_image"
      ],
      "execution_count": 4,
      "outputs": []
    },
    {
      "cell_type": "code",
      "metadata": {
        "id": "OFBGDkBmnwke",
        "colab_type": "code",
        "colab": {}
      },
      "source": [
        "import numpy as np\n",
        "import datetime\n",
        "import os, sys\n",
        "import glob\n",
        "from tqdm import tqdm"
      ],
      "execution_count": 5,
      "outputs": []
    },
    {
      "cell_type": "code",
      "metadata": {
        "id": "nVKPPBCdnyfi",
        "colab_type": "code",
        "colab": {}
      },
      "source": [
        "from PIL import Image"
      ],
      "execution_count": 6,
      "outputs": []
    },
    {
      "cell_type": "code",
      "metadata": {
        "id": "Ic8mHsJUn15O",
        "colab_type": "code",
        "colab": {}
      },
      "source": [
        "import matplotlib.pyplot as plt\n",
        "from matplotlib.pyplot import imshow, imsave\n",
        "%matplotlib inline"
      ],
      "execution_count": 7,
      "outputs": []
    },
    {
      "cell_type": "code",
      "metadata": {
        "id": "aVVmajyJn5DZ",
        "colab_type": "code",
        "colab": {}
      },
      "source": [
        "MODEL_NAME = 'R1'\n",
        "DEVICE = torch.device(\"cuda\" if torch.cuda.is_available() else \"cpu\")"
      ],
      "execution_count": 8,
      "outputs": []
    },
    {
      "cell_type": "code",
      "metadata": {
        "id": "u_G6xSvPn8wb",
        "colab_type": "code",
        "colab": {}
      },
      "source": [
        "IMAGE_DIM = ( 128, 128, 3)\n"
      ],
      "execution_count": 9,
      "outputs": []
    },
    {
      "cell_type": "code",
      "metadata": {
        "id": "n5DkNfAooAFy",
        "colab_type": "code",
        "colab": {}
      },
      "source": [
        "def tensor2img(tensor):\n",
        "    img = np.clip((np.transpose(tensor.detach().cpu().numpy(), [1,2,0])+1)/2.0,0,1)\n",
        "    \n",
        "    return img"
      ],
      "execution_count": 10,
      "outputs": []
    },
    {
      "cell_type": "code",
      "metadata": {
        "id": "Ykolkz46oC7J",
        "colab_type": "code",
        "colab": {}
      },
      "source": [
        "def get_sample_image(G, n_noise=100, n_samples=64):\n",
        "    \"\"\"\n",
        "        save sample 100 images\n",
        "    \"\"\"\n",
        "    n_rows = int(np.sqrt(n_samples))\n",
        "    z = (torch.rand(size=[n_samples, n_noise])*2-1).to(DEVICE) # U[-1, 1]\n",
        "    x_fake = G(z)\n",
        "    x_fake = torch.cat([torch.cat([x_fake[n_rows*j+i] for i in range(n_rows)], dim=1) for j in range(n_rows)], dim=2)\n",
        "    result = tensor2img(x_fake)\n",
        "    return result"
      ],
      "execution_count": 11,
      "outputs": []
    },
    {
      "cell_type": "code",
      "metadata": {
        "id": "j9w-jTCEoGIc",
        "colab_type": "code",
        "colab": {}
      },
      "source": [
        "class ResidualBlock(nn.Module):\n",
        "    def __init__(self, inplanes, planes, kernel_size=3, stride=1, downsample=None, groups=1):\n",
        "        super(ResidualBlock, self).__init__()\n",
        "        p = kernel_size//2\n",
        "        self.conv1 = nn.Sequential(\n",
        "            nn.Conv2d(inplanes, planes, kernel_size, stride=stride, padding=p),\n",
        "            nn.LeakyReLU(0.2)\n",
        "        )\n",
        "        self.conv2 = nn.Sequential(\n",
        "            nn.Conv2d(planes, planes, kernel_size, padding=p),\n",
        "            nn.LeakyReLU(0.2)\n",
        "        )\n",
        "        self.proj = nn.Conv2d(inplanes, planes, 1) if inplanes != planes else None\n",
        "    \n",
        "    def forward(self, x):\n",
        "        identity = x\n",
        "        \n",
        "        y = self.conv1(x)\n",
        "        y = self.conv2(y)\n",
        "        \n",
        "        identity = identity if self.proj is None else self.proj(identity)\n",
        "        y = y + identity\n",
        "        return y"
      ],
      "execution_count": 12,
      "outputs": []
    },
    {
      "cell_type": "code",
      "metadata": {
        "id": "Tc8mYJ4toJ5l",
        "colab_type": "code",
        "colab": {}
      },
      "source": [
        "\n",
        "\n",
        "class Discriminator(nn.Module):\n",
        "    \"\"\"\n",
        "        Convolutional Discriminator\n",
        "    \"\"\"\n",
        "    def __init__(self, in_channel=1):\n",
        "        super(Discriminator, self).__init__()\n",
        "        self.D = nn.Sequential(\n",
        "            nn.Conv2d(in_channel, 32, 3, padding=1), # (N, 32, 128, 128)\n",
        "            ResidualBlock(32, 64),\n",
        "            nn.AvgPool2d(3, 2, padding=1), # (N, 64, 64, 64)\n",
        "            ResidualBlock(64, 128),\n",
        "            nn.AvgPool2d(3, 2, padding=1), # (N, 128, 32, 32)\n",
        "            ResidualBlock(128, 256),\n",
        "            nn.AvgPool2d(3, 2, padding=1), # (N, 256, 16, 16)\n",
        "            ResidualBlock(256, 512),\n",
        "            nn.AvgPool2d(3, 2, padding=1), # (N, 512, 8, 8)\n",
        "            ResidualBlock(512, 1024),\n",
        "            nn.AvgPool2d(3, 2, padding=1) # (N, 1024, 4, 4)\n",
        "        )\n",
        "        self.fc = nn.Linear(1024*4*4, 1) # (N, 1)\n",
        "        \n",
        "    def forward(self, x):\n",
        "        B = x.size(0)\n",
        "        h = self.D(x)\n",
        "        h = h.view(B, -1)\n",
        "        y = self.fc(h)\n",
        "        return y"
      ],
      "execution_count": 13,
      "outputs": []
    },
    {
      "cell_type": "code",
      "metadata": {
        "id": "DXEd9wNSoNsD",
        "colab_type": "code",
        "colab": {}
      },
      "source": [
        "class Generator(nn.Module):\n",
        "    \"\"\"\n",
        "        Convolutional Generator\n",
        "    \"\"\"\n",
        "    def __init__(self, out_channel=1, n_filters=128, n_noise=512):\n",
        "        super(Generator, self).__init__()\n",
        "        self.fc = nn.Linear(n_noise, 1024*4*4)\n",
        "        self.G = nn.Sequential(\n",
        "            ResidualBlock(1024, 512),\n",
        "            nn.Upsample(scale_factor=2, mode='bilinear'), # (N, 512, 8, 8)\n",
        "            ResidualBlock(512, 256),\n",
        "            nn.Upsample(scale_factor=2, mode='bilinear'), # (N, 256, 16, 16)\n",
        "            ResidualBlock(256, 128),\n",
        "            nn.Upsample(scale_factor=2, mode='bilinear'), # (N, 128, 32, 32)\n",
        "            ResidualBlock(128, 64),\n",
        "            nn.Upsample(scale_factor=2, mode='bilinear'), # (N, 64, 64, 64)\n",
        "            ResidualBlock(64, 32),\n",
        "            nn.Upsample(scale_factor=2, mode='bilinear'), # (N, 32, 128, 128)\n",
        "            ResidualBlock(32, 32),\n",
        "            nn.Conv2d(32, out_channel, 3, padding=1) # (N, 3, 128, 128)\n",
        "        )\n",
        "        \n",
        "    def forward(self, z):\n",
        "        B = z.size(0)\n",
        "        h = self.fc(z)\n",
        "        h = h.view(B, 1024, 4, 4)\n",
        "        x = self.G(h)\n",
        "        return x"
      ],
      "execution_count": 14,
      "outputs": []
    },
    {
      "cell_type": "code",
      "metadata": {
        "id": "DFM5KlJToSWK",
        "colab_type": "code",
        "colab": {}
      },
      "source": [
        "transform = transforms.Compose([transforms.Resize((IMAGE_DIM[0],IMAGE_DIM[1])),\n",
        "                                transforms.ToTensor(),\n",
        "                                transforms.Normalize(mean=(0.5, 0.5, 0.5),\n",
        "                                std=(0.5, 0.5, 0.5))\n",
        "                               ]\n",
        ")"
      ],
      "execution_count": 15,
      "outputs": []
    },
    {
      "cell_type": "code",
      "metadata": {
        "id": "OZva68NwG1L1",
        "colab_type": "code",
        "colab": {}
      },
      "source": [
        "dataset = datasets.ImageFolder('/content/processed_images_step4a', transform=transform)\n"
      ],
      "execution_count": 16,
      "outputs": []
    },
    {
      "cell_type": "code",
      "metadata": {
        "id": "ltkwCL1donZf",
        "colab_type": "code",
        "colab": {}
      },
      "source": [
        "batch_size = 64\n",
        "n_noise = 256"
      ],
      "execution_count": 17,
      "outputs": []
    },
    {
      "cell_type": "code",
      "metadata": {
        "id": "alHxH2ZVooYL",
        "colab_type": "code",
        "colab": {}
      },
      "source": [
        "data_loader = DataLoader(dataset=dataset, batch_size=batch_size, shuffle=True, drop_last=True, num_workers=4, pin_memory=True)"
      ],
      "execution_count": 18,
      "outputs": []
    },
    {
      "cell_type": "code",
      "metadata": {
        "id": "if8nRqoeor5z",
        "colab_type": "code",
        "colab": {}
      },
      "source": [
        "D = Discriminator(in_channel=IMAGE_DIM[-1]).to(DEVICE)\n",
        "G = Generator(out_channel=IMAGE_DIM[-1], n_noise=n_noise).to(DEVICE)"
      ],
      "execution_count": 19,
      "outputs": []
    },
    {
      "cell_type": "code",
      "metadata": {
        "id": "4-zausIWowWZ",
        "colab_type": "code",
        "colab": {}
      },
      "source": [
        "D_opt = torch.optim.RMSprop(D.parameters(), lr=1e-4, alpha=0.99)\n",
        "G_opt = torch.optim.RMSprop(G.parameters(), lr=1e-4, alpha=0.99)"
      ],
      "execution_count": 20,
      "outputs": []
    },
    {
      "cell_type": "code",
      "metadata": {
        "id": "xBukdkllo0kh",
        "colab_type": "code",
        "colab": {}
      },
      "source": [
        "# D_scheduler = torch.optim.lr_scheduler.MultiStepLR(D_opt, milestones=[200, 500, 1000,1500], gamma=0.1)\n",
        "# G_scheduler = torch.optim.lr_scheduler.MultiStepLR(G_opt, milestones=[200, 500, 1000,1500], gamma=0.1)"
      ],
      "execution_count": 21,
      "outputs": []
    },
    {
      "cell_type": "code",
      "metadata": {
        "id": "fFdl2vnzo5qn",
        "colab_type": "code",
        "colab": {}
      },
      "source": [
        "# criterion = nn.L1Loss()\n",
        "def r1loss(inputs, label=None):\n",
        "    # non-saturating loss with R1 regularization\n",
        "    l = -1 if label else 1\n",
        "    return F.softplus(l*inputs).mean()"
      ],
      "execution_count": 22,
      "outputs": []
    },
    {
      "cell_type": "code",
      "metadata": {
        "id": "4_qwIcf8o98d",
        "colab_type": "code",
        "colab": {}
      },
      "source": [
        "max_epoch = 1000\n",
        "step = 28000"
      ],
      "execution_count": 23,
      "outputs": []
    },
    {
      "cell_type": "code",
      "metadata": {
        "id": "cjK0K-XypA8Y",
        "colab_type": "code",
        "colab": {}
      },
      "source": [
        "log_term = 1000\n",
        "save_term = 1000"
      ],
      "execution_count": 24,
      "outputs": []
    },
    {
      "cell_type": "code",
      "metadata": {
        "id": "V39sSsvUpGAi",
        "colab_type": "code",
        "colab": {}
      },
      "source": [
        "r1_gamma = 10"
      ],
      "execution_count": 25,
      "outputs": []
    },
    {
      "cell_type": "code",
      "metadata": {
        "id": "yUy-e2f5pKrr",
        "colab_type": "code",
        "colab": {
          "base_uri": "https://localhost:8080/",
          "height": 34
        },
        "outputId": "49494b02-794e-4b8c-e16c-0ae61a51a03a"
      },
      "source": [
        "steps_per_epoch = len(data_loader.dataset) // batch_size\n",
        "steps_per_epoch"
      ],
      "execution_count": 26,
      "outputs": [
        {
          "output_type": "execute_result",
          "data": {
            "text/plain": [
              "7"
            ]
          },
          "metadata": {
            "tags": []
          },
          "execution_count": 26
        }
      ]
    },
    {
      "cell_type": "code",
      "metadata": {
        "id": "l6gDyAsVpVvx",
        "colab_type": "code",
        "colab": {}
      },
      "source": [
        "if not os.path.exists('samples'):\n",
        "    os.makedirs('samples')\n",
        "\n",
        "if not os.path.exists('ckpt'):\n",
        "    os.makedirs('ckpt')\n",
        "\n",
        "!wget -q https://github.com/EVA4-RS-Group/Phase2/releases/download/S6/r1gan028000.pth.tar\n",
        "!mv r1gan028000.pth.tar \"/content/ckpt\"\n",
        "model_path = sorted(glob.glob(os.path.join('ckpt', '*.pth.tar')))[-1]\n",
        "state = torch.load(model_path)\n",
        "G.load_state_dict(state['G'])\n",
        "D.load_state_dict(state['D'])\n",
        "D_opt.load_state_dict(state['d_optim'])\n",
        "G_opt.load_state_dict(state['g_optim'])"
      ],
      "execution_count": 27,
      "outputs": []
    },
    {
      "cell_type": "code",
      "metadata": {
        "id": "7py4Ix7KpWsB",
        "colab_type": "code",
        "colab": {}
      },
      "source": [
        "def save_checkpoint(state, file_name='checkpoint.pth.tar'):\n",
        "    torch.save(state, file_name)"
      ],
      "execution_count": null,
      "outputs": []
    },
    {
      "cell_type": "code",
      "metadata": {
        "id": "_IVxgDufpde1",
        "colab_type": "code",
        "colab": {
          "base_uri": "https://localhost:8080/",
          "height": 1000
        },
        "outputId": "42de51cc-fe86-4681-c8dc-17f3e4e5903f"
      },
      "source": [
        "for epoch in range(max_epoch):\n",
        "    for idx, (images, labels) in enumerate(tqdm(data_loader, total=len(data_loader))):\n",
        "        G.zero_grad()\n",
        "        # Training Discriminator\n",
        "        x = images.to(DEVICE)\n",
        "        x.requires_grad = True\n",
        "        x_outputs = D(x)\n",
        "        d_real_loss = r1loss(x_outputs, True)\n",
        "        # Reference >> https://github.com/rosinality/style-based-gan-pytorch/blob/a3d000e707b70d1a5fc277912dc9d7432d6e6069/train.py\n",
        "        # little different with original DiracGAN\n",
        "        grad_real = grad(outputs=x_outputs.sum(), inputs=x, create_graph=True)[0]\n",
        "        grad_penalty = (grad_real.view(grad_real.size(0), -1).norm(2, dim=1) ** 2).mean()\n",
        "        grad_penalty = 0.5*r1_gamma*grad_penalty\n",
        "        D_x_loss = d_real_loss + grad_penalty\n",
        "\n",
        "        z = (torch.rand(size=[batch_size, n_noise])*2-1).to(DEVICE)\n",
        "        x_fake = G(z)\n",
        "        z_outputs = D(x_fake.detach())\n",
        "        D_z_loss = r1loss(z_outputs, False)\n",
        "        D_loss = D_x_loss + D_z_loss\n",
        "        \n",
        "        D.zero_grad()\n",
        "        D_loss.backward()\n",
        "        D_opt.step()\n",
        "\n",
        "        # Training Generator\n",
        "        z = (torch.rand(size=[batch_size, n_noise])*2-1).to(DEVICE)\n",
        "        x_fake = G(z)\n",
        "        z_outputs = D(x_fake)\n",
        "        G_loss = r1loss(z_outputs, True)\n",
        "        \n",
        "        G.zero_grad()\n",
        "        G_loss.backward()\n",
        "        G_opt.step()\n",
        "        \n",
        "        if step % save_term == 0:\n",
        "            save_checkpoint({'global_step': step,\n",
        "                 'D':D.state_dict(),\n",
        "                 'G':G.state_dict(),\n",
        "                 'd_optim': D_opt.state_dict(),\n",
        "                 'g_optim' : G_opt.state_dict()},\n",
        "                'ckpt/r1gan{:06d}.pth.tar'.format(step))\n",
        "        \n",
        "        if step % log_term == 0:\n",
        "            dt = datetime.datetime.now().strftime('%H:%M:%S')\n",
        "            print('Epoch: {}/{}, Step: {}, D Loss: {:.4f}, G Loss: {:.4f}, gp: {:.4f}, Time:{}'.format(epoch, max_epoch, step, D_loss.item(), G_loss.item(), grad_penalty.item(), dt))\n",
        "            G.eval()\n",
        "            img = get_sample_image(G, n_noise, n_samples=25)\n",
        "            imsave('samples/{}_step{:06d}.jpg'.format(MODEL_NAME, step), img)\n",
        "            G.train()\n",
        "        \n",
        "        step += 1\n",
        "    # D_scheduler.step()\n",
        "    # G_scheduler.step()"
      ],
      "execution_count": null,
      "outputs": [
        {
          "output_type": "stream",
          "text": [
            "\r  0%|          | 0/8 [00:00<?, ?it/s]/usr/local/lib/python3.6/dist-packages/torch/nn/functional.py:3121: UserWarning: Default upsampling behavior when mode=bilinear is changed to align_corners=False since 0.4.0. Please specify align_corners=True if the old behavior is desired. See the documentation of nn.Upsample for details.\n",
            "  \"See the documentation of nn.Upsample for details.\".format(mode))\n",
            " 12%|█▎        | 1/8 [00:04<00:28,  4.04s/it]"
          ],
          "name": "stderr"
        },
        {
          "output_type": "stream",
          "text": [
            "Epoch: 0/1000, Step: 20000, D Loss: 0.7897, G Loss: 2.0435, gp: 0.1751, Time:14:14:06\n"
          ],
          "name": "stdout"
        },
        {
          "output_type": "stream",
          "text": [
            "100%|██████████| 8/8 [00:19<00:00,  2.40s/it]\n",
            "100%|██████████| 8/8 [00:18<00:00,  2.28s/it]\n",
            "100%|██████████| 8/8 [00:18<00:00,  2.34s/it]\n",
            "100%|██████████| 8/8 [00:18<00:00,  2.28s/it]\n",
            "100%|██████████| 8/8 [00:17<00:00,  2.25s/it]\n",
            "100%|██████████| 8/8 [00:18<00:00,  2.25s/it]\n",
            "100%|██████████| 8/8 [00:18<00:00,  2.28s/it]\n",
            "100%|██████████| 8/8 [00:18<00:00,  2.29s/it]\n",
            "100%|██████████| 8/8 [00:18<00:00,  2.27s/it]\n",
            "100%|██████████| 8/8 [00:18<00:00,  2.26s/it]\n",
            "100%|██████████| 8/8 [00:18<00:00,  2.27s/it]\n",
            "100%|██████████| 8/8 [00:18<00:00,  2.27s/it]\n",
            "100%|██████████| 8/8 [00:18<00:00,  2.27s/it]\n",
            "100%|██████████| 8/8 [00:18<00:00,  2.28s/it]\n",
            "100%|██████████| 8/8 [00:18<00:00,  2.28s/it]\n",
            "100%|██████████| 8/8 [00:18<00:00,  2.28s/it]\n",
            "100%|██████████| 8/8 [00:18<00:00,  2.28s/it]\n",
            "100%|██████████| 8/8 [00:18<00:00,  2.27s/it]\n",
            "100%|██████████| 8/8 [00:18<00:00,  2.27s/it]\n",
            "100%|██████████| 8/8 [00:18<00:00,  2.27s/it]\n",
            "100%|██████████| 8/8 [00:18<00:00,  2.27s/it]\n",
            "100%|██████████| 8/8 [00:18<00:00,  2.27s/it]\n",
            "100%|██████████| 8/8 [00:18<00:00,  2.27s/it]\n",
            "100%|██████████| 8/8 [00:18<00:00,  2.27s/it]\n",
            "100%|██████████| 8/8 [00:18<00:00,  2.27s/it]\n",
            "100%|██████████| 8/8 [00:18<00:00,  2.27s/it]\n",
            "100%|██████████| 8/8 [00:18<00:00,  2.27s/it]\n",
            "100%|██████████| 8/8 [00:18<00:00,  2.27s/it]\n",
            "100%|██████████| 8/8 [00:18<00:00,  2.27s/it]\n",
            "100%|██████████| 8/8 [00:18<00:00,  2.27s/it]\n",
            "100%|██████████| 8/8 [00:18<00:00,  2.28s/it]\n",
            "100%|██████████| 8/8 [00:18<00:00,  2.28s/it]\n",
            "100%|██████████| 8/8 [00:18<00:00,  2.28s/it]\n",
            "100%|██████████| 8/8 [00:18<00:00,  2.27s/it]\n",
            "100%|██████████| 8/8 [00:18<00:00,  2.27s/it]\n",
            "100%|██████████| 8/8 [00:18<00:00,  2.27s/it]\n",
            "100%|██████████| 8/8 [00:18<00:00,  2.27s/it]\n",
            "100%|██████████| 8/8 [00:18<00:00,  2.27s/it]\n",
            "100%|██████████| 8/8 [00:18<00:00,  2.27s/it]\n",
            "100%|██████████| 8/8 [00:18<00:00,  2.27s/it]\n",
            "100%|██████████| 8/8 [00:18<00:00,  2.27s/it]\n",
            "100%|██████████| 8/8 [00:18<00:00,  2.27s/it]\n",
            "100%|██████████| 8/8 [00:18<00:00,  2.27s/it]\n",
            "100%|██████████| 8/8 [00:18<00:00,  2.27s/it]\n",
            "100%|██████████| 8/8 [00:18<00:00,  2.27s/it]\n",
            "100%|██████████| 8/8 [00:18<00:00,  2.27s/it]\n",
            "100%|██████████| 8/8 [00:18<00:00,  2.28s/it]\n",
            "100%|██████████| 8/8 [00:18<00:00,  2.28s/it]\n",
            "100%|██████████| 8/8 [00:18<00:00,  2.28s/it]\n",
            "100%|██████████| 8/8 [00:18<00:00,  2.27s/it]\n",
            "100%|██████████| 8/8 [00:18<00:00,  2.27s/it]\n",
            "100%|██████████| 8/8 [00:18<00:00,  2.28s/it]\n",
            "100%|██████████| 8/8 [00:18<00:00,  2.27s/it]\n",
            "100%|██████████| 8/8 [00:18<00:00,  2.27s/it]\n",
            "100%|██████████| 8/8 [00:18<00:00,  2.27s/it]\n",
            "100%|██████████| 8/8 [00:18<00:00,  2.27s/it]\n",
            "100%|██████████| 8/8 [00:18<00:00,  2.27s/it]\n",
            "100%|██████████| 8/8 [00:18<00:00,  2.27s/it]\n",
            "100%|██████████| 8/8 [00:18<00:00,  2.27s/it]\n",
            "100%|██████████| 8/8 [00:18<00:00,  2.27s/it]\n",
            "100%|██████████| 8/8 [00:18<00:00,  2.27s/it]\n",
            "100%|██████████| 8/8 [00:18<00:00,  2.27s/it]\n",
            "100%|██████████| 8/8 [00:18<00:00,  2.27s/it]\n",
            "100%|██████████| 8/8 [00:18<00:00,  2.27s/it]\n",
            "100%|██████████| 8/8 [00:18<00:00,  2.27s/it]\n",
            "100%|██████████| 8/8 [00:18<00:00,  2.27s/it]\n",
            "100%|██████████| 8/8 [00:18<00:00,  2.27s/it]\n",
            "100%|██████████| 8/8 [00:18<00:00,  2.27s/it]\n",
            "100%|██████████| 8/8 [00:18<00:00,  2.27s/it]\n",
            "100%|██████████| 8/8 [00:18<00:00,  2.27s/it]\n",
            "100%|██████████| 8/8 [00:18<00:00,  2.27s/it]\n",
            "100%|██████████| 8/8 [00:18<00:00,  2.27s/it]\n",
            "100%|██████████| 8/8 [00:18<00:00,  2.27s/it]\n",
            "100%|██████████| 8/8 [00:18<00:00,  2.27s/it]\n",
            "100%|██████████| 8/8 [00:18<00:00,  2.27s/it]\n",
            "100%|██████████| 8/8 [00:18<00:00,  2.27s/it]\n",
            "100%|██████████| 8/8 [00:18<00:00,  2.27s/it]\n",
            "100%|██████████| 8/8 [00:18<00:00,  2.27s/it]\n",
            "100%|██████████| 8/8 [00:18<00:00,  2.27s/it]\n",
            "100%|██████████| 8/8 [00:18<00:00,  2.27s/it]\n",
            "100%|██████████| 8/8 [00:18<00:00,  2.27s/it]\n",
            "100%|██████████| 8/8 [00:18<00:00,  2.27s/it]\n",
            "100%|██████████| 8/8 [00:18<00:00,  2.27s/it]\n",
            "100%|██████████| 8/8 [00:18<00:00,  2.27s/it]\n",
            "100%|██████████| 8/8 [00:18<00:00,  2.27s/it]\n",
            "100%|██████████| 8/8 [00:18<00:00,  2.27s/it]\n",
            "100%|██████████| 8/8 [00:18<00:00,  2.27s/it]\n",
            "100%|██████████| 8/8 [00:18<00:00,  2.27s/it]\n",
            "100%|██████████| 8/8 [00:18<00:00,  2.27s/it]\n",
            "100%|██████████| 8/8 [00:18<00:00,  2.27s/it]\n",
            "100%|██████████| 8/8 [00:18<00:00,  2.27s/it]\n",
            "100%|██████████| 8/8 [00:18<00:00,  2.27s/it]\n",
            "100%|██████████| 8/8 [00:18<00:00,  2.27s/it]\n",
            "100%|██████████| 8/8 [00:18<00:00,  2.27s/it]\n",
            "100%|██████████| 8/8 [00:18<00:00,  2.27s/it]\n",
            "100%|██████████| 8/8 [00:18<00:00,  2.27s/it]\n",
            "100%|██████████| 8/8 [00:18<00:00,  2.27s/it]\n",
            "100%|██████████| 8/8 [00:18<00:00,  2.27s/it]\n",
            "100%|██████████| 8/8 [00:18<00:00,  2.27s/it]\n",
            "100%|██████████| 8/8 [00:18<00:00,  2.27s/it]\n",
            "100%|██████████| 8/8 [00:18<00:00,  2.27s/it]\n",
            "100%|██████████| 8/8 [00:18<00:00,  2.27s/it]\n",
            "100%|██████████| 8/8 [00:18<00:00,  2.27s/it]\n",
            "100%|██████████| 8/8 [00:18<00:00,  2.27s/it]\n",
            "100%|██████████| 8/8 [00:18<00:00,  2.27s/it]\n",
            "100%|██████████| 8/8 [00:18<00:00,  2.27s/it]\n",
            "100%|██████████| 8/8 [00:18<00:00,  2.27s/it]\n",
            "100%|██████████| 8/8 [00:18<00:00,  2.27s/it]\n",
            "100%|██████████| 8/8 [00:18<00:00,  2.27s/it]\n",
            "100%|██████████| 8/8 [00:18<00:00,  2.28s/it]\n",
            "100%|██████████| 8/8 [00:18<00:00,  2.27s/it]\n",
            "100%|██████████| 8/8 [00:18<00:00,  2.27s/it]\n",
            "100%|██████████| 8/8 [00:18<00:00,  2.27s/it]\n",
            "100%|██████████| 8/8 [00:18<00:00,  2.27s/it]\n",
            "100%|██████████| 8/8 [00:18<00:00,  2.27s/it]\n",
            "100%|██████████| 8/8 [00:18<00:00,  2.27s/it]\n",
            "100%|██████████| 8/8 [00:18<00:00,  2.27s/it]\n",
            "100%|██████████| 8/8 [00:18<00:00,  2.27s/it]\n",
            "100%|██████████| 8/8 [00:18<00:00,  2.27s/it]\n",
            "100%|██████████| 8/8 [00:18<00:00,  2.27s/it]\n",
            "100%|██████████| 8/8 [00:18<00:00,  2.27s/it]\n",
            "100%|██████████| 8/8 [00:18<00:00,  2.27s/it]\n",
            "100%|██████████| 8/8 [00:18<00:00,  2.27s/it]\n",
            "100%|██████████| 8/8 [00:18<00:00,  2.27s/it]\n",
            "100%|██████████| 8/8 [00:18<00:00,  2.27s/it]\n",
            " 12%|█▎        | 1/8 [00:03<00:25,  3.68s/it]"
          ],
          "name": "stderr"
        },
        {
          "output_type": "stream",
          "text": [
            "Epoch: 125/1000, Step: 21000, D Loss: 0.2386, G Loss: 3.2043, gp: 0.1412, Time:14:51:58\n"
          ],
          "name": "stdout"
        },
        {
          "output_type": "stream",
          "text": [
            "100%|██████████| 8/8 [00:19<00:00,  2.39s/it]\n",
            "100%|██████████| 8/8 [00:18<00:00,  2.27s/it]\n",
            "100%|██████████| 8/8 [00:18<00:00,  2.27s/it]\n",
            "100%|██████████| 8/8 [00:18<00:00,  2.27s/it]\n",
            "100%|██████████| 8/8 [00:18<00:00,  2.27s/it]\n",
            "100%|██████████| 8/8 [00:18<00:00,  2.27s/it]\n",
            "100%|██████████| 8/8 [00:18<00:00,  2.27s/it]\n",
            "100%|██████████| 8/8 [00:18<00:00,  2.27s/it]\n",
            "100%|██████████| 8/8 [00:18<00:00,  2.27s/it]\n",
            "100%|██████████| 8/8 [00:18<00:00,  2.27s/it]\n",
            "100%|██████████| 8/8 [00:18<00:00,  2.27s/it]\n",
            "100%|██████████| 8/8 [00:18<00:00,  2.27s/it]\n",
            "100%|██████████| 8/8 [00:18<00:00,  2.27s/it]\n",
            "100%|██████████| 8/8 [00:18<00:00,  2.27s/it]\n",
            "100%|██████████| 8/8 [00:18<00:00,  2.27s/it]\n",
            "100%|██████████| 8/8 [00:18<00:00,  2.27s/it]\n",
            "100%|██████████| 8/8 [00:18<00:00,  2.27s/it]\n",
            "100%|██████████| 8/8 [00:18<00:00,  2.27s/it]\n",
            "100%|██████████| 8/8 [00:18<00:00,  2.27s/it]\n",
            "100%|██████████| 8/8 [00:18<00:00,  2.27s/it]\n",
            "100%|██████████| 8/8 [00:18<00:00,  2.27s/it]\n",
            "100%|██████████| 8/8 [00:18<00:00,  2.27s/it]\n",
            "100%|██████████| 8/8 [00:18<00:00,  2.28s/it]\n",
            "100%|██████████| 8/8 [00:18<00:00,  2.27s/it]\n",
            "100%|██████████| 8/8 [00:18<00:00,  2.27s/it]\n",
            "100%|██████████| 8/8 [00:18<00:00,  2.27s/it]\n",
            "100%|██████████| 8/8 [00:18<00:00,  2.27s/it]\n",
            "100%|██████████| 8/8 [00:18<00:00,  2.27s/it]\n",
            "100%|██████████| 8/8 [00:18<00:00,  2.27s/it]\n",
            "100%|██████████| 8/8 [00:18<00:00,  2.27s/it]\n",
            "100%|██████████| 8/8 [00:18<00:00,  2.27s/it]\n",
            "100%|██████████| 8/8 [00:18<00:00,  2.27s/it]\n",
            "100%|██████████| 8/8 [00:18<00:00,  2.28s/it]\n",
            "100%|██████████| 8/8 [00:18<00:00,  2.28s/it]\n",
            "100%|██████████| 8/8 [00:18<00:00,  2.28s/it]\n",
            "100%|██████████| 8/8 [00:18<00:00,  2.27s/it]\n",
            "100%|██████████| 8/8 [00:18<00:00,  2.27s/it]\n",
            "100%|██████████| 8/8 [00:18<00:00,  2.27s/it]\n",
            "100%|██████████| 8/8 [00:18<00:00,  2.27s/it]\n",
            "100%|██████████| 8/8 [00:18<00:00,  2.27s/it]\n",
            "100%|██████████| 8/8 [00:18<00:00,  2.27s/it]\n",
            "100%|██████████| 8/8 [00:18<00:00,  2.27s/it]\n",
            "100%|██████████| 8/8 [00:18<00:00,  2.27s/it]\n",
            "100%|██████████| 8/8 [00:18<00:00,  2.27s/it]\n",
            "100%|██████████| 8/8 [00:18<00:00,  2.27s/it]\n",
            "100%|██████████| 8/8 [00:18<00:00,  2.27s/it]\n",
            "100%|██████████| 8/8 [00:18<00:00,  2.27s/it]\n",
            "100%|██████████| 8/8 [00:18<00:00,  2.27s/it]\n",
            "100%|██████████| 8/8 [00:18<00:00,  2.27s/it]\n",
            "100%|██████████| 8/8 [00:18<00:00,  2.27s/it]\n",
            "100%|██████████| 8/8 [00:18<00:00,  2.27s/it]\n",
            "100%|██████████| 8/8 [00:18<00:00,  2.28s/it]\n",
            "100%|██████████| 8/8 [00:18<00:00,  2.28s/it]\n",
            "100%|██████████| 8/8 [00:18<00:00,  2.28s/it]\n",
            "100%|██████████| 8/8 [00:18<00:00,  2.27s/it]\n",
            "100%|██████████| 8/8 [00:18<00:00,  2.27s/it]\n",
            "100%|██████████| 8/8 [00:18<00:00,  2.27s/it]\n",
            "100%|██████████| 8/8 [00:18<00:00,  2.27s/it]\n",
            "100%|██████████| 8/8 [00:18<00:00,  2.27s/it]\n",
            "100%|██████████| 8/8 [00:18<00:00,  2.27s/it]\n",
            "100%|██████████| 8/8 [00:18<00:00,  2.27s/it]\n",
            "100%|██████████| 8/8 [00:18<00:00,  2.27s/it]\n",
            "100%|██████████| 8/8 [00:18<00:00,  2.27s/it]\n",
            "100%|██████████| 8/8 [00:18<00:00,  2.27s/it]\n",
            "100%|██████████| 8/8 [00:18<00:00,  2.28s/it]\n",
            "100%|██████████| 8/8 [00:18<00:00,  2.28s/it]\n",
            "100%|██████████| 8/8 [00:18<00:00,  2.27s/it]\n",
            "100%|██████████| 8/8 [00:18<00:00,  2.27s/it]\n",
            "100%|██████████| 8/8 [00:18<00:00,  2.27s/it]\n",
            "100%|██████████| 8/8 [00:18<00:00,  2.27s/it]\n",
            "100%|██████████| 8/8 [00:18<00:00,  2.27s/it]\n",
            "100%|██████████| 8/8 [00:18<00:00,  2.27s/it]\n",
            "100%|██████████| 8/8 [00:18<00:00,  2.27s/it]\n",
            "100%|██████████| 8/8 [00:18<00:00,  2.27s/it]\n",
            "100%|██████████| 8/8 [00:18<00:00,  2.27s/it]\n",
            "100%|██████████| 8/8 [00:18<00:00,  2.27s/it]\n",
            "100%|██████████| 8/8 [00:18<00:00,  2.27s/it]\n",
            "100%|██████████| 8/8 [00:18<00:00,  2.28s/it]\n",
            "100%|██████████| 8/8 [00:18<00:00,  2.28s/it]\n",
            "100%|██████████| 8/8 [00:18<00:00,  2.28s/it]\n",
            "100%|██████████| 8/8 [00:18<00:00,  2.27s/it]\n",
            "100%|██████████| 8/8 [00:18<00:00,  2.28s/it]\n",
            "100%|██████████| 8/8 [00:18<00:00,  2.28s/it]\n",
            "100%|██████████| 8/8 [00:18<00:00,  2.27s/it]\n",
            "100%|██████████| 8/8 [00:18<00:00,  2.27s/it]\n",
            "100%|██████████| 8/8 [00:18<00:00,  2.27s/it]\n",
            "100%|██████████| 8/8 [00:18<00:00,  2.27s/it]\n",
            "100%|██████████| 8/8 [00:18<00:00,  2.27s/it]\n",
            "100%|██████████| 8/8 [00:18<00:00,  2.28s/it]\n",
            "100%|██████████| 8/8 [00:18<00:00,  2.28s/it]\n",
            "100%|██████████| 8/8 [00:18<00:00,  2.28s/it]\n",
            "100%|██████████| 8/8 [00:18<00:00,  2.28s/it]\n",
            "100%|██████████| 8/8 [00:18<00:00,  2.27s/it]\n",
            "100%|██████████| 8/8 [00:18<00:00,  2.27s/it]\n",
            "100%|██████████| 8/8 [00:18<00:00,  2.27s/it]\n",
            "100%|██████████| 8/8 [00:18<00:00,  2.27s/it]\n",
            "100%|██████████| 8/8 [00:18<00:00,  2.27s/it]\n",
            "100%|██████████| 8/8 [00:18<00:00,  2.27s/it]\n",
            "100%|██████████| 8/8 [00:18<00:00,  2.27s/it]\n",
            "100%|██████████| 8/8 [00:18<00:00,  2.28s/it]\n",
            "100%|██████████| 8/8 [00:18<00:00,  2.28s/it]\n",
            "100%|██████████| 8/8 [00:18<00:00,  2.27s/it]\n",
            "100%|██████████| 8/8 [00:18<00:00,  2.27s/it]\n",
            "100%|██████████| 8/8 [00:18<00:00,  2.27s/it]\n",
            "100%|██████████| 8/8 [00:18<00:00,  2.27s/it]\n",
            "100%|██████████| 8/8 [00:18<00:00,  2.27s/it]\n",
            "100%|██████████| 8/8 [00:18<00:00,  2.28s/it]\n",
            "100%|██████████| 8/8 [00:18<00:00,  2.28s/it]\n",
            "100%|██████████| 8/8 [00:18<00:00,  2.27s/it]\n",
            "100%|██████████| 8/8 [00:18<00:00,  2.27s/it]\n",
            "100%|██████████| 8/8 [00:18<00:00,  2.27s/it]\n",
            "100%|██████████| 8/8 [00:18<00:00,  2.27s/it]\n",
            "100%|██████████| 8/8 [00:18<00:00,  2.27s/it]\n",
            "100%|██████████| 8/8 [00:18<00:00,  2.28s/it]\n",
            "100%|██████████| 8/8 [00:18<00:00,  2.28s/it]\n",
            "100%|██████████| 8/8 [00:18<00:00,  2.27s/it]\n",
            "100%|██████████| 8/8 [00:18<00:00,  2.27s/it]\n",
            "100%|██████████| 8/8 [00:18<00:00,  2.27s/it]\n",
            "100%|██████████| 8/8 [00:18<00:00,  2.28s/it]\n",
            "100%|██████████| 8/8 [00:18<00:00,  2.28s/it]\n",
            "100%|██████████| 8/8 [00:18<00:00,  2.27s/it]\n",
            "100%|██████████| 8/8 [00:18<00:00,  2.27s/it]\n",
            "100%|██████████| 8/8 [00:18<00:00,  2.27s/it]\n",
            "100%|██████████| 8/8 [00:18<00:00,  2.27s/it]\n",
            "100%|██████████| 8/8 [00:18<00:00,  2.27s/it]\n",
            " 12%|█▎        | 1/8 [00:03<00:25,  3.67s/it]"
          ],
          "name": "stderr"
        },
        {
          "output_type": "stream",
          "text": [
            "Epoch: 250/1000, Step: 22000, D Loss: 0.2615, G Loss: 3.3037, gp: 0.1391, Time:15:29:52\n"
          ],
          "name": "stdout"
        },
        {
          "output_type": "stream",
          "text": [
            "100%|██████████| 8/8 [00:19<00:00,  2.39s/it]\n",
            "100%|██████████| 8/8 [00:18<00:00,  2.27s/it]\n",
            "100%|██████████| 8/8 [00:18<00:00,  2.27s/it]\n",
            "100%|██████████| 8/8 [00:18<00:00,  2.27s/it]\n",
            "100%|██████████| 8/8 [00:18<00:00,  2.28s/it]\n",
            "100%|██████████| 8/8 [00:18<00:00,  2.28s/it]\n",
            "100%|██████████| 8/8 [00:18<00:00,  2.28s/it]\n",
            "100%|██████████| 8/8 [00:18<00:00,  2.27s/it]\n",
            "100%|██████████| 8/8 [00:18<00:00,  2.28s/it]\n",
            "100%|██████████| 8/8 [00:18<00:00,  2.27s/it]\n",
            "100%|██████████| 8/8 [00:18<00:00,  2.27s/it]\n",
            "100%|██████████| 8/8 [00:18<00:00,  2.26s/it]\n",
            "100%|██████████| 8/8 [00:18<00:00,  2.27s/it]\n",
            "100%|██████████| 8/8 [00:18<00:00,  2.28s/it]\n",
            "100%|██████████| 8/8 [00:18<00:00,  2.27s/it]\n",
            "100%|██████████| 8/8 [00:18<00:00,  2.27s/it]\n",
            "100%|██████████| 8/8 [00:18<00:00,  2.27s/it]\n",
            "100%|██████████| 8/8 [00:18<00:00,  2.27s/it]\n",
            "100%|██████████| 8/8 [00:18<00:00,  2.27s/it]\n",
            "100%|██████████| 8/8 [00:18<00:00,  2.27s/it]\n",
            "100%|██████████| 8/8 [00:18<00:00,  2.27s/it]\n",
            "100%|██████████| 8/8 [00:18<00:00,  2.27s/it]\n",
            "100%|██████████| 8/8 [00:18<00:00,  2.27s/it]\n",
            "100%|██████████| 8/8 [00:18<00:00,  2.27s/it]\n",
            "100%|██████████| 8/8 [00:18<00:00,  2.27s/it]\n",
            "100%|██████████| 8/8 [00:18<00:00,  2.28s/it]\n",
            "100%|██████████| 8/8 [00:18<00:00,  2.28s/it]\n",
            "100%|██████████| 8/8 [00:18<00:00,  2.28s/it]\n",
            "100%|██████████| 8/8 [00:18<00:00,  2.27s/it]\n",
            "100%|██████████| 8/8 [00:18<00:00,  2.27s/it]\n",
            "100%|██████████| 8/8 [00:18<00:00,  2.27s/it]\n",
            "100%|██████████| 8/8 [00:18<00:00,  2.27s/it]\n",
            "100%|██████████| 8/8 [00:18<00:00,  2.27s/it]\n",
            "100%|██████████| 8/8 [00:18<00:00,  2.27s/it]\n",
            "100%|██████████| 8/8 [00:18<00:00,  2.27s/it]\n",
            "100%|██████████| 8/8 [00:18<00:00,  2.27s/it]\n",
            "100%|██████████| 8/8 [00:18<00:00,  2.28s/it]\n",
            "100%|██████████| 8/8 [00:18<00:00,  2.28s/it]\n",
            "100%|██████████| 8/8 [00:18<00:00,  2.27s/it]\n",
            "100%|██████████| 8/8 [00:18<00:00,  2.27s/it]\n",
            "100%|██████████| 8/8 [00:18<00:00,  2.27s/it]\n",
            "100%|██████████| 8/8 [00:18<00:00,  2.27s/it]\n",
            "100%|██████████| 8/8 [00:18<00:00,  2.27s/it]\n",
            "100%|██████████| 8/8 [00:18<00:00,  2.27s/it]\n",
            "100%|██████████| 8/8 [00:18<00:00,  2.27s/it]\n",
            "100%|██████████| 8/8 [00:18<00:00,  2.27s/it]\n",
            "100%|██████████| 8/8 [00:18<00:00,  2.27s/it]\n",
            "100%|██████████| 8/8 [00:18<00:00,  2.27s/it]\n",
            "100%|██████████| 8/8 [00:18<00:00,  2.27s/it]\n",
            "100%|██████████| 8/8 [00:18<00:00,  2.27s/it]\n",
            "100%|██████████| 8/8 [00:18<00:00,  2.27s/it]\n",
            "100%|██████████| 8/8 [00:18<00:00,  2.27s/it]\n",
            "100%|██████████| 8/8 [00:18<00:00,  2.27s/it]\n",
            "100%|██████████| 8/8 [00:18<00:00,  2.27s/it]\n",
            "100%|██████████| 8/8 [00:18<00:00,  2.28s/it]\n",
            "100%|██████████| 8/8 [00:18<00:00,  2.27s/it]\n",
            "100%|██████████| 8/8 [00:18<00:00,  2.27s/it]\n",
            "100%|██████████| 8/8 [00:18<00:00,  2.27s/it]\n",
            "100%|██████████| 8/8 [00:18<00:00,  2.27s/it]\n",
            "100%|██████████| 8/8 [00:18<00:00,  2.27s/it]\n",
            "100%|██████████| 8/8 [00:18<00:00,  2.27s/it]\n",
            "100%|██████████| 8/8 [00:18<00:00,  2.27s/it]\n",
            "100%|██████████| 8/8 [00:18<00:00,  2.27s/it]\n",
            "100%|██████████| 8/8 [00:18<00:00,  2.27s/it]\n",
            "100%|██████████| 8/8 [00:18<00:00,  2.27s/it]\n",
            "100%|██████████| 8/8 [00:18<00:00,  2.27s/it]\n",
            "100%|██████████| 8/8 [00:18<00:00,  2.27s/it]\n",
            "100%|██████████| 8/8 [00:18<00:00,  2.27s/it]\n",
            "100%|██████████| 8/8 [00:18<00:00,  2.27s/it]\n",
            "100%|██████████| 8/8 [00:18<00:00,  2.27s/it]\n",
            "100%|██████████| 8/8 [00:18<00:00,  2.27s/it]\n",
            "100%|██████████| 8/8 [00:18<00:00,  2.27s/it]\n",
            "100%|██████████| 8/8 [00:18<00:00,  2.27s/it]\n",
            "100%|██████████| 8/8 [00:18<00:00,  2.27s/it]\n",
            "100%|██████████| 8/8 [00:18<00:00,  2.27s/it]\n",
            "100%|██████████| 8/8 [00:18<00:00,  2.27s/it]\n",
            "100%|██████████| 8/8 [00:18<00:00,  2.27s/it]\n",
            "100%|██████████| 8/8 [00:18<00:00,  2.27s/it]\n",
            "100%|██████████| 8/8 [00:18<00:00,  2.27s/it]\n",
            "100%|██████████| 8/8 [00:18<00:00,  2.27s/it]\n",
            "100%|██████████| 8/8 [00:18<00:00,  2.28s/it]\n",
            "100%|██████████| 8/8 [00:18<00:00,  2.27s/it]\n",
            "100%|██████████| 8/8 [00:18<00:00,  2.27s/it]\n",
            "100%|██████████| 8/8 [00:18<00:00,  2.27s/it]\n",
            "100%|██████████| 8/8 [00:18<00:00,  2.27s/it]\n",
            "100%|██████████| 8/8 [00:18<00:00,  2.27s/it]\n",
            "100%|██████████| 8/8 [00:18<00:00,  2.27s/it]\n",
            "100%|██████████| 8/8 [00:18<00:00,  2.27s/it]\n",
            "100%|██████████| 8/8 [00:18<00:00,  2.27s/it]\n",
            "100%|██████████| 8/8 [00:18<00:00,  2.27s/it]\n",
            "100%|██████████| 8/8 [00:18<00:00,  2.27s/it]\n",
            "100%|██████████| 8/8 [00:18<00:00,  2.27s/it]\n",
            "100%|██████████| 8/8 [00:18<00:00,  2.27s/it]\n",
            "100%|██████████| 8/8 [00:18<00:00,  2.28s/it]\n",
            "100%|██████████| 8/8 [00:18<00:00,  2.28s/it]\n",
            "100%|██████████| 8/8 [00:18<00:00,  2.27s/it]\n",
            "100%|██████████| 8/8 [00:18<00:00,  2.28s/it]\n",
            "100%|██████████| 8/8 [00:18<00:00,  2.27s/it]\n",
            "100%|██████████| 8/8 [00:18<00:00,  2.27s/it]\n",
            "100%|██████████| 8/8 [00:18<00:00,  2.27s/it]\n",
            "100%|██████████| 8/8 [00:18<00:00,  2.27s/it]\n",
            "100%|██████████| 8/8 [00:18<00:00,  2.28s/it]\n",
            "100%|██████████| 8/8 [00:18<00:00,  2.27s/it]\n",
            "100%|██████████| 8/8 [00:18<00:00,  2.27s/it]\n",
            "100%|██████████| 8/8 [00:18<00:00,  2.27s/it]\n",
            "100%|██████████| 8/8 [00:18<00:00,  2.27s/it]\n",
            "100%|██████████| 8/8 [00:18<00:00,  2.27s/it]\n",
            "100%|██████████| 8/8 [00:18<00:00,  2.27s/it]\n",
            "100%|██████████| 8/8 [00:18<00:00,  2.27s/it]\n",
            "100%|██████████| 8/8 [00:18<00:00,  2.27s/it]\n",
            "100%|██████████| 8/8 [00:18<00:00,  2.27s/it]\n",
            "100%|██████████| 8/8 [00:18<00:00,  2.27s/it]\n",
            "100%|██████████| 8/8 [00:18<00:00,  2.27s/it]\n",
            "100%|██████████| 8/8 [00:18<00:00,  2.27s/it]\n",
            "100%|██████████| 8/8 [00:18<00:00,  2.28s/it]\n",
            "100%|██████████| 8/8 [00:18<00:00,  2.28s/it]\n",
            "100%|██████████| 8/8 [00:18<00:00,  2.27s/it]\n",
            "100%|██████████| 8/8 [00:18<00:00,  2.27s/it]\n",
            "100%|██████████| 8/8 [00:18<00:00,  2.27s/it]\n",
            "100%|██████████| 8/8 [00:18<00:00,  2.27s/it]\n",
            "100%|██████████| 8/8 [00:18<00:00,  2.27s/it]\n",
            "100%|██████████| 8/8 [00:18<00:00,  2.27s/it]\n",
            "100%|██████████| 8/8 [00:18<00:00,  2.27s/it]\n",
            "100%|██████████| 8/8 [00:18<00:00,  2.27s/it]\n",
            "100%|██████████| 8/8 [00:18<00:00,  2.27s/it]\n",
            " 12%|█▎        | 1/8 [00:03<00:25,  3.67s/it]"
          ],
          "name": "stderr"
        },
        {
          "output_type": "stream",
          "text": [
            "Epoch: 375/1000, Step: 23000, D Loss: 0.2320, G Loss: 3.4464, gp: 0.1327, Time:16:07:45\n"
          ],
          "name": "stdout"
        },
        {
          "output_type": "stream",
          "text": [
            "100%|██████████| 8/8 [00:19<00:00,  2.39s/it]\n",
            "100%|██████████| 8/8 [00:18<00:00,  2.27s/it]\n",
            "100%|██████████| 8/8 [00:18<00:00,  2.28s/it]\n",
            "100%|██████████| 8/8 [00:18<00:00,  2.28s/it]\n",
            "100%|██████████| 8/8 [00:18<00:00,  2.27s/it]\n",
            "100%|██████████| 8/8 [00:18<00:00,  2.27s/it]\n",
            "100%|██████████| 8/8 [00:18<00:00,  2.27s/it]\n",
            "100%|██████████| 8/8 [00:18<00:00,  2.27s/it]\n",
            "100%|██████████| 8/8 [00:18<00:00,  2.27s/it]\n",
            "100%|██████████| 8/8 [00:18<00:00,  2.27s/it]\n",
            "100%|██████████| 8/8 [00:18<00:00,  2.27s/it]\n",
            "100%|██████████| 8/8 [00:18<00:00,  2.28s/it]\n",
            "100%|██████████| 8/8 [00:18<00:00,  2.27s/it]\n",
            "100%|██████████| 8/8 [00:18<00:00,  2.27s/it]\n",
            "100%|██████████| 8/8 [00:18<00:00,  2.27s/it]\n",
            "100%|██████████| 8/8 [00:18<00:00,  2.27s/it]\n",
            "100%|██████████| 8/8 [00:18<00:00,  2.27s/it]\n",
            "100%|██████████| 8/8 [00:18<00:00,  2.27s/it]\n",
            "100%|██████████| 8/8 [00:18<00:00,  2.27s/it]\n",
            "100%|██████████| 8/8 [00:18<00:00,  2.27s/it]\n",
            "100%|██████████| 8/8 [00:18<00:00,  2.27s/it]\n",
            "100%|██████████| 8/8 [00:18<00:00,  2.27s/it]\n",
            "100%|██████████| 8/8 [00:18<00:00,  2.27s/it]\n",
            "100%|██████████| 8/8 [00:18<00:00,  2.27s/it]\n",
            "100%|██████████| 8/8 [00:18<00:00,  2.27s/it]\n",
            "100%|██████████| 8/8 [00:18<00:00,  2.27s/it]\n",
            "100%|██████████| 8/8 [00:18<00:00,  2.27s/it]\n",
            "100%|██████████| 8/8 [00:18<00:00,  2.27s/it]\n",
            "100%|██████████| 8/8 [00:18<00:00,  2.27s/it]\n",
            "100%|██████████| 8/8 [00:18<00:00,  2.27s/it]\n",
            "100%|██████████| 8/8 [00:18<00:00,  2.27s/it]\n",
            "100%|██████████| 8/8 [00:18<00:00,  2.27s/it]\n",
            "100%|██████████| 8/8 [00:18<00:00,  2.27s/it]\n",
            "100%|██████████| 8/8 [00:18<00:00,  2.28s/it]\n",
            "100%|██████████| 8/8 [00:18<00:00,  2.27s/it]\n",
            "100%|██████████| 8/8 [00:18<00:00,  2.27s/it]\n",
            "100%|██████████| 8/8 [00:18<00:00,  2.27s/it]\n",
            "100%|██████████| 8/8 [00:18<00:00,  2.27s/it]\n",
            "100%|██████████| 8/8 [00:18<00:00,  2.27s/it]\n",
            "100%|██████████| 8/8 [00:18<00:00,  2.27s/it]\n",
            "100%|██████████| 8/8 [00:18<00:00,  2.27s/it]\n",
            "100%|██████████| 8/8 [00:18<00:00,  2.27s/it]\n",
            "100%|██████████| 8/8 [00:18<00:00,  2.28s/it]\n",
            "100%|██████████| 8/8 [00:18<00:00,  2.28s/it]\n",
            "100%|██████████| 8/8 [00:18<00:00,  2.27s/it]\n",
            "100%|██████████| 8/8 [00:18<00:00,  2.27s/it]\n",
            "100%|██████████| 8/8 [00:18<00:00,  2.27s/it]\n",
            "100%|██████████| 8/8 [00:18<00:00,  2.27s/it]\n",
            "100%|██████████| 8/8 [00:18<00:00,  2.27s/it]\n",
            "100%|██████████| 8/8 [00:18<00:00,  2.27s/it]\n",
            "100%|██████████| 8/8 [00:18<00:00,  2.27s/it]\n",
            "100%|██████████| 8/8 [00:18<00:00,  2.27s/it]\n",
            "100%|██████████| 8/8 [00:18<00:00,  2.27s/it]\n",
            "100%|██████████| 8/8 [00:18<00:00,  2.27s/it]\n",
            "100%|██████████| 8/8 [00:18<00:00,  2.27s/it]\n",
            "100%|██████████| 8/8 [00:18<00:00,  2.27s/it]\n",
            "100%|██████████| 8/8 [00:18<00:00,  2.27s/it]\n",
            "100%|██████████| 8/8 [00:18<00:00,  2.27s/it]\n",
            "100%|██████████| 8/8 [00:18<00:00,  2.27s/it]\n",
            "100%|██████████| 8/8 [00:18<00:00,  2.27s/it]\n",
            "100%|██████████| 8/8 [00:18<00:00,  2.27s/it]\n",
            "100%|██████████| 8/8 [00:18<00:00,  2.27s/it]\n",
            "100%|██████████| 8/8 [00:18<00:00,  2.27s/it]\n",
            "100%|██████████| 8/8 [00:18<00:00,  2.28s/it]\n",
            "100%|██████████| 8/8 [00:18<00:00,  2.27s/it]\n",
            "100%|██████████| 8/8 [00:18<00:00,  2.27s/it]\n",
            "100%|██████████| 8/8 [00:18<00:00,  2.27s/it]\n",
            "100%|██████████| 8/8 [00:18<00:00,  2.27s/it]\n",
            "100%|██████████| 8/8 [00:18<00:00,  2.27s/it]\n",
            "100%|██████████| 8/8 [00:18<00:00,  2.27s/it]\n",
            "100%|██████████| 8/8 [00:18<00:00,  2.27s/it]\n",
            "100%|██████████| 8/8 [00:18<00:00,  2.27s/it]\n",
            "100%|██████████| 8/8 [00:18<00:00,  2.27s/it]\n",
            "100%|██████████| 8/8 [00:18<00:00,  2.27s/it]\n",
            "100%|██████████| 8/8 [00:18<00:00,  2.27s/it]\n",
            "100%|██████████| 8/8 [00:18<00:00,  2.27s/it]\n",
            "100%|██████████| 8/8 [00:18<00:00,  2.27s/it]\n",
            "100%|██████████| 8/8 [00:18<00:00,  2.27s/it]\n",
            "100%|██████████| 8/8 [00:18<00:00,  2.27s/it]\n",
            "100%|██████████| 8/8 [00:18<00:00,  2.27s/it]\n",
            "100%|██████████| 8/8 [00:18<00:00,  2.27s/it]\n",
            "100%|██████████| 8/8 [00:18<00:00,  2.27s/it]\n",
            "100%|██████████| 8/8 [00:18<00:00,  2.27s/it]\n",
            "100%|██████████| 8/8 [00:18<00:00,  2.27s/it]\n",
            "100%|██████████| 8/8 [00:18<00:00,  2.27s/it]\n",
            "100%|██████████| 8/8 [00:18<00:00,  2.27s/it]\n",
            "100%|██████████| 8/8 [00:18<00:00,  2.27s/it]\n",
            "100%|██████████| 8/8 [00:18<00:00,  2.27s/it]\n",
            "100%|██████████| 8/8 [00:18<00:00,  2.27s/it]\n",
            "100%|██████████| 8/8 [00:18<00:00,  2.27s/it]\n",
            "100%|██████████| 8/8 [00:18<00:00,  2.27s/it]\n",
            "100%|██████████| 8/8 [00:18<00:00,  2.27s/it]\n",
            "100%|██████████| 8/8 [00:18<00:00,  2.27s/it]\n",
            "100%|██████████| 8/8 [00:18<00:00,  2.27s/it]\n",
            "100%|██████████| 8/8 [00:18<00:00,  2.27s/it]\n",
            "100%|██████████| 8/8 [00:18<00:00,  2.27s/it]\n",
            "100%|██████████| 8/8 [00:18<00:00,  2.27s/it]\n",
            "100%|██████████| 8/8 [00:18<00:00,  2.27s/it]\n",
            "100%|██████████| 8/8 [00:18<00:00,  2.27s/it]\n",
            "100%|██████████| 8/8 [00:18<00:00,  2.27s/it]\n",
            "100%|██████████| 8/8 [00:18<00:00,  2.27s/it]\n",
            "100%|██████████| 8/8 [00:18<00:00,  2.27s/it]\n",
            "100%|██████████| 8/8 [00:18<00:00,  2.27s/it]\n",
            "100%|██████████| 8/8 [00:18<00:00,  2.27s/it]\n",
            "100%|██████████| 8/8 [00:18<00:00,  2.27s/it]\n",
            "100%|██████████| 8/8 [00:18<00:00,  2.28s/it]\n",
            "100%|██████████| 8/8 [00:18<00:00,  2.27s/it]\n",
            "100%|██████████| 8/8 [00:18<00:00,  2.27s/it]\n",
            "100%|██████████| 8/8 [00:18<00:00,  2.27s/it]\n",
            "100%|██████████| 8/8 [00:18<00:00,  2.27s/it]\n",
            "100%|██████████| 8/8 [00:18<00:00,  2.28s/it]\n",
            "100%|██████████| 8/8 [00:18<00:00,  2.27s/it]\n",
            "100%|██████████| 8/8 [00:18<00:00,  2.27s/it]\n",
            "100%|██████████| 8/8 [00:18<00:00,  2.27s/it]\n",
            "100%|██████████| 8/8 [00:18<00:00,  2.27s/it]\n",
            "100%|██████████| 8/8 [00:18<00:00,  2.28s/it]\n",
            "100%|██████████| 8/8 [00:18<00:00,  2.27s/it]\n",
            "100%|██████████| 8/8 [00:18<00:00,  2.27s/it]\n",
            "100%|██████████| 8/8 [00:18<00:00,  2.27s/it]\n",
            "100%|██████████| 8/8 [00:18<00:00,  2.27s/it]\n",
            "100%|██████████| 8/8 [00:18<00:00,  2.27s/it]\n",
            "100%|██████████| 8/8 [00:18<00:00,  2.27s/it]\n",
            "100%|██████████| 8/8 [00:18<00:00,  2.27s/it]\n",
            "100%|██████████| 8/8 [00:18<00:00,  2.27s/it]\n",
            "100%|██████████| 8/8 [00:18<00:00,  2.27s/it]\n",
            " 12%|█▎        | 1/8 [00:03<00:26,  3.74s/it]"
          ],
          "name": "stderr"
        },
        {
          "output_type": "stream",
          "text": [
            "Epoch: 500/1000, Step: 24000, D Loss: 0.9313, G Loss: 1.4648, gp: 0.0430, Time:16:45:37\n"
          ],
          "name": "stdout"
        },
        {
          "output_type": "stream",
          "text": [
            "100%|██████████| 8/8 [00:19<00:00,  2.40s/it]\n",
            "100%|██████████| 8/8 [00:18<00:00,  2.28s/it]\n",
            "100%|██████████| 8/8 [00:18<00:00,  2.28s/it]\n",
            "100%|██████████| 8/8 [00:18<00:00,  2.27s/it]\n",
            "100%|██████████| 8/8 [00:18<00:00,  2.27s/it]\n",
            "100%|██████████| 8/8 [00:18<00:00,  2.27s/it]\n",
            "100%|██████████| 8/8 [00:18<00:00,  2.27s/it]\n",
            "100%|██████████| 8/8 [00:18<00:00,  2.27s/it]\n",
            "100%|██████████| 8/8 [00:18<00:00,  2.27s/it]\n",
            "100%|██████████| 8/8 [00:18<00:00,  2.27s/it]\n",
            "100%|██████████| 8/8 [00:18<00:00,  2.27s/it]\n",
            "100%|██████████| 8/8 [00:18<00:00,  2.27s/it]\n",
            "100%|██████████| 8/8 [00:18<00:00,  2.27s/it]\n",
            "100%|██████████| 8/8 [00:18<00:00,  2.27s/it]\n",
            "100%|██████████| 8/8 [00:18<00:00,  2.27s/it]\n",
            "100%|██████████| 8/8 [00:18<00:00,  2.27s/it]\n",
            "100%|██████████| 8/8 [00:18<00:00,  2.27s/it]\n",
            "100%|██████████| 8/8 [00:18<00:00,  2.27s/it]\n",
            "100%|██████████| 8/8 [00:18<00:00,  2.27s/it]\n",
            "100%|██████████| 8/8 [00:18<00:00,  2.27s/it]\n",
            "100%|██████████| 8/8 [00:18<00:00,  2.27s/it]\n",
            "100%|██████████| 8/8 [00:18<00:00,  2.27s/it]\n",
            "100%|██████████| 8/8 [00:18<00:00,  2.27s/it]\n",
            "100%|██████████| 8/8 [00:18<00:00,  2.27s/it]\n",
            "100%|██████████| 8/8 [00:18<00:00,  2.27s/it]\n",
            "100%|██████████| 8/8 [00:18<00:00,  2.27s/it]\n",
            "100%|██████████| 8/8 [00:18<00:00,  2.27s/it]\n",
            "100%|██████████| 8/8 [00:18<00:00,  2.27s/it]\n",
            "100%|██████████| 8/8 [00:18<00:00,  2.27s/it]\n",
            "100%|██████████| 8/8 [00:18<00:00,  2.27s/it]\n",
            "100%|██████████| 8/8 [00:18<00:00,  2.28s/it]\n",
            "100%|██████████| 8/8 [00:18<00:00,  2.28s/it]\n",
            "100%|██████████| 8/8 [00:18<00:00,  2.27s/it]\n",
            "100%|██████████| 8/8 [00:18<00:00,  2.27s/it]\n",
            "100%|██████████| 8/8 [00:18<00:00,  2.27s/it]\n",
            "100%|██████████| 8/8 [00:18<00:00,  2.27s/it]\n",
            "100%|██████████| 8/8 [00:18<00:00,  2.27s/it]\n",
            "100%|██████████| 8/8 [00:18<00:00,  2.27s/it]\n",
            "100%|██████████| 8/8 [00:18<00:00,  2.27s/it]\n",
            "100%|██████████| 8/8 [00:18<00:00,  2.28s/it]\n",
            "100%|██████████| 8/8 [00:18<00:00,  2.27s/it]\n",
            "100%|██████████| 8/8 [00:18<00:00,  2.27s/it]\n",
            "100%|██████████| 8/8 [00:18<00:00,  2.27s/it]\n",
            "100%|██████████| 8/8 [00:18<00:00,  2.27s/it]\n",
            "100%|██████████| 8/8 [00:18<00:00,  2.27s/it]\n",
            "100%|██████████| 8/8 [00:18<00:00,  2.27s/it]\n",
            "100%|██████████| 8/8 [00:18<00:00,  2.27s/it]\n",
            "100%|██████████| 8/8 [00:18<00:00,  2.27s/it]\n",
            "100%|██████████| 8/8 [00:18<00:00,  2.28s/it]\n",
            "100%|██████████| 8/8 [00:18<00:00,  2.27s/it]\n",
            "100%|██████████| 8/8 [00:18<00:00,  2.27s/it]\n",
            "100%|██████████| 8/8 [00:18<00:00,  2.27s/it]\n",
            "100%|██████████| 8/8 [00:18<00:00,  2.27s/it]\n",
            "100%|██████████| 8/8 [00:18<00:00,  2.27s/it]\n",
            "100%|██████████| 8/8 [00:18<00:00,  2.27s/it]\n",
            "100%|██████████| 8/8 [00:18<00:00,  2.27s/it]\n",
            "100%|██████████| 8/8 [00:18<00:00,  2.27s/it]\n",
            "100%|██████████| 8/8 [00:18<00:00,  2.27s/it]\n",
            "100%|██████████| 8/8 [00:18<00:00,  2.28s/it]\n",
            "100%|██████████| 8/8 [00:18<00:00,  2.27s/it]\n",
            "100%|██████████| 8/8 [00:18<00:00,  2.27s/it]\n",
            "100%|██████████| 8/8 [00:18<00:00,  2.28s/it]\n",
            "100%|██████████| 8/8 [00:18<00:00,  2.28s/it]\n",
            "100%|██████████| 8/8 [00:18<00:00,  2.27s/it]\n",
            "100%|██████████| 8/8 [00:18<00:00,  2.28s/it]\n",
            "100%|██████████| 8/8 [00:18<00:00,  2.27s/it]\n",
            "100%|██████████| 8/8 [00:18<00:00,  2.27s/it]\n",
            "100%|██████████| 8/8 [00:18<00:00,  2.27s/it]\n",
            "100%|██████████| 8/8 [00:18<00:00,  2.27s/it]\n",
            "100%|██████████| 8/8 [00:18<00:00,  2.27s/it]\n",
            "100%|██████████| 8/8 [00:18<00:00,  2.27s/it]\n",
            "100%|██████████| 8/8 [00:18<00:00,  2.27s/it]\n",
            "100%|██████████| 8/8 [00:18<00:00,  2.27s/it]\n",
            "100%|██████████| 8/8 [00:18<00:00,  2.27s/it]\n",
            "100%|██████████| 8/8 [00:18<00:00,  2.27s/it]\n",
            "100%|██████████| 8/8 [00:18<00:00,  2.27s/it]\n",
            "100%|██████████| 8/8 [00:18<00:00,  2.27s/it]\n",
            "100%|██████████| 8/8 [00:18<00:00,  2.27s/it]\n",
            "100%|██████████| 8/8 [00:18<00:00,  2.27s/it]\n",
            "100%|██████████| 8/8 [00:18<00:00,  2.27s/it]\n",
            "100%|██████████| 8/8 [00:18<00:00,  2.27s/it]\n",
            "100%|██████████| 8/8 [00:18<00:00,  2.27s/it]\n",
            "100%|██████████| 8/8 [00:18<00:00,  2.28s/it]\n",
            "100%|██████████| 8/8 [00:18<00:00,  2.27s/it]\n",
            "100%|██████████| 8/8 [00:18<00:00,  2.28s/it]\n",
            "100%|██████████| 8/8 [00:18<00:00,  2.27s/it]\n",
            "100%|██████████| 8/8 [00:18<00:00,  2.28s/it]\n",
            "100%|██████████| 8/8 [00:18<00:00,  2.27s/it]\n",
            "100%|██████████| 8/8 [00:18<00:00,  2.27s/it]\n",
            "100%|██████████| 8/8 [00:18<00:00,  2.27s/it]\n",
            "100%|██████████| 8/8 [00:18<00:00,  2.27s/it]\n",
            "100%|██████████| 8/8 [00:18<00:00,  2.27s/it]\n",
            "100%|██████████| 8/8 [00:18<00:00,  2.27s/it]\n",
            "100%|██████████| 8/8 [00:18<00:00,  2.27s/it]\n",
            "100%|██████████| 8/8 [00:18<00:00,  2.27s/it]\n",
            "100%|██████████| 8/8 [00:18<00:00,  2.27s/it]\n",
            "100%|██████████| 8/8 [00:18<00:00,  2.27s/it]\n",
            "100%|██████████| 8/8 [00:18<00:00,  2.27s/it]\n",
            "100%|██████████| 8/8 [00:18<00:00,  2.27s/it]\n",
            "100%|██████████| 8/8 [00:18<00:00,  2.27s/it]\n",
            "100%|██████████| 8/8 [00:18<00:00,  2.27s/it]\n",
            "100%|██████████| 8/8 [00:18<00:00,  2.27s/it]\n",
            "100%|██████████| 8/8 [00:18<00:00,  2.27s/it]\n",
            "100%|██████████| 8/8 [00:18<00:00,  2.28s/it]\n",
            "100%|██████████| 8/8 [00:18<00:00,  2.28s/it]\n",
            "100%|██████████| 8/8 [00:18<00:00,  2.27s/it]\n",
            "100%|██████████| 8/8 [00:18<00:00,  2.27s/it]\n",
            "100%|██████████| 8/8 [00:18<00:00,  2.27s/it]\n",
            "100%|██████████| 8/8 [00:18<00:00,  2.27s/it]\n",
            "100%|██████████| 8/8 [00:18<00:00,  2.27s/it]\n",
            "100%|██████████| 8/8 [00:18<00:00,  2.27s/it]\n",
            "100%|██████████| 8/8 [00:18<00:00,  2.27s/it]\n",
            "100%|██████████| 8/8 [00:18<00:00,  2.27s/it]\n",
            "100%|██████████| 8/8 [00:18<00:00,  2.27s/it]\n",
            "100%|██████████| 8/8 [00:18<00:00,  2.27s/it]\n",
            "100%|██████████| 8/8 [00:18<00:00,  2.27s/it]\n",
            "100%|██████████| 8/8 [00:18<00:00,  2.28s/it]\n",
            "100%|██████████| 8/8 [00:18<00:00,  2.27s/it]\n",
            "100%|██████████| 8/8 [00:18<00:00,  2.27s/it]\n",
            "100%|██████████| 8/8 [00:18<00:00,  2.27s/it]\n",
            "100%|██████████| 8/8 [00:18<00:00,  2.27s/it]\n",
            "100%|██████████| 8/8 [00:18<00:00,  2.27s/it]\n",
            "100%|██████████| 8/8 [00:18<00:00,  2.27s/it]\n",
            "100%|██████████| 8/8 [00:18<00:00,  2.27s/it]\n",
            "100%|██████████| 8/8 [00:18<00:00,  2.28s/it]\n",
            " 12%|█▎        | 1/8 [00:03<00:25,  3.70s/it]"
          ],
          "name": "stderr"
        },
        {
          "output_type": "stream",
          "text": [
            "Epoch: 625/1000, Step: 25000, D Loss: 0.2321, G Loss: 3.6763, gp: 0.1312, Time:17:23:31\n"
          ],
          "name": "stdout"
        },
        {
          "output_type": "stream",
          "text": [
            "100%|██████████| 8/8 [00:19<00:00,  2.39s/it]\n",
            "100%|██████████| 8/8 [00:18<00:00,  2.28s/it]\n",
            "100%|██████████| 8/8 [00:18<00:00,  2.28s/it]\n",
            "100%|██████████| 8/8 [00:18<00:00,  2.28s/it]\n",
            "100%|██████████| 8/8 [00:18<00:00,  2.27s/it]\n",
            "100%|██████████| 8/8 [00:18<00:00,  2.27s/it]\n",
            "100%|██████████| 8/8 [00:18<00:00,  2.27s/it]\n",
            "100%|██████████| 8/8 [00:18<00:00,  2.27s/it]\n",
            "100%|██████████| 8/8 [00:18<00:00,  2.27s/it]\n",
            "100%|██████████| 8/8 [00:18<00:00,  2.27s/it]\n",
            "100%|██████████| 8/8 [00:18<00:00,  2.27s/it]\n",
            "100%|██████████| 8/8 [00:18<00:00,  2.28s/it]\n",
            "100%|██████████| 8/8 [00:18<00:00,  2.27s/it]\n",
            "100%|██████████| 8/8 [00:18<00:00,  2.28s/it]\n",
            "100%|██████████| 8/8 [00:18<00:00,  2.27s/it]\n",
            "100%|██████████| 8/8 [00:18<00:00,  2.27s/it]\n",
            "100%|██████████| 8/8 [00:18<00:00,  2.27s/it]\n",
            "100%|██████████| 8/8 [00:18<00:00,  2.27s/it]\n",
            "100%|██████████| 8/8 [00:18<00:00,  2.27s/it]\n",
            "100%|██████████| 8/8 [00:18<00:00,  2.27s/it]\n",
            "100%|██████████| 8/8 [00:18<00:00,  2.28s/it]\n",
            "100%|██████████| 8/8 [00:18<00:00,  2.28s/it]\n",
            "100%|██████████| 8/8 [00:18<00:00,  2.28s/it]\n",
            "100%|██████████| 8/8 [00:18<00:00,  2.27s/it]\n",
            "100%|██████████| 8/8 [00:18<00:00,  2.27s/it]\n",
            "100%|██████████| 8/8 [00:18<00:00,  2.27s/it]\n",
            "100%|██████████| 8/8 [00:18<00:00,  2.27s/it]\n",
            "100%|██████████| 8/8 [00:18<00:00,  2.27s/it]\n",
            "100%|██████████| 8/8 [00:18<00:00,  2.27s/it]\n",
            "100%|██████████| 8/8 [00:18<00:00,  2.27s/it]\n",
            "100%|██████████| 8/8 [00:18<00:00,  2.27s/it]\n",
            "100%|██████████| 8/8 [00:18<00:00,  2.27s/it]\n",
            "100%|██████████| 8/8 [00:18<00:00,  2.27s/it]\n",
            "100%|██████████| 8/8 [00:18<00:00,  2.27s/it]\n",
            "100%|██████████| 8/8 [00:18<00:00,  2.27s/it]\n",
            "100%|██████████| 8/8 [00:18<00:00,  2.27s/it]\n",
            "100%|██████████| 8/8 [00:18<00:00,  2.27s/it]\n",
            "100%|██████████| 8/8 [00:18<00:00,  2.27s/it]\n",
            "100%|██████████| 8/8 [00:18<00:00,  2.27s/it]\n",
            "100%|██████████| 8/8 [00:18<00:00,  2.27s/it]\n",
            "100%|██████████| 8/8 [00:18<00:00,  2.28s/it]\n",
            "100%|██████████| 8/8 [00:18<00:00,  2.27s/it]\n",
            "100%|██████████| 8/8 [00:18<00:00,  2.27s/it]\n",
            "100%|██████████| 8/8 [00:18<00:00,  2.28s/it]\n",
            "100%|██████████| 8/8 [00:18<00:00,  2.27s/it]\n",
            "100%|██████████| 8/8 [00:18<00:00,  2.27s/it]\n",
            "100%|██████████| 8/8 [00:18<00:00,  2.27s/it]\n",
            "100%|██████████| 8/8 [00:18<00:00,  2.27s/it]\n",
            "100%|██████████| 8/8 [00:18<00:00,  2.27s/it]\n",
            "100%|██████████| 8/8 [00:18<00:00,  2.27s/it]\n",
            "100%|██████████| 8/8 [00:18<00:00,  2.27s/it]\n",
            "100%|██████████| 8/8 [00:18<00:00,  2.27s/it]\n",
            "100%|██████████| 8/8 [00:18<00:00,  2.26s/it]\n",
            "100%|██████████| 8/8 [00:18<00:00,  2.27s/it]\n",
            "100%|██████████| 8/8 [00:18<00:00,  2.28s/it]\n",
            "100%|██████████| 8/8 [00:18<00:00,  2.27s/it]\n",
            "100%|██████████| 8/8 [00:18<00:00,  2.27s/it]\n",
            "100%|██████████| 8/8 [00:18<00:00,  2.27s/it]\n",
            "100%|██████████| 8/8 [00:18<00:00,  2.27s/it]\n",
            "100%|██████████| 8/8 [00:18<00:00,  2.28s/it]\n",
            "100%|██████████| 8/8 [00:18<00:00,  2.28s/it]\n",
            "100%|██████████| 8/8 [00:18<00:00,  2.27s/it]\n",
            "100%|██████████| 8/8 [00:18<00:00,  2.27s/it]\n",
            "100%|██████████| 8/8 [00:18<00:00,  2.27s/it]\n",
            "100%|██████████| 8/8 [00:18<00:00,  2.27s/it]\n",
            "100%|██████████| 8/8 [00:18<00:00,  2.27s/it]\n",
            "100%|██████████| 8/8 [00:18<00:00,  2.27s/it]\n",
            "100%|██████████| 8/8 [00:18<00:00,  2.27s/it]\n",
            "100%|██████████| 8/8 [00:18<00:00,  2.28s/it]\n",
            "100%|██████████| 8/8 [00:18<00:00,  2.27s/it]\n",
            "100%|██████████| 8/8 [00:18<00:00,  2.27s/it]\n",
            "100%|██████████| 8/8 [00:18<00:00,  2.28s/it]\n",
            "100%|██████████| 8/8 [00:18<00:00,  2.28s/it]\n",
            "100%|██████████| 8/8 [00:18<00:00,  2.27s/it]\n",
            "100%|██████████| 8/8 [00:18<00:00,  2.27s/it]\n",
            "100%|██████████| 8/8 [00:18<00:00,  2.27s/it]\n",
            "100%|██████████| 8/8 [00:18<00:00,  2.28s/it]\n",
            "100%|██████████| 8/8 [00:18<00:00,  2.28s/it]\n",
            "100%|██████████| 8/8 [00:18<00:00,  2.27s/it]\n",
            "100%|██████████| 8/8 [00:18<00:00,  2.27s/it]\n",
            "100%|██████████| 8/8 [00:18<00:00,  2.27s/it]\n",
            "100%|██████████| 8/8 [00:18<00:00,  2.27s/it]\n",
            "100%|██████████| 8/8 [00:18<00:00,  2.28s/it]\n",
            "100%|██████████| 8/8 [00:18<00:00,  2.27s/it]\n",
            "100%|██████████| 8/8 [00:18<00:00,  2.27s/it]\n",
            "100%|██████████| 8/8 [00:18<00:00,  2.27s/it]\n",
            "100%|██████████| 8/8 [00:18<00:00,  2.27s/it]\n",
            "100%|██████████| 8/8 [00:18<00:00,  2.27s/it]\n",
            "100%|██████████| 8/8 [00:18<00:00,  2.27s/it]\n",
            "100%|██████████| 8/8 [00:18<00:00,  2.27s/it]\n",
            "100%|██████████| 8/8 [00:18<00:00,  2.27s/it]\n",
            "100%|██████████| 8/8 [00:18<00:00,  2.27s/it]\n",
            "100%|██████████| 8/8 [00:18<00:00,  2.27s/it]\n",
            "100%|██████████| 8/8 [00:18<00:00,  2.28s/it]\n",
            "100%|██████████| 8/8 [00:18<00:00,  2.28s/it]\n",
            "100%|██████████| 8/8 [00:18<00:00,  2.27s/it]\n",
            "100%|██████████| 8/8 [00:18<00:00,  2.27s/it]\n",
            "100%|██████████| 8/8 [00:18<00:00,  2.27s/it]\n",
            "100%|██████████| 8/8 [00:18<00:00,  2.28s/it]\n",
            "100%|██████████| 8/8 [00:18<00:00,  2.28s/it]\n",
            "100%|██████████| 8/8 [00:18<00:00,  2.27s/it]\n",
            "100%|██████████| 8/8 [00:18<00:00,  2.27s/it]\n",
            "100%|██████████| 8/8 [00:18<00:00,  2.27s/it]\n",
            "100%|██████████| 8/8 [00:18<00:00,  2.27s/it]\n",
            "100%|██████████| 8/8 [00:18<00:00,  2.28s/it]\n",
            "100%|██████████| 8/8 [00:18<00:00,  2.28s/it]\n",
            "100%|██████████| 8/8 [00:18<00:00,  2.28s/it]\n",
            "100%|██████████| 8/8 [00:18<00:00,  2.27s/it]\n",
            "100%|██████████| 8/8 [00:18<00:00,  2.27s/it]\n",
            "100%|██████████| 8/8 [00:18<00:00,  2.27s/it]\n",
            "100%|██████████| 8/8 [00:18<00:00,  2.27s/it]\n",
            "100%|██████████| 8/8 [00:18<00:00,  2.27s/it]\n",
            "100%|██████████| 8/8 [00:18<00:00,  2.28s/it]\n",
            "100%|██████████| 8/8 [00:18<00:00,  2.28s/it]\n",
            "100%|██████████| 8/8 [00:18<00:00,  2.28s/it]\n",
            "100%|██████████| 8/8 [00:18<00:00,  2.27s/it]\n",
            "100%|██████████| 8/8 [00:18<00:00,  2.27s/it]\n",
            "100%|██████████| 8/8 [00:18<00:00,  2.27s/it]\n",
            "100%|██████████| 8/8 [00:18<00:00,  2.27s/it]\n",
            "100%|██████████| 8/8 [00:18<00:00,  2.27s/it]\n",
            "100%|██████████| 8/8 [00:18<00:00,  2.27s/it]\n",
            "100%|██████████| 8/8 [00:18<00:00,  2.27s/it]\n",
            "100%|██████████| 8/8 [00:18<00:00,  2.28s/it]\n",
            "100%|██████████| 8/8 [00:18<00:00,  2.28s/it]\n",
            "100%|██████████| 8/8 [00:18<00:00,  2.28s/it]\n",
            " 12%|█▎        | 1/8 [00:03<00:25,  3.64s/it]"
          ],
          "name": "stderr"
        },
        {
          "output_type": "stream",
          "text": [
            "Epoch: 750/1000, Step: 26000, D Loss: 0.2629, G Loss: 4.1171, gp: 0.1253, Time:18:01:25\n"
          ],
          "name": "stdout"
        },
        {
          "output_type": "stream",
          "text": [
            "100%|██████████| 8/8 [00:19<00:00,  2.39s/it]\n",
            "100%|██████████| 8/8 [00:18<00:00,  2.27s/it]\n",
            "100%|██████████| 8/8 [00:18<00:00,  2.27s/it]\n",
            "100%|██████████| 8/8 [00:18<00:00,  2.27s/it]\n",
            "100%|██████████| 8/8 [00:18<00:00,  2.28s/it]\n",
            "100%|██████████| 8/8 [00:18<00:00,  2.28s/it]\n",
            "100%|██████████| 8/8 [00:18<00:00,  2.28s/it]\n",
            "100%|██████████| 8/8 [00:18<00:00,  2.28s/it]\n",
            "100%|██████████| 8/8 [00:18<00:00,  2.27s/it]\n",
            "100%|██████████| 8/8 [00:18<00:00,  2.27s/it]\n",
            "100%|██████████| 8/8 [00:18<00:00,  2.27s/it]\n",
            "100%|██████████| 8/8 [00:18<00:00,  2.27s/it]\n",
            "100%|██████████| 8/8 [00:18<00:00,  2.27s/it]\n",
            "100%|██████████| 8/8 [00:18<00:00,  2.27s/it]\n",
            "100%|██████████| 8/8 [00:18<00:00,  2.27s/it]\n",
            "100%|██████████| 8/8 [00:18<00:00,  2.27s/it]\n",
            "100%|██████████| 8/8 [00:18<00:00,  2.28s/it]\n",
            "100%|██████████| 8/8 [00:18<00:00,  2.28s/it]\n",
            "100%|██████████| 8/8 [00:18<00:00,  2.28s/it]\n",
            "100%|██████████| 8/8 [00:18<00:00,  2.27s/it]\n",
            "100%|██████████| 8/8 [00:18<00:00,  2.27s/it]\n",
            "100%|██████████| 8/8 [00:18<00:00,  2.28s/it]\n",
            "100%|██████████| 8/8 [00:18<00:00,  2.28s/it]\n",
            "100%|██████████| 8/8 [00:18<00:00,  2.28s/it]\n",
            "100%|██████████| 8/8 [00:18<00:00,  2.27s/it]\n",
            "100%|██████████| 8/8 [00:18<00:00,  2.27s/it]\n",
            "100%|██████████| 8/8 [00:18<00:00,  2.27s/it]\n",
            "100%|██████████| 8/8 [00:18<00:00,  2.27s/it]\n",
            "100%|██████████| 8/8 [00:18<00:00,  2.27s/it]\n",
            "100%|██████████| 8/8 [00:18<00:00,  2.27s/it]\n",
            "100%|██████████| 8/8 [00:18<00:00,  2.27s/it]\n",
            "100%|██████████| 8/8 [00:18<00:00,  2.27s/it]\n",
            "100%|██████████| 8/8 [00:18<00:00,  2.27s/it]\n",
            "100%|██████████| 8/8 [00:18<00:00,  2.27s/it]\n",
            "100%|██████████| 8/8 [00:18<00:00,  2.27s/it]\n",
            "100%|██████████| 8/8 [00:18<00:00,  2.28s/it]\n",
            "100%|██████████| 8/8 [00:18<00:00,  2.28s/it]\n",
            "100%|██████████| 8/8 [00:18<00:00,  2.28s/it]\n",
            "100%|██████████| 8/8 [00:18<00:00,  2.27s/it]\n",
            "100%|██████████| 8/8 [00:18<00:00,  2.27s/it]\n",
            "100%|██████████| 8/8 [00:18<00:00,  2.27s/it]\n",
            "100%|██████████| 8/8 [00:18<00:00,  2.27s/it]\n",
            "100%|██████████| 8/8 [00:18<00:00,  2.27s/it]\n",
            "100%|██████████| 8/8 [00:18<00:00,  2.27s/it]\n",
            "100%|██████████| 8/8 [00:18<00:00,  2.28s/it]\n",
            "100%|██████████| 8/8 [00:18<00:00,  2.27s/it]\n",
            "100%|██████████| 8/8 [00:18<00:00,  2.27s/it]\n",
            "100%|██████████| 8/8 [00:18<00:00,  2.27s/it]\n",
            "100%|██████████| 8/8 [00:18<00:00,  2.27s/it]\n",
            "100%|██████████| 8/8 [00:18<00:00,  2.27s/it]\n",
            "100%|██████████| 8/8 [00:18<00:00,  2.27s/it]\n",
            "100%|██████████| 8/8 [00:18<00:00,  2.27s/it]\n",
            "100%|██████████| 8/8 [00:18<00:00,  2.27s/it]\n",
            "100%|██████████| 8/8 [00:18<00:00,  2.27s/it]\n",
            "100%|██████████| 8/8 [00:18<00:00,  2.27s/it]\n",
            "100%|██████████| 8/8 [00:18<00:00,  2.27s/it]\n",
            "100%|██████████| 8/8 [00:18<00:00,  2.27s/it]\n",
            "100%|██████████| 8/8 [00:18<00:00,  2.27s/it]\n",
            "100%|██████████| 8/8 [00:18<00:00,  2.27s/it]\n",
            "100%|██████████| 8/8 [00:18<00:00,  2.27s/it]\n",
            "100%|██████████| 8/8 [00:18<00:00,  2.27s/it]\n",
            "100%|██████████| 8/8 [00:18<00:00,  2.27s/it]\n",
            "100%|██████████| 8/8 [00:18<00:00,  2.27s/it]\n",
            "100%|██████████| 8/8 [00:18<00:00,  2.28s/it]\n",
            "100%|██████████| 8/8 [00:18<00:00,  2.28s/it]\n",
            "100%|██████████| 8/8 [00:18<00:00,  2.27s/it]\n",
            "100%|██████████| 8/8 [00:18<00:00,  2.27s/it]\n",
            "100%|██████████| 8/8 [00:18<00:00,  2.27s/it]\n",
            "100%|██████████| 8/8 [00:18<00:00,  2.27s/it]\n",
            "100%|██████████| 8/8 [00:18<00:00,  2.27s/it]\n",
            "100%|██████████| 8/8 [00:18<00:00,  2.27s/it]\n",
            "100%|██████████| 8/8 [00:18<00:00,  2.27s/it]\n",
            "100%|██████████| 8/8 [00:18<00:00,  2.27s/it]\n",
            "100%|██████████| 8/8 [00:18<00:00,  2.28s/it]\n",
            "100%|██████████| 8/8 [00:18<00:00,  2.27s/it]\n",
            "100%|██████████| 8/8 [00:18<00:00,  2.27s/it]\n",
            "100%|██████████| 8/8 [00:18<00:00,  2.27s/it]\n",
            "100%|██████████| 8/8 [00:18<00:00,  2.27s/it]\n",
            "100%|██████████| 8/8 [00:18<00:00,  2.27s/it]\n",
            "100%|██████████| 8/8 [00:18<00:00,  2.27s/it]\n",
            "100%|██████████| 8/8 [00:18<00:00,  2.27s/it]\n",
            "100%|██████████| 8/8 [00:18<00:00,  2.27s/it]\n",
            "100%|██████████| 8/8 [00:18<00:00,  2.28s/it]\n",
            "100%|██████████| 8/8 [00:18<00:00,  2.28s/it]\n",
            "100%|██████████| 8/8 [00:18<00:00,  2.27s/it]\n",
            "100%|██████████| 8/8 [00:18<00:00,  2.27s/it]\n",
            "100%|██████████| 8/8 [00:18<00:00,  2.27s/it]\n",
            "100%|██████████| 8/8 [00:18<00:00,  2.27s/it]\n",
            "100%|██████████| 8/8 [00:18<00:00,  2.27s/it]\n",
            "100%|██████████| 8/8 [00:18<00:00,  2.27s/it]\n",
            "100%|██████████| 8/8 [00:18<00:00,  2.27s/it]\n",
            "100%|██████████| 8/8 [00:18<00:00,  2.27s/it]\n",
            "100%|██████████| 8/8 [00:18<00:00,  2.27s/it]\n",
            "100%|██████████| 8/8 [00:18<00:00,  2.28s/it]\n",
            "100%|██████████| 8/8 [00:18<00:00,  2.28s/it]\n",
            "100%|██████████| 8/8 [00:18<00:00,  2.27s/it]\n",
            "100%|██████████| 8/8 [00:18<00:00,  2.27s/it]\n",
            "100%|██████████| 8/8 [00:18<00:00,  2.27s/it]\n",
            "100%|██████████| 8/8 [00:18<00:00,  2.27s/it]\n",
            "100%|██████████| 8/8 [00:18<00:00,  2.27s/it]\n",
            "100%|██████████| 8/8 [00:18<00:00,  2.28s/it]\n",
            "100%|██████████| 8/8 [00:18<00:00,  2.28s/it]\n",
            "100%|██████████| 8/8 [00:18<00:00,  2.28s/it]\n",
            "100%|██████████| 8/8 [00:18<00:00,  2.28s/it]\n",
            "100%|██████████| 8/8 [00:18<00:00,  2.27s/it]\n",
            "100%|██████████| 8/8 [00:18<00:00,  2.27s/it]\n",
            "100%|██████████| 8/8 [00:18<00:00,  2.27s/it]\n",
            "100%|██████████| 8/8 [00:18<00:00,  2.27s/it]\n",
            "100%|██████████| 8/8 [00:18<00:00,  2.27s/it]\n",
            "100%|██████████| 8/8 [00:18<00:00,  2.27s/it]\n",
            "100%|██████████| 8/8 [00:18<00:00,  2.27s/it]\n",
            "100%|██████████| 8/8 [00:18<00:00,  2.27s/it]\n",
            "100%|██████████| 8/8 [00:18<00:00,  2.27s/it]\n",
            "100%|██████████| 8/8 [00:18<00:00,  2.28s/it]\n",
            "100%|██████████| 8/8 [00:18<00:00,  2.28s/it]\n",
            "100%|██████████| 8/8 [00:18<00:00,  2.28s/it]\n",
            "100%|██████████| 8/8 [00:18<00:00,  2.27s/it]\n",
            "100%|██████████| 8/8 [00:18<00:00,  2.27s/it]\n",
            "100%|██████████| 8/8 [00:18<00:00,  2.27s/it]\n",
            "100%|██████████| 8/8 [00:18<00:00,  2.27s/it]\n",
            "100%|██████████| 8/8 [00:18<00:00,  2.27s/it]\n",
            "100%|██████████| 8/8 [00:18<00:00,  2.27s/it]\n",
            "100%|██████████| 8/8 [00:18<00:00,  2.27s/it]\n",
            "100%|██████████| 8/8 [00:18<00:00,  2.27s/it]\n",
            "100%|██████████| 8/8 [00:18<00:00,  2.28s/it]\n",
            " 12%|█▎        | 1/8 [00:03<00:25,  3.63s/it]"
          ],
          "name": "stderr"
        },
        {
          "output_type": "stream",
          "text": [
            "Epoch: 875/1000, Step: 27000, D Loss: 0.2278, G Loss: 3.8732, gp: 0.1186, Time:18:39:19\n"
          ],
          "name": "stdout"
        },
        {
          "output_type": "stream",
          "text": [
            "100%|██████████| 8/8 [00:19<00:00,  2.38s/it]\n",
            "100%|██████████| 8/8 [00:18<00:00,  2.27s/it]\n",
            "100%|██████████| 8/8 [00:18<00:00,  2.27s/it]\n",
            "100%|██████████| 8/8 [00:18<00:00,  2.27s/it]\n",
            "100%|██████████| 8/8 [00:18<00:00,  2.27s/it]\n",
            "100%|██████████| 8/8 [00:18<00:00,  2.27s/it]\n",
            "100%|██████████| 8/8 [00:18<00:00,  2.27s/it]\n",
            "100%|██████████| 8/8 [00:18<00:00,  2.27s/it]\n",
            "100%|██████████| 8/8 [00:18<00:00,  2.27s/it]\n",
            "100%|██████████| 8/8 [00:18<00:00,  2.27s/it]\n",
            "100%|██████████| 8/8 [00:18<00:00,  2.27s/it]\n",
            "100%|██████████| 8/8 [00:18<00:00,  2.28s/it]\n",
            "100%|██████████| 8/8 [00:18<00:00,  2.27s/it]\n",
            "100%|██████████| 8/8 [00:18<00:00,  2.27s/it]\n",
            "100%|██████████| 8/8 [00:18<00:00,  2.27s/it]\n",
            "100%|██████████| 8/8 [00:18<00:00,  2.27s/it]\n",
            "100%|██████████| 8/8 [00:18<00:00,  2.27s/it]\n",
            "100%|██████████| 8/8 [00:18<00:00,  2.27s/it]\n",
            "100%|██████████| 8/8 [00:18<00:00,  2.27s/it]\n",
            "100%|██████████| 8/8 [00:18<00:00,  2.27s/it]\n",
            "100%|██████████| 8/8 [00:18<00:00,  2.28s/it]\n",
            "100%|██████████| 8/8 [00:18<00:00,  2.28s/it]\n",
            "100%|██████████| 8/8 [00:18<00:00,  2.28s/it]\n",
            "100%|██████████| 8/8 [00:18<00:00,  2.27s/it]\n",
            "100%|██████████| 8/8 [00:18<00:00,  2.27s/it]\n",
            "100%|██████████| 8/8 [00:18<00:00,  2.27s/it]\n",
            "100%|██████████| 8/8 [00:18<00:00,  2.26s/it]\n",
            "100%|██████████| 8/8 [00:18<00:00,  2.27s/it]\n",
            "100%|██████████| 8/8 [00:18<00:00,  2.29s/it]\n",
            "100%|██████████| 8/8 [00:18<00:00,  2.28s/it]\n",
            "100%|██████████| 8/8 [00:18<00:00,  2.27s/it]\n",
            "100%|██████████| 8/8 [00:18<00:00,  2.26s/it]\n",
            "100%|██████████| 8/8 [00:18<00:00,  2.27s/it]\n",
            "100%|██████████| 8/8 [00:18<00:00,  2.28s/it]\n",
            "100%|██████████| 8/8 [00:18<00:00,  2.27s/it]\n",
            "100%|██████████| 8/8 [00:18<00:00,  2.27s/it]\n",
            "100%|██████████| 8/8 [00:18<00:00,  2.27s/it]\n",
            "100%|██████████| 8/8 [00:18<00:00,  2.27s/it]\n",
            "100%|██████████| 8/8 [00:18<00:00,  2.28s/it]\n",
            "100%|██████████| 8/8 [00:18<00:00,  2.28s/it]\n",
            "100%|██████████| 8/8 [00:18<00:00,  2.28s/it]\n",
            "100%|██████████| 8/8 [00:18<00:00,  2.28s/it]\n",
            "100%|██████████| 8/8 [00:18<00:00,  2.28s/it]\n",
            "100%|██████████| 8/8 [00:18<00:00,  2.28s/it]\n",
            "100%|██████████| 8/8 [00:18<00:00,  2.26s/it]\n",
            "100%|██████████| 8/8 [00:18<00:00,  2.26s/it]\n",
            "100%|██████████| 8/8 [00:18<00:00,  2.28s/it]\n",
            "100%|██████████| 8/8 [00:18<00:00,  2.28s/it]\n",
            "100%|██████████| 8/8 [00:18<00:00,  2.27s/it]\n",
            "100%|██████████| 8/8 [00:18<00:00,  2.27s/it]\n",
            "100%|██████████| 8/8 [00:18<00:00,  2.27s/it]\n",
            "100%|██████████| 8/8 [00:18<00:00,  2.27s/it]\n",
            "100%|██████████| 8/8 [00:18<00:00,  2.28s/it]\n",
            "100%|██████████| 8/8 [00:18<00:00,  2.27s/it]\n",
            "100%|██████████| 8/8 [00:18<00:00,  2.27s/it]\n",
            "100%|██████████| 8/8 [00:18<00:00,  2.27s/it]\n",
            "100%|██████████| 8/8 [00:18<00:00,  2.27s/it]\n",
            "100%|██████████| 8/8 [00:18<00:00,  2.27s/it]\n",
            "100%|██████████| 8/8 [00:18<00:00,  2.27s/it]\n",
            "100%|██████████| 8/8 [00:18<00:00,  2.28s/it]\n",
            "100%|██████████| 8/8 [00:18<00:00,  2.28s/it]\n",
            "100%|██████████| 8/8 [00:18<00:00,  2.27s/it]\n",
            "100%|██████████| 8/8 [00:18<00:00,  2.28s/it]\n",
            "100%|██████████| 8/8 [00:18<00:00,  2.28s/it]\n",
            "100%|██████████| 8/8 [00:18<00:00,  2.27s/it]\n",
            "100%|██████████| 8/8 [00:18<00:00,  2.27s/it]\n",
            "100%|██████████| 8/8 [00:18<00:00,  2.27s/it]\n",
            "100%|██████████| 8/8 [00:18<00:00,  2.27s/it]\n",
            "100%|██████████| 8/8 [00:18<00:00,  2.28s/it]\n",
            "100%|██████████| 8/8 [00:18<00:00,  2.27s/it]\n",
            "100%|██████████| 8/8 [00:18<00:00,  2.28s/it]\n",
            "100%|██████████| 8/8 [00:18<00:00,  2.28s/it]\n",
            "100%|██████████| 8/8 [00:18<00:00,  2.28s/it]\n",
            "100%|██████████| 8/8 [00:18<00:00,  2.28s/it]\n",
            "100%|██████████| 8/8 [00:18<00:00,  2.28s/it]\n",
            "100%|██████████| 8/8 [00:18<00:00,  2.28s/it]\n",
            "100%|██████████| 8/8 [00:18<00:00,  2.27s/it]\n",
            "100%|██████████| 8/8 [00:18<00:00,  2.27s/it]\n",
            "100%|██████████| 8/8 [00:18<00:00,  2.27s/it]\n",
            "100%|██████████| 8/8 [00:18<00:00,  2.27s/it]\n",
            "100%|██████████| 8/8 [00:18<00:00,  2.27s/it]\n",
            "100%|██████████| 8/8 [00:18<00:00,  2.28s/it]\n",
            "100%|██████████| 8/8 [00:18<00:00,  2.27s/it]\n",
            "100%|██████████| 8/8 [00:18<00:00,  2.28s/it]\n",
            "100%|██████████| 8/8 [00:18<00:00,  2.28s/it]\n",
            "100%|██████████| 8/8 [00:18<00:00,  2.27s/it]\n",
            "100%|██████████| 8/8 [00:18<00:00,  2.27s/it]\n",
            "100%|██████████| 8/8 [00:18<00:00,  2.28s/it]\n",
            "100%|██████████| 8/8 [00:18<00:00,  2.28s/it]\n",
            "100%|██████████| 8/8 [00:18<00:00,  2.27s/it]\n",
            "100%|██████████| 8/8 [00:18<00:00,  2.27s/it]\n",
            "100%|██████████| 8/8 [00:18<00:00,  2.26s/it]\n",
            "100%|██████████| 8/8 [00:18<00:00,  2.27s/it]\n",
            "100%|██████████| 8/8 [00:18<00:00,  2.28s/it]\n",
            "100%|██████████| 8/8 [00:18<00:00,  2.28s/it]\n",
            "100%|██████████| 8/8 [00:18<00:00,  2.28s/it]\n",
            "100%|██████████| 8/8 [00:18<00:00,  2.28s/it]\n",
            "100%|██████████| 8/8 [00:18<00:00,  2.28s/it]\n",
            "100%|██████████| 8/8 [00:18<00:00,  2.28s/it]\n",
            "100%|██████████| 8/8 [00:18<00:00,  2.27s/it]\n",
            "100%|██████████| 8/8 [00:18<00:00,  2.26s/it]\n",
            "100%|██████████| 8/8 [00:18<00:00,  2.27s/it]\n",
            "100%|██████████| 8/8 [00:18<00:00,  2.28s/it]\n",
            "100%|██████████| 8/8 [00:18<00:00,  2.28s/it]\n",
            "100%|██████████| 8/8 [00:18<00:00,  2.27s/it]\n",
            "100%|██████████| 8/8 [00:18<00:00,  2.26s/it]\n",
            "100%|██████████| 8/8 [00:18<00:00,  2.27s/it]\n",
            "100%|██████████| 8/8 [00:18<00:00,  2.28s/it]\n",
            "100%|██████████| 8/8 [00:18<00:00,  2.28s/it]\n",
            "100%|██████████| 8/8 [00:18<00:00,  2.27s/it]\n",
            "100%|██████████| 8/8 [00:18<00:00,  2.27s/it]\n",
            "100%|██████████| 8/8 [00:18<00:00,  2.27s/it]\n",
            "100%|██████████| 8/8 [00:18<00:00,  2.28s/it]\n",
            "100%|██████████| 8/8 [00:18<00:00,  2.28s/it]\n",
            "100%|██████████| 8/8 [00:18<00:00,  2.27s/it]\n",
            "100%|██████████| 8/8 [00:18<00:00,  2.27s/it]\n",
            "100%|██████████| 8/8 [00:18<00:00,  2.27s/it]\n",
            "100%|██████████| 8/8 [00:18<00:00,  2.27s/it]\n",
            "100%|██████████| 8/8 [00:18<00:00,  2.28s/it]\n",
            "100%|██████████| 8/8 [00:18<00:00,  2.28s/it]\n",
            "100%|██████████| 8/8 [00:18<00:00,  2.27s/it]\n",
            "100%|██████████| 8/8 [00:18<00:00,  2.27s/it]\n",
            "100%|██████████| 8/8 [00:18<00:00,  2.27s/it]\n",
            "100%|██████████| 8/8 [00:18<00:00,  2.28s/it]\n",
            "100%|██████████| 8/8 [00:18<00:00,  2.28s/it]\n"
          ],
          "name": "stderr"
        }
      ]
    },
    {
      "cell_type": "code",
      "metadata": {
        "id": "uFTF18DrnHe2",
        "colab_type": "code",
        "colab": {}
      },
      "source": [
        "save_checkpoint({'global_step': step,\n",
        "     'D':D.state_dict(),\n",
        "     'G':G.state_dict(),\n",
        "     'd_optim': D_opt.state_dict(),\n",
        "     'g_optim' : G_opt.state_dict()},\n",
        "    'ckpt/r1gan{:06d}.pth.tar'.format(step))"
      ],
      "execution_count": null,
      "outputs": []
    },
    {
      "cell_type": "code",
      "metadata": {
        "id": "QL6goKYynJEa",
        "colab_type": "code",
        "colab": {
          "base_uri": "https://localhost:8080/",
          "height": 34
        },
        "outputId": "80035b40-6162-44b2-fecd-4f711faa6b0c"
      },
      "source": [
        "\n",
        "G_path = sorted(glob.glob(os.path.join('ckpt', '*.pth.tar')))[-1]\n",
        "state = torch.load(G_path)\n",
        "G.load_state_dict(state['G'])"
      ],
      "execution_count": 28,
      "outputs": [
        {
          "output_type": "execute_result",
          "data": {
            "text/plain": [
              "<All keys matched successfully>"
            ]
          },
          "metadata": {
            "tags": []
          },
          "execution_count": 28
        }
      ]
    },
    {
      "cell_type": "code",
      "metadata": {
        "id": "90fSe4BGnSZ3",
        "colab_type": "code",
        "colab": {}
      },
      "source": [
        "G.eval()\n",
        "None"
      ],
      "execution_count": 29,
      "outputs": []
    },
    {
      "cell_type": "code",
      "metadata": {
        "id": "IZXjdkyenXyq",
        "colab_type": "code",
        "colab": {
          "base_uri": "https://localhost:8080/",
          "height": 340
        },
        "outputId": "489b3005-3228-400b-975d-223416a85e7b"
      },
      "source": [
        "img = get_sample_image(G, n_noise, n_samples=25)\n",
        "imshow(img)"
      ],
      "execution_count": 30,
      "outputs": [
        {
          "output_type": "stream",
          "text": [
            "/usr/local/lib/python3.6/dist-packages/torch/nn/functional.py:3121: UserWarning: Default upsampling behavior when mode=bilinear is changed to align_corners=False since 0.4.0. Please specify align_corners=True if the old behavior is desired. See the documentation of nn.Upsample for details.\n",
            "  \"See the documentation of nn.Upsample for details.\".format(mode))\n"
          ],
          "name": "stderr"
        },
        {
          "output_type": "execute_result",
          "data": {
            "text/plain": [
              "<matplotlib.image.AxesImage at 0x7fef26144320>"
            ]
          },
          "metadata": {
            "tags": []
          },
          "execution_count": 30
        },
        {
          "output_type": "display_data",
          "data": {
            "image/png": "[encoded data removed]",
            "text/plain": [
              "<Figure size 432x288 with 1 Axes>"
            ]
          },
          "metadata": {
            "tags": [],
            "needs_background": "light"
          }
        }
      ]
    },
    {
      "cell_type": "code",
      "metadata": {
        "id": "UPM81tnLnY5l",
        "colab_type": "code",
        "colab": {}
      },
      "source": [
        "# Fake Image\n",
        "idx = [2, 4]\n",
        "row, col = IMAGE_DIM[0]*idx[0], IMAGE_DIM[1]*idx[1]\n",
        "imshow(img[row:row+IMAGE_DIM[0], col:col+IMAGE_DIM[1], :])"
      ],
      "execution_count": null,
      "outputs": []
    },
    {
      "cell_type": "code",
      "metadata": {
        "id": "bSyvzzPGnhFy",
        "colab_type": "code",
        "colab": {
          "base_uri": "https://localhost:8080/",
          "height": 285
        },
        "outputId": "ea75e2c3-22d0-4962-890d-7751e386d7a0"
      },
      "source": [
        "# Real Image\n",
        "i = 14\n",
        "rimg = tensor2img(images[i])\n",
        "imshow(rimg)"
      ],
      "execution_count": null,
      "outputs": [
        {
          "output_type": "execute_result",
          "data": {
            "text/plain": [
              "<matplotlib.image.AxesImage at 0x7f303169b240>"
            ]
          },
          "metadata": {
            "tags": []
          },
          "execution_count": 56
        },
        {
          "output_type": "display_data",
          "data": {
            "image/png": "[encoded data removed]",
            "text/plain": [
              "<Figure size 432x288 with 1 Axes>"
            ]
          },
          "metadata": {
            "tags": [],
            "needs_background": "light"
          }
        }
      ]
    },
    {
      "cell_type": "code",
      "metadata": {
        "id": "Cv8hvTyvMVK0",
        "colab_type": "code",
        "colab": {}
      },
      "source": [
        "import copy"
      ],
      "execution_count": 32,
      "outputs": []
    },
    {
      "cell_type": "code",
      "metadata": {
        "id": "hu4euqMfSdVk",
        "colab_type": "code",
        "colab": {
          "base_uri": "https://localhost:8080/",
          "height": 190
        },
        "outputId": "a578d53d-968e-4c58-ae0b-1a5ebb13dc73"
      },
      "source": [
        "!pip install onnxruntime"
      ],
      "execution_count": 46,
      "outputs": [
        {
          "output_type": "stream",
          "text": [
            "Collecting onnxruntime\n",
            "\u001b[?25l  Downloading https://files.pythonhosted.org/packages/14/a6/30c6c17524d6930df677412eda0b3c2acd9062697fc0e86842f2dd058835/onnxruntime-1.4.0-cp36-cp36m-manylinux2010_x86_64.whl (4.4MB)\n",
            "\u001b[K     |████████████████████████████████| 4.4MB 3.0MB/s \n",
            "\u001b[?25hRequirement already satisfied: protobuf in /usr/local/lib/python3.6/dist-packages (from onnxruntime) (3.12.4)\n",
            "Requirement already satisfied: numpy>=1.16.6 in /usr/local/lib/python3.6/dist-packages (from onnxruntime) (1.18.5)\n",
            "Requirement already satisfied: six>=1.9 in /usr/local/lib/python3.6/dist-packages (from protobuf->onnxruntime) (1.15.0)\n",
            "Requirement already satisfied: setuptools in /usr/local/lib/python3.6/dist-packages (from protobuf->onnxruntime) (50.3.0)\n",
            "Installing collected packages: onnxruntime\n",
            "Successfully installed onnxruntime-1.4.0\n"
          ],
          "name": "stdout"
        }
      ]
    },
    {
      "cell_type": "code",
      "metadata": {
        "id": "8Oe2jD2SMmId",
        "colab_type": "code",
        "colab": {
          "base_uri": "https://localhost:8080/",
          "height": 71
        },
        "outputId": "66039c17-4315-4009-c0a7-6d5c8a8594a0"
      },
      "source": [
        "torch_model = copy.deepcopy(G)\n",
        "model_name = \"GAN_Indian_cars.onnx\"\n",
        "n_samples=1\n",
        "n_noise=256\n",
        "batch_size = 1\n",
        "rand_inp = (torch.rand(size=[n_samples, n_noise],requires_grad=True)*2-1).to(DEVICE)\n",
        "\n",
        "# Export the model\n",
        "torch.onnx.export(torch_model,               # model being run\n",
        "                rand_inp,                    # model input (or a tuple for multiple inputs)\n",
        "                model_name,   # where to save the model (can be a file or file-like object)\n",
        "                export_params=True,        # store the trained parameter weights inside the model file\n",
        "                opset_version=11,          # the ONNX version to export the model to\n",
        "                do_constant_folding=True,  # whether to execute constant folding for optimization\n",
        "                input_names = ['input'],   # the model's input names\n",
        "                output_names = ['output'], # the model's output names\n",
        "                dynamic_axes={'input' : {0 : 'batch_size'},    # variable lenght axes\n",
        "                              'output' : {0 : 'batch_size'}})"
      ],
      "execution_count": 120,
      "outputs": [
        {
          "output_type": "stream",
          "text": [
            "/usr/local/lib/python3.6/dist-packages/torch/nn/functional.py:3121: UserWarning: Default upsampling behavior when mode=bilinear is changed to align_corners=False since 0.4.0. Please specify align_corners=True if the old behavior is desired. See the documentation of nn.Upsample for details.\n",
            "  \"See the documentation of nn.Upsample for details.\".format(mode))\n"
          ],
          "name": "stderr"
        }
      ]
    },
    {
      "cell_type": "code",
      "metadata": {
        "id": "iQDJ1gGaPnfy",
        "colab_type": "code",
        "colab": {}
      },
      "source": [
        "import onnxruntime\n",
        "ort_session = onnxruntime.InferenceSession(model_name)"
      ],
      "execution_count": 134,
      "outputs": []
    },
    {
      "cell_type": "markdown",
      "metadata": {
        "id": "ymb_wMgHXLDZ",
        "colab_type": "text"
      },
      "source": [
        ""
      ]
    },
    {
      "cell_type": "code",
      "metadata": {
        "id": "KkIsRw-SXLVt",
        "colab_type": "code",
        "colab": {
          "base_uri": "https://localhost:8080/",
          "height": 285
        },
        "outputId": "41f0201e-8354-477b-ae68-a24294f383a4"
      },
      "source": [
        "rand_inp = (torch.rand(size=[n_samples, n_noise],requires_grad=True)*2-1).to(DEVICE)\n",
        "ort_inputs = {ort_session.get_inputs()[0].name: rand_inp.detach().cpu().numpy()}\n",
        "ort_outs = ort_session.run(None,ort_inputs)\n",
        "imshow(np.clip((np.transpose(ort_outs[0][0,:,:,:], [1,2,0])+1)/2.0,0,1))"
      ],
      "execution_count": 139,
      "outputs": [
        {
          "output_type": "execute_result",
          "data": {
            "text/plain": [
              "<matplotlib.image.AxesImage at 0x7fee6ef52668>"
            ]
          },
          "metadata": {
            "tags": []
          },
          "execution_count": 139
        },
        {
          "output_type": "display_data",
          "data": {
            "image/png": "[encoded data removed]",
            "text/plain": [
              "<Figure size 432x288 with 1 Axes>"
            ]
          },
          "metadata": {
            "tags": [],
            "needs_background": "light"
          }
        }
      ]
    },
    {
      "cell_type": "code",
      "metadata": {
        "id": "FLDZOUm6buFm",
        "colab_type": "code",
        "colab": {}
      },
      "source": [
        ""
      ],
      "execution_count": null,
      "outputs": []
    }
  ]
}