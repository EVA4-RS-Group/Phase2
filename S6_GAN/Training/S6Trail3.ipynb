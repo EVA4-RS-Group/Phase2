{
  "nbformat": 4,
  "nbformat_minor": 0,
  "metadata": {
    "colab": {
      "name": "S6Trail.ipynb",
      "provenance": [],
      "mount_file_id": "1sGG_Lc9fKhVs7ZHjxI0o2R0P3zyQwQLA",
      "authorship_tag": "ABX9TyOLDUX56YTyBsCXBnZh5Mz+",
      "include_colab_link": true
    },
    "kernelspec": {
      "name": "python3",
      "display_name": "Python 3"
    },
    "accelerator": "GPU"
  },
  "cells": [
    {
      "cell_type": "markdown",
      "metadata": {
        "id": "view-in-github",
        "colab_type": "text"
      },
      "source": [
        "<a href=\"https://colab.research.google.com/github/EVA4-RS-Group/Phase2/blob/master/S6_GAN/S6Trail3.ipynb\" target=\"_parent\"><img src=\"https://colab.research.google.com/assets/colab-badge.svg\" alt=\"Open In Colab\"/></a>"
      ]
    },
    {
      "cell_type": "code",
      "metadata": {
        "id": "kSD5WLAqkq7k",
        "colab_type": "code",
        "colab": {
          "base_uri": "https://localhost:8080/",
          "height": 34
        },
        "outputId": "3c781417-134d-4dcd-d7ee-0e74df90daca"
      },
      "source": [
        "!wget -q https://github.com/EVA4-RS-Group/Phase2/releases/download/S6/processed_images_step2.zip\n",
        "!unzip -q processed_images_step2\n",
        "!rm -rf processed_images_step2.zip"
      ],
      "execution_count": 191,
      "outputs": [
        {
          "output_type": "stream",
          "text": [
            "unzip:  cannot find or open img_align_celeba.zip, img_align_celeba.zip.zip or img_align_celeba.zip.ZIP.\n"
          ],
          "name": "stdout"
        }
      ]
    },
    {
      "cell_type": "code",
      "metadata": {
        "id": "wuj42vBNYmtw",
        "colab_type": "code",
        "colab": {
          "base_uri": "https://localhost:8080/",
          "height": 34
        },
        "outputId": "e20108ec-85e2-4e50-807b-264e8f96c49a"
      },
      "source": [
        "!ls '/content/drive/My Drive/img_a/processed_images_step2' | wc -l"
      ],
      "execution_count": 135,
      "outputs": [
        {
          "output_type": "stream",
          "text": [
            "445\n"
          ],
          "name": "stdout"
        }
      ]
    },
    {
      "cell_type": "code",
      "metadata": {
        "id": "fI3qJkQVniuE",
        "colab_type": "code",
        "colab": {
          "base_uri": "https://localhost:8080/",
          "height": 102
        },
        "outputId": "7a27c20c-cce1-4448-c3b5-dc16a7a54c0d"
      },
      "source": [
        "!pip install torch torchvision"
      ],
      "execution_count": 136,
      "outputs": [
        {
          "output_type": "stream",
          "text": [
            "Requirement already satisfied: torch in /usr/local/lib/python3.6/dist-packages (1.6.0+cu101)\n",
            "Requirement already satisfied: torchvision in /usr/local/lib/python3.6/dist-packages (0.7.0+cu101)\n",
            "Requirement already satisfied: numpy in /usr/local/lib/python3.6/dist-packages (from torch) (1.18.5)\n",
            "Requirement already satisfied: future in /usr/local/lib/python3.6/dist-packages (from torch) (0.16.0)\n",
            "Requirement already satisfied: pillow>=4.1.1 in /usr/local/lib/python3.6/dist-packages (from torchvision) (7.0.0)\n"
          ],
          "name": "stdout"
        }
      ]
    },
    {
      "cell_type": "code",
      "metadata": {
        "id": "Ledb68pWnqHZ",
        "colab_type": "code",
        "colab": {}
      },
      "source": [
        "import torch\n",
        "import torchvision\n",
        "import torch.nn as nn\n",
        "import torch.nn.functional as F\n",
        "from torch.autograd import grad"
      ],
      "execution_count": 137,
      "outputs": []
    },
    {
      "cell_type": "code",
      "metadata": {
        "id": "Wxx5c8m0ntd8",
        "colab_type": "code",
        "colab": {}
      },
      "source": [
        "from torch.utils.data import DataLoader\n",
        "from torch.utils.data.dataset import Dataset\n",
        "from torchvision import datasets\n",
        "from torchvision import transforms\n",
        "from torchvision.utils import save_image"
      ],
      "execution_count": 138,
      "outputs": []
    },
    {
      "cell_type": "code",
      "metadata": {
        "id": "OFBGDkBmnwke",
        "colab_type": "code",
        "colab": {}
      },
      "source": [
        "import numpy as np\n",
        "import datetime\n",
        "import os, sys\n",
        "import glob\n",
        "from tqdm import tqdm"
      ],
      "execution_count": 139,
      "outputs": []
    },
    {
      "cell_type": "code",
      "metadata": {
        "id": "nVKPPBCdnyfi",
        "colab_type": "code",
        "colab": {}
      },
      "source": [
        "from PIL import Image"
      ],
      "execution_count": 140,
      "outputs": []
    },
    {
      "cell_type": "code",
      "metadata": {
        "id": "Ic8mHsJUn15O",
        "colab_type": "code",
        "colab": {}
      },
      "source": [
        "import matplotlib.pyplot as plt\n",
        "from matplotlib.pyplot import imshow, imsave\n",
        "%matplotlib inline"
      ],
      "execution_count": 141,
      "outputs": []
    },
    {
      "cell_type": "code",
      "metadata": {
        "id": "aVVmajyJn5DZ",
        "colab_type": "code",
        "colab": {}
      },
      "source": [
        "MODEL_NAME = 'R1'\n",
        "DEVICE = torch.device(\"cuda\" if torch.cuda.is_available() else \"cpu\")"
      ],
      "execution_count": 142,
      "outputs": []
    },
    {
      "cell_type": "code",
      "metadata": {
        "id": "u_G6xSvPn8wb",
        "colab_type": "code",
        "colab": {}
      },
      "source": [
        "IMAGE_DIM = ( 64, 64, 3)\n"
      ],
      "execution_count": 164,
      "outputs": []
    },
    {
      "cell_type": "code",
      "metadata": {
        "id": "n5DkNfAooAFy",
        "colab_type": "code",
        "colab": {}
      },
      "source": [
        "def tensor2img(tensor):\n",
        "    img = np.clip((np.transpose(tensor.detach().cpu().numpy(), [1,2,0])+1)/2.0,0,1)\n",
        "    \n",
        "    return img"
      ],
      "execution_count": 165,
      "outputs": []
    },
    {
      "cell_type": "code",
      "metadata": {
        "id": "Ykolkz46oC7J",
        "colab_type": "code",
        "colab": {}
      },
      "source": [
        "def get_sample_image(G, n_noise=100, n_samples=64):\n",
        "    \"\"\"\n",
        "        save sample 100 images\n",
        "    \"\"\"\n",
        "    n_rows = int(np.sqrt(n_samples))\n",
        "    z = (torch.rand(size=[n_samples, n_noise])*2-1).to(DEVICE) # U[-1, 1]\n",
        "    x_fake = G(z)\n",
        "    x_fake = torch.cat([torch.cat([x_fake[n_rows*j+i] for i in range(n_rows)], dim=1) for j in range(n_rows)], dim=2)\n",
        "    result = tensor2img(x_fake)\n",
        "    return result"
      ],
      "execution_count": 166,
      "outputs": []
    },
    {
      "cell_type": "code",
      "metadata": {
        "id": "j9w-jTCEoGIc",
        "colab_type": "code",
        "colab": {}
      },
      "source": [
        "class ResidualBlock(nn.Module):\n",
        "    def __init__(self, inplanes, planes, kernel_size=3, stride=1, downsample=None, groups=1):\n",
        "        super(ResidualBlock, self).__init__()\n",
        "        p = kernel_size//2\n",
        "        self.conv1 = nn.Sequential(\n",
        "            nn.Conv2d(inplanes, planes, kernel_size, stride=stride, padding=p),\n",
        "            nn.LeakyReLU(0.2)\n",
        "        )\n",
        "        self.conv2 = nn.Sequential(\n",
        "            nn.Conv2d(planes, planes, kernel_size, padding=p),\n",
        "            nn.LeakyReLU(0.2)\n",
        "        )\n",
        "        self.proj = nn.Conv2d(inplanes, planes, 1) if inplanes != planes else None\n",
        "    \n",
        "    def forward(self, x):\n",
        "        identity = x\n",
        "        \n",
        "        y = self.conv1(x)\n",
        "        y = self.conv2(y)\n",
        "        \n",
        "        identity = identity if self.proj is None else self.proj(identity)\n",
        "        y = y + identity\n",
        "        return y"
      ],
      "execution_count": 167,
      "outputs": []
    },
    {
      "cell_type": "code",
      "metadata": {
        "id": "Tc8mYJ4toJ5l",
        "colab_type": "code",
        "colab": {}
      },
      "source": [
        "\n",
        "class Discriminator(nn.Module):\n",
        "    \"\"\"\n",
        "        Convolutional Discriminator\n",
        "    \"\"\"\n",
        "    def __init__(self, in_channel=1):\n",
        "        super(Discriminator, self).__init__()\n",
        "        self.D = nn.Sequential(\n",
        "            nn.Conv2d(in_channel, 64, 3, padding=1), # (N, 64, 64, 64)\n",
        "            ResidualBlock(64, 128),\n",
        "            nn.AvgPool2d(3, 2, padding=1), # (N, 128, 32, 32)\n",
        "            ResidualBlock(128, 256),\n",
        "            nn.AvgPool2d(3, 2, padding=1), # (N, 256, 16, 16)\n",
        "            ResidualBlock(256, 512),\n",
        "            nn.AvgPool2d(3, 2, padding=1), # (N, 512, 8, 8)\n",
        "            ResidualBlock(512, 1024),\n",
        "            nn.AvgPool2d(3, 2, padding=1) # (N, 1024, 4, 4)\n",
        "        )\n",
        "        self.fc = nn.Linear(1024*4*4, 1) # (N, 1)\n",
        "        \n",
        "    def forward(self, x):\n",
        "        B = x.size(0)\n",
        "        h = self.D(x)\n",
        "        h = h.view(B, -1)\n",
        "        y = self.fc(h)\n",
        "        return y"
      ],
      "execution_count": 168,
      "outputs": []
    },
    {
      "cell_type": "code",
      "metadata": {
        "id": "DXEd9wNSoNsD",
        "colab_type": "code",
        "colab": {}
      },
      "source": [
        "class Generator(nn.Module):\n",
        "    \"\"\"\n",
        "        Convolutional Generator\n",
        "    \"\"\"\n",
        "    def __init__(self, out_channel=1, n_filters=128, n_noise=512):\n",
        "        super(Generator, self).__init__()\n",
        "        self.fc = nn.Linear(n_noise, 1024*4*4)\n",
        "        self.G = nn.Sequential(\n",
        "            ResidualBlock(1024, 512),\n",
        "            nn.Upsample(scale_factor=2, mode='bilinear'), # (N, 512, 8, 8)\n",
        "            ResidualBlock(512, 256),\n",
        "            nn.Upsample(scale_factor=2, mode='bilinear'), # (N, 256, 16, 16)\n",
        "            ResidualBlock(256, 128),\n",
        "            nn.Upsample(scale_factor=2, mode='bilinear'), # (N, 128, 32, 32)\n",
        "            ResidualBlock(128, 64),\n",
        "            nn.Upsample(scale_factor=2, mode='bilinear'), # (N, 64, 64, 64)\n",
        "            ResidualBlock(64, 64),\n",
        "            nn.Conv2d(64, out_channel, 3, padding=1) # (N, 3, 64, 64)\n",
        "        )\n",
        "        \n",
        "    def forward(self, z):\n",
        "        B = z.size(0)\n",
        "        h = self.fc(z)\n",
        "        h = h.view(B, 1024, 4, 4)\n",
        "        x = self.G(h)\n",
        "        return x"
      ],
      "execution_count": 169,
      "outputs": []
    },
    {
      "cell_type": "code",
      "metadata": {
        "id": "DFM5KlJToSWK",
        "colab_type": "code",
        "colab": {}
      },
      "source": [
        "transform = transforms.Compose([transforms.Resize((IMAGE_DIM[0],IMAGE_DIM[1])),\n",
        "                                transforms.ToTensor(),\n",
        "                                transforms.Normalize(mean=(0.5, 0.5, 0.5),\n",
        "                                std=(0.5, 0.5, 0.5))\n",
        "                               ]\n",
        ")"
      ],
      "execution_count": 170,
      "outputs": []
    },
    {
      "cell_type": "code",
      "metadata": {
        "id": "OZva68NwG1L1",
        "colab_type": "code",
        "colab": {}
      },
      "source": [
        "dataset = datasets.ImageFolder('/content/drive/My Drive/img_a', transform=transform)\n"
      ],
      "execution_count": 171,
      "outputs": []
    },
    {
      "cell_type": "code",
      "metadata": {
        "id": "ltkwCL1donZf",
        "colab_type": "code",
        "colab": {}
      },
      "source": [
        "batch_size = 64\n",
        "n_noise = 256"
      ],
      "execution_count": 172,
      "outputs": []
    },
    {
      "cell_type": "code",
      "metadata": {
        "id": "alHxH2ZVooYL",
        "colab_type": "code",
        "colab": {}
      },
      "source": [
        "data_loader = DataLoader(dataset=dataset, batch_size=batch_size, shuffle=True, drop_last=True, num_workers=4, pin_memory=True)"
      ],
      "execution_count": 173,
      "outputs": []
    },
    {
      "cell_type": "code",
      "metadata": {
        "id": "if8nRqoeor5z",
        "colab_type": "code",
        "colab": {}
      },
      "source": [
        "D = Discriminator(in_channel=IMAGE_DIM[-1]).to(DEVICE)\n",
        "G = Generator(out_channel=IMAGE_DIM[-1], n_noise=n_noise).to(DEVICE)"
      ],
      "execution_count": 174,
      "outputs": []
    },
    {
      "cell_type": "code",
      "metadata": {
        "id": "4-zausIWowWZ",
        "colab_type": "code",
        "colab": {}
      },
      "source": [
        "D_opt = torch.optim.RMSprop(D.parameters(), lr=1e-4, alpha=0.99)\n",
        "G_opt = torch.optim.RMSprop(G.parameters(), lr=1e-4, alpha=0.99)"
      ],
      "execution_count": 175,
      "outputs": []
    },
    {
      "cell_type": "code",
      "metadata": {
        "id": "xBukdkllo0kh",
        "colab_type": "code",
        "colab": {}
      },
      "source": [
        "# D_scheduler = torch.optim.lr_scheduler.MultiStepLR(D_opt, milestones=[3, 10, 17], gamma=0.6)\n",
        "# G_scheduler = torch.optim.lr_scheduler.MultiStepLR(G_opt, milestones=[3, 10, 17], gamma=0.6)"
      ],
      "execution_count": 176,
      "outputs": []
    },
    {
      "cell_type": "code",
      "metadata": {
        "id": "fFdl2vnzo5qn",
        "colab_type": "code",
        "colab": {}
      },
      "source": [
        "# criterion = nn.L1Loss()\n",
        "def r1loss(inputs, label=None):\n",
        "    # non-saturating loss with R1 regularization\n",
        "    l = -1 if label else 1\n",
        "    return F.softplus(l*inputs).mean()"
      ],
      "execution_count": 177,
      "outputs": []
    },
    {
      "cell_type": "code",
      "metadata": {
        "id": "4_qwIcf8o98d",
        "colab_type": "code",
        "colab": {}
      },
      "source": [
        "max_epoch = 400\n",
        "step = 0"
      ],
      "execution_count": 178,
      "outputs": []
    },
    {
      "cell_type": "code",
      "metadata": {
        "id": "cjK0K-XypA8Y",
        "colab_type": "code",
        "colab": {}
      },
      "source": [
        "log_term = 1000\n",
        "save_term = 1000"
      ],
      "execution_count": 179,
      "outputs": []
    },
    {
      "cell_type": "code",
      "metadata": {
        "id": "V39sSsvUpGAi",
        "colab_type": "code",
        "colab": {}
      },
      "source": [
        "r1_gamma = 10"
      ],
      "execution_count": 180,
      "outputs": []
    },
    {
      "cell_type": "code",
      "metadata": {
        "id": "yUy-e2f5pKrr",
        "colab_type": "code",
        "colab": {
          "base_uri": "https://localhost:8080/",
          "height": 34
        },
        "outputId": "962cb7b1-62ac-429e-8efa-993d83894d64"
      },
      "source": [
        "steps_per_epoch = len(data_loader.dataset) // batch_size\n",
        "steps_per_epoch"
      ],
      "execution_count": 181,
      "outputs": [
        {
          "output_type": "execute_result",
          "data": {
            "text/plain": [
              "6"
            ]
          },
          "metadata": {
            "tags": []
          },
          "execution_count": 181
        }
      ]
    },
    {
      "cell_type": "code",
      "metadata": {
        "id": "l6gDyAsVpVvx",
        "colab_type": "code",
        "colab": {}
      },
      "source": [
        "if not os.path.exists('samples'):\n",
        "    os.makedirs('samples')\n",
        "    \n",
        "if not os.path.exists('ckpt'):\n",
        "    os.makedirs('ckpt')"
      ],
      "execution_count": 182,
      "outputs": []
    },
    {
      "cell_type": "code",
      "metadata": {
        "id": "7py4Ix7KpWsB",
        "colab_type": "code",
        "colab": {}
      },
      "source": [
        "def save_checkpoint(state, file_name='checkpoint.pth.tar'):\n",
        "    torch.save(state, file_name)"
      ],
      "execution_count": 183,
      "outputs": []
    },
    {
      "cell_type": "code",
      "metadata": {
        "id": "_IVxgDufpde1",
        "colab_type": "code",
        "colab": {
          "base_uri": "https://localhost:8080/",
          "height": 1000
        },
        "outputId": "541a213d-4633-4b18-ea74-a927b213d1b9"
      },
      "source": [
        "for epoch in range(max_epoch):\n",
        "    for idx, (images, labels) in enumerate(tqdm(data_loader, total=len(data_loader))):\n",
        "        G.zero_grad()\n",
        "        # Training Discriminator\n",
        "        x = images.to(DEVICE)\n",
        "        x.requires_grad = True\n",
        "        x_outputs = D(x)\n",
        "        d_real_loss = r1loss(x_outputs, True)\n",
        "        # Reference >> https://github.com/rosinality/style-based-gan-pytorch/blob/a3d000e707b70d1a5fc277912dc9d7432d6e6069/train.py\n",
        "        # little different with original DiracGAN\n",
        "        grad_real = grad(outputs=x_outputs.sum(), inputs=x, create_graph=True)[0]\n",
        "        grad_penalty = (grad_real.view(grad_real.size(0), -1).norm(2, dim=1) ** 2).mean()\n",
        "        grad_penalty = 0.5*r1_gamma*grad_penalty\n",
        "        D_x_loss = d_real_loss + grad_penalty\n",
        "\n",
        "        z = (torch.rand(size=[batch_size, n_noise])*2-1).to(DEVICE)\n",
        "        x_fake = G(z)\n",
        "        z_outputs = D(x_fake.detach())\n",
        "        D_z_loss = r1loss(z_outputs, False)\n",
        "        D_loss = D_x_loss + D_z_loss\n",
        "        \n",
        "        D.zero_grad()\n",
        "        D_loss.backward()\n",
        "        D_opt.step()\n",
        "\n",
        "        # Training Generator\n",
        "        z = (torch.rand(size=[batch_size, n_noise])*2-1).to(DEVICE)\n",
        "        x_fake = G(z)\n",
        "        z_outputs = D(x_fake)\n",
        "        G_loss = r1loss(z_outputs, True)\n",
        "        \n",
        "        G.zero_grad()\n",
        "        G_loss.backward()\n",
        "        G_opt.step()\n",
        "        \n",
        "        if step % save_term == 0:\n",
        "            save_checkpoint({'global_step': step,\n",
        "                 'D':D.state_dict(),\n",
        "                 'G':G.state_dict(),\n",
        "                 'd_optim': D_opt.state_dict(),\n",
        "                 'g_optim' : G_opt.state_dict()},\n",
        "                'ckpt/r1gan{:06d}.pth.tar'.format(step))\n",
        "        \n",
        "        if step % log_term == 0:\n",
        "            dt = datetime.datetime.now().strftime('%H:%M:%S')\n",
        "            print('Epoch: {}/{}, Step: {}, D Loss: {:.4f}, G Loss: {:.4f}, gp: {:.4f}, Time:{}'.format(epoch, max_epoch, step, D_loss.item(), G_loss.item(), grad_penalty.item(), dt))\n",
        "            G.eval()\n",
        "            img = get_sample_image(G, n_noise, n_samples=25)\n",
        "            imsave('samples/{}_step{:06d}.jpg'.format(MODEL_NAME, step), img)\n",
        "            G.train()\n",
        "        \n",
        "        step += 1\n",
        "#     D_scheduler.step()\n",
        "#     G_scheduler.step()"
      ],
      "execution_count": 184,
      "outputs": [
        {
          "output_type": "stream",
          "text": [
            "\r  0%|          | 0/6 [00:00<?, ?it/s]/usr/local/lib/python3.6/dist-packages/torch/nn/functional.py:3121: UserWarning: Default upsampling behavior when mode=bilinear is changed to align_corners=False since 0.4.0. Please specify align_corners=True if the old behavior is desired. See the documentation of nn.Upsample for details.\n",
            "  \"See the documentation of nn.Upsample for details.\".format(mode))\n",
            " 17%|█▋        | 1/6 [00:02<00:13,  2.66s/it]"
          ],
          "name": "stderr"
        },
        {
          "output_type": "stream",
          "text": [
            "Epoch: 0/400, Step: 0, D Loss: 1.3978, G Loss: 0.4333, gp: 0.0000, Time:05:35:29\n"
          ],
          "name": "stdout"
        },
        {
          "output_type": "stream",
          "text": [
            "100%|██████████| 6/6 [00:06<00:00,  1.14s/it]\n",
            "100%|██████████| 6/6 [00:05<00:00,  1.09it/s]\n",
            "100%|██████████| 6/6 [00:05<00:00,  1.09it/s]\n",
            "100%|██████████| 6/6 [00:05<00:00,  1.10it/s]\n",
            "100%|██████████| 6/6 [00:05<00:00,  1.09it/s]\n",
            "100%|██████████| 6/6 [00:05<00:00,  1.09it/s]\n",
            "100%|██████████| 6/6 [00:05<00:00,  1.08it/s]\n",
            "100%|██████████| 6/6 [00:05<00:00,  1.09it/s]\n",
            "100%|██████████| 6/6 [00:05<00:00,  1.10it/s]\n",
            "100%|██████████| 6/6 [00:05<00:00,  1.09it/s]\n",
            "100%|██████████| 6/6 [00:05<00:00,  1.09it/s]\n",
            "100%|██████████| 6/6 [00:05<00:00,  1.10it/s]\n",
            "100%|██████████| 6/6 [00:05<00:00,  1.09it/s]\n",
            "100%|██████████| 6/6 [00:05<00:00,  1.09it/s]\n",
            "100%|██████████| 6/6 [00:05<00:00,  1.09it/s]\n",
            "100%|██████████| 6/6 [00:05<00:00,  1.09it/s]\n",
            "100%|██████████| 6/6 [00:05<00:00,  1.09it/s]\n",
            "100%|██████████| 6/6 [00:05<00:00,  1.09it/s]\n",
            "100%|██████████| 6/6 [00:05<00:00,  1.08it/s]\n",
            "100%|██████████| 6/6 [00:05<00:00,  1.11it/s]\n",
            "100%|██████████| 6/6 [00:05<00:00,  1.09it/s]\n",
            "100%|██████████| 6/6 [00:05<00:00,  1.10it/s]\n",
            "100%|██████████| 6/6 [00:05<00:00,  1.10it/s]\n",
            "100%|██████████| 6/6 [00:05<00:00,  1.10it/s]\n",
            "100%|██████████| 6/6 [00:05<00:00,  1.09it/s]\n",
            "100%|██████████| 6/6 [00:05<00:00,  1.10it/s]\n",
            "100%|██████████| 6/6 [00:05<00:00,  1.10it/s]\n",
            "100%|██████████| 6/6 [00:05<00:00,  1.10it/s]\n",
            "100%|██████████| 6/6 [00:05<00:00,  1.10it/s]\n",
            "100%|██████████| 6/6 [00:05<00:00,  1.10it/s]\n",
            "100%|██████████| 6/6 [00:05<00:00,  1.11it/s]\n",
            "100%|██████████| 6/6 [00:05<00:00,  1.09it/s]\n",
            "100%|██████████| 6/6 [00:05<00:00,  1.09it/s]\n",
            "100%|██████████| 6/6 [00:05<00:00,  1.10it/s]\n",
            "100%|██████████| 6/6 [00:05<00:00,  1.10it/s]\n",
            "100%|██████████| 6/6 [00:05<00:00,  1.09it/s]\n",
            "100%|██████████| 6/6 [00:05<00:00,  1.11it/s]\n",
            "100%|██████████| 6/6 [00:05<00:00,  1.09it/s]\n",
            "100%|██████████| 6/6 [00:05<00:00,  1.09it/s]\n",
            "100%|██████████| 6/6 [00:05<00:00,  1.09it/s]\n",
            "100%|██████████| 6/6 [00:05<00:00,  1.10it/s]\n",
            "100%|██████████| 6/6 [00:05<00:00,  1.09it/s]\n",
            "100%|██████████| 6/6 [00:05<00:00,  1.10it/s]\n",
            "100%|██████████| 6/6 [00:05<00:00,  1.10it/s]\n",
            "100%|██████████| 6/6 [00:05<00:00,  1.10it/s]\n",
            "100%|██████████| 6/6 [00:05<00:00,  1.10it/s]\n",
            "100%|██████████| 6/6 [00:05<00:00,  1.10it/s]\n",
            "100%|██████████| 6/6 [00:05<00:00,  1.10it/s]\n",
            "100%|██████████| 6/6 [00:05<00:00,  1.09it/s]\n",
            "100%|██████████| 6/6 [00:05<00:00,  1.09it/s]\n",
            "100%|██████████| 6/6 [00:05<00:00,  1.09it/s]\n",
            "100%|██████████| 6/6 [00:05<00:00,  1.09it/s]\n",
            "100%|██████████| 6/6 [00:05<00:00,  1.11it/s]\n",
            "100%|██████████| 6/6 [00:05<00:00,  1.10it/s]\n",
            "100%|██████████| 6/6 [00:05<00:00,  1.09it/s]\n",
            "100%|██████████| 6/6 [00:05<00:00,  1.10it/s]\n",
            "100%|██████████| 6/6 [00:05<00:00,  1.11it/s]\n",
            "100%|██████████| 6/6 [00:05<00:00,  1.09it/s]\n",
            "100%|██████████| 6/6 [00:05<00:00,  1.10it/s]\n",
            "100%|██████████| 6/6 [00:05<00:00,  1.10it/s]\n",
            "100%|██████████| 6/6 [00:05<00:00,  1.10it/s]\n",
            "100%|██████████| 6/6 [00:05<00:00,  1.10it/s]\n",
            "100%|██████████| 6/6 [00:05<00:00,  1.10it/s]\n",
            "100%|██████████| 6/6 [00:05<00:00,  1.10it/s]\n",
            "100%|██████████| 6/6 [00:05<00:00,  1.10it/s]\n",
            "100%|██████████| 6/6 [00:05<00:00,  1.09it/s]\n",
            "100%|██████████| 6/6 [00:05<00:00,  1.09it/s]\n",
            "100%|██████████| 6/6 [00:05<00:00,  1.09it/s]\n",
            "100%|██████████| 6/6 [00:05<00:00,  1.10it/s]\n",
            "100%|██████████| 6/6 [00:05<00:00,  1.11it/s]\n",
            "100%|██████████| 6/6 [00:05<00:00,  1.11it/s]\n",
            "100%|██████████| 6/6 [00:05<00:00,  1.09it/s]\n",
            "100%|██████████| 6/6 [00:05<00:00,  1.10it/s]\n",
            "100%|██████████| 6/6 [00:05<00:00,  1.09it/s]\n",
            "100%|██████████| 6/6 [00:05<00:00,  1.10it/s]\n",
            "100%|██████████| 6/6 [00:05<00:00,  1.10it/s]\n",
            "100%|██████████| 6/6 [00:05<00:00,  1.09it/s]\n",
            "100%|██████████| 6/6 [00:05<00:00,  1.10it/s]\n",
            "100%|██████████| 6/6 [00:05<00:00,  1.11it/s]\n",
            "100%|██████████| 6/6 [00:05<00:00,  1.10it/s]\n",
            "100%|██████████| 6/6 [00:05<00:00,  1.09it/s]\n",
            "100%|██████████| 6/6 [00:05<00:00,  1.10it/s]\n",
            "100%|██████████| 6/6 [00:05<00:00,  1.09it/s]\n",
            "100%|██████████| 6/6 [00:05<00:00,  1.10it/s]\n",
            "100%|██████████| 6/6 [00:05<00:00,  1.10it/s]\n",
            "100%|██████████| 6/6 [00:05<00:00,  1.09it/s]\n",
            "100%|██████████| 6/6 [00:05<00:00,  1.10it/s]\n",
            "100%|██████████| 6/6 [00:05<00:00,  1.09it/s]\n",
            "100%|██████████| 6/6 [00:05<00:00,  1.10it/s]\n",
            "100%|██████████| 6/6 [00:05<00:00,  1.10it/s]\n",
            "100%|██████████| 6/6 [00:05<00:00,  1.09it/s]\n",
            "100%|██████████| 6/6 [00:05<00:00,  1.10it/s]\n",
            "100%|██████████| 6/6 [00:05<00:00,  1.10it/s]\n",
            "100%|██████████| 6/6 [00:05<00:00,  1.11it/s]\n",
            "100%|██████████| 6/6 [00:05<00:00,  1.10it/s]\n",
            "100%|██████████| 6/6 [00:05<00:00,  1.10it/s]\n",
            "100%|██████████| 6/6 [00:05<00:00,  1.10it/s]\n",
            "100%|██████████| 6/6 [00:05<00:00,  1.11it/s]\n",
            "100%|██████████| 6/6 [00:05<00:00,  1.09it/s]\n",
            "100%|██████████| 6/6 [00:05<00:00,  1.09it/s]\n",
            "100%|██████████| 6/6 [00:05<00:00,  1.10it/s]\n",
            "100%|██████████| 6/6 [00:05<00:00,  1.09it/s]\n",
            "100%|██████████| 6/6 [00:05<00:00,  1.09it/s]\n",
            "100%|██████████| 6/6 [00:05<00:00,  1.10it/s]\n",
            "100%|██████████| 6/6 [00:05<00:00,  1.09it/s]\n",
            "100%|██████████| 6/6 [00:05<00:00,  1.09it/s]\n",
            "100%|██████████| 6/6 [00:05<00:00,  1.09it/s]\n",
            "100%|██████████| 6/6 [00:05<00:00,  1.09it/s]\n",
            "100%|██████████| 6/6 [00:05<00:00,  1.09it/s]\n",
            "100%|██████████| 6/6 [00:05<00:00,  1.11it/s]\n",
            "100%|██████████| 6/6 [00:05<00:00,  1.09it/s]\n",
            "100%|██████████| 6/6 [00:05<00:00,  1.09it/s]\n",
            "100%|██████████| 6/6 [00:05<00:00,  1.11it/s]\n",
            "100%|██████████| 6/6 [00:05<00:00,  1.09it/s]\n",
            "100%|██████████| 6/6 [00:05<00:00,  1.11it/s]\n",
            "100%|██████████| 6/6 [00:05<00:00,  1.11it/s]\n",
            "100%|██████████| 6/6 [00:05<00:00,  1.09it/s]\n",
            "100%|██████████| 6/6 [00:05<00:00,  1.10it/s]\n",
            "100%|██████████| 6/6 [00:05<00:00,  1.09it/s]\n",
            "100%|██████████| 6/6 [00:05<00:00,  1.08it/s]\n",
            "100%|██████████| 6/6 [00:05<00:00,  1.09it/s]\n",
            "100%|██████████| 6/6 [00:05<00:00,  1.08it/s]\n",
            "100%|██████████| 6/6 [00:05<00:00,  1.10it/s]\n",
            "100%|██████████| 6/6 [00:05<00:00,  1.09it/s]\n",
            "100%|██████████| 6/6 [00:05<00:00,  1.10it/s]\n",
            "100%|██████████| 6/6 [00:05<00:00,  1.09it/s]\n",
            "100%|██████████| 6/6 [00:05<00:00,  1.10it/s]\n",
            "100%|██████████| 6/6 [00:05<00:00,  1.09it/s]\n",
            "100%|██████████| 6/6 [00:05<00:00,  1.09it/s]\n",
            "100%|██████████| 6/6 [00:05<00:00,  1.09it/s]\n",
            "100%|██████████| 6/6 [00:05<00:00,  1.09it/s]\n",
            "100%|██████████| 6/6 [00:05<00:00,  1.10it/s]\n",
            "100%|██████████| 6/6 [00:05<00:00,  1.10it/s]\n",
            "100%|██████████| 6/6 [00:05<00:00,  1.09it/s]\n",
            "100%|██████████| 6/6 [00:05<00:00,  1.09it/s]\n",
            "100%|██████████| 6/6 [00:05<00:00,  1.09it/s]\n",
            "100%|██████████| 6/6 [00:05<00:00,  1.09it/s]\n",
            "100%|██████████| 6/6 [00:05<00:00,  1.09it/s]\n",
            "100%|██████████| 6/6 [00:05<00:00,  1.09it/s]\n",
            "100%|██████████| 6/6 [00:05<00:00,  1.10it/s]\n",
            "100%|██████████| 6/6 [00:05<00:00,  1.09it/s]\n",
            "100%|██████████| 6/6 [00:05<00:00,  1.09it/s]\n",
            "100%|██████████| 6/6 [00:05<00:00,  1.10it/s]\n",
            "100%|██████████| 6/6 [00:05<00:00,  1.10it/s]\n",
            "100%|██████████| 6/6 [00:05<00:00,  1.10it/s]\n",
            "100%|██████████| 6/6 [00:05<00:00,  1.09it/s]\n",
            "100%|██████████| 6/6 [00:05<00:00,  1.10it/s]\n",
            "100%|██████████| 6/6 [00:05<00:00,  1.11it/s]\n",
            "100%|██████████| 6/6 [00:05<00:00,  1.09it/s]\n",
            "100%|██████████| 6/6 [00:05<00:00,  1.09it/s]\n",
            "100%|██████████| 6/6 [00:05<00:00,  1.10it/s]\n",
            "100%|██████████| 6/6 [00:05<00:00,  1.10it/s]\n",
            "100%|██████████| 6/6 [00:05<00:00,  1.10it/s]\n",
            "100%|██████████| 6/6 [00:05<00:00,  1.10it/s]\n",
            "100%|██████████| 6/6 [00:05<00:00,  1.10it/s]\n",
            "100%|██████████| 6/6 [00:05<00:00,  1.11it/s]\n",
            "100%|██████████| 6/6 [00:05<00:00,  1.10it/s]\n",
            "100%|██████████| 6/6 [00:05<00:00,  1.10it/s]\n",
            "100%|██████████| 6/6 [00:05<00:00,  1.10it/s]\n",
            "100%|██████████| 6/6 [00:05<00:00,  1.10it/s]\n",
            "100%|██████████| 6/6 [00:05<00:00,  1.10it/s]\n",
            "100%|██████████| 6/6 [00:05<00:00,  1.10it/s]\n",
            "100%|██████████| 6/6 [00:05<00:00,  1.10it/s]\n",
            "100%|██████████| 6/6 [00:05<00:00,  1.09it/s]\n",
            "100%|██████████| 6/6 [00:05<00:00,  1.10it/s]\n",
            "100%|██████████| 6/6 [00:05<00:00,  1.10it/s]\n",
            " 83%|████████▎ | 5/6 [00:05<00:01,  1.25s/it]"
          ],
          "name": "stderr"
        },
        {
          "output_type": "stream",
          "text": [
            "Epoch: 166/400, Step: 1000, D Loss: 0.7992, G Loss: 3.7753, gp: 0.1091, Time:05:50:43\n"
          ],
          "name": "stdout"
        },
        {
          "output_type": "stream",
          "text": [
            "100%|██████████| 6/6 [00:06<00:00,  1.06s/it]\n",
            "100%|██████████| 6/6 [00:05<00:00,  1.09it/s]\n",
            "100%|██████████| 6/6 [00:05<00:00,  1.10it/s]\n",
            "100%|██████████| 6/6 [00:05<00:00,  1.10it/s]\n",
            "100%|██████████| 6/6 [00:05<00:00,  1.10it/s]\n",
            "100%|██████████| 6/6 [00:05<00:00,  1.11it/s]\n",
            "100%|██████████| 6/6 [00:05<00:00,  1.09it/s]\n",
            "100%|██████████| 6/6 [00:05<00:00,  1.10it/s]\n",
            "100%|██████████| 6/6 [00:05<00:00,  1.09it/s]\n",
            "100%|██████████| 6/6 [00:05<00:00,  1.10it/s]\n",
            "100%|██████████| 6/6 [00:05<00:00,  1.08it/s]\n",
            "100%|██████████| 6/6 [00:05<00:00,  1.10it/s]\n",
            "100%|██████████| 6/6 [00:05<00:00,  1.09it/s]\n",
            "100%|██████████| 6/6 [00:05<00:00,  1.10it/s]\n",
            "100%|██████████| 6/6 [00:05<00:00,  1.10it/s]\n",
            "100%|██████████| 6/6 [00:05<00:00,  1.09it/s]\n",
            "100%|██████████| 6/6 [00:05<00:00,  1.09it/s]\n",
            "100%|██████████| 6/6 [00:05<00:00,  1.09it/s]\n",
            "100%|██████████| 6/6 [00:05<00:00,  1.09it/s]\n",
            "100%|██████████| 6/6 [00:05<00:00,  1.10it/s]\n",
            "100%|██████████| 6/6 [00:05<00:00,  1.09it/s]\n",
            "100%|██████████| 6/6 [00:05<00:00,  1.10it/s]\n",
            "100%|██████████| 6/6 [00:05<00:00,  1.09it/s]\n",
            "100%|██████████| 6/6 [00:05<00:00,  1.10it/s]\n",
            "100%|██████████| 6/6 [00:05<00:00,  1.09it/s]\n",
            "100%|██████████| 6/6 [00:05<00:00,  1.10it/s]\n",
            "100%|██████████| 6/6 [00:05<00:00,  1.09it/s]\n",
            "100%|██████████| 6/6 [00:05<00:00,  1.10it/s]\n",
            "100%|██████████| 6/6 [00:05<00:00,  1.10it/s]\n",
            "100%|██████████| 6/6 [00:05<00:00,  1.09it/s]\n",
            "100%|██████████| 6/6 [00:05<00:00,  1.10it/s]\n",
            "100%|██████████| 6/6 [00:05<00:00,  1.10it/s]\n",
            "100%|██████████| 6/6 [00:05<00:00,  1.10it/s]\n",
            "100%|██████████| 6/6 [00:05<00:00,  1.09it/s]\n",
            "100%|██████████| 6/6 [00:05<00:00,  1.09it/s]\n",
            "100%|██████████| 6/6 [00:05<00:00,  1.10it/s]\n",
            "100%|██████████| 6/6 [00:05<00:00,  1.10it/s]\n",
            "100%|██████████| 6/6 [00:05<00:00,  1.09it/s]\n",
            "100%|██████████| 6/6 [00:05<00:00,  1.09it/s]\n",
            "100%|██████████| 6/6 [00:05<00:00,  1.09it/s]\n",
            "100%|██████████| 6/6 [00:05<00:00,  1.10it/s]\n",
            "100%|██████████| 6/6 [00:05<00:00,  1.10it/s]\n",
            "100%|██████████| 6/6 [00:05<00:00,  1.10it/s]\n",
            "100%|██████████| 6/6 [00:05<00:00,  1.09it/s]\n",
            "100%|██████████| 6/6 [00:05<00:00,  1.10it/s]\n",
            "100%|██████████| 6/6 [00:05<00:00,  1.11it/s]\n",
            "100%|██████████| 6/6 [00:05<00:00,  1.10it/s]\n",
            "100%|██████████| 6/6 [00:05<00:00,  1.10it/s]\n",
            "100%|██████████| 6/6 [00:05<00:00,  1.10it/s]\n",
            "100%|██████████| 6/6 [00:05<00:00,  1.09it/s]\n",
            "100%|██████████| 6/6 [00:05<00:00,  1.11it/s]\n",
            "100%|██████████| 6/6 [00:05<00:00,  1.10it/s]\n",
            "100%|██████████| 6/6 [00:05<00:00,  1.10it/s]\n",
            "100%|██████████| 6/6 [00:05<00:00,  1.12it/s]\n",
            "100%|██████████| 6/6 [00:05<00:00,  1.09it/s]\n",
            "100%|██████████| 6/6 [00:05<00:00,  1.11it/s]\n",
            "100%|██████████| 6/6 [00:05<00:00,  1.10it/s]\n",
            "100%|██████████| 6/6 [00:05<00:00,  1.10it/s]\n",
            "100%|██████████| 6/6 [00:05<00:00,  1.09it/s]\n",
            "100%|██████████| 6/6 [00:05<00:00,  1.10it/s]\n",
            "100%|██████████| 6/6 [00:05<00:00,  1.09it/s]\n",
            "100%|██████████| 6/6 [00:05<00:00,  1.10it/s]\n",
            "100%|██████████| 6/6 [00:05<00:00,  1.10it/s]\n",
            "100%|██████████| 6/6 [00:05<00:00,  1.10it/s]\n",
            "100%|██████████| 6/6 [00:05<00:00,  1.10it/s]\n",
            "100%|██████████| 6/6 [00:05<00:00,  1.10it/s]\n",
            "100%|██████████| 6/6 [00:05<00:00,  1.09it/s]\n",
            "100%|██████████| 6/6 [00:05<00:00,  1.09it/s]\n",
            "100%|██████████| 6/6 [00:05<00:00,  1.10it/s]\n",
            "100%|██████████| 6/6 [00:05<00:00,  1.09it/s]\n",
            "100%|██████████| 6/6 [00:05<00:00,  1.10it/s]\n",
            "100%|██████████| 6/6 [00:05<00:00,  1.09it/s]\n",
            "100%|██████████| 6/6 [00:05<00:00,  1.11it/s]\n",
            "100%|██████████| 6/6 [00:05<00:00,  1.09it/s]\n",
            "100%|██████████| 6/6 [00:05<00:00,  1.09it/s]\n",
            "100%|██████████| 6/6 [00:05<00:00,  1.09it/s]\n",
            "100%|██████████| 6/6 [00:05<00:00,  1.10it/s]\n",
            "100%|██████████| 6/6 [00:05<00:00,  1.10it/s]\n",
            "100%|██████████| 6/6 [00:05<00:00,  1.11it/s]\n",
            "100%|██████████| 6/6 [00:05<00:00,  1.10it/s]\n",
            "100%|██████████| 6/6 [00:05<00:00,  1.09it/s]\n",
            "100%|██████████| 6/6 [00:05<00:00,  1.09it/s]\n",
            "100%|██████████| 6/6 [00:05<00:00,  1.09it/s]\n",
            "100%|██████████| 6/6 [00:05<00:00,  1.09it/s]\n",
            "100%|██████████| 6/6 [00:05<00:00,  1.09it/s]\n",
            "100%|██████████| 6/6 [00:05<00:00,  1.08it/s]\n",
            "100%|██████████| 6/6 [00:05<00:00,  1.10it/s]\n",
            "100%|██████████| 6/6 [00:05<00:00,  1.11it/s]\n",
            "100%|██████████| 6/6 [00:05<00:00,  1.09it/s]\n",
            "100%|██████████| 6/6 [00:05<00:00,  1.10it/s]\n",
            "100%|██████████| 6/6 [00:05<00:00,  1.09it/s]\n",
            "100%|██████████| 6/6 [00:05<00:00,  1.10it/s]\n",
            "100%|██████████| 6/6 [00:05<00:00,  1.10it/s]\n",
            "100%|██████████| 6/6 [00:05<00:00,  1.10it/s]\n",
            "100%|██████████| 6/6 [00:05<00:00,  1.09it/s]\n",
            "100%|██████████| 6/6 [00:05<00:00,  1.10it/s]\n",
            "100%|██████████| 6/6 [00:05<00:00,  1.10it/s]\n",
            "100%|██████████| 6/6 [00:05<00:00,  1.10it/s]\n",
            "100%|██████████| 6/6 [00:05<00:00,  1.10it/s]\n",
            "100%|██████████| 6/6 [00:05<00:00,  1.10it/s]\n",
            "100%|██████████| 6/6 [00:05<00:00,  1.10it/s]\n",
            "100%|██████████| 6/6 [00:05<00:00,  1.10it/s]\n",
            "100%|██████████| 6/6 [00:05<00:00,  1.10it/s]\n",
            "100%|██████████| 6/6 [00:05<00:00,  1.09it/s]\n",
            "100%|██████████| 6/6 [00:05<00:00,  1.11it/s]\n",
            "100%|██████████| 6/6 [00:05<00:00,  1.11it/s]\n",
            "100%|██████████| 6/6 [00:05<00:00,  1.10it/s]\n",
            "100%|██████████| 6/6 [00:05<00:00,  1.10it/s]\n",
            "100%|██████████| 6/6 [00:05<00:00,  1.10it/s]\n",
            "100%|██████████| 6/6 [00:05<00:00,  1.10it/s]\n",
            "100%|██████████| 6/6 [00:05<00:00,  1.11it/s]\n",
            "100%|██████████| 6/6 [00:05<00:00,  1.10it/s]\n",
            "100%|██████████| 6/6 [00:05<00:00,  1.10it/s]\n",
            "100%|██████████| 6/6 [00:05<00:00,  1.10it/s]\n",
            "100%|██████████| 6/6 [00:05<00:00,  1.09it/s]\n",
            "100%|██████████| 6/6 [00:05<00:00,  1.09it/s]\n",
            "100%|██████████| 6/6 [00:05<00:00,  1.10it/s]\n",
            "100%|██████████| 6/6 [00:05<00:00,  1.11it/s]\n",
            "100%|██████████| 6/6 [00:05<00:00,  1.11it/s]\n",
            "100%|██████████| 6/6 [00:05<00:00,  1.10it/s]\n",
            "100%|██████████| 6/6 [00:05<00:00,  1.10it/s]\n",
            "100%|██████████| 6/6 [00:05<00:00,  1.10it/s]\n",
            "100%|██████████| 6/6 [00:05<00:00,  1.09it/s]\n",
            "100%|██████████| 6/6 [00:05<00:00,  1.09it/s]\n",
            "100%|██████████| 6/6 [00:05<00:00,  1.09it/s]\n",
            "100%|██████████| 6/6 [00:05<00:00,  1.09it/s]\n",
            "100%|██████████| 6/6 [00:05<00:00,  1.10it/s]\n",
            "100%|██████████| 6/6 [00:05<00:00,  1.10it/s]\n",
            "100%|██████████| 6/6 [00:05<00:00,  1.10it/s]\n",
            "100%|██████████| 6/6 [00:05<00:00,  1.09it/s]\n",
            "100%|██████████| 6/6 [00:05<00:00,  1.09it/s]\n",
            "100%|██████████| 6/6 [00:05<00:00,  1.10it/s]\n",
            "100%|██████████| 6/6 [00:05<00:00,  1.09it/s]\n",
            "100%|██████████| 6/6 [00:05<00:00,  1.09it/s]\n",
            "100%|██████████| 6/6 [00:05<00:00,  1.10it/s]\n",
            "100%|██████████| 6/6 [00:05<00:00,  1.09it/s]\n",
            "100%|██████████| 6/6 [00:05<00:00,  1.09it/s]\n",
            "100%|██████████| 6/6 [00:05<00:00,  1.09it/s]\n",
            "100%|██████████| 6/6 [00:05<00:00,  1.10it/s]\n",
            "100%|██████████| 6/6 [00:05<00:00,  1.10it/s]\n",
            "100%|██████████| 6/6 [00:05<00:00,  1.09it/s]\n",
            "100%|██████████| 6/6 [00:05<00:00,  1.10it/s]\n",
            "100%|██████████| 6/6 [00:05<00:00,  1.10it/s]\n",
            "100%|██████████| 6/6 [00:05<00:00,  1.09it/s]\n",
            "100%|██████████| 6/6 [00:05<00:00,  1.11it/s]\n",
            "100%|██████████| 6/6 [00:05<00:00,  1.10it/s]\n",
            "100%|██████████| 6/6 [00:05<00:00,  1.10it/s]\n",
            "100%|██████████| 6/6 [00:05<00:00,  1.11it/s]\n",
            "100%|██████████| 6/6 [00:05<00:00,  1.10it/s]\n",
            "100%|██████████| 6/6 [00:05<00:00,  1.10it/s]\n",
            "100%|██████████| 6/6 [00:05<00:00,  1.09it/s]\n",
            "100%|██████████| 6/6 [00:05<00:00,  1.10it/s]\n",
            "100%|██████████| 6/6 [00:05<00:00,  1.12it/s]\n",
            "100%|██████████| 6/6 [00:05<00:00,  1.10it/s]\n",
            "100%|██████████| 6/6 [00:05<00:00,  1.10it/s]\n",
            "100%|██████████| 6/6 [00:05<00:00,  1.10it/s]\n",
            "100%|██████████| 6/6 [00:05<00:00,  1.11it/s]\n",
            "100%|██████████| 6/6 [00:05<00:00,  1.10it/s]\n",
            "100%|██████████| 6/6 [00:05<00:00,  1.10it/s]\n",
            "100%|██████████| 6/6 [00:05<00:00,  1.10it/s]\n",
            "100%|██████████| 6/6 [00:05<00:00,  1.09it/s]\n",
            "100%|██████████| 6/6 [00:05<00:00,  1.09it/s]\n",
            "100%|██████████| 6/6 [00:05<00:00,  1.10it/s]\n",
            "100%|██████████| 6/6 [00:05<00:00,  1.09it/s]\n",
            "100%|██████████| 6/6 [00:05<00:00,  1.10it/s]\n",
            "100%|██████████| 6/6 [00:05<00:00,  1.11it/s]\n",
            "100%|██████████| 6/6 [00:05<00:00,  1.11it/s]\n",
            " 50%|█████     | 3/6 [00:03<00:04,  1.35s/it]"
          ],
          "name": "stderr"
        },
        {
          "output_type": "stream",
          "text": [
            "Epoch: 333/400, Step: 2000, D Loss: 0.8985, G Loss: 1.7884, gp: 0.2115, Time:06:05:56\n"
          ],
          "name": "stdout"
        },
        {
          "output_type": "stream",
          "text": [
            "100%|██████████| 6/6 [00:06<00:00,  1.07s/it]\n",
            "100%|██████████| 6/6 [00:05<00:00,  1.11it/s]\n",
            "100%|██████████| 6/6 [00:05<00:00,  1.09it/s]\n",
            "100%|██████████| 6/6 [00:05<00:00,  1.09it/s]\n",
            "100%|██████████| 6/6 [00:05<00:00,  1.09it/s]\n",
            "100%|██████████| 6/6 [00:05<00:00,  1.11it/s]\n",
            "100%|██████████| 6/6 [00:05<00:00,  1.10it/s]\n",
            "100%|██████████| 6/6 [00:05<00:00,  1.09it/s]\n",
            "100%|██████████| 6/6 [00:05<00:00,  1.09it/s]\n",
            "100%|██████████| 6/6 [00:05<00:00,  1.09it/s]\n",
            "100%|██████████| 6/6 [00:05<00:00,  1.11it/s]\n",
            "100%|██████████| 6/6 [00:05<00:00,  1.09it/s]\n",
            "100%|██████████| 6/6 [00:05<00:00,  1.11it/s]\n",
            "100%|██████████| 6/6 [00:05<00:00,  1.09it/s]\n",
            "100%|██████████| 6/6 [00:05<00:00,  1.09it/s]\n",
            "100%|██████████| 6/6 [00:05<00:00,  1.10it/s]\n",
            "100%|██████████| 6/6 [00:05<00:00,  1.11it/s]\n",
            "100%|██████████| 6/6 [00:05<00:00,  1.09it/s]\n",
            "100%|██████████| 6/6 [00:05<00:00,  1.10it/s]\n",
            "100%|██████████| 6/6 [00:05<00:00,  1.10it/s]\n",
            "100%|██████████| 6/6 [00:05<00:00,  1.09it/s]\n",
            "100%|██████████| 6/6 [00:05<00:00,  1.09it/s]\n",
            "100%|██████████| 6/6 [00:05<00:00,  1.09it/s]\n",
            "100%|██████████| 6/6 [00:05<00:00,  1.11it/s]\n",
            "100%|██████████| 6/6 [00:05<00:00,  1.10it/s]\n",
            "100%|██████████| 6/6 [00:05<00:00,  1.09it/s]\n",
            "100%|██████████| 6/6 [00:05<00:00,  1.11it/s]\n",
            "100%|██████████| 6/6 [00:05<00:00,  1.11it/s]\n",
            "100%|██████████| 6/6 [00:05<00:00,  1.09it/s]\n",
            "100%|██████████| 6/6 [00:05<00:00,  1.11it/s]\n",
            "100%|██████████| 6/6 [00:05<00:00,  1.09it/s]\n",
            "100%|██████████| 6/6 [00:05<00:00,  1.09it/s]\n",
            "100%|██████████| 6/6 [00:05<00:00,  1.10it/s]\n",
            "100%|██████████| 6/6 [00:05<00:00,  1.10it/s]\n",
            "100%|██████████| 6/6 [00:05<00:00,  1.10it/s]\n",
            "100%|██████████| 6/6 [00:05<00:00,  1.09it/s]\n",
            "100%|██████████| 6/6 [00:05<00:00,  1.09it/s]\n",
            "100%|██████████| 6/6 [00:05<00:00,  1.09it/s]\n",
            "100%|██████████| 6/6 [00:05<00:00,  1.10it/s]\n",
            "100%|██████████| 6/6 [00:05<00:00,  1.09it/s]\n",
            "100%|██████████| 6/6 [00:05<00:00,  1.11it/s]\n",
            "100%|██████████| 6/6 [00:05<00:00,  1.10it/s]\n",
            "100%|██████████| 6/6 [00:05<00:00,  1.10it/s]\n",
            "100%|██████████| 6/6 [00:05<00:00,  1.11it/s]\n",
            "100%|██████████| 6/6 [00:05<00:00,  1.09it/s]\n",
            "100%|██████████| 6/6 [00:05<00:00,  1.09it/s]\n",
            "100%|██████████| 6/6 [00:05<00:00,  1.09it/s]\n",
            "100%|██████████| 6/6 [00:05<00:00,  1.10it/s]\n",
            "100%|██████████| 6/6 [00:05<00:00,  1.10it/s]\n",
            "100%|██████████| 6/6 [00:05<00:00,  1.10it/s]\n",
            "100%|██████████| 6/6 [00:05<00:00,  1.08it/s]\n",
            "100%|██████████| 6/6 [00:05<00:00,  1.08it/s]\n",
            "100%|██████████| 6/6 [00:05<00:00,  1.09it/s]\n",
            "100%|██████████| 6/6 [00:05<00:00,  1.09it/s]\n",
            "100%|██████████| 6/6 [00:05<00:00,  1.09it/s]\n",
            "100%|██████████| 6/6 [00:05<00:00,  1.10it/s]\n",
            "100%|██████████| 6/6 [00:05<00:00,  1.09it/s]\n",
            "100%|██████████| 6/6 [00:05<00:00,  1.09it/s]\n",
            "100%|██████████| 6/6 [00:05<00:00,  1.10it/s]\n",
            "100%|██████████| 6/6 [00:05<00:00,  1.09it/s]\n",
            "100%|██████████| 6/6 [00:05<00:00,  1.10it/s]\n",
            "100%|██████████| 6/6 [00:05<00:00,  1.10it/s]\n",
            "100%|██████████| 6/6 [00:05<00:00,  1.09it/s]\n",
            "100%|██████████| 6/6 [00:05<00:00,  1.10it/s]\n",
            "100%|██████████| 6/6 [00:05<00:00,  1.10it/s]\n",
            "100%|██████████| 6/6 [00:05<00:00,  1.10it/s]\n",
            "100%|██████████| 6/6 [00:05<00:00,  1.10it/s]\n"
          ],
          "name": "stderr"
        }
      ]
    },
    {
      "cell_type": "code",
      "metadata": {
        "id": "uFTF18DrnHe2",
        "colab_type": "code",
        "colab": {}
      },
      "source": [
        "save_checkpoint({'global_step': step,\n",
        "     'D':D.state_dict(),\n",
        "     'G':G.state_dict(),\n",
        "     'd_optim': D_opt.state_dict(),\n",
        "     'g_optim' : G_opt.state_dict()},\n",
        "    'ckpt/r1gan{:06d}.pth.tar'.format(step))"
      ],
      "execution_count": 185,
      "outputs": []
    },
    {
      "cell_type": "code",
      "metadata": {
        "id": "QL6goKYynJEa",
        "colab_type": "code",
        "colab": {
          "base_uri": "https://localhost:8080/",
          "height": 34
        },
        "outputId": "988702e9-6f72-41c4-c1bd-14b722818825"
      },
      "source": [
        "\n",
        "G_path = sorted(glob.glob(os.path.join('ckpt', '*.pth.tar')))[-1]\n",
        "state = torch.load(G_path)\n",
        "G.load_state_dict(state['G'])"
      ],
      "execution_count": 186,
      "outputs": [
        {
          "output_type": "execute_result",
          "data": {
            "text/plain": [
              "<All keys matched successfully>"
            ]
          },
          "metadata": {
            "tags": []
          },
          "execution_count": 186
        }
      ]
    },
    {
      "cell_type": "code",
      "metadata": {
        "id": "90fSe4BGnSZ3",
        "colab_type": "code",
        "colab": {}
      },
      "source": [
        "G.eval()\n",
        "None"
      ],
      "execution_count": 187,
      "outputs": []
    },
    {
      "cell_type": "code",
      "metadata": {
        "id": "IZXjdkyenXyq",
        "colab_type": "code",
        "colab": {
          "base_uri": "https://localhost:8080/",
          "height": 340
        },
        "outputId": "adcf0159-c106-4268-99f1-6e3a89bfd056"
      },
      "source": [
        "img = get_sample_image(G, n_noise, n_samples=25)\n",
        "imshow(img)"
      ],
      "execution_count": 188,
      "outputs": [
        {
          "output_type": "stream",
          "text": [
            "/usr/local/lib/python3.6/dist-packages/torch/nn/functional.py:3121: UserWarning: Default upsampling behavior when mode=bilinear is changed to align_corners=False since 0.4.0. Please specify align_corners=True if the old behavior is desired. See the documentation of nn.Upsample for details.\n",
            "  \"See the documentation of nn.Upsample for details.\".format(mode))\n"
          ],
          "name": "stderr"
        },
        {
          "output_type": "execute_result",
          "data": {
            "text/plain": [
              "<matplotlib.image.AxesImage at 0x7fb8632776a0>"
            ]
          },
          "metadata": {
            "tags": []
          },
          "execution_count": 188
        },
        {
          "output_type": "display_data",
          "data": {
            "image/png": "[encoded data removed]",
            "text/plain": [
              "<Figure size 432x288 with 1 Axes>"
            ]
          },
          "metadata": {
            "tags": [],
            "needs_background": "light"
          }
        }
      ]
    },
    {
      "cell_type": "code",
      "metadata": {
        "id": "UPM81tnLnY5l",
        "colab_type": "code",
        "colab": {
          "base_uri": "https://localhost:8080/",
          "height": 285
        },
        "outputId": "904fb56f-bf78-418e-fc26-367e46d203ef"
      },
      "source": [
        "# Fake Image\n",
        "idx = [3, 1]\n",
        "row, col = IMAGE_DIM[0]*idx[0], IMAGE_DIM[1]*idx[1]\n",
        "imshow(img[row:row+IMAGE_DIM[0], col:col+IMAGE_DIM[1], :])"
      ],
      "execution_count": 189,
      "outputs": [
        {
          "output_type": "execute_result",
          "data": {
            "text/plain": [
              "<matplotlib.image.AxesImage at 0x7fb86349ef98>"
            ]
          },
          "metadata": {
            "tags": []
          },
          "execution_count": 189
        },
        {
          "output_type": "display_data",
          "data": {
            "image/png": "[encoded data removed]",
            "text/plain": [
              "<Figure size 432x288 with 1 Axes>"
            ]
          },
          "metadata": {
            "tags": [],
            "needs_background": "light"
          }
        }
      ]
    },
    {
      "cell_type": "code",
      "metadata": {
        "id": "bSyvzzPGnhFy",
        "colab_type": "code",
        "colab": {
          "base_uri": "https://localhost:8080/",
          "height": 285
        },
        "outputId": "ea7af26e-9b98-43b6-e04a-db2a6c824fef"
      },
      "source": [
        "# Real Image\n",
        "i = 14\n",
        "rimg = tensor2img(images[i])\n",
        "imshow(rimg)"
      ],
      "execution_count": 190,
      "outputs": [
        {
          "output_type": "execute_result",
          "data": {
            "text/plain": [
              "<matplotlib.image.AxesImage at 0x7fb86340e0f0>"
            ]
          },
          "metadata": {
            "tags": []
          },
          "execution_count": 190
        },
        {
          "output_type": "display_data",
          "data": {
            "image/png": "[encoded data removed]",
            "text/plain": [
              "<Figure size 432x288 with 1 Axes>"
            ]
          },
          "metadata": {
            "tags": [],
            "needs_background": "light"
          }
        }
      ]
    }
  ]
}