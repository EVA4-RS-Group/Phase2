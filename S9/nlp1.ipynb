{
  "nbformat": 4,
  "nbformat_minor": 0,
  "metadata": {
    "colab": {
      "name": "Untitled23.ipynb",
      "provenance": [],
      "authorship_tag": "ABX9TyPng106vjGCnQ5HKm1MG6e1",
      "include_colab_link": true
    },
    "kernelspec": {
      "name": "python3",
      "display_name": "Python 3"
    },
    "accelerator": "GPU"
  },
  "cells": [
    {
      "cell_type": "markdown",
      "metadata": {
        "id": "view-in-github",
        "colab_type": "text"
      },
      "source": [
        "<a href=\"https://colab.research.google.com/github/EVA4-RS-Group/Phase2/blob/master/S9/nlp1.ipynb\" target=\"_parent\"><img src=\"https://colab.research.google.com/assets/colab-badge.svg\" alt=\"Open In Colab\"/></a>"
      ]
    },
    {
      "cell_type": "code",
      "metadata": {
        "id": "7fPWWs5Q9b2D"
      },
      "source": [
        "import torch\n",
        "from torchtext import data\n",
        "\n",
        "SEED = 1234\n",
        "\n",
        "torch.manual_seed(SEED)\n",
        "torch.backends.cudnn.deterministic = True\n",
        "\n",
        "TEXT = data.Field(tokenize = 'spacy')\n",
        "LABEL = data.LabelField(dtype = torch.float)"
      ],
      "execution_count": 1,
      "outputs": []
    },
    {
      "cell_type": "code",
      "metadata": {
        "id": "ICmwjCIE9f2L",
        "outputId": "8fd5ec21-e494-429a-d846-5c628ed1b02e",
        "colab": {
          "base_uri": "https://localhost:8080/",
          "height": 50
        }
      },
      "source": [
        "from torchtext import datasets\n",
        "\n",
        "train_data, test_data = datasets.IMDB.splits(TEXT, LABEL)"
      ],
      "execution_count": 2,
      "outputs": [
        {
          "output_type": "stream",
          "text": [
            "downloading aclImdb_v1.tar.gz\n"
          ],
          "name": "stdout"
        },
        {
          "output_type": "stream",
          "text": [
            "aclImdb_v1.tar.gz: 100%|██████████| 84.1M/84.1M [00:07<00:00, 11.0MB/s]\n"
          ],
          "name": "stderr"
        }
      ]
    },
    {
      "cell_type": "code",
      "metadata": {
        "id": "bUXp3ck_9jSa",
        "outputId": "e4d257d8-4303-46c7-9b77-7053ecb0c2a1",
        "colab": {
          "base_uri": "https://localhost:8080/",
          "height": 50
        }
      },
      "source": [
        "print(f'Number of training examples: {len(train_data)}')\n",
        "print(f'Number of testing examples: {len(test_data)}')"
      ],
      "execution_count": 3,
      "outputs": [
        {
          "output_type": "stream",
          "text": [
            "Number of training examples: 25000\n",
            "Number of testing examples: 25000\n"
          ],
          "name": "stdout"
        }
      ]
    },
    {
      "cell_type": "code",
      "metadata": {
        "id": "k6MaxnwT9k30",
        "outputId": "32a623e8-c29f-4f8c-a952-daad1d7a06dd",
        "colab": {
          "base_uri": "https://localhost:8080/",
          "height": 54
        }
      },
      "source": [
        "print(vars(train_data.examples[0]))"
      ],
      "execution_count": 4,
      "outputs": [
        {
          "output_type": "stream",
          "text": [
            "{'text': ['The', 'Sunshine', 'Boys', 'is', 'a', 'terrific', 'comedy', 'about', 'two', 'ex', '-', 'vaudevillians', 'who', 'reluctantly', 'reunite', 'for', 'a', 'TV', 'special', 'despite', 'the', 'fact', 'that', 'they', 'despise', 'each', 'other.<br', '/><br', '/>The', 'comic', 'genius', 'of', 'two', 'masters', 'at', 'work', ',', 'George', 'Burns', 'and', 'Walter', 'Matthau', 'are', 'stellar', '!', 'Some', 'of', 'the', 'best', 'scenes', 'are', 'when', 'the', 'duo', 'is', 'fighting', 'over', 'the', 'silliest', 'little', 'trivial', 'things', '!', 'The', 'material', 'is', 'fast', '-', 'paced', 'and', 'witty', ',', 'appealing', 'to', 'all', 'ages.<br', '/><br', '/>MILD', 'SPOILER', 'ALERT', ':', 'There', 'are', 'some', 'mildly', 'sad', 'moments', 'toward', 'the', 'end', 'of', 'the', 'movie', 'that', 'deal', 'indirectly', 'with', 'the', 'affects', 'of', 'aging', 'that', 'gives', 'the', 'film', 'a', 'soft', ',', 'sincere', ',', 'tenderness', 'that', 'shows', 'to', 'this', 'reviewer', 'that', 'what', 'the', 'pair', 'really', 'need', 'the', 'most', 'for', 'success', ',', 'are', 'each', 'other.<br', '/><br', '/>If', 'anyone', 'loves', 'The', 'Odd', 'Couple', ',', 'you', \"'ll\", 'adore', 'this', 'movie', '.', 'An', 'excellent', 'film', '!'], 'label': 'pos'}\n"
          ],
          "name": "stdout"
        }
      ]
    },
    {
      "cell_type": "code",
      "metadata": {
        "id": "ibjHsDDa9mst"
      },
      "source": [
        "import random\n",
        "\n",
        "train_data, valid_data = train_data.split(random_state = random.seed(SEED))"
      ],
      "execution_count": 5,
      "outputs": []
    },
    {
      "cell_type": "code",
      "metadata": {
        "id": "9r_ptamH9og5",
        "outputId": "82f94a73-3420-454f-d8dd-8ef8a5224561",
        "colab": {
          "base_uri": "https://localhost:8080/",
          "height": 67
        }
      },
      "source": [
        "print(f'Number of training examples: {len(train_data)}')\n",
        "print(f'Number of validation examples: {len(valid_data)}')\n",
        "print(f'Number of testing examples: {len(test_data)}')\n"
      ],
      "execution_count": 6,
      "outputs": [
        {
          "output_type": "stream",
          "text": [
            "Number of training examples: 17500\n",
            "Number of validation examples: 7500\n",
            "Number of testing examples: 25000\n"
          ],
          "name": "stdout"
        }
      ]
    },
    {
      "cell_type": "code",
      "metadata": {
        "id": "zp0PrdWh9q_0"
      },
      "source": [
        "\n",
        "MAX_VOCAB_SIZE = 25_000\n",
        "\n",
        "TEXT.build_vocab(train_data, max_size = MAX_VOCAB_SIZE)\n",
        "LABEL.build_vocab(train_data)"
      ],
      "execution_count": 7,
      "outputs": []
    },
    {
      "cell_type": "code",
      "metadata": {
        "id": "Tb_f_pvY9s2S",
        "outputId": "4169ca2e-82bb-43f6-9f09-b0f4b0ab1945",
        "colab": {
          "base_uri": "https://localhost:8080/",
          "height": 50
        }
      },
      "source": [
        "print(f\"Unique tokens in TEXT vocabulary: {len(TEXT.vocab)}\")\n",
        "print(f\"Unique tokens in LABEL vocabulary: {len(LABEL.vocab)}\")"
      ],
      "execution_count": 8,
      "outputs": [
        {
          "output_type": "stream",
          "text": [
            "Unique tokens in TEXT vocabulary: 25002\n",
            "Unique tokens in LABEL vocabulary: 2\n"
          ],
          "name": "stdout"
        }
      ]
    },
    {
      "cell_type": "code",
      "metadata": {
        "id": "m5Lnhw_M9un2",
        "outputId": "37a626a2-80fe-4937-f288-593a7121cfa0",
        "colab": {
          "base_uri": "https://localhost:8080/",
          "height": 54
        }
      },
      "source": [
        "print(TEXT.vocab.freqs.most_common(20))"
      ],
      "execution_count": 9,
      "outputs": [
        {
          "output_type": "stream",
          "text": [
            "[('the', 202206), (',', 191956), ('.', 166163), ('and', 109262), ('a', 109159), ('of', 100423), ('to', 93811), ('is', 76499), ('in', 61125), ('I', 54411), ('it', 53484), ('that', 49281), ('\"', 43937), (\"'s\", 43367), ('this', 42560), ('-', 36717), ('/><br', 35639), ('was', 35257), ('as', 30425), ('with', 29991)]\n"
          ],
          "name": "stdout"
        }
      ]
    },
    {
      "cell_type": "code",
      "metadata": {
        "id": "VrtFVYwk9wSv",
        "outputId": "ea4e78b0-bfd2-4b9e-d607-c932329c22ef",
        "colab": {
          "base_uri": "https://localhost:8080/",
          "height": 34
        }
      },
      "source": [
        "print(TEXT.vocab.itos[:10])"
      ],
      "execution_count": 10,
      "outputs": [
        {
          "output_type": "stream",
          "text": [
            "['<unk>', '<pad>', 'the', ',', '.', 'and', 'a', 'of', 'to', 'is']\n"
          ],
          "name": "stdout"
        }
      ]
    },
    {
      "cell_type": "code",
      "metadata": {
        "id": "VtihxvjP9x3-",
        "outputId": "d2fada79-48c0-440c-8ca0-399bae9b9dd1",
        "colab": {
          "base_uri": "https://localhost:8080/",
          "height": 34
        }
      },
      "source": [
        "print(LABEL.vocab.stoi)"
      ],
      "execution_count": 11,
      "outputs": [
        {
          "output_type": "stream",
          "text": [
            "defaultdict(<function _default_unk_index at 0x7f8e2a3f2ae8>, {'neg': 0, 'pos': 1})\n"
          ],
          "name": "stdout"
        }
      ]
    },
    {
      "cell_type": "code",
      "metadata": {
        "id": "tSfrrDQV9zkH"
      },
      "source": [
        "BATCH_SIZE = 64\n",
        "\n",
        "device = torch.device('cuda' if torch.cuda.is_available() else 'cpu')\n",
        "\n",
        "train_iterator, valid_iterator, test_iterator = data.BucketIterator.splits(\n",
        "    (train_data, valid_data, test_data), \n",
        "    batch_size = BATCH_SIZE,\n",
        "    device = device)"
      ],
      "execution_count": 12,
      "outputs": []
    },
    {
      "cell_type": "code",
      "metadata": {
        "id": "LF0GYVOl91bc"
      },
      "source": [
        "import torch.nn as nn\n",
        "\n",
        "class RNN(nn.Module):\n",
        "    def __init__(self, input_dim, embedding_dim, hidden_dim, output_dim):\n",
        "        \n",
        "        super().__init__()\n",
        "        \n",
        "        self.embedding = nn.Embedding(input_dim, embedding_dim)\n",
        "        \n",
        "        self.rnn = nn.RNN(embedding_dim, hidden_dim)\n",
        "        \n",
        "        self.fc = nn.Linear(hidden_dim, output_dim)\n",
        "        \n",
        "    def forward(self, text):\n",
        "\n",
        "        #text = [sent len, batch size]\n",
        "        \n",
        "        embedded = self.embedding(text)\n",
        "        \n",
        "        #embedded = [sent len, batch size, emb dim]\n",
        "        \n",
        "        output, hidden = self.rnn(embedded)\n",
        "        \n",
        "        #output = [sent len, batch size, hid dim]\n",
        "        #hidden = [1, batch size, hid dim]\n",
        "        \n",
        "        assert torch.equal(output[-1,:,:], hidden.squeeze(0))\n",
        "        \n",
        "        return self.fc(hidden.squeeze(0))"
      ],
      "execution_count": 13,
      "outputs": []
    },
    {
      "cell_type": "code",
      "metadata": {
        "id": "jIta4QeK94Jp"
      },
      "source": [
        "INPUT_DIM = len(TEXT.vocab)\n",
        "EMBEDDING_DIM = 100\n",
        "HIDDEN_DIM = 256\n",
        "OUTPUT_DIM = 1\n",
        "\n",
        "model = RNN(INPUT_DIM, EMBEDDING_DIM, HIDDEN_DIM, OUTPUT_DIM)"
      ],
      "execution_count": 14,
      "outputs": []
    },
    {
      "cell_type": "code",
      "metadata": {
        "id": "BJs4GIJO9518",
        "outputId": "c6f4524b-561b-48ca-8178-b98fb70a7b2b",
        "colab": {
          "base_uri": "https://localhost:8080/",
          "height": 34
        }
      },
      "source": [
        "def count_parameters(model):\n",
        "    return sum(p.numel() for p in model.parameters() if p.requires_grad)\n",
        "\n",
        "print(f'The model has {count_parameters(model):,} trainable parameters')"
      ],
      "execution_count": 15,
      "outputs": [
        {
          "output_type": "stream",
          "text": [
            "The model has 2,592,105 trainable parameters\n"
          ],
          "name": "stdout"
        }
      ]
    },
    {
      "cell_type": "code",
      "metadata": {
        "id": "8WMbW8lx97lu"
      },
      "source": [
        "import torch.optim as optim\n",
        "\n",
        "optimizer = optim.SGD(model.parameters(), lr=1e-3)"
      ],
      "execution_count": 16,
      "outputs": []
    },
    {
      "cell_type": "code",
      "metadata": {
        "id": "X6eGjzm_99vu"
      },
      "source": [
        "criterion = nn.BCEWithLogitsLoss()"
      ],
      "execution_count": 17,
      "outputs": []
    },
    {
      "cell_type": "code",
      "metadata": {
        "id": "iOm5f2yc9_0o"
      },
      "source": [
        "model = model.to(device)\n",
        "criterion = criterion.to(device)"
      ],
      "execution_count": 18,
      "outputs": []
    },
    {
      "cell_type": "code",
      "metadata": {
        "id": "8MVGWPrj-CmL"
      },
      "source": [
        "\n",
        "def binary_accuracy(preds, y):\n",
        "    \"\"\"\n",
        "    Returns accuracy per batch, i.e. if you get 8/10 right, this returns 0.8, NOT 8\n",
        "    \"\"\"\n",
        "\n",
        "    #round predictions to the closest integer\n",
        "    rounded_preds = torch.round(torch.sigmoid(preds))\n",
        "    correct = (rounded_preds == y).float() #convert into float for division \n",
        "    acc = correct.sum() / len(correct)\n",
        "    return acc"
      ],
      "execution_count": 19,
      "outputs": []
    },
    {
      "cell_type": "code",
      "metadata": {
        "id": "WoOG39y9-Fwq"
      },
      "source": [
        "def train(model, iterator, optimizer, criterion):\n",
        "    \n",
        "    epoch_loss = 0\n",
        "    epoch_acc = 0\n",
        "    \n",
        "    model.train()\n",
        "    \n",
        "    for batch in iterator:\n",
        "        \n",
        "        optimizer.zero_grad()\n",
        "                \n",
        "        predictions = model(batch.text).squeeze(1)\n",
        "        \n",
        "        loss = criterion(predictions, batch.label)\n",
        "        \n",
        "        acc = binary_accuracy(predictions, batch.label)\n",
        "        \n",
        "        loss.backward()\n",
        "        \n",
        "        optimizer.step()\n",
        "        \n",
        "        epoch_loss += loss.item()\n",
        "        epoch_acc += acc.item()\n",
        "        \n",
        "    return epoch_loss / len(iterator), epoch_acc / len(iterator)"
      ],
      "execution_count": 20,
      "outputs": []
    },
    {
      "cell_type": "code",
      "metadata": {
        "id": "4wmszqDQ-It-"
      },
      "source": [
        "def evaluate(model, iterator, criterion):\n",
        "    \n",
        "    epoch_loss = 0\n",
        "    epoch_acc = 0\n",
        "    \n",
        "    model.eval()\n",
        "    count = 0\n",
        "    with torch.no_grad():\n",
        "    \n",
        "        for batch in iterator:\n",
        "            if (count <5):\n",
        "              print(batch.text)\n",
        "              count+=1\n",
        "            predictions = model(batch.text).squeeze(1)\n",
        "            \n",
        "            loss = criterion(predictions, batch.label)\n",
        "            \n",
        "            acc = binary_accuracy(predictions, batch.label)\n",
        "\n",
        "            epoch_loss += loss.item()\n",
        "            epoch_acc += acc.item()\n",
        "        \n",
        "    return epoch_loss / len(iterator), epoch_acc / len(iterator)"
      ],
      "execution_count": 21,
      "outputs": []
    },
    {
      "cell_type": "code",
      "metadata": {
        "id": "Ahwxstls-Lmp"
      },
      "source": [
        "\n",
        "import time\n",
        "\n",
        "def epoch_time(start_time, end_time):\n",
        "    elapsed_time = end_time - start_time\n",
        "    elapsed_mins = int(elapsed_time / 60)\n",
        "    elapsed_secs = int(elapsed_time - (elapsed_mins * 60))\n",
        "    return elapsed_mins, elapsed_secs"
      ],
      "execution_count": 22,
      "outputs": []
    },
    {
      "cell_type": "code",
      "metadata": {
        "id": "37zztBUY-NnO",
        "outputId": "f9e8df60-d5be-4106-8b21-d39e5d6a1b1f",
        "colab": {
          "base_uri": "https://localhost:8080/",
          "height": 1000
        }
      },
      "source": [
        "N_EPOCHS = 5\n",
        "\n",
        "best_valid_loss = float('inf')\n",
        "\n",
        "for epoch in range(N_EPOCHS):\n",
        "\n",
        "    start_time = time.time()\n",
        "    \n",
        "    train_loss, train_acc = train(model, train_iterator, optimizer, criterion)\n",
        "    valid_loss, valid_acc = evaluate(model, valid_iterator, criterion)\n",
        "    \n",
        "    end_time = time.time()\n",
        "\n",
        "    epoch_mins, epoch_secs = epoch_time(start_time, end_time)\n",
        "    \n",
        "    if valid_loss < best_valid_loss:\n",
        "        best_valid_loss = valid_loss\n",
        "        torch.save(model.state_dict(), 'tut1-model.pt')\n",
        "    \n",
        "    print(f'Epoch: {epoch+1:02} | Epoch Time: {epoch_mins}m {epoch_secs}s')\n",
        "    print(f'\\tTrain Loss: {train_loss:.3f} | Train Acc: {train_acc*100:.2f}%')\n",
        "    print(f'\\t Val. Loss: {valid_loss:.3f} |  Val. Acc: {valid_acc*100:.2f}%')"
      ],
      "execution_count": 23,
      "outputs": [
        {
          "output_type": "stream",
          "text": [
            "tensor([[   66,    11,    11,  ...,     0,   150,    11],\n",
            "        [ 3441,    63,   215,  ...,     4,   846,    63],\n",
            "        [   17,   142,    16,  ...,   246,     7,    27],\n",
            "        ...,\n",
            "        [   42,     2, 19274,  ...,     1,     1,     1],\n",
            "        [ 2434,   425,    14,  ...,     1,     1,     1],\n",
            "        [   40,    88,     4,  ...,     1,     1,     1]], device='cuda:0')\n",
            "tensor([[   11,    11,    25,  ...,    11,    11,    66],\n",
            "        [   92,    19, 11155,  ...,   242,   242,    24],\n",
            "        [   75,  1523,   469,  ...,    16,    14, 21368],\n",
            "        ...,\n",
            "        [  578,    62,  1836,  ...,     1,     1,     1],\n",
            "        [   22,    96,     4,  ...,     1,     1,     1],\n",
            "        [    4,     4,     1,  ...,     1,     1,     1]], device='cuda:0')\n",
            "tensor([[  66,   25, 1365,  ...,   11, 3992,  935],\n",
            "        [  19,    0,  349,  ...,  278, 2267,  115],\n",
            "        [   6,   19,  222,  ...,   16,   39,  133],\n",
            "        ...,\n",
            "        [ 800,   16,   80,  ...,    1,    1,    1],\n",
            "        [  24,   38,   49,  ...,    1,    1,    1],\n",
            "        [   4,    4,   40,  ...,    1,    1,    1]], device='cuda:0')\n",
            "tensor([[  25,   66, 6571,  ...,   11,   11, 4613],\n",
            "        [ 126,   22,  373,  ...,  172,  205,    2],\n",
            "        [  19,    9,    7,  ...,   33,    8,  241],\n",
            "        ...,\n",
            "        [   0,   18, 4237,  ...,    1,    1,    1],\n",
            "        [  51,  163, 1452,  ...,    1,    1,    1],\n",
            "        [   4,  533,   40,  ...,    1,    1,    1]], device='cuda:0')\n",
            "tensor([[  11,   66,   66,  ..., 1617,  262, 3992],\n",
            "        [  74,    9,    9,  ..., 9844,   43, 2267],\n",
            "        [ 435,    2,    6,  ...,    9, 3623,    9],\n",
            "        ...,\n",
            "        [   7,   40, 2454,  ...,    1,    1,    1],\n",
            "        [ 322,   40, 5339,  ...,    1,    1,    1],\n",
            "        [   4,   40,    4,  ...,    1,    1,    1]], device='cuda:0')\n",
            "Epoch: 01 | Epoch Time: 0m 45s\n",
            "\tTrain Loss: 0.694 | Train Acc: 50.21%\n",
            "\t Val. Loss: 0.697 |  Val. Acc: 49.79%\n",
            "tensor([[   66,    11,    11,  ...,     0,   150,    11],\n",
            "        [ 3441,    63,   215,  ...,     4,   846,    63],\n",
            "        [   17,   142,    16,  ...,   246,     7,    27],\n",
            "        ...,\n",
            "        [   42,     2, 19274,  ...,     1,     1,     1],\n",
            "        [ 2434,   425,    14,  ...,     1,     1,     1],\n",
            "        [   40,    88,     4,  ...,     1,     1,     1]], device='cuda:0')\n",
            "tensor([[   11,    11,    25,  ...,    11,    11,    66],\n",
            "        [   92,    19, 11155,  ...,   242,   242,    24],\n",
            "        [   75,  1523,   469,  ...,    16,    14, 21368],\n",
            "        ...,\n",
            "        [  578,    62,  1836,  ...,     1,     1,     1],\n",
            "        [   22,    96,     4,  ...,     1,     1,     1],\n",
            "        [    4,     4,     1,  ...,     1,     1,     1]], device='cuda:0')\n",
            "tensor([[  66,   25, 1365,  ...,   11, 3992,  935],\n",
            "        [  19,    0,  349,  ...,  278, 2267,  115],\n",
            "        [   6,   19,  222,  ...,   16,   39,  133],\n",
            "        ...,\n",
            "        [ 800,   16,   80,  ...,    1,    1,    1],\n",
            "        [  24,   38,   49,  ...,    1,    1,    1],\n",
            "        [   4,    4,   40,  ...,    1,    1,    1]], device='cuda:0')\n",
            "tensor([[  25,   66, 6571,  ...,   11,   11, 4613],\n",
            "        [ 126,   22,  373,  ...,  172,  205,    2],\n",
            "        [  19,    9,    7,  ...,   33,    8,  241],\n",
            "        ...,\n",
            "        [   0,   18, 4237,  ...,    1,    1,    1],\n",
            "        [  51,  163, 1452,  ...,    1,    1,    1],\n",
            "        [   4,  533,   40,  ...,    1,    1,    1]], device='cuda:0')\n",
            "tensor([[  11,   66,   66,  ..., 1617,  262, 3992],\n",
            "        [  74,    9,    9,  ..., 9844,   43, 2267],\n",
            "        [ 435,    2,    6,  ...,    9, 3623,    9],\n",
            "        ...,\n",
            "        [   7,   40, 2454,  ...,    1,    1,    1],\n",
            "        [ 322,   40, 5339,  ...,    1,    1,    1],\n",
            "        [   4,   40,    4,  ...,    1,    1,    1]], device='cuda:0')\n",
            "Epoch: 02 | Epoch Time: 0m 45s\n",
            "\tTrain Loss: 0.693 | Train Acc: 49.62%\n",
            "\t Val. Loss: 0.697 |  Val. Acc: 49.66%\n",
            "tensor([[   66,    11,    11,  ...,     0,   150,    11],\n",
            "        [ 3441,    63,   215,  ...,     4,   846,    63],\n",
            "        [   17,   142,    16,  ...,   246,     7,    27],\n",
            "        ...,\n",
            "        [   42,     2, 19274,  ...,     1,     1,     1],\n",
            "        [ 2434,   425,    14,  ...,     1,     1,     1],\n",
            "        [   40,    88,     4,  ...,     1,     1,     1]], device='cuda:0')\n",
            "tensor([[   11,    11,    25,  ...,    11,    11,    66],\n",
            "        [   92,    19, 11155,  ...,   242,   242,    24],\n",
            "        [   75,  1523,   469,  ...,    16,    14, 21368],\n",
            "        ...,\n",
            "        [  578,    62,  1836,  ...,     1,     1,     1],\n",
            "        [   22,    96,     4,  ...,     1,     1,     1],\n",
            "        [    4,     4,     1,  ...,     1,     1,     1]], device='cuda:0')\n",
            "tensor([[  66,   25, 1365,  ...,   11, 3992,  935],\n",
            "        [  19,    0,  349,  ...,  278, 2267,  115],\n",
            "        [   6,   19,  222,  ...,   16,   39,  133],\n",
            "        ...,\n",
            "        [ 800,   16,   80,  ...,    1,    1,    1],\n",
            "        [  24,   38,   49,  ...,    1,    1,    1],\n",
            "        [   4,    4,   40,  ...,    1,    1,    1]], device='cuda:0')\n",
            "tensor([[  25,   66, 6571,  ...,   11,   11, 4613],\n",
            "        [ 126,   22,  373,  ...,  172,  205,    2],\n",
            "        [  19,    9,    7,  ...,   33,    8,  241],\n",
            "        ...,\n",
            "        [   0,   18, 4237,  ...,    1,    1,    1],\n",
            "        [  51,  163, 1452,  ...,    1,    1,    1],\n",
            "        [   4,  533,   40,  ...,    1,    1,    1]], device='cuda:0')\n",
            "tensor([[  11,   66,   66,  ..., 1617,  262, 3992],\n",
            "        [  74,    9,    9,  ..., 9844,   43, 2267],\n",
            "        [ 435,    2,    6,  ...,    9, 3623,    9],\n",
            "        ...,\n",
            "        [   7,   40, 2454,  ...,    1,    1,    1],\n",
            "        [ 322,   40, 5339,  ...,    1,    1,    1],\n",
            "        [   4,   40,    4,  ...,    1,    1,    1]], device='cuda:0')\n",
            "Epoch: 03 | Epoch Time: 0m 45s\n",
            "\tTrain Loss: 0.693 | Train Acc: 49.89%\n",
            "\t Val. Loss: 0.697 |  Val. Acc: 50.38%\n",
            "tensor([[   66,    11,    11,  ...,     0,   150,    11],\n",
            "        [ 3441,    63,   215,  ...,     4,   846,    63],\n",
            "        [   17,   142,    16,  ...,   246,     7,    27],\n",
            "        ...,\n",
            "        [   42,     2, 19274,  ...,     1,     1,     1],\n",
            "        [ 2434,   425,    14,  ...,     1,     1,     1],\n",
            "        [   40,    88,     4,  ...,     1,     1,     1]], device='cuda:0')\n",
            "tensor([[   11,    11,    25,  ...,    11,    11,    66],\n",
            "        [   92,    19, 11155,  ...,   242,   242,    24],\n",
            "        [   75,  1523,   469,  ...,    16,    14, 21368],\n",
            "        ...,\n",
            "        [  578,    62,  1836,  ...,     1,     1,     1],\n",
            "        [   22,    96,     4,  ...,     1,     1,     1],\n",
            "        [    4,     4,     1,  ...,     1,     1,     1]], device='cuda:0')\n",
            "tensor([[  66,   25, 1365,  ...,   11, 3992,  935],\n",
            "        [  19,    0,  349,  ...,  278, 2267,  115],\n",
            "        [   6,   19,  222,  ...,   16,   39,  133],\n",
            "        ...,\n",
            "        [ 800,   16,   80,  ...,    1,    1,    1],\n",
            "        [  24,   38,   49,  ...,    1,    1,    1],\n",
            "        [   4,    4,   40,  ...,    1,    1,    1]], device='cuda:0')\n",
            "tensor([[  25,   66, 6571,  ...,   11,   11, 4613],\n",
            "        [ 126,   22,  373,  ...,  172,  205,    2],\n",
            "        [  19,    9,    7,  ...,   33,    8,  241],\n",
            "        ...,\n",
            "        [   0,   18, 4237,  ...,    1,    1,    1],\n",
            "        [  51,  163, 1452,  ...,    1,    1,    1],\n",
            "        [   4,  533,   40,  ...,    1,    1,    1]], device='cuda:0')\n",
            "tensor([[  11,   66,   66,  ..., 1617,  262, 3992],\n",
            "        [  74,    9,    9,  ..., 9844,   43, 2267],\n",
            "        [ 435,    2,    6,  ...,    9, 3623,    9],\n",
            "        ...,\n",
            "        [   7,   40, 2454,  ...,    1,    1,    1],\n",
            "        [ 322,   40, 5339,  ...,    1,    1,    1],\n",
            "        [   4,   40,    4,  ...,    1,    1,    1]], device='cuda:0')\n",
            "Epoch: 04 | Epoch Time: 0m 45s\n",
            "\tTrain Loss: 0.693 | Train Acc: 49.74%\n",
            "\t Val. Loss: 0.697 |  Val. Acc: 49.58%\n",
            "tensor([[   66,    11,    11,  ...,     0,   150,    11],\n",
            "        [ 3441,    63,   215,  ...,     4,   846,    63],\n",
            "        [   17,   142,    16,  ...,   246,     7,    27],\n",
            "        ...,\n",
            "        [   42,     2, 19274,  ...,     1,     1,     1],\n",
            "        [ 2434,   425,    14,  ...,     1,     1,     1],\n",
            "        [   40,    88,     4,  ...,     1,     1,     1]], device='cuda:0')\n",
            "tensor([[   11,    11,    25,  ...,    11,    11,    66],\n",
            "        [   92,    19, 11155,  ...,   242,   242,    24],\n",
            "        [   75,  1523,   469,  ...,    16,    14, 21368],\n",
            "        ...,\n",
            "        [  578,    62,  1836,  ...,     1,     1,     1],\n",
            "        [   22,    96,     4,  ...,     1,     1,     1],\n",
            "        [    4,     4,     1,  ...,     1,     1,     1]], device='cuda:0')\n",
            "tensor([[  66,   25, 1365,  ...,   11, 3992,  935],\n",
            "        [  19,    0,  349,  ...,  278, 2267,  115],\n",
            "        [   6,   19,  222,  ...,   16,   39,  133],\n",
            "        ...,\n",
            "        [ 800,   16,   80,  ...,    1,    1,    1],\n",
            "        [  24,   38,   49,  ...,    1,    1,    1],\n",
            "        [   4,    4,   40,  ...,    1,    1,    1]], device='cuda:0')\n",
            "tensor([[  25,   66, 6571,  ...,   11,   11, 4613],\n",
            "        [ 126,   22,  373,  ...,  172,  205,    2],\n",
            "        [  19,    9,    7,  ...,   33,    8,  241],\n",
            "        ...,\n",
            "        [   0,   18, 4237,  ...,    1,    1,    1],\n",
            "        [  51,  163, 1452,  ...,    1,    1,    1],\n",
            "        [   4,  533,   40,  ...,    1,    1,    1]], device='cuda:0')\n",
            "tensor([[  11,   66,   66,  ..., 1617,  262, 3992],\n",
            "        [  74,    9,    9,  ..., 9844,   43, 2267],\n",
            "        [ 435,    2,    6,  ...,    9, 3623,    9],\n",
            "        ...,\n",
            "        [   7,   40, 2454,  ...,    1,    1,    1],\n",
            "        [ 322,   40, 5339,  ...,    1,    1,    1],\n",
            "        [   4,   40,    4,  ...,    1,    1,    1]], device='cuda:0')\n",
            "Epoch: 05 | Epoch Time: 0m 45s\n",
            "\tTrain Loss: 0.693 | Train Acc: 50.19%\n",
            "\t Val. Loss: 0.697 |  Val. Acc: 50.53%\n"
          ],
          "name": "stdout"
        }
      ]
    },
    {
      "cell_type": "code",
      "metadata": {
        "id": "6qGIMJ5j-QaL",
        "outputId": "f3e45432-9bc6-439d-f1c5-06c10ab131e3",
        "colab": {
          "base_uri": "https://localhost:8080/",
          "height": 622
        }
      },
      "source": [
        "model.load_state_dict(torch.load('tut1-model.pt'))\n",
        "\n",
        "test_loss, test_acc = evaluate(model, test_iterator, criterion)\n",
        "\n",
        "print(f'Test Loss: {test_loss:.3f} | Test Acc: {test_acc*100:.2f}%')"
      ],
      "execution_count": 24,
      "outputs": [
        {
          "output_type": "stream",
          "text": [
            "tensor([[  11,  262,   11,  ..., 6571, 7720,    0],\n",
            "        [  73,    6,  160,  ...,    5,    2,    0],\n",
            "        [   8, 4777,  124,  ...,  782,  292,    0],\n",
            "        ...,\n",
            "        [  78,    4, 2201,  ...,    1,    1,    1],\n",
            "        [ 654,    0,  419,  ...,    1,    1,    1],\n",
            "        [   4,   40,    4,  ...,    1,    1,    1]], device='cuda:0')\n",
            "tensor([[  337,    66,    11,  ...,   161,  4189,   487],\n",
            "        [16084,    22,    57,  ...,    83,   702,     3],\n",
            "        [  234,    19,    27,  ...,   704,    13,    16],\n",
            "        ...,\n",
            "        [12820,  5281,    16,  ...,     1,     1,     1],\n",
            "        [    4,  1492,    38,  ...,     1,     1,     1],\n",
            "        [   14,    40,     4,  ...,     1,     1,     1]], device='cuda:0')\n",
            "tensor([[11860,    12,    66,  ...,   487,     0,    25],\n",
            "        [   24,    74,   234,  ...,     3,     6,   288],\n",
            "        [   13,     9,    36,  ...,    11,     0,    17],\n",
            "        ...,\n",
            "        [   23,   919,   883,  ...,     1,     1,     1],\n",
            "        [  691,  1488,   894,  ...,     1,     1,     1],\n",
            "        [    4,     4,     4,  ...,     1,     1,     1]], device='cuda:0')\n",
            "tensor([[  11, 7904,  150,  ...,  357,    0, 1294],\n",
            "        [ 137,  337,  629,  ...,    7, 1549,   97],\n",
            "        [  12, 6346,    4,  ...,    2,   84,    0],\n",
            "        ...,\n",
            "        [ 113, 9979,    7,  ...,    1,    1,    1],\n",
            "        [ 294,   12,  564,  ...,    1,    1,    1],\n",
            "        [  40,    4,    4,  ...,    1,    1,    1]], device='cuda:0')\n",
            "tensor([[   66,    66, 13908,  ...,     0,    66,    16],\n",
            "        [   22,     9,   183,  ...,  3313, 23665,   117],\n",
            "        [    9,     6,     4,  ...,    10,    22,     9],\n",
            "        ...,\n",
            "        [    8,  4237,   310,  ...,     4,   533,    40],\n",
            "        [  222,  1452,    58,  ...,     1,     1,     1],\n",
            "        [    4,     4,    88,  ...,     1,     1,     1]], device='cuda:0')\n",
            "Test Loss: 0.709 | Test Acc: 47.40%\n"
          ],
          "name": "stdout"
        }
      ]
    }
  ]
}