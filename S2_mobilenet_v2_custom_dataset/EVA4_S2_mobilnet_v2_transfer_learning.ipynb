{
  "nbformat": 4,
  "nbformat_minor": 0,
  "metadata": {
    "colab": {
      "name": "EVA4_S2_mobilnet_v2_transfer_learning.ipynb",
      "provenance": [],
      "collapsed_sections": [],
      "include_colab_link": true
    },
    "kernelspec": {
      "name": "python3",
      "display_name": "Python 3"
    }
  },
  "cells": [
    {
      "cell_type": "markdown",
      "metadata": {
        "id": "view-in-github",
        "colab_type": "text"
      },
      "source": [
        "<a href=\"https://colab.research.google.com/github/EVA4-RS-Group/Phase2/blob/master/S2_mobilenet_v2_custom_dataset/EVA4_S2_mobilnet_v2_transfer_learning.ipynb\" target=\"_parent\"><img src=\"https://colab.research.google.com/assets/colab-badge.svg\" alt=\"Open In Colab\"/></a>"
      ]
    },
    {
      "cell_type": "markdown",
      "metadata": {
        "id": "sNmpCicvWDAH",
        "colab_type": "text"
      },
      "source": [
        "# 1. Loading Libraries"
      ]
    },
    {
      "cell_type": "code",
      "metadata": {
        "id": "Q9uSfXIhVqhW",
        "colab_type": "code",
        "colab": {}
      },
      "source": [
        "from __future__ import print_function, division\n",
        "\n",
        "import torch\n",
        "import torch.nn as nn\n",
        "import torch.optim as optim\n",
        "from torch.optim import lr_scheduler\n",
        "import numpy as np\n",
        "import torchvision\n",
        "from torchvision import datasets, models, transforms\n",
        "import matplotlib.pyplot as plt\n",
        "import time\n",
        "import os\n",
        "import copy\n",
        "\n",
        "plt.ion()   # interactive mode"
      ],
      "execution_count": 1,
      "outputs": []
    },
    {
      "cell_type": "code",
      "metadata": {
        "id": "Pax6Wf9VgkIo",
        "colab_type": "code",
        "colab": {
          "base_uri": "https://localhost:8080/",
          "height": 122
        },
        "outputId": "b252f90d-1486-41cd-f0f2-0c2a8663c5c3"
      },
      "source": [
        "from google.colab import drive\n",
        "import sys\n",
        "%load_ext autoreload\n",
        "%autoreload 2\n",
        "drive.mount('/content/gdrive',force_remount=True)"
      ],
      "execution_count": 2,
      "outputs": [
        {
          "output_type": "stream",
          "text": [
            "Go to this URL in a browser: https://accounts.google.com/o/oauth2/auth?client_id=947318989803-6bn6qk8qdgf4n4g3pfee6491hc0brc4i.apps.googleusercontent.com&redirect_uri=urn%3aietf%3awg%3aoauth%3a2.0%3aoob&response_type=code&scope=email%20https%3a%2f%2fwww.googleapis.com%2fauth%2fdocs.test%20https%3a%2f%2fwww.googleapis.com%2fauth%2fdrive%20https%3a%2f%2fwww.googleapis.com%2fauth%2fdrive.photos.readonly%20https%3a%2f%2fwww.googleapis.com%2fauth%2fpeopleapi.readonly\n",
            "\n",
            "Enter your authorization code:\n",
            "··········\n",
            "Mounted at /content/gdrive\n"
          ],
          "name": "stdout"
        }
      ]
    },
    {
      "cell_type": "code",
      "metadata": {
        "id": "gp4fOlVb-34B",
        "colab_type": "code",
        "colab": {
          "base_uri": "https://localhost:8080/",
          "height": 34
        },
        "outputId": "9b521660-e2e5-4166-8263-6e87a0b7d9d3"
      },
      "source": [
        "cd  gdrive/'My Drive'/'Large QuadCopters'"
      ],
      "execution_count": 3,
      "outputs": [
        {
          "output_type": "stream",
          "text": [
            "/content/gdrive/.shortcut-targets-by-id/1j9OumS-K4ZoAm7oMRVG7DWUXo7EwwgLw/Large QuadCopters\n"
          ],
          "name": "stdout"
        }
      ]
    },
    {
      "cell_type": "code",
      "metadata": {
        "id": "8UoV-RGkEQfy",
        "colab_type": "code",
        "colab": {}
      },
      "source": [
        "url = '/content/gdrive/.shortcut-targets-by-id/1j9OumS-K4ZoAm7oMRVG7DWUXo7EwwgLw/Large QuadCopters/'"
      ],
      "execution_count": 5,
      "outputs": []
    },
    {
      "cell_type": "markdown",
      "metadata": {
        "id": "S7LzTF44WhkS",
        "colab_type": "text"
      },
      "source": [
        "# 2. Load Data & Set Data Loaders\n",
        "We will use torchvision and torch.utils.data packages for loading the data.\n",
        "\n",
        "The problem we’re going to solve today is to train a model to classify ants and bees. We have about 120 training images each for ants and bees. There are 75 validation images for each class. Usually, this is a very small dataset to generalize upon, if trained from scratch. Since we are using transfer learning, we should be able to generalize reasonably well.\n",
        "\n",
        "This dataset is a very small subset of imagenet."
      ]
    },
    {
      "cell_type": "code",
      "metadata": {
        "id": "v2KUrkoBBCZk",
        "colab_type": "code",
        "colab": {}
      },
      "source": [
        "import torch.utils.data\n",
        "from torch.utils.data import Dataset, random_split\n",
        "from PIL import Image\n",
        "import numpy as np\n",
        "import torch\n",
        "import os\n",
        "import torchvision.transforms as transforms\n",
        "from tqdm import notebook\n",
        "\n",
        "class ImageDataSet(Dataset):\n",
        "    def __init__(self,url):\n",
        "        self.data = []\n",
        "        self.url = url\n",
        "        print(url)\n",
        "        #for image_file in notebook.tqdm(os.listdir(url):\n",
        "        for image_file in os.listdir(url):\n",
        "           if(image_file.endswith('.jpg')):\n",
        "              img = Image.open(url + image_file)\n",
        "              print(url+ image_file)\n",
        "              npimg = np.asarray(img)            \n",
        "              #if(len(npimg.shape) ==2):\n",
        "              #   npimg = np.repeat(npimg[:, :, np.newaxis], 3, axis=2)\n",
        "              self.data.append(npimg)  \n",
        "            \n",
        "    def __len__(self):\n",
        "        return len(self.data)\n",
        "\n",
        "    def __getitem__(self, idx):\n",
        "        data = self.data[idx]\n",
        "        return data\n",
        "\n",
        "dataset = ImageDataSet(url)\n",
        "print(len(dataset))\n",
        "train_split = 70\n",
        "train_len = len(dataset)*train_split//100\n",
        "test_len = len(dataset) - train_len \n",
        "train_set, val_set = random_split(dataset, [train_len, test_len])"
      ],
      "execution_count": null,
      "outputs": []
    },
    {
      "cell_type": "code",
      "metadata": {
        "id": "LfJfD1PwWCs4",
        "colab_type": "code",
        "colab": {}
      },
      "source": [
        "# Data augmentation and normalization for training\n",
        "# Just normalization for validation\n",
        "train_transforms =  transforms.Compose([\n",
        "        transforms.RandomResizedCrop(224),\n",
        "        transforms.RandomHorizontalFlip(),\n",
        "        transforms.ToTensor(),\n",
        "        transforms.Normalize([0.485, 0.456, 0.406], [0.229, 0.224, 0.225])\n",
        "    ])\n",
        "train_transforms = transforms.Compose([    \n",
        "        transforms.Resize(256),\n",
        "        transforms.CenterCrop(224),\n",
        "        transforms.ToTensor(),\n",
        "        transforms.Normalize([0.485, 0.456, 0.406], [0.229, 0.224, 0.225])\n",
        "    ])\n",
        "\n",
        "import torchvision.transforms as transforms\n",
        "class DatasetFromSubset(Dataset):\n",
        "    def __init__(self, subset, transform=None):\n",
        "        self.subset = subset\n",
        "        self.transform = transform\n",
        "\n",
        "    def __getitem__(self, index):\n",
        "        x, y = self.subset[index]\n",
        "        if self.transform:\n",
        "            x = self.transform(x)\n",
        "        return x, y\n",
        "\n",
        "    def __len__(self):\n",
        "        return len(self.subset)"
      ],
      "execution_count": 32,
      "outputs": []
    },
    {
      "cell_type": "code",
      "metadata": {
        "id": "ScZsJI0jynjP",
        "colab_type": "code",
        "colab": {
          "base_uri": "https://localhost:8080/",
          "height": 51
        },
        "outputId": "6429c900-0521-469c-cf29-2f9c3a7dda8a"
      },
      "source": [
        "SEED = 1\n",
        "cuda = torch.cuda.is_available()\n",
        "torch.manual_seed(SEED)\n",
        "if cuda:\n",
        "\t\t\ttorch.cuda.manual_seed(SEED)\n",
        "dataloader_args = dict(shuffle=True, batch_size=batch_size, num_workers=num_workers, pin_memory=pin_memory) if cuda else dict(shuffle=True, batch_size=64)\n",
        "\n",
        "train_dataset = DatasetFromSubset(train_set, transform=train_transforms)\n",
        "test_dataset = DatasetFromSubset(val_set, transform=test_transforms)\n",
        "\n",
        "trainloader = torch.utils.data.DataLoader(train_dataset, **dataloader_args)\n",
        "testloader = torch.utils.data.DataLoader(test_dataset, **dataloader_args)\n",
        "print(len(trainloader.dataset))\n",
        "print(len(testloader.dataset))"
      ],
      "execution_count": 33,
      "outputs": [
        {
          "output_type": "stream",
          "text": [
            "2592\n",
            "1111\n"
          ],
          "name": "stdout"
        }
      ]
    },
    {
      "cell_type": "markdown",
      "metadata": {
        "id": "YnZNgF1qXrCc",
        "colab_type": "text"
      },
      "source": [
        "# 3. Visualize a few images\n",
        "Let’s visualize a few training images so as to understand the data augmentations."
      ]
    },
    {
      "cell_type": "code",
      "metadata": {
        "id": "eIeDMH7dXmNP",
        "colab_type": "code",
        "colab": {
          "base_uri": "https://localhost:8080/",
          "height": 367
        },
        "outputId": "91b0a5e2-4c4f-4654-9f55-f2b5777701d4"
      },
      "source": [
        "def imshow(inp, title=None):\n",
        "    \"\"\"Imshow for Tensor.\"\"\"\n",
        "    inp = inp.numpy().transpose((1, 2, 0))\n",
        "    mean = np.array([0.485, 0.456, 0.406])\n",
        "    std = np.array([0.229, 0.224, 0.225])\n",
        "    inp = std * inp + mean\n",
        "    inp = np.clip(inp, 0, 1)\n",
        "    plt.imshow(inp)\n",
        "    if title is not None:\n",
        "        plt.title(title)\n",
        "    plt.pause(0.001)  # pause a bit so that plots are updated\n",
        "\n",
        "\n",
        "# Get a batch of training data\n",
        "inputs = iter(trainloader)\n",
        "\n",
        "# Make a grid from batch\n",
        "out = torchvision.utils.make_grid(inputs)\n",
        "\n",
        "imshow(out) #, title=[class_names[x] for x in classes])"
      ],
      "execution_count": 35,
      "outputs": [
        {
          "output_type": "error",
          "ename": "TypeError",
          "evalue": "ignored",
          "traceback": [
            "\u001b[0;31m---------------------------------------------------------------------------\u001b[0m",
            "\u001b[0;31mTypeError\u001b[0m                                 Traceback (most recent call last)",
            "\u001b[0;32m<ipython-input-35-9a023de6d42f>\u001b[0m in \u001b[0;36m<module>\u001b[0;34m()\u001b[0m\n\u001b[1;32m     16\u001b[0m \u001b[0;34m\u001b[0m\u001b[0m\n\u001b[1;32m     17\u001b[0m \u001b[0;31m# Make a grid from batch\u001b[0m\u001b[0;34m\u001b[0m\u001b[0;34m\u001b[0m\u001b[0;34m\u001b[0m\u001b[0m\n\u001b[0;32m---> 18\u001b[0;31m \u001b[0mout\u001b[0m \u001b[0;34m=\u001b[0m \u001b[0mtorchvision\u001b[0m\u001b[0;34m.\u001b[0m\u001b[0mutils\u001b[0m\u001b[0;34m.\u001b[0m\u001b[0mmake_grid\u001b[0m\u001b[0;34m(\u001b[0m\u001b[0minputs\u001b[0m\u001b[0;34m)\u001b[0m\u001b[0;34m\u001b[0m\u001b[0;34m\u001b[0m\u001b[0m\n\u001b[0m\u001b[1;32m     19\u001b[0m \u001b[0;34m\u001b[0m\u001b[0m\n\u001b[1;32m     20\u001b[0m \u001b[0mimshow\u001b[0m\u001b[0;34m(\u001b[0m\u001b[0mout\u001b[0m\u001b[0;34m)\u001b[0m \u001b[0;31m#, title=[class_names[x] for x in classes])\u001b[0m\u001b[0;34m\u001b[0m\u001b[0;34m\u001b[0m\u001b[0m\n",
            "\u001b[0;32m/usr/local/lib/python3.6/dist-packages/torchvision/utils.py\u001b[0m in \u001b[0;36mmake_grid\u001b[0;34m(tensor, nrow, padding, normalize, range, scale_each, pad_value)\u001b[0m\n\u001b[1;32m     29\u001b[0m     if not (torch.is_tensor(tensor) or\n\u001b[1;32m     30\u001b[0m             (isinstance(tensor, list) and all(torch.is_tensor(t) for t in tensor))):\n\u001b[0;32m---> 31\u001b[0;31m         \u001b[0;32mraise\u001b[0m \u001b[0mTypeError\u001b[0m\u001b[0;34m(\u001b[0m\u001b[0;34m'tensor or list of tensors expected, got {}'\u001b[0m\u001b[0;34m.\u001b[0m\u001b[0mformat\u001b[0m\u001b[0;34m(\u001b[0m\u001b[0mtype\u001b[0m\u001b[0;34m(\u001b[0m\u001b[0mtensor\u001b[0m\u001b[0;34m)\u001b[0m\u001b[0;34m)\u001b[0m\u001b[0;34m)\u001b[0m\u001b[0;34m\u001b[0m\u001b[0;34m\u001b[0m\u001b[0m\n\u001b[0m\u001b[1;32m     32\u001b[0m \u001b[0;34m\u001b[0m\u001b[0m\n\u001b[1;32m     33\u001b[0m     \u001b[0;31m# if list of tensors, convert to a 4D mini-batch Tensor\u001b[0m\u001b[0;34m\u001b[0m\u001b[0;34m\u001b[0m\u001b[0;34m\u001b[0m\u001b[0m\n",
            "\u001b[0;31mTypeError\u001b[0m: tensor or list of tensors expected, got <class 'torch.utils.data.dataloader._SingleProcessDataLoaderIter'>"
          ]
        }
      ]
    },
    {
      "cell_type": "markdown",
      "metadata": {
        "id": "mfgYlesZYKGb",
        "colab_type": "text"
      },
      "source": [
        "# 4. Training the model\n",
        "Now, let’s write a general function to train a model. Here, we will illustrate:\n",
        "\n",
        "Scheduling the learning rate\n",
        "Saving the best model\n",
        "In the following, parameter scheduler is an LR scheduler object from torch.optim.lr_scheduler."
      ]
    },
    {
      "cell_type": "code",
      "metadata": {
        "id": "gdHkNePUX0is",
        "colab_type": "code",
        "colab": {}
      },
      "source": [
        " def train_model(model, criterion, optimizer, scheduler, num_epochs=25):\n",
        "    since = time.time()\n",
        "\n",
        "    best_model_wts = copy.deepcopy(model.state_dict())\n",
        "    best_acc = 0.0\n",
        "\n",
        "    for epoch in range(num_epochs):\n",
        "        print('Epoch {}/{}'.format(epoch, num_epochs - 1))\n",
        "        print('-' * 10)\n",
        "\n",
        "        # Each epoch has a training and validation phase\n",
        "        for phase in ['train', 'val']:\n",
        "            if phase == 'train':\n",
        "                model.train()  # Set model to training mode\n",
        "            else:\n",
        "                model.eval()   # Set model to evaluate mode\n",
        "\n",
        "            running_loss = 0.0\n",
        "            running_corrects = 0\n",
        "\n",
        "            # Iterate over data.\n",
        "            for inputs, labels in dataloaders[phase]:\n",
        "                inputs = inputs.to(device)\n",
        "                labels = labels.to(device)\n",
        "\n",
        "                # zero the parameter gradients\n",
        "                optimizer.zero_grad()\n",
        "\n",
        "                # forward\n",
        "                # track history if only in train\n",
        "                with torch.set_grad_enabled(phase == 'train'):\n",
        "                    outputs = model(inputs)\n",
        "                    _, preds = torch.max(outputs, 1)\n",
        "                    loss = criterion(outputs, labels)\n",
        "\n",
        "                    # backward + optimize only if in training phase\n",
        "                    if phase == 'train':\n",
        "                        loss.backward()\n",
        "                        optimizer.step()\n",
        "\n",
        "                # statistics\n",
        "                running_loss += loss.item() * inputs.size(0)\n",
        "                running_corrects += torch.sum(preds == labels.data)\n",
        "            if phase == 'train':\n",
        "                scheduler.step()\n",
        "\n",
        "            epoch_loss = running_loss / dataset_sizes[phase]\n",
        "            epoch_acc = running_corrects.double() / dataset_sizes[phase]\n",
        "\n",
        "            print('{} Loss: {:.4f} Acc: {:.4f}'.format(\n",
        "                phase, epoch_loss, epoch_acc))\n",
        "\n",
        "            # deep copy the model\n",
        "            if phase == 'val' and epoch_acc > best_acc:\n",
        "                best_acc = epoch_acc\n",
        "                best_model_wts = copy.deepcopy(model.state_dict())\n",
        "\n",
        "        print()\n",
        "\n",
        "    time_elapsed = time.time() - since\n",
        "    print('Training complete in {:.0f}m {:.0f}s'.format(\n",
        "        time_elapsed // 60, time_elapsed % 60))\n",
        "    print('Best val Acc: {:4f}'.format(best_acc))\n",
        "\n",
        "    # load best model weights\n",
        "    model.load_state_dict(best_model_wts)\n",
        "    return model"
      ],
      "execution_count": null,
      "outputs": []
    },
    {
      "cell_type": "markdown",
      "metadata": {
        "id": "b3ACRVfzYcQJ",
        "colab_type": "text"
      },
      "source": [
        "# 5. Visualizing the model predictions\n",
        "Generic function to display predictions for a few images"
      ]
    },
    {
      "cell_type": "code",
      "metadata": {
        "id": "ERYdyqnyYSia",
        "colab_type": "code",
        "colab": {}
      },
      "source": [
        "def visualize_model(model, num_images=6):\n",
        "    was_training = model.training\n",
        "    model.eval()\n",
        "    images_so_far = 0\n",
        "    fig = plt.figure()\n",
        "\n",
        "    with torch.no_grad():\n",
        "        for i, (inputs, labels) in enumerate(dataloaders['val']):\n",
        "            inputs = inputs.to(device)\n",
        "            labels = labels.to(device)\n",
        "\n",
        "            outputs = model(inputs)\n",
        "            _, preds = torch.max(outputs, 1)\n",
        "\n",
        "            for j in range(inputs.size()[0]):\n",
        "                images_so_far += 1\n",
        "                ax = plt.subplot(num_images//2, 2, images_so_far)\n",
        "                ax.axis('off')\n",
        "                ax.set_title('predicted: {}'.format(class_names[preds[j]]))\n",
        "                imshow(inputs.cpu().data[j])\n",
        "\n",
        "                if images_so_far == num_images:\n",
        "                    model.train(mode=was_training)\n",
        "                    return\n",
        "        model.train(mode=was_training)"
      ],
      "execution_count": null,
      "outputs": []
    },
    {
      "cell_type": "markdown",
      "metadata": {
        "id": "plJBMgK8YjNV",
        "colab_type": "text"
      },
      "source": [
        "#6. Finetuning the convnet\n",
        "Load a pretrained model and reset final fully connected layer."
      ]
    },
    {
      "cell_type": "code",
      "metadata": {
        "id": "iAYYcKoUYhK2",
        "colab_type": "code",
        "colab": {}
      },
      "source": [
        "model_ft = models.mobilenet_v2(pretrained=True)\n",
        "# Here the size of each output sample is set to 2.\n",
        "# Alternatively, it can be generalized to nn.Linear(num_ftrs, len(class_names)).\n",
        "model_ft.classifier[1] = nn.Linear(1280, 2)\n",
        "\n",
        "model_ft = model_ft.to(device)\n",
        "\n",
        "criterion = nn.CrossEntropyLoss()\n",
        "\n",
        "# Observe that all parameters are being optimized\n",
        "optimizer_ft = optim.SGD(model_ft.parameters(), lr=0.001, momentum=0.9)\n",
        "\n",
        "# Decay LR by a factor of 0.1 every 7 epochs\n",
        "exp_lr_scheduler = lr_scheduler.StepLR(optimizer_ft, step_size=7, gamma=0.1)"
      ],
      "execution_count": null,
      "outputs": []
    },
    {
      "cell_type": "markdown",
      "metadata": {
        "id": "c8A3lqs8bASW",
        "colab_type": "text"
      },
      "source": [
        "# 7. Train and evaluate\n",
        "It should take around 15-25 min on CPU. On GPU though, it takes less than a minute."
      ]
    },
    {
      "cell_type": "code",
      "metadata": {
        "id": "0aC6MV_xa_mw",
        "colab_type": "code",
        "colab": {
          "base_uri": "https://localhost:8080/",
          "height": 1000
        },
        "outputId": "9bdc49a0-0b69-4550-c843-6a3a11bc6c5c"
      },
      "source": [
        "model_ft = train_model(model_ft, criterion, optimizer_ft, exp_lr_scheduler,\n",
        "                       num_epochs=25)"
      ],
      "execution_count": null,
      "outputs": [
        {
          "output_type": "stream",
          "text": [
            "Epoch 0/24\n",
            "----------\n",
            "train Loss: 0.4575 Acc: 0.7459\n",
            "val Loss: 0.2822 Acc: 0.8954\n",
            "\n",
            "Epoch 1/24\n",
            "----------\n",
            "train Loss: 0.7143 Acc: 0.7131\n",
            "val Loss: 0.3574 Acc: 0.8627\n",
            "\n",
            "Epoch 2/24\n",
            "----------\n",
            "train Loss: 0.5801 Acc: 0.7746\n",
            "val Loss: 0.3479 Acc: 0.8954\n",
            "\n",
            "Epoch 3/24\n",
            "----------\n",
            "train Loss: 0.5014 Acc: 0.8033\n",
            "val Loss: 0.4846 Acc: 0.8105\n",
            "\n",
            "Epoch 4/24\n",
            "----------\n",
            "train Loss: 0.7533 Acc: 0.7049\n",
            "val Loss: 0.3988 Acc: 0.8366\n",
            "\n",
            "Epoch 5/24\n",
            "----------\n",
            "train Loss: 0.4668 Acc: 0.8156\n",
            "val Loss: 0.3836 Acc: 0.8758\n",
            "\n",
            "Epoch 6/24\n",
            "----------\n",
            "train Loss: 0.4413 Acc: 0.8238\n",
            "val Loss: 0.3428 Acc: 0.8562\n",
            "\n",
            "Epoch 7/24\n",
            "----------\n",
            "train Loss: 0.4260 Acc: 0.8156\n",
            "val Loss: 0.2872 Acc: 0.8889\n",
            "\n",
            "Epoch 8/24\n",
            "----------\n",
            "train Loss: 0.4670 Acc: 0.8074\n",
            "val Loss: 0.3387 Acc: 0.8562\n",
            "\n",
            "Epoch 9/24\n",
            "----------\n",
            "train Loss: 0.4748 Acc: 0.7951\n",
            "val Loss: 0.2964 Acc: 0.8627\n",
            "\n",
            "Epoch 10/24\n",
            "----------\n",
            "train Loss: 0.3357 Acc: 0.8484\n",
            "val Loss: 0.2533 Acc: 0.9216\n",
            "\n",
            "Epoch 11/24\n",
            "----------\n",
            "train Loss: 0.2712 Acc: 0.8811\n",
            "val Loss: 0.2618 Acc: 0.9020\n",
            "\n",
            "Epoch 12/24\n",
            "----------\n",
            "train Loss: 0.3236 Acc: 0.8689\n",
            "val Loss: 0.2325 Acc: 0.9346\n",
            "\n",
            "Epoch 13/24\n",
            "----------\n",
            "train Loss: 0.2659 Acc: 0.9057\n",
            "val Loss: 0.2258 Acc: 0.9150\n",
            "\n",
            "Epoch 14/24\n",
            "----------\n",
            "train Loss: 0.3329 Acc: 0.8689\n",
            "val Loss: 0.2371 Acc: 0.9412\n",
            "\n",
            "Epoch 15/24\n",
            "----------\n",
            "train Loss: 0.3278 Acc: 0.8689\n",
            "val Loss: 0.2403 Acc: 0.9216\n",
            "\n",
            "Epoch 16/24\n",
            "----------\n",
            "train Loss: 0.2971 Acc: 0.8811\n",
            "val Loss: 0.2256 Acc: 0.9281\n",
            "\n",
            "Epoch 17/24\n",
            "----------\n",
            "train Loss: 0.3399 Acc: 0.8361\n",
            "val Loss: 0.2231 Acc: 0.9542\n",
            "\n",
            "Epoch 18/24\n",
            "----------\n",
            "train Loss: 0.4046 Acc: 0.8238\n",
            "val Loss: 0.2481 Acc: 0.9150\n",
            "\n",
            "Epoch 19/24\n",
            "----------\n",
            "train Loss: 0.3665 Acc: 0.8402\n",
            "val Loss: 0.2322 Acc: 0.9281\n",
            "\n",
            "Epoch 20/24\n",
            "----------\n",
            "train Loss: 0.3526 Acc: 0.8197\n",
            "val Loss: 0.2626 Acc: 0.9020\n",
            "\n",
            "Epoch 21/24\n",
            "----------\n",
            "train Loss: 0.2844 Acc: 0.8648\n",
            "val Loss: 0.2238 Acc: 0.9346\n",
            "\n",
            "Epoch 22/24\n",
            "----------\n",
            "train Loss: 0.2930 Acc: 0.8730\n",
            "val Loss: 0.2246 Acc: 0.9346\n",
            "\n",
            "Epoch 23/24\n",
            "----------\n",
            "train Loss: 0.2751 Acc: 0.8852\n",
            "val Loss: 0.2353 Acc: 0.9216\n",
            "\n",
            "Epoch 24/24\n",
            "----------\n",
            "train Loss: 0.3196 Acc: 0.8238\n",
            "val Loss: 0.2223 Acc: 0.9281\n",
            "\n",
            "Training complete in 1m 47s\n",
            "Best val Acc: 0.954248\n"
          ],
          "name": "stdout"
        }
      ]
    },
    {
      "cell_type": "code",
      "metadata": {
        "id": "mqBnAwEjYvhW",
        "colab_type": "code",
        "colab": {
          "base_uri": "https://localhost:8080/",
          "height": 581
        },
        "outputId": "9ca72c44-93a1-408a-a427-40c26518c9fb"
      },
      "source": [
        "visualize_model(model_ft)"
      ],
      "execution_count": null,
      "outputs": [
        {
          "output_type": "display_data",
          "data": {
            "image/png": "[encoded data removed]",
            "text/plain": [
              "<Figure size 432x288 with 1 Axes>"
            ]
          },
          "metadata": {
            "tags": [],
            "needs_background": "light"
          }
        },
        {
          "output_type": "display_data",
          "data": {
            "image/png": "[encoded data removed]",
            "text/plain": [
              "<Figure size 432x288 with 1 Axes>"
            ]
          },
          "metadata": {
            "tags": [],
            "needs_background": "light"
          }
        },
        {
          "output_type": "display_data",
          "data": {
            "image/png": "[encoded data removed]",
            "text/plain": [
              "<Figure size 432x288 with 1 Axes>"
            ]
          },
          "metadata": {
            "tags": [],
            "needs_background": "light"
          }
        },
        {
          "output_type": "display_data",
          "data": {
            "image/png": "[encoded data removed]",
            "text/plain": [
              "<Figure size 432x288 with 1 Axes>"
            ]
          },
          "metadata": {
            "tags": [],
            "needs_background": "light"
          }
        },
        {
          "output_type": "display_data",
          "data": {
            "image/png": "[encoded data removed]",
            "text/plain": [
              "<Figure size 432x288 with 1 Axes>"
            ]
          },
          "metadata": {
            "tags": [],
            "needs_background": "light"
          }
        },
        {
          "output_type": "display_data",
          "data": {
            "image/png": "[encoded data removed]",
            "text/plain": [
              "<Figure size 432x288 with 1 Axes>"
            ]
          },
          "metadata": {
            "tags": [],
            "needs_background": "light"
          }
        }
      ]
    },
    {
      "cell_type": "markdown",
      "metadata": {
        "id": "DDszYJbTcFDw",
        "colab_type": "text"
      },
      "source": [
        "# 8. ConvNet as fixed feature extractor\n",
        "Here, we need to freeze all the network except the final layer. We need to set requires_grad == False to freeze the parameters so that the gradients are not computed in backward().\n",
        "\n",
        "You can read more about this in the documentation here."
      ]
    },
    {
      "cell_type": "code",
      "metadata": {
        "id": "55rW2jtRY3AB",
        "colab_type": "code",
        "colab": {}
      },
      "source": [
        "model_conv = models.mobilenet_v2(pretrained=True)\n",
        "# Here the size of each output sample is set to 2.\n",
        "# Alternatively, it can be generalized to nn.Linear(num_ftrs, len(class_names)).\n",
        "\n",
        "for param in model_conv.parameters():\n",
        "    param.requires_grad = False\n",
        "\n",
        "# Parameters of newly constructed modules have requires_grad=True by default\n",
        "model_conv.classifier[1] = nn.Linear(1280, 2)\n",
        "\n",
        "model_conv = model_conv.to(device)\n",
        "\n",
        "criterion = nn.CrossEntropyLoss()\n",
        "\n",
        "# Observe that only parameters of final layer are being optimized as\n",
        "# opposed to before.\n",
        "optimizer_conv = optim.SGD(model_conv.classifier[1].parameters(), lr=0.001, momentum=0.9)\n",
        "\n",
        "# Decay LR by a factor of 0.1 every 7 epochs\n",
        "exp_lr_scheduler = lr_scheduler.StepLR(optimizer_conv, step_size=7, gamma=0.1)"
      ],
      "execution_count": null,
      "outputs": []
    },
    {
      "cell_type": "code",
      "metadata": {
        "id": "qwpPzmGhcdsY",
        "colab_type": "code",
        "colab": {
          "base_uri": "https://localhost:8080/",
          "height": 1000
        },
        "outputId": "6fce4249-aab8-4016-dd2d-fe026647b015"
      },
      "source": [
        "model_conv = train_model(model_conv, criterion, optimizer_conv,\n",
        "                         exp_lr_scheduler, num_epochs=25)"
      ],
      "execution_count": null,
      "outputs": [
        {
          "output_type": "stream",
          "text": [
            "Epoch 0/24\n",
            "----------\n",
            "train Loss: 0.3618 Acc: 0.8525\n",
            "val Loss: 0.1331 Acc: 0.9542\n",
            "\n",
            "Epoch 1/24\n",
            "----------\n",
            "train Loss: 0.2757 Acc: 0.8852\n",
            "val Loss: 0.1302 Acc: 0.9477\n",
            "\n",
            "Epoch 2/24\n",
            "----------\n",
            "train Loss: 0.2668 Acc: 0.8811\n",
            "val Loss: 0.1440 Acc: 0.9346\n",
            "\n",
            "Epoch 3/24\n",
            "----------\n",
            "train Loss: 0.2821 Acc: 0.8648\n",
            "val Loss: 0.1281 Acc: 0.9477\n",
            "\n",
            "Epoch 4/24\n",
            "----------\n",
            "train Loss: 0.2954 Acc: 0.8689\n",
            "val Loss: 0.1675 Acc: 0.9412\n",
            "\n",
            "Epoch 5/24\n",
            "----------\n",
            "train Loss: 0.4219 Acc: 0.8279\n",
            "val Loss: 0.1239 Acc: 0.9477\n",
            "\n",
            "Epoch 6/24\n",
            "----------\n",
            "train Loss: 0.3114 Acc: 0.8811\n",
            "val Loss: 0.1179 Acc: 0.9542\n",
            "\n",
            "Epoch 7/24\n",
            "----------\n",
            "train Loss: 0.3575 Acc: 0.8361\n",
            "val Loss: 0.1694 Acc: 0.9412\n",
            "\n",
            "Epoch 8/24\n",
            "----------\n",
            "train Loss: 0.2794 Acc: 0.8566\n",
            "val Loss: 0.1321 Acc: 0.9412\n",
            "\n",
            "Epoch 9/24\n",
            "----------\n",
            "train Loss: 0.3707 Acc: 0.8566\n",
            "val Loss: 0.1473 Acc: 0.9477\n",
            "\n",
            "Epoch 10/24\n",
            "----------\n",
            "train Loss: 0.3347 Acc: 0.8443\n",
            "val Loss: 0.1370 Acc: 0.9346\n",
            "\n",
            "Epoch 11/24\n",
            "----------\n",
            "train Loss: 0.2969 Acc: 0.8689\n",
            "val Loss: 0.1216 Acc: 0.9477\n",
            "\n",
            "Epoch 12/24\n",
            "----------\n",
            "train Loss: 0.2810 Acc: 0.8770\n",
            "val Loss: 0.1357 Acc: 0.9412\n",
            "\n",
            "Epoch 13/24\n",
            "----------\n",
            "train Loss: 0.3527 Acc: 0.8648\n",
            "val Loss: 0.1204 Acc: 0.9542\n",
            "\n",
            "Epoch 14/24\n",
            "----------\n",
            "train Loss: 0.3323 Acc: 0.8484\n",
            "val Loss: 0.1195 Acc: 0.9542\n",
            "\n",
            "Epoch 15/24\n",
            "----------\n",
            "train Loss: 0.4420 Acc: 0.8074\n",
            "val Loss: 0.1237 Acc: 0.9477\n",
            "\n",
            "Epoch 16/24\n",
            "----------\n",
            "train Loss: 0.2627 Acc: 0.8811\n",
            "val Loss: 0.1340 Acc: 0.9346\n",
            "\n",
            "Epoch 17/24\n",
            "----------\n",
            "train Loss: 0.3263 Acc: 0.8361\n",
            "val Loss: 0.1306 Acc: 0.9542\n",
            "\n",
            "Epoch 18/24\n",
            "----------\n",
            "train Loss: 0.3275 Acc: 0.8566\n",
            "val Loss: 0.1483 Acc: 0.9412\n",
            "\n",
            "Epoch 19/24\n",
            "----------\n",
            "train Loss: 0.2667 Acc: 0.8689\n",
            "val Loss: 0.1259 Acc: 0.9542\n",
            "\n",
            "Epoch 20/24\n",
            "----------\n",
            "train Loss: 0.4186 Acc: 0.7828\n",
            "val Loss: 0.1356 Acc: 0.9412\n",
            "\n",
            "Epoch 21/24\n",
            "----------\n",
            "train Loss: 0.3378 Acc: 0.8156\n",
            "val Loss: 0.1438 Acc: 0.9412\n",
            "\n",
            "Epoch 22/24\n",
            "----------\n",
            "train Loss: 0.3478 Acc: 0.8443\n",
            "val Loss: 0.1709 Acc: 0.9346\n",
            "\n",
            "Epoch 23/24\n",
            "----------\n",
            "train Loss: 0.3151 Acc: 0.8648\n",
            "val Loss: 0.1312 Acc: 0.9477\n",
            "\n",
            "Epoch 24/24\n",
            "----------\n",
            "train Loss: 0.2920 Acc: 0.8811\n",
            "val Loss: 0.1299 Acc: 0.9477\n",
            "\n",
            "Training complete in 1m 23s\n",
            "Best val Acc: 0.954248\n"
          ],
          "name": "stdout"
        }
      ]
    },
    {
      "cell_type": "code",
      "metadata": {
        "id": "bRhbwacycgm4",
        "colab_type": "code",
        "colab": {
          "base_uri": "https://localhost:8080/",
          "height": 581
        },
        "outputId": "31e0d522-8ee6-4b44-9d5e-01eb3072e2aa"
      },
      "source": [
        "visualize_model(model_conv)\n",
        "\n",
        "plt.ioff()\n",
        "plt.show()"
      ],
      "execution_count": null,
      "outputs": [
        {
          "output_type": "display_data",
          "data": {
            "image/png": "[encoded data removed]",
            "text/plain": [
              "<Figure size 432x288 with 1 Axes>"
            ]
          },
          "metadata": {
            "tags": [],
            "needs_background": "light"
          }
        },
        {
          "output_type": "display_data",
          "data": {
            "image/png": "[encoded data removed]",
            "text/plain": [
              "<Figure size 432x288 with 1 Axes>"
            ]
          },
          "metadata": {
            "tags": [],
            "needs_background": "light"
          }
        },
        {
          "output_type": "display_data",
          "data": {
            "image/png": "[encoded data removed]",
            "text/plain": [
              "<Figure size 432x288 with 1 Axes>"
            ]
          },
          "metadata": {
            "tags": [],
            "needs_background": "light"
          }
        },
        {
          "output_type": "display_data",
          "data": {
            "image/png": "[encoded data removed]",
            "text/plain": [
              "<Figure size 432x288 with 1 Axes>"
            ]
          },
          "metadata": {
            "tags": [],
            "needs_background": "light"
          }
        },
        {
          "output_type": "display_data",
          "data": {
            "image/png": "[encoded data removed]",
            "text/plain": [
              "<Figure size 432x288 with 1 Axes>"
            ]
          },
          "metadata": {
            "tags": [],
            "needs_background": "light"
          }
        },
        {
          "output_type": "display_data",
          "data": {
            "image/png": "[encoded data removed]",
            "text/plain": [
              "<Figure size 432x288 with 1 Axes>"
            ]
          },
          "metadata": {
            "tags": [],
            "needs_background": "light"
          }
        }
      ]
    },
    {
      "cell_type": "code",
      "metadata": {
        "id": "HpG6B_fhc2sH",
        "colab_type": "code",
        "colab": {}
      },
      "source": [
        ""
      ],
      "execution_count": null,
      "outputs": []
    }
  ]
}