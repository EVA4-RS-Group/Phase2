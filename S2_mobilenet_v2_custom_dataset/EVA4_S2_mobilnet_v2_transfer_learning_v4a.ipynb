{
  "nbformat": 4,
  "nbformat_minor": 0,
  "metadata": {
    "colab": {
      "name": "EVA4_S2_mobilnet_v2_transfer_learning_v4a.ipynb",
      "provenance": [],
      "collapsed_sections": [],
      "include_colab_link": true
    },
    "kernelspec": {
      "name": "python3",
      "display_name": "Python 3"
    },
    "accelerator": "GPU",
    "widgets": {
      "application/vnd.jupyter.widget-state+json": {
        "6c94fb23b0824b5da141f2a74e325624": {
          "model_module": "@jupyter-widgets/controls",
          "model_name": "HBoxModel",
          "state": {
            "_view_name": "HBoxView",
            "_dom_classes": [],
            "_model_name": "HBoxModel",
            "_view_module": "@jupyter-widgets/controls",
            "_model_module_version": "1.5.0",
            "_view_count": null,
            "_view_module_version": "1.5.0",
            "box_style": "",
            "layout": "IPY_MODEL_b64a7d3074344590a4c41ba36804a253",
            "_model_module": "@jupyter-widgets/controls",
            "children": [
              "IPY_MODEL_947098fa4b6541018d85e3f1bb9b4f0b",
              "IPY_MODEL_0642b27c6ea649569639528f6b75005c"
            ]
          }
        },
        "b64a7d3074344590a4c41ba36804a253": {
          "model_module": "@jupyter-widgets/base",
          "model_name": "LayoutModel",
          "state": {
            "_view_name": "LayoutView",
            "grid_template_rows": null,
            "right": null,
            "justify_content": null,
            "_view_module": "@jupyter-widgets/base",
            "overflow": null,
            "_model_module_version": "1.2.0",
            "_view_count": null,
            "flex_flow": null,
            "width": null,
            "min_width": null,
            "border": null,
            "align_items": null,
            "bottom": null,
            "_model_module": "@jupyter-widgets/base",
            "top": null,
            "grid_column": null,
            "overflow_y": null,
            "overflow_x": null,
            "grid_auto_flow": null,
            "grid_area": null,
            "grid_template_columns": null,
            "flex": null,
            "_model_name": "LayoutModel",
            "justify_items": null,
            "grid_row": null,
            "max_height": null,
            "align_content": null,
            "visibility": null,
            "align_self": null,
            "height": null,
            "min_height": null,
            "padding": null,
            "grid_auto_rows": null,
            "grid_gap": null,
            "max_width": null,
            "order": null,
            "_view_module_version": "1.2.0",
            "grid_template_areas": null,
            "object_position": null,
            "object_fit": null,
            "grid_auto_columns": null,
            "margin": null,
            "display": null,
            "left": null
          }
        },
        "947098fa4b6541018d85e3f1bb9b4f0b": {
          "model_module": "@jupyter-widgets/controls",
          "model_name": "FloatProgressModel",
          "state": {
            "_view_name": "ProgressView",
            "style": "IPY_MODEL_31027a2b6b484860ab232b3a9639a9f8",
            "_dom_classes": [],
            "description": "100%",
            "_model_name": "FloatProgressModel",
            "bar_style": "success",
            "max": 14212972,
            "_view_module": "@jupyter-widgets/controls",
            "_model_module_version": "1.5.0",
            "value": 14212972,
            "_view_count": null,
            "_view_module_version": "1.5.0",
            "orientation": "horizontal",
            "min": 0,
            "description_tooltip": null,
            "_model_module": "@jupyter-widgets/controls",
            "layout": "IPY_MODEL_fdb5ab8b6b6347d1a0b969ac7ebdfc67"
          }
        },
        "0642b27c6ea649569639528f6b75005c": {
          "model_module": "@jupyter-widgets/controls",
          "model_name": "HTMLModel",
          "state": {
            "_view_name": "HTMLView",
            "style": "IPY_MODEL_74f13508ff854ca5a37ba0f2d5eaa32d",
            "_dom_classes": [],
            "description": "",
            "_model_name": "HTMLModel",
            "placeholder": "​",
            "_view_module": "@jupyter-widgets/controls",
            "_model_module_version": "1.5.0",
            "value": " 13.6M/13.6M [01:37&lt;00:00, 146kB/s]",
            "_view_count": null,
            "_view_module_version": "1.5.0",
            "description_tooltip": null,
            "_model_module": "@jupyter-widgets/controls",
            "layout": "IPY_MODEL_21a0a58449fa4b11a44b90fc41cc953c"
          }
        },
        "31027a2b6b484860ab232b3a9639a9f8": {
          "model_module": "@jupyter-widgets/controls",
          "model_name": "ProgressStyleModel",
          "state": {
            "_view_name": "StyleView",
            "_model_name": "ProgressStyleModel",
            "description_width": "initial",
            "_view_module": "@jupyter-widgets/base",
            "_model_module_version": "1.5.0",
            "_view_count": null,
            "_view_module_version": "1.2.0",
            "bar_color": null,
            "_model_module": "@jupyter-widgets/controls"
          }
        },
        "fdb5ab8b6b6347d1a0b969ac7ebdfc67": {
          "model_module": "@jupyter-widgets/base",
          "model_name": "LayoutModel",
          "state": {
            "_view_name": "LayoutView",
            "grid_template_rows": null,
            "right": null,
            "justify_content": null,
            "_view_module": "@jupyter-widgets/base",
            "overflow": null,
            "_model_module_version": "1.2.0",
            "_view_count": null,
            "flex_flow": null,
            "width": null,
            "min_width": null,
            "border": null,
            "align_items": null,
            "bottom": null,
            "_model_module": "@jupyter-widgets/base",
            "top": null,
            "grid_column": null,
            "overflow_y": null,
            "overflow_x": null,
            "grid_auto_flow": null,
            "grid_area": null,
            "grid_template_columns": null,
            "flex": null,
            "_model_name": "LayoutModel",
            "justify_items": null,
            "grid_row": null,
            "max_height": null,
            "align_content": null,
            "visibility": null,
            "align_self": null,
            "height": null,
            "min_height": null,
            "padding": null,
            "grid_auto_rows": null,
            "grid_gap": null,
            "max_width": null,
            "order": null,
            "_view_module_version": "1.2.0",
            "grid_template_areas": null,
            "object_position": null,
            "object_fit": null,
            "grid_auto_columns": null,
            "margin": null,
            "display": null,
            "left": null
          }
        },
        "74f13508ff854ca5a37ba0f2d5eaa32d": {
          "model_module": "@jupyter-widgets/controls",
          "model_name": "DescriptionStyleModel",
          "state": {
            "_view_name": "StyleView",
            "_model_name": "DescriptionStyleModel",
            "description_width": "",
            "_view_module": "@jupyter-widgets/base",
            "_model_module_version": "1.5.0",
            "_view_count": null,
            "_view_module_version": "1.2.0",
            "_model_module": "@jupyter-widgets/controls"
          }
        },
        "21a0a58449fa4b11a44b90fc41cc953c": {
          "model_module": "@jupyter-widgets/base",
          "model_name": "LayoutModel",
          "state": {
            "_view_name": "LayoutView",
            "grid_template_rows": null,
            "right": null,
            "justify_content": null,
            "_view_module": "@jupyter-widgets/base",
            "overflow": null,
            "_model_module_version": "1.2.0",
            "_view_count": null,
            "flex_flow": null,
            "width": null,
            "min_width": null,
            "border": null,
            "align_items": null,
            "bottom": null,
            "_model_module": "@jupyter-widgets/base",
            "top": null,
            "grid_column": null,
            "overflow_y": null,
            "overflow_x": null,
            "grid_auto_flow": null,
            "grid_area": null,
            "grid_template_columns": null,
            "flex": null,
            "_model_name": "LayoutModel",
            "justify_items": null,
            "grid_row": null,
            "max_height": null,
            "align_content": null,
            "visibility": null,
            "align_self": null,
            "height": null,
            "min_height": null,
            "padding": null,
            "grid_auto_rows": null,
            "grid_gap": null,
            "max_width": null,
            "order": null,
            "_view_module_version": "1.2.0",
            "grid_template_areas": null,
            "object_position": null,
            "object_fit": null,
            "grid_auto_columns": null,
            "margin": null,
            "display": null,
            "left": null
          }
        },
        "d59216cd40e94216b17744f1e62fb91a": {
          "model_module": "@jupyter-widgets/controls",
          "model_name": "HBoxModel",
          "state": {
            "_view_name": "HBoxView",
            "_dom_classes": [],
            "_model_name": "HBoxModel",
            "_view_module": "@jupyter-widgets/controls",
            "_model_module_version": "1.5.0",
            "_view_count": null,
            "_view_module_version": "1.5.0",
            "box_style": "",
            "layout": "IPY_MODEL_6eb8f7dfa54d43d1a9a2b06938c90bf9",
            "_model_module": "@jupyter-widgets/controls",
            "children": [
              "IPY_MODEL_175a527ef61a41c0a56e2584fc9c6e0d",
              "IPY_MODEL_af93a58fc02f461e9f7d9907bc0dbad3"
            ]
          }
        },
        "6eb8f7dfa54d43d1a9a2b06938c90bf9": {
          "model_module": "@jupyter-widgets/base",
          "model_name": "LayoutModel",
          "state": {
            "_view_name": "LayoutView",
            "grid_template_rows": null,
            "right": null,
            "justify_content": null,
            "_view_module": "@jupyter-widgets/base",
            "overflow": null,
            "_model_module_version": "1.2.0",
            "_view_count": null,
            "flex_flow": null,
            "width": null,
            "min_width": null,
            "border": null,
            "align_items": null,
            "bottom": null,
            "_model_module": "@jupyter-widgets/base",
            "top": null,
            "grid_column": null,
            "overflow_y": null,
            "overflow_x": null,
            "grid_auto_flow": null,
            "grid_area": null,
            "grid_template_columns": null,
            "flex": null,
            "_model_name": "LayoutModel",
            "justify_items": null,
            "grid_row": null,
            "max_height": null,
            "align_content": null,
            "visibility": null,
            "align_self": null,
            "height": null,
            "min_height": null,
            "padding": null,
            "grid_auto_rows": null,
            "grid_gap": null,
            "max_width": null,
            "order": null,
            "_view_module_version": "1.2.0",
            "grid_template_areas": null,
            "object_position": null,
            "object_fit": null,
            "grid_auto_columns": null,
            "margin": null,
            "display": null,
            "left": null
          }
        },
        "175a527ef61a41c0a56e2584fc9c6e0d": {
          "model_module": "@jupyter-widgets/controls",
          "model_name": "FloatProgressModel",
          "state": {
            "_view_name": "ProgressView",
            "style": "IPY_MODEL_b8b8f2e3e82a47579b102388a30e3838",
            "_dom_classes": [],
            "description": " 82%",
            "_model_name": "FloatProgressModel",
            "bar_style": "danger",
            "max": 100,
            "_view_module": "@jupyter-widgets/controls",
            "_model_module_version": "1.5.0",
            "value": 82,
            "_view_count": null,
            "_view_module_version": "1.5.0",
            "orientation": "horizontal",
            "min": 0,
            "description_tooltip": null,
            "_model_module": "@jupyter-widgets/controls",
            "layout": "IPY_MODEL_9c1bb03864264e48ab00d75a7b0ae10b"
          }
        },
        "af93a58fc02f461e9f7d9907bc0dbad3": {
          "model_module": "@jupyter-widgets/controls",
          "model_name": "HTMLModel",
          "state": {
            "_view_name": "HTMLView",
            "style": "IPY_MODEL_d3e6242f106c41139cd11bef32238e5c",
            "_dom_classes": [],
            "description": "",
            "_model_name": "HTMLModel",
            "placeholder": "​",
            "_view_module": "@jupyter-widgets/controls",
            "_model_module_version": "1.5.0",
            "value": " 82/100 [01:25&lt;00:15,  1.18it/s]",
            "_view_count": null,
            "_view_module_version": "1.5.0",
            "description_tooltip": null,
            "_model_module": "@jupyter-widgets/controls",
            "layout": "IPY_MODEL_64bd24821db74cca8884b9c4a5914d52"
          }
        },
        "b8b8f2e3e82a47579b102388a30e3838": {
          "model_module": "@jupyter-widgets/controls",
          "model_name": "ProgressStyleModel",
          "state": {
            "_view_name": "StyleView",
            "_model_name": "ProgressStyleModel",
            "description_width": "initial",
            "_view_module": "@jupyter-widgets/base",
            "_model_module_version": "1.5.0",
            "_view_count": null,
            "_view_module_version": "1.2.0",
            "bar_color": null,
            "_model_module": "@jupyter-widgets/controls"
          }
        },
        "9c1bb03864264e48ab00d75a7b0ae10b": {
          "model_module": "@jupyter-widgets/base",
          "model_name": "LayoutModel",
          "state": {
            "_view_name": "LayoutView",
            "grid_template_rows": null,
            "right": null,
            "justify_content": null,
            "_view_module": "@jupyter-widgets/base",
            "overflow": null,
            "_model_module_version": "1.2.0",
            "_view_count": null,
            "flex_flow": null,
            "width": null,
            "min_width": null,
            "border": null,
            "align_items": null,
            "bottom": null,
            "_model_module": "@jupyter-widgets/base",
            "top": null,
            "grid_column": null,
            "overflow_y": null,
            "overflow_x": null,
            "grid_auto_flow": null,
            "grid_area": null,
            "grid_template_columns": null,
            "flex": null,
            "_model_name": "LayoutModel",
            "justify_items": null,
            "grid_row": null,
            "max_height": null,
            "align_content": null,
            "visibility": null,
            "align_self": null,
            "height": null,
            "min_height": null,
            "padding": null,
            "grid_auto_rows": null,
            "grid_gap": null,
            "max_width": null,
            "order": null,
            "_view_module_version": "1.2.0",
            "grid_template_areas": null,
            "object_position": null,
            "object_fit": null,
            "grid_auto_columns": null,
            "margin": null,
            "display": null,
            "left": null
          }
        },
        "d3e6242f106c41139cd11bef32238e5c": {
          "model_module": "@jupyter-widgets/controls",
          "model_name": "DescriptionStyleModel",
          "state": {
            "_view_name": "StyleView",
            "_model_name": "DescriptionStyleModel",
            "description_width": "",
            "_view_module": "@jupyter-widgets/base",
            "_model_module_version": "1.5.0",
            "_view_count": null,
            "_view_module_version": "1.2.0",
            "_model_module": "@jupyter-widgets/controls"
          }
        },
        "64bd24821db74cca8884b9c4a5914d52": {
          "model_module": "@jupyter-widgets/base",
          "model_name": "LayoutModel",
          "state": {
            "_view_name": "LayoutView",
            "grid_template_rows": null,
            "right": null,
            "justify_content": null,
            "_view_module": "@jupyter-widgets/base",
            "overflow": null,
            "_model_module_version": "1.2.0",
            "_view_count": null,
            "flex_flow": null,
            "width": null,
            "min_width": null,
            "border": null,
            "align_items": null,
            "bottom": null,
            "_model_module": "@jupyter-widgets/base",
            "top": null,
            "grid_column": null,
            "overflow_y": null,
            "overflow_x": null,
            "grid_auto_flow": null,
            "grid_area": null,
            "grid_template_columns": null,
            "flex": null,
            "_model_name": "LayoutModel",
            "justify_items": null,
            "grid_row": null,
            "max_height": null,
            "align_content": null,
            "visibility": null,
            "align_self": null,
            "height": null,
            "min_height": null,
            "padding": null,
            "grid_auto_rows": null,
            "grid_gap": null,
            "max_width": null,
            "order": null,
            "_view_module_version": "1.2.0",
            "grid_template_areas": null,
            "object_position": null,
            "object_fit": null,
            "grid_auto_columns": null,
            "margin": null,
            "display": null,
            "left": null
          }
        },
        "b565af8e5fc94e1484e2dea91ff90910": {
          "model_module": "@jupyter-widgets/controls",
          "model_name": "HBoxModel",
          "state": {
            "_view_name": "HBoxView",
            "_dom_classes": [],
            "_model_name": "HBoxModel",
            "_view_module": "@jupyter-widgets/controls",
            "_model_module_version": "1.5.0",
            "_view_count": null,
            "_view_module_version": "1.5.0",
            "box_style": "",
            "layout": "IPY_MODEL_fde5a7a4623f4616ad857611369fbea9",
            "_model_module": "@jupyter-widgets/controls",
            "children": [
              "IPY_MODEL_e41e6cc8be5e442582bcf69963b7966a",
              "IPY_MODEL_257f1133342a45a8a01e7d390a07c8af"
            ]
          }
        },
        "fde5a7a4623f4616ad857611369fbea9": {
          "model_module": "@jupyter-widgets/base",
          "model_name": "LayoutModel",
          "state": {
            "_view_name": "LayoutView",
            "grid_template_rows": null,
            "right": null,
            "justify_content": null,
            "_view_module": "@jupyter-widgets/base",
            "overflow": null,
            "_model_module_version": "1.2.0",
            "_view_count": null,
            "flex_flow": null,
            "width": null,
            "min_width": null,
            "border": null,
            "align_items": null,
            "bottom": null,
            "_model_module": "@jupyter-widgets/base",
            "top": null,
            "grid_column": null,
            "overflow_y": null,
            "overflow_x": null,
            "grid_auto_flow": null,
            "grid_area": null,
            "grid_template_columns": null,
            "flex": null,
            "_model_name": "LayoutModel",
            "justify_items": null,
            "grid_row": null,
            "max_height": null,
            "align_content": null,
            "visibility": null,
            "align_self": null,
            "height": null,
            "min_height": null,
            "padding": null,
            "grid_auto_rows": null,
            "grid_gap": null,
            "max_width": null,
            "order": null,
            "_view_module_version": "1.2.0",
            "grid_template_areas": null,
            "object_position": null,
            "object_fit": null,
            "grid_auto_columns": null,
            "margin": null,
            "display": null,
            "left": null
          }
        },
        "e41e6cc8be5e442582bcf69963b7966a": {
          "model_module": "@jupyter-widgets/controls",
          "model_name": "FloatProgressModel",
          "state": {
            "_view_name": "ProgressView",
            "style": "IPY_MODEL_ebebfe8e4fbf4101a69f028d3bc35b7e",
            "_dom_classes": [],
            "description": " 92%",
            "_model_name": "FloatProgressModel",
            "bar_style": "danger",
            "max": 100,
            "_view_module": "@jupyter-widgets/controls",
            "_model_module_version": "1.5.0",
            "value": 92,
            "_view_count": null,
            "_view_module_version": "1.5.0",
            "orientation": "horizontal",
            "min": 0,
            "description_tooltip": null,
            "_model_module": "@jupyter-widgets/controls",
            "layout": "IPY_MODEL_3d3c8597e8ad4248838a20f0a6f04bf6"
          }
        },
        "257f1133342a45a8a01e7d390a07c8af": {
          "model_module": "@jupyter-widgets/controls",
          "model_name": "HTMLModel",
          "state": {
            "_view_name": "HTMLView",
            "style": "IPY_MODEL_5ef85d76533d44b89df02aa8dee52212",
            "_dom_classes": [],
            "description": "",
            "_model_name": "HTMLModel",
            "placeholder": "​",
            "_view_module": "@jupyter-widgets/controls",
            "_model_module_version": "1.5.0",
            "value": " 92/100 [02:38&lt;00:12,  1.62s/it]",
            "_view_count": null,
            "_view_module_version": "1.5.0",
            "description_tooltip": null,
            "_model_module": "@jupyter-widgets/controls",
            "layout": "IPY_MODEL_28b85fc1d5fb4171b1fcf754db2c6817"
          }
        },
        "ebebfe8e4fbf4101a69f028d3bc35b7e": {
          "model_module": "@jupyter-widgets/controls",
          "model_name": "ProgressStyleModel",
          "state": {
            "_view_name": "StyleView",
            "_model_name": "ProgressStyleModel",
            "description_width": "initial",
            "_view_module": "@jupyter-widgets/base",
            "_model_module_version": "1.5.0",
            "_view_count": null,
            "_view_module_version": "1.2.0",
            "bar_color": null,
            "_model_module": "@jupyter-widgets/controls"
          }
        },
        "3d3c8597e8ad4248838a20f0a6f04bf6": {
          "model_module": "@jupyter-widgets/base",
          "model_name": "LayoutModel",
          "state": {
            "_view_name": "LayoutView",
            "grid_template_rows": null,
            "right": null,
            "justify_content": null,
            "_view_module": "@jupyter-widgets/base",
            "overflow": null,
            "_model_module_version": "1.2.0",
            "_view_count": null,
            "flex_flow": null,
            "width": null,
            "min_width": null,
            "border": null,
            "align_items": null,
            "bottom": null,
            "_model_module": "@jupyter-widgets/base",
            "top": null,
            "grid_column": null,
            "overflow_y": null,
            "overflow_x": null,
            "grid_auto_flow": null,
            "grid_area": null,
            "grid_template_columns": null,
            "flex": null,
            "_model_name": "LayoutModel",
            "justify_items": null,
            "grid_row": null,
            "max_height": null,
            "align_content": null,
            "visibility": null,
            "align_self": null,
            "height": null,
            "min_height": null,
            "padding": null,
            "grid_auto_rows": null,
            "grid_gap": null,
            "max_width": null,
            "order": null,
            "_view_module_version": "1.2.0",
            "grid_template_areas": null,
            "object_position": null,
            "object_fit": null,
            "grid_auto_columns": null,
            "margin": null,
            "display": null,
            "left": null
          }
        },
        "5ef85d76533d44b89df02aa8dee52212": {
          "model_module": "@jupyter-widgets/controls",
          "model_name": "DescriptionStyleModel",
          "state": {
            "_view_name": "StyleView",
            "_model_name": "DescriptionStyleModel",
            "description_width": "",
            "_view_module": "@jupyter-widgets/base",
            "_model_module_version": "1.5.0",
            "_view_count": null,
            "_view_module_version": "1.2.0",
            "_model_module": "@jupyter-widgets/controls"
          }
        },
        "28b85fc1d5fb4171b1fcf754db2c6817": {
          "model_module": "@jupyter-widgets/base",
          "model_name": "LayoutModel",
          "state": {
            "_view_name": "LayoutView",
            "grid_template_rows": null,
            "right": null,
            "justify_content": null,
            "_view_module": "@jupyter-widgets/base",
            "overflow": null,
            "_model_module_version": "1.2.0",
            "_view_count": null,
            "flex_flow": null,
            "width": null,
            "min_width": null,
            "border": null,
            "align_items": null,
            "bottom": null,
            "_model_module": "@jupyter-widgets/base",
            "top": null,
            "grid_column": null,
            "overflow_y": null,
            "overflow_x": null,
            "grid_auto_flow": null,
            "grid_area": null,
            "grid_template_columns": null,
            "flex": null,
            "_model_name": "LayoutModel",
            "justify_items": null,
            "grid_row": null,
            "max_height": null,
            "align_content": null,
            "visibility": null,
            "align_self": null,
            "height": null,
            "min_height": null,
            "padding": null,
            "grid_auto_rows": null,
            "grid_gap": null,
            "max_width": null,
            "order": null,
            "_view_module_version": "1.2.0",
            "grid_template_areas": null,
            "object_position": null,
            "object_fit": null,
            "grid_auto_columns": null,
            "margin": null,
            "display": null,
            "left": null
          }
        }
      }
    }
  },
  "cells": [
    {
      "cell_type": "markdown",
      "metadata": {
        "id": "view-in-github",
        "colab_type": "text"
      },
      "source": [
        "<a href=\"https://colab.research.google.com/github/EVA4-RS-Group/Phase2/blob/master/S2_mobilenet_v2_custom_dataset/EVA4_S2_mobilnet_v2_transfer_learning_v4a.ipynb\" target=\"_parent\"><img src=\"https://colab.research.google.com/assets/colab-badge.svg\" alt=\"Open In Colab\"/></a>"
      ]
    },
    {
      "cell_type": "markdown",
      "metadata": {
        "id": "sNmpCicvWDAH",
        "colab_type": "text"
      },
      "source": [
        "# 1. Loading Libraries"
      ]
    },
    {
      "cell_type": "code",
      "metadata": {
        "id": "9v6F--j2lUC0",
        "colab_type": "code",
        "colab": {}
      },
      "source": [
        "%load_ext autoreload\n",
        "%autoreload 2"
      ],
      "execution_count": 1,
      "outputs": []
    },
    {
      "cell_type": "code",
      "metadata": {
        "id": "vzVcpojM0W2o",
        "colab_type": "code",
        "colab": {}
      },
      "source": [
        "!wget -q https://github.com/EVA4-RS-Group/Phase2/releases/download/s2/final_images.zip\n",
        "!unzip -q final_images.zip\n",
        "!rm -rf /content/__MACOSX\n",
        "!find /content/final_images/data -name '.DS_Store' -type f -delete\n"
      ],
      "execution_count": 2,
      "outputs": []
    },
    {
      "cell_type": "code",
      "metadata": {
        "id": "NMxlBDpahjEF",
        "colab_type": "code",
        "colab": {
          "base_uri": "https://localhost:8080/",
          "height": 51
        },
        "outputId": "5358e99f-7a99-4851-8bdc-ac5f119f7219"
      },
      "source": [
        "# Load modules/models from EVA course\n",
        "!rm -rf Modules\n",
        "!git clone https://github.com/EVA4-RS-Group/Phase2 -q --quiet\n",
        "!mv ./Phase2/Modules ./Modules\n",
        "!rm -rf Phase2\n",
        "#print(\"Loaded EVA4 Modules\")\n",
        "from Modules import *"
      ],
      "execution_count": 3,
      "outputs": [
        {
          "output_type": "stream",
          "text": [
            "WARNING:Modules.lr_finder:To enable mixed precision training, please install `apex`. Or you can re-install this package by the following command:\n",
            "  pip install torch-lr-finder -v --global-option=\"amp\"\n"
          ],
          "name": "stderr"
        }
      ]
    },
    {
      "cell_type": "code",
      "metadata": {
        "id": "Q9uSfXIhVqhW",
        "colab_type": "code",
        "colab": {}
      },
      "source": [
        "from __future__ import print_function, division\n",
        "\n",
        "import torch\n",
        "import torch.nn as nn\n",
        "import torch.optim as optim\n",
        "from torch.optim import lr_scheduler\n",
        "import numpy as np\n",
        "import torchvision\n",
        "from torchvision import datasets, models, transforms\n",
        "import matplotlib.pyplot as plt\n",
        "import time\n",
        "import os\n",
        "\n",
        "plt.ion()   # interactive mode"
      ],
      "execution_count": 4,
      "outputs": []
    },
    {
      "cell_type": "markdown",
      "metadata": {
        "id": "S7LzTF44WhkS",
        "colab_type": "text"
      },
      "source": [
        "# 2. Load Data & Set Data Loaders\n",
        "We will use torchvision and torch.utils.data packages for loading the data.\n",
        "\n",
        "The problem we’re going to solve today is to train a model to classify ants and bees. We have about 120 training images each for ants and bees. There are 75 validation images for each class. Usually, this is a very small dataset to generalize upon, if trained from scratch. Since we are using transfer learning, we should be able to generalize reasonably well.\n",
        "\n",
        "This dataset is a very small subset of imagenet."
      ]
    },
    {
      "cell_type": "code",
      "metadata": {
        "id": "PV928rotAbx9",
        "colab_type": "code",
        "colab": {}
      },
      "source": [
        "from Modules import *"
      ],
      "execution_count": 5,
      "outputs": []
    },
    {
      "cell_type": "code",
      "metadata": {
        "id": "S9Ol-i8MaTXd",
        "colab_type": "code",
        "colab": {
          "base_uri": "https://localhost:8080/",
          "height": 102
        },
        "outputId": "17bf88c9-ee8b-4320-d172-7c1978260a3d"
      },
      "source": [
        "split_test_train_data('/content/final_images/data', tstRatio = 0.3)"
      ],
      "execution_count": 6,
      "outputs": [
        {
          "output_type": "stream",
          "text": [
            "['Large QuadCopters', 'Flying Birds', 'Small QuadCopters', 'Winged Drones']\n",
            "4165\n",
            "6761\n",
            "3653\n",
            "5673\n"
          ],
          "name": "stdout"
        }
      ]
    },
    {
      "cell_type": "code",
      "metadata": {
        "id": "LfJfD1PwWCs4",
        "colab_type": "code",
        "colab": {
          "base_uri": "https://localhost:8080/",
          "height": 34
        },
        "outputId": "101e0e1d-309a-494d-f096-850bbe50ace7"
      },
      "source": [
        "# Data augmentation and normalization for training\n",
        "# Just normalization for validation\n",
        "\n",
        "data_transforms = {\n",
        "    'train': transforms.Compose([\n",
        "        transforms.Resize(256),\n",
        "        transforms.RandomCrop(224),\n",
        "        transforms.RandomHorizontalFlip(),\n",
        "        transforms.ToTensor(),\n",
        "        transforms.Normalize([0.485, 0.456, 0.406], [0.229, 0.224, 0.225])\n",
        "    ]),\n",
        "    'val': transforms.Compose([\n",
        "        transforms.Resize(256),\n",
        "        transforms.CenterCrop(224),\n",
        "        transforms.ToTensor(),\n",
        "        transforms.Normalize([0.485, 0.456, 0.406], [0.229, 0.224, 0.225])\n",
        "    ]),\n",
        "}\n",
        "\n",
        "# data_dir = 'hymenoptera_data'\n",
        "# image_datasets = {x: datasets.ImageFolder(os.path.join(data_dir, x),\n",
        "#                                           data_transforms[x])\n",
        "#                   for x in ['train', 'val']}\n",
        "#  = {x: torch.utils.data.DataLoader(image_datasets[x], batch_size=30,\n",
        "#                                              shuffle=True, num_workers=4)\n",
        "#               for x in ['train', 'val']}\n",
        "# dataset_sizes = {x: len(image_datasets[x]) for x in ['train', 'val']}\n",
        "# class_names = image_datasets['train'].classes\n",
        "\n",
        "trnTransform = data_transforms['train'] \n",
        "trainSet = DroneDataset(train=True, transform = trnTransform)\n",
        "\n",
        "tstTransform = data_transforms['val']\n",
        "testSet = DroneDataset(train= False, transform = tstTransform)\n",
        "\n",
        "dataloaders = {'train': torch.utils.data.DataLoader(trainSet, batch_size= 192, \n",
        "                                                    shuffle=True, num_workers=4),\n",
        "               'val': torch.utils.data.DataLoader(testSet, batch_size= 192,\n",
        "                                          shuffle=True, num_workers=4)}\n",
        "\n",
        "dataset_sizes = {'train': len(trainSet),\n",
        "                 'val':len(testSet)}\n",
        "\n",
        "class_names = trainSet.classes\n",
        "print(class_names)\n",
        "\n",
        "device = torch.device(\"cuda:0\" if torch.cuda.is_available() else \"cpu\")"
      ],
      "execution_count": 7,
      "outputs": [
        {
          "output_type": "stream",
          "text": [
            "['Large QuadCopters', 'Flying Birds', 'Small QuadCopters', 'Winged Drones']\n"
          ],
          "name": "stdout"
        }
      ]
    },
    {
      "cell_type": "markdown",
      "metadata": {
        "id": "YnZNgF1qXrCc",
        "colab_type": "text"
      },
      "source": [
        "# 3. Visualize a few images\n",
        "Let’s visualize a few training images so as to understand the data augmentations."
      ]
    },
    {
      "cell_type": "code",
      "metadata": {
        "id": "eIeDMH7dXmNP",
        "colab_type": "code",
        "colab": {
          "base_uri": "https://localhost:8080/",
          "height": 148
        },
        "outputId": "b00a50e1-089f-4f26-d8be-0143a889f513"
      },
      "source": [
        "# Get a batch of training data\n",
        "inputs, classes = next(iter(dataloaders['train']))\n",
        "\n",
        "# Make a grid from batch\n",
        "out = torchvision.utils.make_grid(inputs[0:4,:,:,:])\n",
        "\n",
        "imshow(out, title=[class_names[int(x)] for x in classes[0:4]])"
      ],
      "execution_count": 10,
      "outputs": [
        {
          "output_type": "display_data",
          "data": {
            "image/png": "[encoded data removed]",
            "text/plain": [
              "<Figure size 432x288 with 1 Axes>"
            ]
          },
          "metadata": {
            "tags": [],
            "needs_background": "light"
          }
        }
      ]
    },
    {
      "cell_type": "markdown",
      "metadata": {
        "id": "plJBMgK8YjNV",
        "colab_type": "text"
      },
      "source": [
        "#6. Finetuning the convnet\n",
        "Load a pretrained model and reset final fully connected layer."
      ]
    },
    {
      "cell_type": "code",
      "metadata": {
        "id": "iAYYcKoUYhK2",
        "colab_type": "code",
        "colab": {
          "base_uri": "https://localhost:8080/",
          "height": 415,
          "referenced_widgets": [
            "6c94fb23b0824b5da141f2a74e325624",
            "b64a7d3074344590a4c41ba36804a253",
            "947098fa4b6541018d85e3f1bb9b4f0b",
            "0642b27c6ea649569639528f6b75005c",
            "31027a2b6b484860ab232b3a9639a9f8",
            "fdb5ab8b6b6347d1a0b969ac7ebdfc67",
            "74f13508ff854ca5a37ba0f2d5eaa32d",
            "21a0a58449fa4b11a44b90fc41cc953c",
            "d59216cd40e94216b17744f1e62fb91a",
            "6eb8f7dfa54d43d1a9a2b06938c90bf9",
            "175a527ef61a41c0a56e2584fc9c6e0d",
            "af93a58fc02f461e9f7d9907bc0dbad3",
            "b8b8f2e3e82a47579b102388a30e3838",
            "9c1bb03864264e48ab00d75a7b0ae10b",
            "d3e6242f106c41139cd11bef32238e5c",
            "64bd24821db74cca8884b9c4a5914d52"
          ]
        },
        "outputId": "fd5d6533-1af5-45e8-b69e-5eb60fe0553e"
      },
      "source": [
        "import torch.optim as optim\n",
        "#from torch_lr_finder import LRFinder\n",
        "\n",
        "model_ft = models.mobilenet_v2(pretrained=True)\n",
        "# Here the size of each output sample is set to 2.\n",
        "# Alternatively, it can be generalized to nn.Linear(num_ftrs, len(class_names)).\n",
        "\n",
        "for param in model_ft.parameters():\n",
        "    param.requires_grad = False\n",
        "\n",
        "# Parameters of newly constructed modules have requires_grad=True by default\n",
        "model_ft.classifier[1] = nn.Linear(1280, 4)\n",
        "\n",
        "model_ft = model_ft.to(device)\n",
        "\n",
        "criterion = nn.CrossEntropyLoss()\n",
        "\n",
        "optimizer = optim.SGD(model_ft.classifier[1].parameters(), lr=1e-6, weight_decay=0.01,momentum=0.9)\n",
        "lr_finder = LRFinder(model_ft, optimizer, criterion, device=\"cuda\")\n",
        "lr_finder.range_test(dataloaders['train'], end_lr=10, num_iter=100)\n",
        "lr_finder.plot(show_lr=0.1) # to inspect the loss-learning rate graph\n",
        "lr_finder.reset() # to reset the model and optimizer to their initial stat"
      ],
      "execution_count": 9,
      "outputs": [
        {
          "output_type": "stream",
          "text": [
            "Downloading: \"https://download.pytorch.org/models/mobilenet_v2-b0353104.pth\" to /root/.cache/torch/checkpoints/mobilenet_v2-b0353104.pth\n"
          ],
          "name": "stderr"
        },
        {
          "output_type": "display_data",
          "data": {
            "application/vnd.jupyter.widget-view+json": {
              "model_id": "6c94fb23b0824b5da141f2a74e325624",
              "version_minor": 0,
              "version_major": 2
            },
            "text/plain": [
              "HBox(children=(FloatProgress(value=0.0, max=14212972.0), HTML(value='')))"
            ]
          },
          "metadata": {
            "tags": []
          }
        },
        {
          "output_type": "stream",
          "text": [
            "\n"
          ],
          "name": "stdout"
        },
        {
          "output_type": "display_data",
          "data": {
            "application/vnd.jupyter.widget-view+json": {
              "model_id": "d59216cd40e94216b17744f1e62fb91a",
              "version_minor": 0,
              "version_major": 2
            },
            "text/plain": [
              "HBox(children=(FloatProgress(value=0.0), HTML(value='')))"
            ]
          },
          "metadata": {
            "tags": []
          }
        },
        {
          "output_type": "stream",
          "text": [
            "Stopping early, the loss has diverged\n",
            "Learning rate search finished. See the graph with {finder_name}.plot()\n"
          ],
          "name": "stdout"
        },
        {
          "output_type": "display_data",
          "data": {
            "image/png": "[encoded data removed]",
            "text/plain": [
              "<Figure size 432x288 with 1 Axes>"
            ]
          },
          "metadata": {
            "tags": [],
            "needs_background": "light"
          }
        }
      ]
    },
    {
      "cell_type": "code",
      "metadata": {
        "id": "948q8przyrKU",
        "colab_type": "code",
        "colab": {}
      },
      "source": [
        "# Observe that all parameters are being optimized\n",
        "optimizer_ft = optim.SGD(model_ft.classifier[1].parameters(), lr=0.1, momentum=0.9)\n",
        "\n",
        "scheduler = optim.lr_scheduler.OneCycleLR(optimizer,\n",
        "                                          max_lr=0.1, \n",
        "                                          steps_per_epoch=len(dataloaders['train']), #Training folder size/bs \n",
        "                                          epochs=25)"
      ],
      "execution_count": 11,
      "outputs": []
    },
    {
      "cell_type": "markdown",
      "metadata": {
        "id": "c8A3lqs8bASW",
        "colab_type": "text"
      },
      "source": [
        "# 7. Train and evaluate\n",
        "It should take around 15-25 min on CPU. On GPU though, it takes less than a minute."
      ]
    },
    {
      "cell_type": "code",
      "metadata": {
        "id": "0aC6MV_xa_mw",
        "colab_type": "code",
        "colab": {
          "base_uri": "https://localhost:8080/",
          "height": 1000
        },
        "outputId": "c6664d5d-c3e0-43b4-b164-93cdaaa7daee"
      },
      "source": [
        "model_res = train_model(model_ft, dataloaders, dataset_sizes, device, criterion, optimizer_ft, scheduler,\n",
        "                       num_epochs=25)"
      ],
      "execution_count": 12,
      "outputs": [
        {
          "output_type": "stream",
          "text": [
            "Epoch 0/24\n",
            "----------\n"
          ],
          "name": "stdout"
        },
        {
          "output_type": "stream",
          "text": [
            "/usr/local/lib/python3.6/dist-packages/torch/optim/lr_scheduler.py:123: UserWarning: Detected call of `lr_scheduler.step()` before `optimizer.step()`. In PyTorch 1.1.0 and later, you should call them in the opposite order: `optimizer.step()` before `lr_scheduler.step()`.  Failure to do this will result in PyTorch skipping the first value of the learning rate schedule. See more details at https://pytorch.org/docs/stable/optim.html#how-to-adjust-learning-rate\n",
            "  \"https://pytorch.org/docs/stable/optim.html#how-to-adjust-learning-rate\", UserWarning)\n"
          ],
          "name": "stderr"
        },
        {
          "output_type": "stream",
          "text": [
            "train Loss: 3.0021 Acc: 0.7046\n",
            "val Loss: 1.1030 Acc: 0.8024\n",
            "\n",
            "Epoch 1/24\n",
            "----------\n",
            "train Loss: 1.1998 Acc: 0.7758\n",
            "val Loss: 0.8600 Acc: 0.8075\n",
            "\n",
            "Epoch 2/24\n",
            "----------\n",
            "train Loss: 1.3939 Acc: 0.7606\n",
            "val Loss: 1.3840 Acc: 0.7864\n",
            "\n",
            "Epoch 3/24\n",
            "----------\n",
            "train Loss: 1.2840 Acc: 0.7700\n",
            "val Loss: 1.5998 Acc: 0.7262\n",
            "\n",
            "Epoch 4/24\n",
            "----------\n",
            "train Loss: 1.1824 Acc: 0.7759\n",
            "val Loss: 1.2050 Acc: 0.7726\n",
            "\n",
            "Epoch 5/24\n",
            "----------\n",
            "train Loss: 1.1541 Acc: 0.7709\n",
            "val Loss: 0.9766 Acc: 0.7889\n",
            "\n",
            "Epoch 6/24\n",
            "----------\n",
            "train Loss: 1.2262 Acc: 0.7692\n",
            "val Loss: 1.0558 Acc: 0.7943\n",
            "\n",
            "Epoch 7/24\n",
            "----------\n",
            "train Loss: 1.1675 Acc: 0.7696\n",
            "val Loss: 1.5218 Acc: 0.7744\n",
            "\n",
            "Epoch 8/24\n",
            "----------\n",
            "train Loss: 1.1774 Acc: 0.7809\n",
            "val Loss: 0.7333 Acc: 0.8217\n",
            "\n",
            "Epoch 9/24\n",
            "----------\n",
            "train Loss: 1.1002 Acc: 0.7722\n",
            "val Loss: 1.4132 Acc: 0.7278\n",
            "\n",
            "Epoch 10/24\n",
            "----------\n",
            "train Loss: 1.0660 Acc: 0.7763\n",
            "val Loss: 1.4029 Acc: 0.7379\n",
            "\n",
            "Epoch 11/24\n",
            "----------\n",
            "train Loss: 0.9292 Acc: 0.7776\n",
            "val Loss: 0.7728 Acc: 0.8077\n",
            "\n",
            "Epoch 12/24\n",
            "----------\n",
            "train Loss: 1.0623 Acc: 0.7690\n",
            "val Loss: 0.6510 Acc: 0.8182\n",
            "\n",
            "Epoch 13/24\n",
            "----------\n",
            "train Loss: 1.2174 Acc: 0.7606\n",
            "val Loss: 0.9287 Acc: 0.8146\n",
            "\n",
            "Epoch 14/24\n",
            "----------\n",
            "train Loss: 1.1008 Acc: 0.7708\n",
            "val Loss: 0.7168 Acc: 0.8291\n",
            "\n",
            "Epoch 15/24\n",
            "----------\n",
            "train Loss: 0.9356 Acc: 0.7791\n",
            "val Loss: 0.8533 Acc: 0.7933\n",
            "\n",
            "Epoch 16/24\n",
            "----------\n",
            "train Loss: 1.1148 Acc: 0.7660\n",
            "val Loss: 1.1765 Acc: 0.7663\n",
            "\n",
            "Epoch 17/24\n",
            "----------\n",
            "train Loss: 0.9984 Acc: 0.7733\n",
            "val Loss: 0.9500 Acc: 0.7961\n",
            "\n",
            "Epoch 18/24\n",
            "----------\n",
            "train Loss: 1.0329 Acc: 0.7690\n",
            "val Loss: 0.6925 Acc: 0.8146\n",
            "\n",
            "Epoch 19/24\n",
            "----------\n",
            "train Loss: 1.0367 Acc: 0.7678\n",
            "val Loss: 0.8506 Acc: 0.8055\n",
            "\n",
            "Epoch 20/24\n",
            "----------\n",
            "train Loss: 1.2545 Acc: 0.7592\n",
            "val Loss: 1.0342 Acc: 0.8292\n",
            "\n",
            "Epoch 21/24\n",
            "----------\n",
            "train Loss: 1.2705 Acc: 0.7734\n",
            "val Loss: 1.4092 Acc: 0.7576\n",
            "\n",
            "Epoch 22/24\n",
            "----------\n",
            "train Loss: 1.1755 Acc: 0.7711\n",
            "val Loss: 0.8587 Acc: 0.7808\n",
            "\n",
            "Epoch 23/24\n",
            "----------\n",
            "train Loss: 1.0139 Acc: 0.7734\n",
            "val Loss: 1.0091 Acc: 0.7820\n",
            "\n",
            "Epoch 24/24\n",
            "----------\n",
            "train Loss: 0.9616 Acc: 0.7744\n",
            "val Loss: 1.0303 Acc: 0.7848\n",
            "\n",
            "Training complete in 44m 8s\n",
            "Best val Acc: 0.829244\n"
          ],
          "name": "stdout"
        }
      ]
    },
    {
      "cell_type": "code",
      "metadata": {
        "id": "mqBnAwEjYvhW",
        "colab_type": "code",
        "colab": {
          "base_uri": "https://localhost:8080/",
          "height": 581
        },
        "outputId": "151fdcab-1e4c-4a9b-9757-25d7e1bf5f0f"
      },
      "source": [
        "visualize_model(model_res, dataloaders, class_names, device)"
      ],
      "execution_count": 13,
      "outputs": [
        {
          "output_type": "display_data",
          "data": {
            "image/png": "[encoded data removed]",
            "text/plain": [
              "<Figure size 432x288 with 1 Axes>"
            ]
          },
          "metadata": {
            "tags": [],
            "needs_background": "light"
          }
        },
        {
          "output_type": "display_data",
          "data": {
            "image/png": "[encoded data removed]",
            "text/plain": [
              "<Figure size 432x288 with 1 Axes>"
            ]
          },
          "metadata": {
            "tags": [],
            "needs_background": "light"
          }
        },
        {
          "output_type": "display_data",
          "data": {
            "image/png": "[encoded data removed]",
            "text/plain": [
              "<Figure size 432x288 with 1 Axes>"
            ]
          },
          "metadata": {
            "tags": [],
            "needs_background": "light"
          }
        },
        {
          "output_type": "display_data",
          "data": {
            "image/png": "[encoded data removed]",
            "text/plain": [
              "<Figure size 432x288 with 1 Axes>"
            ]
          },
          "metadata": {
            "tags": [],
            "needs_background": "light"
          }
        },
        {
          "output_type": "display_data",
          "data": {
            "image/png": "[encoded data removed]",
            "text/plain": [
              "<Figure size 432x288 with 1 Axes>"
            ]
          },
          "metadata": {
            "tags": [],
            "needs_background": "light"
          }
        },
        {
          "output_type": "display_data",
          "data": {
            "image/png": "[encoded data removed]",
            "text/plain": [
              "<Figure size 432x288 with 1 Axes>"
            ]
          },
          "metadata": {
            "tags": [],
            "needs_background": "light"
          }
        }
      ]
    },
    {
      "cell_type": "markdown",
      "metadata": {
        "id": "DDszYJbTcFDw",
        "colab_type": "text"
      },
      "source": [
        "# 8. ConvNet as fixed feature extractor\n",
        "Here, we need to freeze all the network except the final layer. We need to set requires_grad == False to freeze the parameters so that the gradients are not computed in backward().\n",
        "\n",
        "You can read more about this in the documentation here."
      ]
    },
    {
      "cell_type": "code",
      "metadata": {
        "id": "55rW2jtRY3AB",
        "colab_type": "code",
        "colab": {
          "base_uri": "https://localhost:8080/",
          "height": 349,
          "referenced_widgets": [
            "b565af8e5fc94e1484e2dea91ff90910",
            "fde5a7a4623f4616ad857611369fbea9",
            "e41e6cc8be5e442582bcf69963b7966a",
            "257f1133342a45a8a01e7d390a07c8af",
            "ebebfe8e4fbf4101a69f028d3bc35b7e",
            "3d3c8597e8ad4248838a20f0a6f04bf6",
            "5ef85d76533d44b89df02aa8dee52212",
            "28b85fc1d5fb4171b1fcf754db2c6817"
          ]
        },
        "outputId": "be2a9d38-20e9-4527-b248-ab548bcbcaf5"
      },
      "source": [
        "model_conv = model_res\n",
        "# Here the size of each output sample is set to 2.\n",
        "# Alternatively, it can be generalized to nn.Linear(num_ftrs, len(class_names)).\n",
        "\n",
        "model_conv = model_conv.to(device)\n",
        "\n",
        "for param in model_conv.parameters():\n",
        "    param.requires_grad = True\n",
        "\n",
        "criterion = nn.CrossEntropyLoss()\n",
        "\n",
        "optimizer = optim.SGD(model_conv.parameters(), lr=1e-6, weight_decay=0.01,momentum=0.9)\n",
        "lr_finder = LRFinder(model_conv, optimizer, criterion, device=\"cuda\")\n",
        "lr_finder.range_test(dataloaders['train'], end_lr=10, num_iter=100)\n",
        "lr_finder.plot(show_lr=0.01) # to inspect the loss-learning rate graph\n",
        "lr_finder.reset() # to reset the model and optimizer to their initial stat"
      ],
      "execution_count": 14,
      "outputs": [
        {
          "output_type": "display_data",
          "data": {
            "application/vnd.jupyter.widget-view+json": {
              "model_id": "b565af8e5fc94e1484e2dea91ff90910",
              "version_minor": 0,
              "version_major": 2
            },
            "text/plain": [
              "HBox(children=(FloatProgress(value=0.0), HTML(value='')))"
            ]
          },
          "metadata": {
            "tags": []
          }
        },
        {
          "output_type": "stream",
          "text": [
            "Stopping early, the loss has diverged\n",
            "Learning rate search finished. See the graph with {finder_name}.plot()\n"
          ],
          "name": "stdout"
        },
        {
          "output_type": "display_data",
          "data": {
            "image/png": "[encoded data removed]",
            "text/plain": [
              "<Figure size 432x288 with 1 Axes>"
            ]
          },
          "metadata": {
            "tags": [],
            "needs_background": "light"
          }
        }
      ]
    },
    {
      "cell_type": "code",
      "metadata": {
        "id": "OZfffkrc7Vs-",
        "colab_type": "code",
        "colab": {}
      },
      "source": [
        "# Observe that only parameters of final layer are being optimized as\n",
        "# opposed to before.\n",
        "optimizer_conv = optim.SGD(model_conv.parameters(), lr=0.1, momentum=0.9)\n",
        "\n",
        "# Decay LR by a factor of 0.1 every 7 epochs\n",
        "scheduler = optim.lr_scheduler.OneCycleLR(optimizer_conv,\n",
        "                                          max_lr=0.01, \n",
        "                                          steps_per_epoch=len(dataloaders['train']), #Training folder size/bs\n",
        "                                          epochs=25)"
      ],
      "execution_count": 15,
      "outputs": []
    },
    {
      "cell_type": "code",
      "metadata": {
        "id": "qwpPzmGhcdsY",
        "colab_type": "code",
        "colab": {
          "base_uri": "https://localhost:8080/",
          "height": 1000
        },
        "outputId": "4603325f-0c13-458e-b8ab-6a46454058b2"
      },
      "source": [
        "model_final = train_model(model_conv, dataloaders, dataset_sizes, device, criterion, optimizer_conv, scheduler,\n",
        "                       num_epochs=25)"
      ],
      "execution_count": 16,
      "outputs": [
        {
          "output_type": "stream",
          "text": [
            "Epoch 0/24\n",
            "----------\n",
            "train Loss: 0.8133 Acc: 0.7967\n",
            "val Loss: 0.5241 Acc: 0.8332\n",
            "\n",
            "Epoch 1/24\n",
            "----------\n",
            "train Loss: 0.4788 Acc: 0.8330\n",
            "val Loss: 0.4509 Acc: 0.8500\n",
            "\n",
            "Epoch 2/24\n",
            "----------\n",
            "train Loss: 0.3718 Acc: 0.8580\n",
            "val Loss: 0.4110 Acc: 0.8534\n",
            "\n",
            "Epoch 3/24\n",
            "----------\n",
            "train Loss: 0.3335 Acc: 0.8726\n",
            "val Loss: 0.3540 Acc: 0.8660\n",
            "\n",
            "Epoch 4/24\n",
            "----------\n",
            "train Loss: 0.3100 Acc: 0.8822\n",
            "val Loss: 0.3631 Acc: 0.8729\n",
            "\n",
            "Epoch 5/24\n",
            "----------\n",
            "train Loss: 0.2780 Acc: 0.8914\n",
            "val Loss: 0.3362 Acc: 0.8763\n",
            "\n",
            "Epoch 6/24\n",
            "----------\n",
            "train Loss: 0.2388 Acc: 0.9077\n",
            "val Loss: 0.3411 Acc: 0.8785\n",
            "\n",
            "Epoch 7/24\n",
            "----------\n",
            "train Loss: 0.2095 Acc: 0.9183\n",
            "val Loss: 0.3286 Acc: 0.8867\n",
            "\n",
            "Epoch 8/24\n",
            "----------\n",
            "train Loss: 0.1936 Acc: 0.9286\n",
            "val Loss: 0.3360 Acc: 0.8907\n",
            "\n",
            "Epoch 9/24\n",
            "----------\n",
            "train Loss: 0.1768 Acc: 0.9306\n",
            "val Loss: 0.3387 Acc: 0.8913\n",
            "\n",
            "Epoch 10/24\n",
            "----------\n",
            "train Loss: 0.1646 Acc: 0.9370\n",
            "val Loss: 0.3349 Acc: 0.8936\n",
            "\n",
            "Epoch 11/24\n",
            "----------\n",
            "train Loss: 0.1518 Acc: 0.9439\n",
            "val Loss: 0.4330 Acc: 0.8711\n",
            "\n",
            "Epoch 12/24\n",
            "----------\n",
            "train Loss: 0.1422 Acc: 0.9465\n",
            "val Loss: 0.3499 Acc: 0.8893\n",
            "\n",
            "Epoch 13/24\n",
            "----------\n",
            "train Loss: 0.1358 Acc: 0.9471\n",
            "val Loss: 0.3509 Acc: 0.8908\n",
            "\n",
            "Epoch 14/24\n",
            "----------\n",
            "train Loss: 0.1236 Acc: 0.9537\n",
            "val Loss: 0.3699 Acc: 0.8895\n",
            "\n",
            "Epoch 15/24\n",
            "----------\n",
            "train Loss: 0.1060 Acc: 0.9610\n",
            "val Loss: 0.3805 Acc: 0.8949\n",
            "\n",
            "Epoch 16/24\n",
            "----------\n",
            "train Loss: 0.1005 Acc: 0.9624\n",
            "val Loss: 0.3808 Acc: 0.8953\n",
            "\n",
            "Epoch 17/24\n",
            "----------\n",
            "train Loss: 0.0958 Acc: 0.9653\n",
            "val Loss: 0.4066 Acc: 0.8987\n",
            "\n",
            "Epoch 18/24\n",
            "----------\n",
            "train Loss: 0.0854 Acc: 0.9682\n",
            "val Loss: 0.4194 Acc: 0.8936\n",
            "\n",
            "Epoch 19/24\n",
            "----------\n",
            "train Loss: 0.0781 Acc: 0.9726\n",
            "val Loss: 0.4319 Acc: 0.8948\n",
            "\n",
            "Epoch 20/24\n",
            "----------\n",
            "train Loss: 0.0694 Acc: 0.9749\n",
            "val Loss: 0.4245 Acc: 0.8956\n",
            "\n",
            "Epoch 21/24\n",
            "----------\n",
            "train Loss: 0.0628 Acc: 0.9771\n",
            "val Loss: 0.4378 Acc: 0.8945\n",
            "\n",
            "Epoch 22/24\n",
            "----------\n",
            "train Loss: 0.0570 Acc: 0.9804\n",
            "val Loss: 0.4442 Acc: 0.8961\n",
            "\n",
            "Epoch 23/24\n",
            "----------\n",
            "train Loss: 0.0533 Acc: 0.9813\n",
            "val Loss: 0.4440 Acc: 0.8969\n",
            "\n",
            "Epoch 24/24\n",
            "----------\n",
            "train Loss: 0.0518 Acc: 0.9811\n",
            "val Loss: 0.4417 Acc: 0.8954\n",
            "\n",
            "Training complete in 65m 27s\n",
            "Best val Acc: 0.898732\n"
          ],
          "name": "stdout"
        }
      ]
    },
    {
      "cell_type": "code",
      "metadata": {
        "id": "bRhbwacycgm4",
        "colab_type": "code",
        "colab": {
          "base_uri": "https://localhost:8080/",
          "height": 581
        },
        "outputId": "c7a92fed-5577-48c8-c63e-6da056541918"
      },
      "source": [
        "visualize_model(model_final, dataloaders, class_names, device)\n",
        "\n",
        "plt.ioff()\n",
        "plt.show()"
      ],
      "execution_count": 17,
      "outputs": [
        {
          "output_type": "display_data",
          "data": {
            "image/png": "[encoded data removed]",
            "text/plain": [
              "<Figure size 432x288 with 1 Axes>"
            ]
          },
          "metadata": {
            "tags": [],
            "needs_background": "light"
          }
        },
        {
          "output_type": "display_data",
          "data": {
            "image/png": "[encoded data removed]",
            "text/plain": [
              "<Figure size 432x288 with 1 Axes>"
            ]
          },
          "metadata": {
            "tags": [],
            "needs_background": "light"
          }
        },
        {
          "output_type": "display_data",
          "data": {
            "image/png": "[encoded data removed]",
            "text/plain": [
              "<Figure size 432x288 with 1 Axes>"
            ]
          },
          "metadata": {
            "tags": [],
            "needs_background": "light"
          }
        },
        {
          "output_type": "display_data",
          "data": {
            "image/png": "[encoded data removed]",
            "text/plain": [
              "<Figure size 432x288 with 1 Axes>"
            ]
          },
          "metadata": {
            "tags": [],
            "needs_background": "light"
          }
        },
        {
          "output_type": "display_data",
          "data": {
            "image/png": "[encoded data removed]",
            "text/plain": [
              "<Figure size 432x288 with 1 Axes>"
            ]
          },
          "metadata": {
            "tags": [],
            "needs_background": "light"
          }
        },
        {
          "output_type": "display_data",
          "data": {
            "image/png": "[encoded data removed]",
            "text/plain": [
              "<Figure size 432x288 with 1 Axes>"
            ]
          },
          "metadata": {
            "tags": [],
            "needs_background": "light"
          }
        }
      ]
    },
    {
      "cell_type": "markdown",
      "metadata": {
        "id": "0B7WuLRrl6rd",
        "colab_type": "text"
      },
      "source": [
        "# 9. Saving Model"
      ]
    },
    {
      "cell_type": "code",
      "metadata": {
        "id": "HpG6B_fhc2sH",
        "colab_type": "code",
        "colab": {}
      },
      "source": [
        "# Save GPU Model\n",
        "torch.save(model_final.state_dict(), '/content/mobilenet_v2_custom_trained_gpu_v4a.pt')\n",
        "\n",
        "# Load CPU Model\n",
        "device = torch.device('cpu')\n",
        "model = models.mobilenet_v2(pretrained=False)\n",
        "model.classifier[1] = nn.Linear(1280, 4)\n",
        "model.load_state_dict(torch.load('/content/mobilenet_v2_custom_trained_gpu_v4a.pt',\n",
        "                                 map_location=device))\n",
        "\n",
        "# Saving Trace Model\n",
        "model.eval()\n",
        "# trace model with a dummy input\n",
        "traced_model = torch.jit.trace(model, torch.randn(1, 3, 224, 224))\n",
        "traced_model.save('mobilenet_v2_custom_trained_v4a.pt')"
      ],
      "execution_count": 18,
      "outputs": []
    },
    {
      "cell_type": "code",
      "metadata": {
        "id": "8OaoULP6nBz-",
        "colab_type": "code",
        "colab": {}
      },
      "source": [
        ""
      ],
      "execution_count": null,
      "outputs": []
    }
  ]
}