{
  "nbformat": 4,
  "nbformat_minor": 0,
  "metadata": {
    "colab": {
      "name": "EVA4_S2_mobilnet_v2_transfer_learning_v4.ipynb",
      "provenance": [],
      "collapsed_sections": [],
      "toc_visible": true,
      "include_colab_link": true
    },
    "kernelspec": {
      "name": "python3",
      "display_name": "Python 3"
    },
    "accelerator": "GPU",
    "widgets": {
      "application/vnd.jupyter.widget-state+json": {
        "d5d2e052f0c342e983af5173fad75216": {
          "model_module": "@jupyter-widgets/controls",
          "model_name": "HBoxModel",
          "state": {
            "_view_name": "HBoxView",
            "_dom_classes": [],
            "_model_name": "HBoxModel",
            "_view_module": "@jupyter-widgets/controls",
            "_model_module_version": "1.5.0",
            "_view_count": null,
            "_view_module_version": "1.5.0",
            "box_style": "",
            "layout": "IPY_MODEL_ad4d7047e6de45ed8ee5c6f0798d2920",
            "_model_module": "@jupyter-widgets/controls",
            "children": [
              "IPY_MODEL_3f98a31bf8184bdba1cbe28c625be124",
              "IPY_MODEL_1fc660bcb47f4ab5a6e96cea92958bd4"
            ]
          }
        },
        "ad4d7047e6de45ed8ee5c6f0798d2920": {
          "model_module": "@jupyter-widgets/base",
          "model_name": "LayoutModel",
          "state": {
            "_view_name": "LayoutView",
            "grid_template_rows": null,
            "right": null,
            "justify_content": null,
            "_view_module": "@jupyter-widgets/base",
            "overflow": null,
            "_model_module_version": "1.2.0",
            "_view_count": null,
            "flex_flow": null,
            "width": null,
            "min_width": null,
            "border": null,
            "align_items": null,
            "bottom": null,
            "_model_module": "@jupyter-widgets/base",
            "top": null,
            "grid_column": null,
            "overflow_y": null,
            "overflow_x": null,
            "grid_auto_flow": null,
            "grid_area": null,
            "grid_template_columns": null,
            "flex": null,
            "_model_name": "LayoutModel",
            "justify_items": null,
            "grid_row": null,
            "max_height": null,
            "align_content": null,
            "visibility": null,
            "align_self": null,
            "height": null,
            "min_height": null,
            "padding": null,
            "grid_auto_rows": null,
            "grid_gap": null,
            "max_width": null,
            "order": null,
            "_view_module_version": "1.2.0",
            "grid_template_areas": null,
            "object_position": null,
            "object_fit": null,
            "grid_auto_columns": null,
            "margin": null,
            "display": null,
            "left": null
          }
        },
        "3f98a31bf8184bdba1cbe28c625be124": {
          "model_module": "@jupyter-widgets/controls",
          "model_name": "FloatProgressModel",
          "state": {
            "_view_name": "ProgressView",
            "style": "IPY_MODEL_6ee600bb58e3469fb0341694dafeae6d",
            "_dom_classes": [],
            "description": "100%",
            "_model_name": "FloatProgressModel",
            "bar_style": "success",
            "max": 14212972,
            "_view_module": "@jupyter-widgets/controls",
            "_model_module_version": "1.5.0",
            "value": 14212972,
            "_view_count": null,
            "_view_module_version": "1.5.0",
            "orientation": "horizontal",
            "min": 0,
            "description_tooltip": null,
            "_model_module": "@jupyter-widgets/controls",
            "layout": "IPY_MODEL_7e96d95b475040f8a5bd74157166a4f9"
          }
        },
        "1fc660bcb47f4ab5a6e96cea92958bd4": {
          "model_module": "@jupyter-widgets/controls",
          "model_name": "HTMLModel",
          "state": {
            "_view_name": "HTMLView",
            "style": "IPY_MODEL_cb26f7612be843948d006ae1b81f6f85",
            "_dom_classes": [],
            "description": "",
            "_model_name": "HTMLModel",
            "placeholder": "​",
            "_view_module": "@jupyter-widgets/controls",
            "_model_module_version": "1.5.0",
            "value": " 13.6M/13.6M [01:10&lt;00:00, 202kB/s]",
            "_view_count": null,
            "_view_module_version": "1.5.0",
            "description_tooltip": null,
            "_model_module": "@jupyter-widgets/controls",
            "layout": "IPY_MODEL_96418b76f0f1456aa0d58516610fb449"
          }
        },
        "6ee600bb58e3469fb0341694dafeae6d": {
          "model_module": "@jupyter-widgets/controls",
          "model_name": "ProgressStyleModel",
          "state": {
            "_view_name": "StyleView",
            "_model_name": "ProgressStyleModel",
            "description_width": "initial",
            "_view_module": "@jupyter-widgets/base",
            "_model_module_version": "1.5.0",
            "_view_count": null,
            "_view_module_version": "1.2.0",
            "bar_color": null,
            "_model_module": "@jupyter-widgets/controls"
          }
        },
        "7e96d95b475040f8a5bd74157166a4f9": {
          "model_module": "@jupyter-widgets/base",
          "model_name": "LayoutModel",
          "state": {
            "_view_name": "LayoutView",
            "grid_template_rows": null,
            "right": null,
            "justify_content": null,
            "_view_module": "@jupyter-widgets/base",
            "overflow": null,
            "_model_module_version": "1.2.0",
            "_view_count": null,
            "flex_flow": null,
            "width": null,
            "min_width": null,
            "border": null,
            "align_items": null,
            "bottom": null,
            "_model_module": "@jupyter-widgets/base",
            "top": null,
            "grid_column": null,
            "overflow_y": null,
            "overflow_x": null,
            "grid_auto_flow": null,
            "grid_area": null,
            "grid_template_columns": null,
            "flex": null,
            "_model_name": "LayoutModel",
            "justify_items": null,
            "grid_row": null,
            "max_height": null,
            "align_content": null,
            "visibility": null,
            "align_self": null,
            "height": null,
            "min_height": null,
            "padding": null,
            "grid_auto_rows": null,
            "grid_gap": null,
            "max_width": null,
            "order": null,
            "_view_module_version": "1.2.0",
            "grid_template_areas": null,
            "object_position": null,
            "object_fit": null,
            "grid_auto_columns": null,
            "margin": null,
            "display": null,
            "left": null
          }
        },
        "cb26f7612be843948d006ae1b81f6f85": {
          "model_module": "@jupyter-widgets/controls",
          "model_name": "DescriptionStyleModel",
          "state": {
            "_view_name": "StyleView",
            "_model_name": "DescriptionStyleModel",
            "description_width": "",
            "_view_module": "@jupyter-widgets/base",
            "_model_module_version": "1.5.0",
            "_view_count": null,
            "_view_module_version": "1.2.0",
            "_model_module": "@jupyter-widgets/controls"
          }
        },
        "96418b76f0f1456aa0d58516610fb449": {
          "model_module": "@jupyter-widgets/base",
          "model_name": "LayoutModel",
          "state": {
            "_view_name": "LayoutView",
            "grid_template_rows": null,
            "right": null,
            "justify_content": null,
            "_view_module": "@jupyter-widgets/base",
            "overflow": null,
            "_model_module_version": "1.2.0",
            "_view_count": null,
            "flex_flow": null,
            "width": null,
            "min_width": null,
            "border": null,
            "align_items": null,
            "bottom": null,
            "_model_module": "@jupyter-widgets/base",
            "top": null,
            "grid_column": null,
            "overflow_y": null,
            "overflow_x": null,
            "grid_auto_flow": null,
            "grid_area": null,
            "grid_template_columns": null,
            "flex": null,
            "_model_name": "LayoutModel",
            "justify_items": null,
            "grid_row": null,
            "max_height": null,
            "align_content": null,
            "visibility": null,
            "align_self": null,
            "height": null,
            "min_height": null,
            "padding": null,
            "grid_auto_rows": null,
            "grid_gap": null,
            "max_width": null,
            "order": null,
            "_view_module_version": "1.2.0",
            "grid_template_areas": null,
            "object_position": null,
            "object_fit": null,
            "grid_auto_columns": null,
            "margin": null,
            "display": null,
            "left": null
          }
        },
        "30c57ca39d35464fbb9bbb24ae32d011": {
          "model_module": "@jupyter-widgets/controls",
          "model_name": "HBoxModel",
          "state": {
            "_view_name": "HBoxView",
            "_dom_classes": [],
            "_model_name": "HBoxModel",
            "_view_module": "@jupyter-widgets/controls",
            "_model_module_version": "1.5.0",
            "_view_count": null,
            "_view_module_version": "1.5.0",
            "box_style": "",
            "layout": "IPY_MODEL_a374f629a68842bcbbf7aa92964f2c88",
            "_model_module": "@jupyter-widgets/controls",
            "children": [
              "IPY_MODEL_bae36d8ef75a4c2c80cee7050bc5ea92",
              "IPY_MODEL_936b4cbd9a3845c3b151a0cb90f99929"
            ]
          }
        },
        "a374f629a68842bcbbf7aa92964f2c88": {
          "model_module": "@jupyter-widgets/base",
          "model_name": "LayoutModel",
          "state": {
            "_view_name": "LayoutView",
            "grid_template_rows": null,
            "right": null,
            "justify_content": null,
            "_view_module": "@jupyter-widgets/base",
            "overflow": null,
            "_model_module_version": "1.2.0",
            "_view_count": null,
            "flex_flow": null,
            "width": null,
            "min_width": null,
            "border": null,
            "align_items": null,
            "bottom": null,
            "_model_module": "@jupyter-widgets/base",
            "top": null,
            "grid_column": null,
            "overflow_y": null,
            "overflow_x": null,
            "grid_auto_flow": null,
            "grid_area": null,
            "grid_template_columns": null,
            "flex": null,
            "_model_name": "LayoutModel",
            "justify_items": null,
            "grid_row": null,
            "max_height": null,
            "align_content": null,
            "visibility": null,
            "align_self": null,
            "height": null,
            "min_height": null,
            "padding": null,
            "grid_auto_rows": null,
            "grid_gap": null,
            "max_width": null,
            "order": null,
            "_view_module_version": "1.2.0",
            "grid_template_areas": null,
            "object_position": null,
            "object_fit": null,
            "grid_auto_columns": null,
            "margin": null,
            "display": null,
            "left": null
          }
        },
        "bae36d8ef75a4c2c80cee7050bc5ea92": {
          "model_module": "@jupyter-widgets/controls",
          "model_name": "FloatProgressModel",
          "state": {
            "_view_name": "ProgressView",
            "style": "IPY_MODEL_cad70aa8850c489e97dbb51d800b75ee",
            "_dom_classes": [],
            "description": " 82%",
            "_model_name": "FloatProgressModel",
            "bar_style": "danger",
            "max": 100,
            "_view_module": "@jupyter-widgets/controls",
            "_model_module_version": "1.5.0",
            "value": 82,
            "_view_count": null,
            "_view_module_version": "1.5.0",
            "orientation": "horizontal",
            "min": 0,
            "description_tooltip": null,
            "_model_module": "@jupyter-widgets/controls",
            "layout": "IPY_MODEL_5c9c5c41ad904ff3b4a80d2ba757b840"
          }
        },
        "936b4cbd9a3845c3b151a0cb90f99929": {
          "model_module": "@jupyter-widgets/controls",
          "model_name": "HTMLModel",
          "state": {
            "_view_name": "HTMLView",
            "style": "IPY_MODEL_83bb870b41ed4b0bb52c9850500112b7",
            "_dom_classes": [],
            "description": "",
            "_model_name": "HTMLModel",
            "placeholder": "​",
            "_view_module": "@jupyter-widgets/controls",
            "_model_module_version": "1.5.0",
            "value": " 82/100 [00:57&lt;00:09,  1.90it/s]",
            "_view_count": null,
            "_view_module_version": "1.5.0",
            "description_tooltip": null,
            "_model_module": "@jupyter-widgets/controls",
            "layout": "IPY_MODEL_1bbe1028e2404f6dafc44b3788df0aac"
          }
        },
        "cad70aa8850c489e97dbb51d800b75ee": {
          "model_module": "@jupyter-widgets/controls",
          "model_name": "ProgressStyleModel",
          "state": {
            "_view_name": "StyleView",
            "_model_name": "ProgressStyleModel",
            "description_width": "initial",
            "_view_module": "@jupyter-widgets/base",
            "_model_module_version": "1.5.0",
            "_view_count": null,
            "_view_module_version": "1.2.0",
            "bar_color": null,
            "_model_module": "@jupyter-widgets/controls"
          }
        },
        "5c9c5c41ad904ff3b4a80d2ba757b840": {
          "model_module": "@jupyter-widgets/base",
          "model_name": "LayoutModel",
          "state": {
            "_view_name": "LayoutView",
            "grid_template_rows": null,
            "right": null,
            "justify_content": null,
            "_view_module": "@jupyter-widgets/base",
            "overflow": null,
            "_model_module_version": "1.2.0",
            "_view_count": null,
            "flex_flow": null,
            "width": null,
            "min_width": null,
            "border": null,
            "align_items": null,
            "bottom": null,
            "_model_module": "@jupyter-widgets/base",
            "top": null,
            "grid_column": null,
            "overflow_y": null,
            "overflow_x": null,
            "grid_auto_flow": null,
            "grid_area": null,
            "grid_template_columns": null,
            "flex": null,
            "_model_name": "LayoutModel",
            "justify_items": null,
            "grid_row": null,
            "max_height": null,
            "align_content": null,
            "visibility": null,
            "align_self": null,
            "height": null,
            "min_height": null,
            "padding": null,
            "grid_auto_rows": null,
            "grid_gap": null,
            "max_width": null,
            "order": null,
            "_view_module_version": "1.2.0",
            "grid_template_areas": null,
            "object_position": null,
            "object_fit": null,
            "grid_auto_columns": null,
            "margin": null,
            "display": null,
            "left": null
          }
        },
        "83bb870b41ed4b0bb52c9850500112b7": {
          "model_module": "@jupyter-widgets/controls",
          "model_name": "DescriptionStyleModel",
          "state": {
            "_view_name": "StyleView",
            "_model_name": "DescriptionStyleModel",
            "description_width": "",
            "_view_module": "@jupyter-widgets/base",
            "_model_module_version": "1.5.0",
            "_view_count": null,
            "_view_module_version": "1.2.0",
            "_model_module": "@jupyter-widgets/controls"
          }
        },
        "1bbe1028e2404f6dafc44b3788df0aac": {
          "model_module": "@jupyter-widgets/base",
          "model_name": "LayoutModel",
          "state": {
            "_view_name": "LayoutView",
            "grid_template_rows": null,
            "right": null,
            "justify_content": null,
            "_view_module": "@jupyter-widgets/base",
            "overflow": null,
            "_model_module_version": "1.2.0",
            "_view_count": null,
            "flex_flow": null,
            "width": null,
            "min_width": null,
            "border": null,
            "align_items": null,
            "bottom": null,
            "_model_module": "@jupyter-widgets/base",
            "top": null,
            "grid_column": null,
            "overflow_y": null,
            "overflow_x": null,
            "grid_auto_flow": null,
            "grid_area": null,
            "grid_template_columns": null,
            "flex": null,
            "_model_name": "LayoutModel",
            "justify_items": null,
            "grid_row": null,
            "max_height": null,
            "align_content": null,
            "visibility": null,
            "align_self": null,
            "height": null,
            "min_height": null,
            "padding": null,
            "grid_auto_rows": null,
            "grid_gap": null,
            "max_width": null,
            "order": null,
            "_view_module_version": "1.2.0",
            "grid_template_areas": null,
            "object_position": null,
            "object_fit": null,
            "grid_auto_columns": null,
            "margin": null,
            "display": null,
            "left": null
          }
        },
        "9fde92ce73d246699fc12cb89a41417c": {
          "model_module": "@jupyter-widgets/controls",
          "model_name": "HBoxModel",
          "state": {
            "_view_name": "HBoxView",
            "_dom_classes": [],
            "_model_name": "HBoxModel",
            "_view_module": "@jupyter-widgets/controls",
            "_model_module_version": "1.5.0",
            "_view_count": null,
            "_view_module_version": "1.5.0",
            "box_style": "",
            "layout": "IPY_MODEL_41e85fb5acc54a2dbeafcdd3611e44e5",
            "_model_module": "@jupyter-widgets/controls",
            "children": [
              "IPY_MODEL_5be8c7cb8d1d408999d26bcefe2db8f1",
              "IPY_MODEL_b49f3b4175f04f6fbda32131113c2f61"
            ]
          }
        },
        "41e85fb5acc54a2dbeafcdd3611e44e5": {
          "model_module": "@jupyter-widgets/base",
          "model_name": "LayoutModel",
          "state": {
            "_view_name": "LayoutView",
            "grid_template_rows": null,
            "right": null,
            "justify_content": null,
            "_view_module": "@jupyter-widgets/base",
            "overflow": null,
            "_model_module_version": "1.2.0",
            "_view_count": null,
            "flex_flow": null,
            "width": null,
            "min_width": null,
            "border": null,
            "align_items": null,
            "bottom": null,
            "_model_module": "@jupyter-widgets/base",
            "top": null,
            "grid_column": null,
            "overflow_y": null,
            "overflow_x": null,
            "grid_auto_flow": null,
            "grid_area": null,
            "grid_template_columns": null,
            "flex": null,
            "_model_name": "LayoutModel",
            "justify_items": null,
            "grid_row": null,
            "max_height": null,
            "align_content": null,
            "visibility": null,
            "align_self": null,
            "height": null,
            "min_height": null,
            "padding": null,
            "grid_auto_rows": null,
            "grid_gap": null,
            "max_width": null,
            "order": null,
            "_view_module_version": "1.2.0",
            "grid_template_areas": null,
            "object_position": null,
            "object_fit": null,
            "grid_auto_columns": null,
            "margin": null,
            "display": null,
            "left": null
          }
        },
        "5be8c7cb8d1d408999d26bcefe2db8f1": {
          "model_module": "@jupyter-widgets/controls",
          "model_name": "FloatProgressModel",
          "state": {
            "_view_name": "ProgressView",
            "style": "IPY_MODEL_444120d32d8c494e8fecf613fa6625f4",
            "_dom_classes": [],
            "description": " 93%",
            "_model_name": "FloatProgressModel",
            "bar_style": "danger",
            "max": 100,
            "_view_module": "@jupyter-widgets/controls",
            "_model_module_version": "1.5.0",
            "value": 93,
            "_view_count": null,
            "_view_module_version": "1.5.0",
            "orientation": "horizontal",
            "min": 0,
            "description_tooltip": null,
            "_model_module": "@jupyter-widgets/controls",
            "layout": "IPY_MODEL_80779e2bcafe4487bb01653e87da4f42"
          }
        },
        "b49f3b4175f04f6fbda32131113c2f61": {
          "model_module": "@jupyter-widgets/controls",
          "model_name": "HTMLModel",
          "state": {
            "_view_name": "HTMLView",
            "style": "IPY_MODEL_bea8e597f75f4ba3bd870e4d8791b2e5",
            "_dom_classes": [],
            "description": "",
            "_model_name": "HTMLModel",
            "placeholder": "​",
            "_view_module": "@jupyter-widgets/controls",
            "_model_module_version": "1.5.0",
            "value": " 93/100 [01:22&lt;00:05,  1.20it/s]",
            "_view_count": null,
            "_view_module_version": "1.5.0",
            "description_tooltip": null,
            "_model_module": "@jupyter-widgets/controls",
            "layout": "IPY_MODEL_398cd0ee23114208b82a31e8e7821b4d"
          }
        },
        "444120d32d8c494e8fecf613fa6625f4": {
          "model_module": "@jupyter-widgets/controls",
          "model_name": "ProgressStyleModel",
          "state": {
            "_view_name": "StyleView",
            "_model_name": "ProgressStyleModel",
            "description_width": "initial",
            "_view_module": "@jupyter-widgets/base",
            "_model_module_version": "1.5.0",
            "_view_count": null,
            "_view_module_version": "1.2.0",
            "bar_color": null,
            "_model_module": "@jupyter-widgets/controls"
          }
        },
        "80779e2bcafe4487bb01653e87da4f42": {
          "model_module": "@jupyter-widgets/base",
          "model_name": "LayoutModel",
          "state": {
            "_view_name": "LayoutView",
            "grid_template_rows": null,
            "right": null,
            "justify_content": null,
            "_view_module": "@jupyter-widgets/base",
            "overflow": null,
            "_model_module_version": "1.2.0",
            "_view_count": null,
            "flex_flow": null,
            "width": null,
            "min_width": null,
            "border": null,
            "align_items": null,
            "bottom": null,
            "_model_module": "@jupyter-widgets/base",
            "top": null,
            "grid_column": null,
            "overflow_y": null,
            "overflow_x": null,
            "grid_auto_flow": null,
            "grid_area": null,
            "grid_template_columns": null,
            "flex": null,
            "_model_name": "LayoutModel",
            "justify_items": null,
            "grid_row": null,
            "max_height": null,
            "align_content": null,
            "visibility": null,
            "align_self": null,
            "height": null,
            "min_height": null,
            "padding": null,
            "grid_auto_rows": null,
            "grid_gap": null,
            "max_width": null,
            "order": null,
            "_view_module_version": "1.2.0",
            "grid_template_areas": null,
            "object_position": null,
            "object_fit": null,
            "grid_auto_columns": null,
            "margin": null,
            "display": null,
            "left": null
          }
        },
        "bea8e597f75f4ba3bd870e4d8791b2e5": {
          "model_module": "@jupyter-widgets/controls",
          "model_name": "DescriptionStyleModel",
          "state": {
            "_view_name": "StyleView",
            "_model_name": "DescriptionStyleModel",
            "description_width": "",
            "_view_module": "@jupyter-widgets/base",
            "_model_module_version": "1.5.0",
            "_view_count": null,
            "_view_module_version": "1.2.0",
            "_model_module": "@jupyter-widgets/controls"
          }
        },
        "398cd0ee23114208b82a31e8e7821b4d": {
          "model_module": "@jupyter-widgets/base",
          "model_name": "LayoutModel",
          "state": {
            "_view_name": "LayoutView",
            "grid_template_rows": null,
            "right": null,
            "justify_content": null,
            "_view_module": "@jupyter-widgets/base",
            "overflow": null,
            "_model_module_version": "1.2.0",
            "_view_count": null,
            "flex_flow": null,
            "width": null,
            "min_width": null,
            "border": null,
            "align_items": null,
            "bottom": null,
            "_model_module": "@jupyter-widgets/base",
            "top": null,
            "grid_column": null,
            "overflow_y": null,
            "overflow_x": null,
            "grid_auto_flow": null,
            "grid_area": null,
            "grid_template_columns": null,
            "flex": null,
            "_model_name": "LayoutModel",
            "justify_items": null,
            "grid_row": null,
            "max_height": null,
            "align_content": null,
            "visibility": null,
            "align_self": null,
            "height": null,
            "min_height": null,
            "padding": null,
            "grid_auto_rows": null,
            "grid_gap": null,
            "max_width": null,
            "order": null,
            "_view_module_version": "1.2.0",
            "grid_template_areas": null,
            "object_position": null,
            "object_fit": null,
            "grid_auto_columns": null,
            "margin": null,
            "display": null,
            "left": null
          }
        }
      }
    }
  },
  "cells": [
    {
      "cell_type": "markdown",
      "metadata": {
        "id": "view-in-github",
        "colab_type": "text"
      },
      "source": [
        "<a href=\"https://colab.research.google.com/github/EVA4-RS-Group/Phase2/blob/master/S2_mobilenet_v2_custom_dataset/EVA4_S2_mobilnet_v2_transfer_learning_v4.ipynb\" target=\"_parent\"><img src=\"https://colab.research.google.com/assets/colab-badge.svg\" alt=\"Open In Colab\"/></a>"
      ]
    },
    {
      "cell_type": "markdown",
      "metadata": {
        "id": "sNmpCicvWDAH",
        "colab_type": "text"
      },
      "source": [
        "# 1. Loading Libraries"
      ]
    },
    {
      "cell_type": "code",
      "metadata": {
        "id": "9v6F--j2lUC0",
        "colab_type": "code",
        "colab": {}
      },
      "source": [
        "%load_ext autoreload\n",
        "%autoreload 2"
      ],
      "execution_count": 1,
      "outputs": []
    },
    {
      "cell_type": "code",
      "metadata": {
        "id": "vzVcpojM0W2o",
        "colab_type": "code",
        "colab": {}
      },
      "source": [
        "!wget -q https://github.com/EVA4-RS-Group/Phase2/releases/download/s2/final_images.zip\n",
        "!unzip -q final_images.zip\n",
        "!rm -rf /content/__MACOSX\n",
        "!find /content/final_images/data -name '.DS_Store' -type f -delete\n"
      ],
      "execution_count": 2,
      "outputs": []
    },
    {
      "cell_type": "code",
      "metadata": {
        "id": "NMxlBDpahjEF",
        "colab_type": "code",
        "colab": {
          "base_uri": "https://localhost:8080/",
          "height": 51
        },
        "outputId": "f054f61e-639c-4000-cd0a-41897cf97626"
      },
      "source": [
        "# Load modules/models from EVA course\n",
        "!rm -rf Modules\n",
        "!git clone https://github.com/EVA4-RS-Group/Phase2 -q --quiet\n",
        "!mv ./Phase2/Modules ./Modules\n",
        "!rm -rf Phase2\n",
        "#print(\"Loaded EVA4 Modules\")\n",
        "from Modules import *"
      ],
      "execution_count": 3,
      "outputs": [
        {
          "output_type": "stream",
          "text": [
            "WARNING:Modules.lr_finder:To enable mixed precision training, please install `apex`. Or you can re-install this package by the following command:\n",
            "  pip install torch-lr-finder -v --global-option=\"amp\"\n"
          ],
          "name": "stderr"
        }
      ]
    },
    {
      "cell_type": "code",
      "metadata": {
        "id": "Q9uSfXIhVqhW",
        "colab_type": "code",
        "colab": {}
      },
      "source": [
        "from __future__ import print_function, division\n",
        "\n",
        "import torch\n",
        "import torch.nn as nn\n",
        "import torch.optim as optim\n",
        "from torch.optim import lr_scheduler\n",
        "import numpy as np\n",
        "import torchvision\n",
        "from torchvision import datasets, models, transforms\n",
        "import matplotlib.pyplot as plt\n",
        "import time\n",
        "import os\n",
        "\n",
        "plt.ion()   # interactive mode"
      ],
      "execution_count": 4,
      "outputs": []
    },
    {
      "cell_type": "markdown",
      "metadata": {
        "id": "S7LzTF44WhkS",
        "colab_type": "text"
      },
      "source": [
        "# 2. Load Data & Set Data Loaders\n",
        "We will use torchvision and torch.utils.data packages for loading the data.\n",
        "\n",
        "The problem we’re going to solve today is to train a model to classify ants and bees. We have about 120 training images each for ants and bees. There are 75 validation images for each class. Usually, this is a very small dataset to generalize upon, if trained from scratch. Since we are using transfer learning, we should be able to generalize reasonably well.\n",
        "\n",
        "This dataset is a very small subset of imagenet."
      ]
    },
    {
      "cell_type": "code",
      "metadata": {
        "id": "J4CnW78HV6GG",
        "colab_type": "code",
        "colab": {}
      },
      "source": [
        "# !rm -rf hymenoptera_data\n",
        "# !wget -q \"https://download.pytorch.org/tutorial/hymenoptera_data.zip\"\n",
        "# !unzip -o -qq hymenoptera_data.zip\n",
        "# !rm -rf hymenoptera_data.zip"
      ],
      "execution_count": 5,
      "outputs": []
    },
    {
      "cell_type": "code",
      "metadata": {
        "id": "PV928rotAbx9",
        "colab_type": "code",
        "colab": {}
      },
      "source": [
        "from Modules import *"
      ],
      "execution_count": 6,
      "outputs": []
    },
    {
      "cell_type": "code",
      "metadata": {
        "id": "S9Ol-i8MaTXd",
        "colab_type": "code",
        "colab": {
          "base_uri": "https://localhost:8080/",
          "height": 102
        },
        "outputId": "848a99b6-8436-4fe2-8632-e48bb32a7bad"
      },
      "source": [
        "split_test_train_data('/content/final_images/data', tstRatio = 0.3)"
      ],
      "execution_count": 7,
      "outputs": [
        {
          "output_type": "stream",
          "text": [
            "['Large QuadCopters', 'Flying Birds', 'Small QuadCopters', 'Winged Drones']\n",
            "4165\n",
            "6761\n",
            "3653\n",
            "5673\n"
          ],
          "name": "stdout"
        }
      ]
    },
    {
      "cell_type": "code",
      "metadata": {
        "id": "LfJfD1PwWCs4",
        "colab_type": "code",
        "colab": {
          "base_uri": "https://localhost:8080/",
          "height": 34
        },
        "outputId": "0cb8a1c2-550e-4fba-8c36-d317d999fbb8"
      },
      "source": [
        "# Data augmentation and normalization for training\n",
        "# Just normalization for validation\n",
        "\n",
        "data_transforms = {\n",
        "    'train': transforms.Compose([\n",
        "        transforms.RandomResizedCrop(224),\n",
        "        transforms.RandomHorizontalFlip(),\n",
        "        transforms.ToTensor(),\n",
        "        transforms.Normalize([0.485, 0.456, 0.406], [0.229, 0.224, 0.225])\n",
        "    ]),\n",
        "    'val': transforms.Compose([\n",
        "        transforms.Resize(256),\n",
        "        transforms.CenterCrop(224),\n",
        "        transforms.ToTensor(),\n",
        "        transforms.Normalize([0.485, 0.456, 0.406], [0.229, 0.224, 0.225])\n",
        "    ]),\n",
        "}\n",
        "\n",
        "# data_dir = 'hymenoptera_data'\n",
        "# image_datasets = {x: datasets.ImageFolder(os.path.join(data_dir, x),\n",
        "#                                           data_transforms[x])\n",
        "#                   for x in ['train', 'val']}\n",
        "#  = {x: torch.utils.data.DataLoader(image_datasets[x], batch_size=30,\n",
        "#                                              shuffle=True, num_workers=4)\n",
        "#               for x in ['train', 'val']}\n",
        "# dataset_sizes = {x: len(image_datasets[x]) for x in ['train', 'val']}\n",
        "# class_names = image_datasets['train'].classes\n",
        "\n",
        "trnTransform = data_transforms['train'] \n",
        "trainSet = DroneDataset(train=True, transform = trnTransform)\n",
        "\n",
        "tstTransform = data_transforms['val']\n",
        "testSet = DroneDataset(train= False, transform = tstTransform)\n",
        "\n",
        "dataloaders = {'train': torch.utils.data.DataLoader(trainSet, batch_size= 192, \n",
        "                                                    shuffle=True, num_workers=4),\n",
        "               'val': torch.utils.data.DataLoader(testSet, batch_size= 192,\n",
        "                                          shuffle=True, num_workers=4)}\n",
        "\n",
        "dataset_sizes = {'train': len(trainSet),\n",
        "                 'val':len(testSet)}\n",
        "\n",
        "class_names = trainSet.classes\n",
        "print(class_names)\n",
        "\n",
        "device = torch.device(\"cuda:0\" if torch.cuda.is_available() else \"cpu\")"
      ],
      "execution_count": 8,
      "outputs": [
        {
          "output_type": "stream",
          "text": [
            "['Large QuadCopters', 'Flying Birds', 'Small QuadCopters', 'Winged Drones']\n"
          ],
          "name": "stdout"
        }
      ]
    },
    {
      "cell_type": "markdown",
      "metadata": {
        "id": "YnZNgF1qXrCc",
        "colab_type": "text"
      },
      "source": [
        "# 3. Visualize a few images\n",
        "Let’s visualize a few training images so as to understand the data augmentations."
      ]
    },
    {
      "cell_type": "code",
      "metadata": {
        "id": "eIeDMH7dXmNP",
        "colab_type": "code",
        "colab": {
          "base_uri": "https://localhost:8080/",
          "height": 148
        },
        "outputId": "2a72c785-7e5d-4cd3-f4ab-e2eacc09cf8b"
      },
      "source": [
        "# Get a batch of training data\n",
        "inputs, classes = next(iter(dataloaders['train']))\n",
        "\n",
        "# Make a grid from batch\n",
        "out = torchvision.utils.make_grid(inputs[0:4,:,:,:])\n",
        "\n",
        "imshow(out, title=[class_names[int(x)] for x in classes[0:4]])"
      ],
      "execution_count": 9,
      "outputs": [
        {
          "output_type": "display_data",
          "data": {
            "image/png": "[encoded data removed]",
            "text/plain": [
              "<Figure size 432x288 with 1 Axes>"
            ]
          },
          "metadata": {
            "tags": [],
            "needs_background": "light"
          }
        }
      ]
    },
    {
      "cell_type": "markdown",
      "metadata": {
        "id": "plJBMgK8YjNV",
        "colab_type": "text"
      },
      "source": [
        "#6. Finetuning the convnet\n",
        "Load a pretrained model and reset final fully connected layer."
      ]
    },
    {
      "cell_type": "code",
      "metadata": {
        "id": "iAYYcKoUYhK2",
        "colab_type": "code",
        "colab": {
          "base_uri": "https://localhost:8080/",
          "height": 415,
          "referenced_widgets": [
            "d5d2e052f0c342e983af5173fad75216",
            "ad4d7047e6de45ed8ee5c6f0798d2920",
            "3f98a31bf8184bdba1cbe28c625be124",
            "1fc660bcb47f4ab5a6e96cea92958bd4",
            "6ee600bb58e3469fb0341694dafeae6d",
            "7e96d95b475040f8a5bd74157166a4f9",
            "cb26f7612be843948d006ae1b81f6f85",
            "96418b76f0f1456aa0d58516610fb449",
            "30c57ca39d35464fbb9bbb24ae32d011",
            "a374f629a68842bcbbf7aa92964f2c88",
            "bae36d8ef75a4c2c80cee7050bc5ea92",
            "936b4cbd9a3845c3b151a0cb90f99929",
            "cad70aa8850c489e97dbb51d800b75ee",
            "5c9c5c41ad904ff3b4a80d2ba757b840",
            "83bb870b41ed4b0bb52c9850500112b7",
            "1bbe1028e2404f6dafc44b3788df0aac"
          ]
        },
        "outputId": "09e73b80-72bc-4256-d0e3-42c32c63e1a5"
      },
      "source": [
        "import torch.optim as optim\n",
        "#from torch_lr_finder import LRFinder\n",
        "\n",
        "model_ft = models.mobilenet_v2(pretrained=True)\n",
        "# Here the size of each output sample is set to 2.\n",
        "# Alternatively, it can be generalized to nn.Linear(num_ftrs, len(class_names)).\n",
        "\n",
        "for param in model_ft.parameters():\n",
        "    param.requires_grad = False\n",
        "\n",
        "# Parameters of newly constructed modules have requires_grad=True by default\n",
        "model_ft.classifier[1] = nn.Linear(1280, 4)\n",
        "\n",
        "model_ft = model_ft.to(device)\n",
        "\n",
        "criterion = nn.CrossEntropyLoss()\n",
        "\n",
        "optimizer = optim.SGD(model_ft.classifier[1].parameters(), lr=1e-6, weight_decay=0.01,momentum=0.9)\n",
        "lr_finder = LRFinder(model_ft, optimizer, criterion, device=\"cuda\")\n",
        "lr_finder.range_test(dataloaders['train'], end_lr=10, num_iter=100)\n",
        "lr_finder.plot(show_lr=0.08) # to inspect the loss-learning rate graph\n",
        "lr_finder.reset() # to reset the model and optimizer to their initial stat"
      ],
      "execution_count": 10,
      "outputs": [
        {
          "output_type": "stream",
          "text": [
            "Downloading: \"https://download.pytorch.org/models/mobilenet_v2-b0353104.pth\" to /root/.cache/torch/checkpoints/mobilenet_v2-b0353104.pth\n"
          ],
          "name": "stderr"
        },
        {
          "output_type": "display_data",
          "data": {
            "application/vnd.jupyter.widget-view+json": {
              "model_id": "d5d2e052f0c342e983af5173fad75216",
              "version_minor": 0,
              "version_major": 2
            },
            "text/plain": [
              "HBox(children=(FloatProgress(value=0.0, max=14212972.0), HTML(value='')))"
            ]
          },
          "metadata": {
            "tags": []
          }
        },
        {
          "output_type": "stream",
          "text": [
            "\n"
          ],
          "name": "stdout"
        },
        {
          "output_type": "display_data",
          "data": {
            "application/vnd.jupyter.widget-view+json": {
              "model_id": "30c57ca39d35464fbb9bbb24ae32d011",
              "version_minor": 0,
              "version_major": 2
            },
            "text/plain": [
              "HBox(children=(FloatProgress(value=0.0), HTML(value='')))"
            ]
          },
          "metadata": {
            "tags": []
          }
        },
        {
          "output_type": "stream",
          "text": [
            "Stopping early, the loss has diverged\n",
            "Learning rate search finished. See the graph with {finder_name}.plot()\n"
          ],
          "name": "stdout"
        },
        {
          "output_type": "display_data",
          "data": {
            "image/png": "[encoded data removed]",
            "text/plain": [
              "<Figure size 432x288 with 1 Axes>"
            ]
          },
          "metadata": {
            "tags": [],
            "needs_background": "light"
          }
        }
      ]
    },
    {
      "cell_type": "code",
      "metadata": {
        "id": "948q8przyrKU",
        "colab_type": "code",
        "colab": {}
      },
      "source": [
        "# Observe that all parameters are being optimized\n",
        "optimizer_ft = optim.SGD(model_ft.classifier[1].parameters(), lr=0.1, momentum=0.9)\n",
        "\n",
        "scheduler = optim.lr_scheduler.OneCycleLR(optimizer,\n",
        "                                          max_lr=0.08, \n",
        "                                          steps_per_epoch=len(dataloaders['train']), #Training folder size/bs\n",
        "                                          pct_start=0.20, \n",
        "                                          epochs=25)"
      ],
      "execution_count": 12,
      "outputs": []
    },
    {
      "cell_type": "markdown",
      "metadata": {
        "id": "c8A3lqs8bASW",
        "colab_type": "text"
      },
      "source": [
        "# 7. Train and evaluate\n",
        "It should take around 15-25 min on CPU. On GPU though, it takes less than a minute."
      ]
    },
    {
      "cell_type": "code",
      "metadata": {
        "id": "0aC6MV_xa_mw",
        "colab_type": "code",
        "colab": {
          "base_uri": "https://localhost:8080/",
          "height": 1000
        },
        "outputId": "090d14c6-4065-47d3-977f-443ad548496d"
      },
      "source": [
        "model_res = train_model(model_ft, dataloaders, dataset_sizes, device, criterion, optimizer_ft, scheduler,\n",
        "                       num_epochs=25)"
      ],
      "execution_count": 13,
      "outputs": [
        {
          "output_type": "stream",
          "text": [
            "Epoch 0/24\n",
            "----------\n"
          ],
          "name": "stdout"
        },
        {
          "output_type": "stream",
          "text": [
            "/usr/local/lib/python3.6/dist-packages/torch/optim/lr_scheduler.py:123: UserWarning: Detected call of `lr_scheduler.step()` before `optimizer.step()`. In PyTorch 1.1.0 and later, you should call them in the opposite order: `optimizer.step()` before `lr_scheduler.step()`.  Failure to do this will result in PyTorch skipping the first value of the learning rate schedule. See more details at https://pytorch.org/docs/stable/optim.html#how-to-adjust-learning-rate\n",
            "  \"https://pytorch.org/docs/stable/optim.html#how-to-adjust-learning-rate\", UserWarning)\n"
          ],
          "name": "stderr"
        },
        {
          "output_type": "stream",
          "text": [
            "train Loss: 4.0487 Acc: 0.6576\n",
            "val Loss: 1.7136 Acc: 0.7634\n",
            "\n",
            "Epoch 1/24\n",
            "----------\n",
            "train Loss: 1.7396 Acc: 0.7310\n",
            "val Loss: 1.2719 Acc: 0.7823\n",
            "\n",
            "Epoch 2/24\n",
            "----------\n",
            "train Loss: 1.3813 Acc: 0.7338\n",
            "val Loss: 1.0375 Acc: 0.7690\n",
            "\n",
            "Epoch 3/24\n",
            "----------\n",
            "train Loss: 1.4175 Acc: 0.7305\n",
            "val Loss: 0.8796 Acc: 0.7873\n",
            "\n",
            "Epoch 4/24\n",
            "----------\n",
            "train Loss: 1.4709 Acc: 0.7249\n",
            "val Loss: 1.2747 Acc: 0.7785\n",
            "\n",
            "Epoch 5/24\n",
            "----------\n",
            "train Loss: 1.3212 Acc: 0.7362\n",
            "val Loss: 1.0373 Acc: 0.7899\n",
            "\n",
            "Epoch 6/24\n",
            "----------\n",
            "train Loss: 1.2499 Acc: 0.7334\n",
            "val Loss: 0.9299 Acc: 0.7705\n",
            "\n",
            "Epoch 7/24\n",
            "----------\n",
            "train Loss: 1.4362 Acc: 0.7268\n",
            "val Loss: 1.1587 Acc: 0.7831\n",
            "\n",
            "Epoch 8/24\n",
            "----------\n",
            "train Loss: 1.3774 Acc: 0.7309\n",
            "val Loss: 0.9856 Acc: 0.7966\n",
            "\n",
            "Epoch 9/24\n",
            "----------\n",
            "train Loss: 1.2951 Acc: 0.7314\n",
            "val Loss: 0.9943 Acc: 0.7886\n",
            "\n",
            "Epoch 10/24\n",
            "----------\n",
            "train Loss: 1.3068 Acc: 0.7244\n",
            "val Loss: 0.9374 Acc: 0.8187\n",
            "\n",
            "Epoch 11/24\n",
            "----------\n",
            "train Loss: 1.4062 Acc: 0.7360\n",
            "val Loss: 0.9166 Acc: 0.7975\n",
            "\n",
            "Epoch 12/24\n",
            "----------\n",
            "train Loss: 1.2725 Acc: 0.7264\n",
            "val Loss: 1.0870 Acc: 0.7441\n",
            "\n",
            "Epoch 13/24\n",
            "----------\n",
            "train Loss: 1.5142 Acc: 0.7223\n",
            "val Loss: 2.0222 Acc: 0.7275\n",
            "\n",
            "Epoch 14/24\n",
            "----------\n",
            "train Loss: 1.8018 Acc: 0.7223\n",
            "val Loss: 2.7716 Acc: 0.7257\n",
            "\n",
            "Epoch 15/24\n",
            "----------\n",
            "train Loss: 1.5271 Acc: 0.7347\n",
            "val Loss: 0.9349 Acc: 0.7723\n",
            "\n",
            "Epoch 16/24\n",
            "----------\n",
            "train Loss: 1.3246 Acc: 0.7304\n",
            "val Loss: 1.1737 Acc: 0.7695\n",
            "\n",
            "Epoch 17/24\n",
            "----------\n",
            "train Loss: 1.2524 Acc: 0.7307\n",
            "val Loss: 0.7772 Acc: 0.8101\n",
            "\n",
            "Epoch 18/24\n",
            "----------\n",
            "train Loss: 1.4638 Acc: 0.7205\n",
            "val Loss: 0.8119 Acc: 0.8116\n",
            "\n",
            "Epoch 19/24\n",
            "----------\n",
            "train Loss: 1.2589 Acc: 0.7390\n",
            "val Loss: 1.1684 Acc: 0.7547\n",
            "\n",
            "Epoch 20/24\n",
            "----------\n",
            "train Loss: 1.2883 Acc: 0.7280\n",
            "val Loss: 0.8228 Acc: 0.8093\n",
            "\n",
            "Epoch 21/24\n",
            "----------\n",
            "train Loss: 1.3552 Acc: 0.7281\n",
            "val Loss: 1.0341 Acc: 0.7532\n",
            "\n",
            "Epoch 22/24\n",
            "----------\n",
            "train Loss: 1.2034 Acc: 0.7237\n",
            "val Loss: 1.7345 Acc: 0.7005\n",
            "\n",
            "Epoch 23/24\n",
            "----------\n",
            "train Loss: 1.3228 Acc: 0.7258\n",
            "val Loss: 1.2032 Acc: 0.7477\n",
            "\n",
            "Epoch 24/24\n",
            "----------\n",
            "train Loss: 1.3489 Acc: 0.7295\n",
            "val Loss: 1.0113 Acc: 0.8077\n",
            "\n",
            "Training complete in 29m 56s\n",
            "Best val Acc: 0.818706\n"
          ],
          "name": "stdout"
        }
      ]
    },
    {
      "cell_type": "code",
      "metadata": {
        "id": "mqBnAwEjYvhW",
        "colab_type": "code",
        "colab": {
          "base_uri": "https://localhost:8080/",
          "height": 581
        },
        "outputId": "1afab4d0-ae75-4b22-ab79-f02cbda43bcd"
      },
      "source": [
        "visualize_model(model_res, dataloaders, class_names, device)"
      ],
      "execution_count": 14,
      "outputs": [
        {
          "output_type": "display_data",
          "data": {
            "image/png": "[encoded data removed]",
            "text/plain": [
              "<Figure size 432x288 with 1 Axes>"
            ]
          },
          "metadata": {
            "tags": [],
            "needs_background": "light"
          }
        },
        {
          "output_type": "display_data",
          "data": {
            "image/png": "[encoded data removed]",
            "text/plain": [
              "<Figure size 432x288 with 1 Axes>"
            ]
          },
          "metadata": {
            "tags": [],
            "needs_background": "light"
          }
        },
        {
          "output_type": "display_data",
          "data": {
            "image/png": "[encoded data removed]",
            "text/plain": [
              "<Figure size 432x288 with 1 Axes>"
            ]
          },
          "metadata": {
            "tags": [],
            "needs_background": "light"
          }
        },
        {
          "output_type": "display_data",
          "data": {
            "image/png": "[encoded data removed]",
            "text/plain": [
              "<Figure size 432x288 with 1 Axes>"
            ]
          },
          "metadata": {
            "tags": [],
            "needs_background": "light"
          }
        },
        {
          "output_type": "display_data",
          "data": {
            "image/png": "[encoded data removed]",
            "text/plain": [
              "<Figure size 432x288 with 1 Axes>"
            ]
          },
          "metadata": {
            "tags": [],
            "needs_background": "light"
          }
        },
        {
          "output_type": "display_data",
          "data": {
            "image/png": "[encoded data removed]",
            "text/plain": [
              "<Figure size 432x288 with 1 Axes>"
            ]
          },
          "metadata": {
            "tags": [],
            "needs_background": "light"
          }
        }
      ]
    },
    {
      "cell_type": "markdown",
      "metadata": {
        "id": "DDszYJbTcFDw",
        "colab_type": "text"
      },
      "source": [
        "# 8. ConvNet as fixed feature extractor\n",
        "Here, we need to freeze all the network except the final layer. We need to set requires_grad == False to freeze the parameters so that the gradients are not computed in backward().\n",
        "\n",
        "You can read more about this in the documentation here."
      ]
    },
    {
      "cell_type": "code",
      "metadata": {
        "id": "55rW2jtRY3AB",
        "colab_type": "code",
        "colab": {
          "base_uri": "https://localhost:8080/",
          "height": 349,
          "referenced_widgets": [
            "9fde92ce73d246699fc12cb89a41417c",
            "41e85fb5acc54a2dbeafcdd3611e44e5",
            "5be8c7cb8d1d408999d26bcefe2db8f1",
            "b49f3b4175f04f6fbda32131113c2f61",
            "444120d32d8c494e8fecf613fa6625f4",
            "80779e2bcafe4487bb01653e87da4f42",
            "bea8e597f75f4ba3bd870e4d8791b2e5",
            "398cd0ee23114208b82a31e8e7821b4d"
          ]
        },
        "outputId": "248be40f-840a-45d2-a006-5d82c6d1119c"
      },
      "source": [
        "model_conv = model_res\n",
        "# Here the size of each output sample is set to 2.\n",
        "# Alternatively, it can be generalized to nn.Linear(num_ftrs, len(class_names)).\n",
        "\n",
        "model_conv = model_conv.to(device)\n",
        "\n",
        "for param in model_conv.parameters():\n",
        "    param.requires_grad = True\n",
        "\n",
        "criterion = nn.CrossEntropyLoss()\n",
        "\n",
        "optimizer = optim.SGD(model_conv.parameters(), lr=1e-6, weight_decay=0.01,momentum=0.9)\n",
        "lr_finder = LRFinder(model_conv, optimizer, criterion, device=\"cuda\")\n",
        "lr_finder.range_test(dataloaders['train'], end_lr=10, num_iter=100)\n",
        "lr_finder.plot(show_lr=0.01) # to inspect the loss-learning rate graph\n",
        "lr_finder.reset() # to reset the model and optimizer to their initial stat"
      ],
      "execution_count": 16,
      "outputs": [
        {
          "output_type": "display_data",
          "data": {
            "application/vnd.jupyter.widget-view+json": {
              "model_id": "9fde92ce73d246699fc12cb89a41417c",
              "version_minor": 0,
              "version_major": 2
            },
            "text/plain": [
              "HBox(children=(FloatProgress(value=0.0), HTML(value='')))"
            ]
          },
          "metadata": {
            "tags": []
          }
        },
        {
          "output_type": "stream",
          "text": [
            "Stopping early, the loss has diverged\n",
            "Learning rate search finished. See the graph with {finder_name}.plot()\n"
          ],
          "name": "stdout"
        },
        {
          "output_type": "display_data",
          "data": {
            "image/png": "[encoded data removed]",
            "text/plain": [
              "<Figure size 432x288 with 1 Axes>"
            ]
          },
          "metadata": {
            "tags": [],
            "needs_background": "light"
          }
        }
      ]
    },
    {
      "cell_type": "code",
      "metadata": {
        "id": "OZfffkrc7Vs-",
        "colab_type": "code",
        "colab": {}
      },
      "source": [
        "# Observe that only parameters of final layer are being optimized as\n",
        "# opposed to before.\n",
        "optimizer_conv = optim.SGD(model_conv.parameters(), lr=0.1, momentum=0.9)\n",
        "\n",
        "# Decay LR by a factor of 0.1 every 7 epochs\n",
        "scheduler = optim.lr_scheduler.OneCycleLR(optimizer_conv,\n",
        "                                          max_lr=0.01, \n",
        "                                          steps_per_epoch=len(dataloaders['train']), #Training folder size/bs\n",
        "                                          pct_start=0.20, \n",
        "                                          epochs=25)"
      ],
      "execution_count": 17,
      "outputs": []
    },
    {
      "cell_type": "code",
      "metadata": {
        "id": "qwpPzmGhcdsY",
        "colab_type": "code",
        "colab": {
          "base_uri": "https://localhost:8080/",
          "height": 1000
        },
        "outputId": "a466803f-a5c9-4994-bceb-268c96596c7e"
      },
      "source": [
        "model_final = train_model(model_conv, dataloaders, dataset_sizes, device, criterion, optimizer_conv, scheduler,\n",
        "                       num_epochs=25)"
      ],
      "execution_count": 18,
      "outputs": [
        {
          "output_type": "stream",
          "text": [
            "Epoch 0/24\n",
            "----------\n",
            "train Loss: 0.8693 Acc: 0.7596\n",
            "val Loss: 0.5675 Acc: 0.8202\n",
            "\n",
            "Epoch 1/24\n",
            "----------\n",
            "train Loss: 0.6175 Acc: 0.7736\n",
            "val Loss: 0.4365 Acc: 0.8385\n",
            "\n",
            "Epoch 2/24\n",
            "----------\n",
            "train Loss: 0.5011 Acc: 0.8070\n",
            "val Loss: 0.3903 Acc: 0.8543\n",
            "\n",
            "Epoch 3/24\n",
            "----------\n",
            "train Loss: 0.4491 Acc: 0.8225\n",
            "val Loss: 0.3589 Acc: 0.8650\n",
            "\n",
            "Epoch 4/24\n",
            "----------\n",
            "train Loss: 0.4073 Acc: 0.8380\n",
            "val Loss: 0.3297 Acc: 0.8726\n",
            "\n",
            "Epoch 5/24\n",
            "----------\n",
            "train Loss: 0.3831 Acc: 0.8507\n",
            "val Loss: 0.3265 Acc: 0.8753\n",
            "\n",
            "Epoch 6/24\n",
            "----------\n",
            "train Loss: 0.3614 Acc: 0.8573\n",
            "val Loss: 0.3101 Acc: 0.8826\n",
            "\n",
            "Epoch 7/24\n",
            "----------\n",
            "train Loss: 0.3388 Acc: 0.8687\n",
            "val Loss: 0.3567 Acc: 0.8722\n",
            "\n",
            "Epoch 8/24\n",
            "----------\n",
            "train Loss: 0.3422 Acc: 0.8656\n",
            "val Loss: 0.3065 Acc: 0.8818\n",
            "\n",
            "Epoch 9/24\n",
            "----------\n",
            "train Loss: 0.3246 Acc: 0.8740\n",
            "val Loss: 0.3126 Acc: 0.8885\n",
            "\n",
            "Epoch 10/24\n",
            "----------\n",
            "train Loss: 0.3141 Acc: 0.8785\n",
            "val Loss: 0.2978 Acc: 0.8902\n",
            "\n",
            "Epoch 11/24\n",
            "----------\n",
            "train Loss: 0.2993 Acc: 0.8841\n",
            "val Loss: 0.3059 Acc: 0.8933\n",
            "\n",
            "Epoch 12/24\n",
            "----------\n",
            "train Loss: 0.2857 Acc: 0.8877\n",
            "val Loss: 0.3053 Acc: 0.8979\n",
            "\n",
            "Epoch 13/24\n",
            "----------\n",
            "train Loss: 0.2738 Acc: 0.8934\n",
            "val Loss: 0.3033 Acc: 0.8959\n",
            "\n",
            "Epoch 14/24\n",
            "----------\n",
            "train Loss: 0.2677 Acc: 0.8963\n",
            "val Loss: 0.3241 Acc: 0.8872\n",
            "\n",
            "Epoch 15/24\n",
            "----------\n",
            "train Loss: 0.2608 Acc: 0.8960\n",
            "val Loss: 0.3142 Acc: 0.8989\n",
            "\n",
            "Epoch 16/24\n",
            "----------\n",
            "train Loss: 0.2517 Acc: 0.9033\n",
            "val Loss: 0.3160 Acc: 0.8956\n",
            "\n",
            "Epoch 17/24\n",
            "----------\n",
            "train Loss: 0.2374 Acc: 0.9062\n",
            "val Loss: 0.3073 Acc: 0.8997\n",
            "\n",
            "Epoch 18/24\n",
            "----------\n",
            "train Loss: 0.2294 Acc: 0.9111\n",
            "val Loss: 0.3072 Acc: 0.9032\n",
            "\n",
            "Epoch 19/24\n",
            "----------\n",
            "train Loss: 0.2203 Acc: 0.9149\n",
            "val Loss: 0.3075 Acc: 0.8982\n",
            "\n",
            "Epoch 20/24\n",
            "----------\n",
            "train Loss: 0.2103 Acc: 0.9197\n",
            "val Loss: 0.3106 Acc: 0.9024\n",
            "\n",
            "Epoch 21/24\n",
            "----------\n",
            "train Loss: 0.2053 Acc: 0.9211\n",
            "val Loss: 0.3121 Acc: 0.9028\n",
            "\n",
            "Epoch 22/24\n",
            "----------\n",
            "train Loss: 0.1963 Acc: 0.9256\n",
            "val Loss: 0.3145 Acc: 0.9032\n",
            "\n",
            "Epoch 23/24\n",
            "----------\n",
            "train Loss: 0.1934 Acc: 0.9252\n",
            "val Loss: 0.3155 Acc: 0.9027\n",
            "\n",
            "Epoch 24/24\n",
            "----------\n",
            "train Loss: 0.1861 Acc: 0.9276\n",
            "val Loss: 0.3140 Acc: 0.9030\n",
            "\n",
            "Training complete in 36m 33s\n",
            "Best val Acc: 0.903178\n"
          ],
          "name": "stdout"
        }
      ]
    },
    {
      "cell_type": "code",
      "metadata": {
        "id": "bRhbwacycgm4",
        "colab_type": "code",
        "colab": {
          "base_uri": "https://localhost:8080/",
          "height": 581
        },
        "outputId": "d129e96b-80b6-4e8f-e392-db0b08bac48e"
      },
      "source": [
        "visualize_model(model_final, dataloaders, class_names, device)\n",
        "\n",
        "plt.ioff()\n",
        "plt.show()"
      ],
      "execution_count": 19,
      "outputs": [
        {
          "output_type": "display_data",
          "data": {
            "image/png": "[encoded data removed]",
            "text/plain": [
              "<Figure size 432x288 with 1 Axes>"
            ]
          },
          "metadata": {
            "tags": [],
            "needs_background": "light"
          }
        },
        {
          "output_type": "display_data",
          "data": {
            "image/png": "[encoded data removed]",
            "text/plain": [
              "<Figure size 432x288 with 1 Axes>"
            ]
          },
          "metadata": {
            "tags": [],
            "needs_background": "light"
          }
        },
        {
          "output_type": "display_data",
          "data": {
            "image/png": "[encoded data removed]",
            "text/plain": [
              "<Figure size 432x288 with 1 Axes>"
            ]
          },
          "metadata": {
            "tags": [],
            "needs_background": "light"
          }
        },
        {
          "output_type": "display_data",
          "data": {
            "image/png": "[encoded data removed]",
            "text/plain": [
              "<Figure size 432x288 with 1 Axes>"
            ]
          },
          "metadata": {
            "tags": [],
            "needs_background": "light"
          }
        },
        {
          "output_type": "display_data",
          "data": {
            "image/png": "[encoded data removed]",
            "text/plain": [
              "<Figure size 432x288 with 1 Axes>"
            ]
          },
          "metadata": {
            "tags": [],
            "needs_background": "light"
          }
        },
        {
          "output_type": "display_data",
          "data": {
            "image/png": "[encoded data removed]",
            "text/plain": [
              "<Figure size 432x288 with 1 Axes>"
            ]
          },
          "metadata": {
            "tags": [],
            "needs_background": "light"
          }
        }
      ]
    },
    {
      "cell_type": "markdown",
      "metadata": {
        "id": "XCLF_pwkmYYJ",
        "colab_type": "text"
      },
      "source": [
        "# 9. Saving model"
      ]
    },
    {
      "cell_type": "code",
      "metadata": {
        "id": "HpG6B_fhc2sH",
        "colab_type": "code",
        "colab": {}
      },
      "source": [
        "# Save GPU Model\n",
        "torch.save(model_final.state_dict(), '/content/mobilenet_v2_custom_trained_gpu_v4.pt')\n",
        "\n",
        "# Load CPU Model\n",
        "device = torch.device('cpu')\n",
        "model = models.mobilenet_v2(pretrained=False)\n",
        "model.classifier[1] = nn.Linear(1280, 4)\n",
        "model.load_state_dict(torch.load('/content/mobilenet_v2_custom_trained_gpu_v4.pt',\n",
        "                                 map_location=device))\n",
        "\n",
        "# Saving Trace Model\n",
        "model.eval()\n",
        "# trace model with a dummy input\n",
        "traced_model = torch.jit.trace(model, torch.randn(1, 3, 224, 224))\n",
        "traced_model.save('mobilenet_v2_custom_trained_v4.pt')"
      ],
      "execution_count": 20,
      "outputs": []
    },
    {
      "cell_type": "code",
      "metadata": {
        "id": "9iYP0w0i19ha",
        "colab_type": "code",
        "colab": {}
      },
      "source": [
        ""
      ],
      "execution_count": null,
      "outputs": []
    }
  ]
}